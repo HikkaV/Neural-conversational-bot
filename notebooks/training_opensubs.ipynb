{
 "cells": [
  {
   "cell_type": "code",
   "execution_count": 1,
   "id": "native-fitting",
   "metadata": {},
   "outputs": [],
   "source": [
    "import numpy as np\n",
    "from sklearn.model_selection import train_test_split\n",
    "import seaborn as sns\n",
    "import matplotlib.pyplot as plt\n",
    "import os\n",
    "import json\n",
    "import tqdm\n",
    "import matplotlib.ticker as ticker\n",
    "sns.set()"
   ]
  },
  {
   "cell_type": "code",
   "execution_count": 2,
   "id": "republican-publication",
   "metadata": {},
   "outputs": [
    {
     "name": "stdout",
     "output_type": "stream",
     "text": [
      "1 Physical GPUs, 1 Logical GPUs\n"
     ]
    }
   ],
   "source": [
    "import sys\n",
    "sys.path.insert(0, '../')\n",
    "from model.seq2seq import Seq2Seq, tf\n",
    "from model.decoding_techniques import BeamSearchDecoder, GreedyDecoder, NucleusDecoder\n",
    "from utils.processing_utils import *"
   ]
  },
  {
   "cell_type": "markdown",
   "id": "polar-south",
   "metadata": {},
   "source": [
    "# Loading and preparation"
   ]
  },
  {
   "cell_type": "code",
   "execution_count": 3,
   "id": "assumed-charles",
   "metadata": {},
   "outputs": [],
   "source": [
    "data_path = '../processed_data'\n",
    "mode = 'custom'\n",
    "all_train = True\n",
    "with open(os.path.join(data_path,'glove_embeddings_trained_opensubs.npy'), 'rb') as f:\n",
    "        final_embeddings = np.load(f)\n",
    "        \n",
    "with open(os.path.join(data_path,'token_mapping_opensubs.json'), 'r') as f:\n",
    "    token_mapping = json.load(f)\n",
    "\n",
    "with open(os.path.join(data_path,'data_opensubs.npy'), 'rb') as f:\n",
    "    data = np.load(f,allow_pickle=True) \n",
    "    \n",
    "with open(os.path.join(data_path,'missing_in_glove_trained_opensubs.npy'), 'rb') as f:\n",
    "        missing = np.load(f)"
   ]
  },
  {
   "cell_type": "code",
   "execution_count": 4,
   "id": "located-guide",
   "metadata": {},
   "outputs": [],
   "source": [
    "missing_idx = [token_mapping[i] for i in missing]"
   ]
  },
  {
   "cell_type": "code",
   "execution_count": 5,
   "id": "corresponding-official",
   "metadata": {},
   "outputs": [
    {
     "data": {
      "text/plain": [
       "1617140"
      ]
     },
     "execution_count": 5,
     "metadata": {},
     "output_type": "execute_result"
    }
   ],
   "source": [
    "len(data)"
   ]
  },
  {
   "cell_type": "code",
   "execution_count": 6,
   "id": "urban-producer",
   "metadata": {},
   "outputs": [],
   "source": [
    "inverse_token_mapping = dict((v,k) for k,v in token_mapping.items())\n",
    "pad_token = inverse_token_mapping[0]\n",
    "start_token = inverse_token_mapping[1]\n",
    "end_token = inverse_token_mapping[2]\n",
    "unk_token = inverse_token_mapping[3]"
   ]
  },
  {
   "cell_type": "code",
   "execution_count": 7,
   "id": "existing-seven",
   "metadata": {},
   "outputs": [],
   "source": [
    "data = np.array(data)"
   ]
  },
  {
   "cell_type": "code",
   "execution_count": 8,
   "id": "cross-canadian",
   "metadata": {},
   "outputs": [],
   "source": [
    "X, y = data[:,0], data[:,1]"
   ]
  },
  {
   "cell_type": "code",
   "execution_count": 9,
   "id": "ignored-marking",
   "metadata": {},
   "outputs": [],
   "source": [
    "def map_to_ids(x, mapping, end_token=None, start_token=None, padding_token=None, max_len=None, \n",
    "              return_len=False):\n",
    "  if isinstance(x, str):\n",
    "    x = x.split(' ')\n",
    "  max_len = max_len if max_len else len(x)\n",
    "  length = len(x)\n",
    "  if start_token:\n",
    "    x = [start_token] + x\n",
    "  sent_ids = [mapping[word] for word in x[:max_len]]\n",
    "  if max_len>len(x):\n",
    "      if end_token:\n",
    "        sent_ids.append(mapping[end_token])\n",
    "      if padding_token:\n",
    "        sent_ids += [mapping[padding_token]]*(max_len-len(sent_ids))\n",
    "      if return_len:\n",
    "          return sent_ids,length+1\n",
    "      else:\n",
    "          return sent_ids\n",
    "  if end_token:\n",
    "    sent_ids[-1] = mapping[end_token]\n",
    "  if return_len:\n",
    "      return sent_ids, max_len\n",
    "  else:\n",
    "      return sent_ids\n"
   ]
  },
  {
   "cell_type": "code",
   "execution_count": 10,
   "id": "nuclear-rachel",
   "metadata": {},
   "outputs": [],
   "source": [
    "max_len_tokens = 10"
   ]
  },
  {
   "cell_type": "code",
   "execution_count": 11,
   "id": "broken-fourth",
   "metadata": {},
   "outputs": [],
   "source": [
    "if all_train:\n",
    "    X_train_enc = np.array([map_to_ids(i, token_mapping, end_token, None, pad_token, max_len_tokens) for i in X])\n",
    "    X_train_dec = np.array([map_to_ids(i, token_mapping, None, start_token, pad_token, max_len_tokens) for i in y])\n",
    "    y_train, len_train = zip(*[map_to_ids(i, token_mapping, end_token, None, pad_token, max_len_tokens, return_len=True) for i in y])\n",
    "    y_train, len_train = np.array(y_train), np.array(len_train)"
   ]
  },
  {
   "cell_type": "code",
   "execution_count": 12,
   "id": "ordered-surface",
   "metadata": {},
   "outputs": [
    {
     "data": {
      "text/plain": [
       "(array([  1, 602,  14,   0,   0,   0,   0,   0,   0,   0]),\n",
       " array([602,  14,   2,   0,   0,   0,   0,   0,   0,   0]),\n",
       " 3)"
      ]
     },
     "execution_count": 12,
     "metadata": {},
     "output_type": "execute_result"
    }
   ],
   "source": [
    "X_train_dec[0], y_train[0], len_train[0]"
   ]
  },
  {
   "cell_type": "markdown",
   "id": "vital-faith",
   "metadata": {},
   "source": [
    "# Building a model"
   ]
  },
  {
   "cell_type": "code",
   "execution_count": 13,
   "id": "sorted-certificate",
   "metadata": {},
   "outputs": [
    {
     "data": {
      "text/plain": [
       "(50004, 100)"
      ]
     },
     "execution_count": 13,
     "metadata": {},
     "output_type": "execute_result"
    }
   ],
   "source": [
    "final_embeddings.shape"
   ]
  },
  {
   "cell_type": "code",
   "execution_count": 14,
   "id": "spare-infection",
   "metadata": {},
   "outputs": [],
   "source": [
    "seq2seq = Seq2Seq(token_mapping, \n",
    "         pad_token=token_mapping[pad_token],\n",
    "         end_token=token_mapping[end_token],\n",
    "         start_token=token_mapping[start_token],\n",
    "         max_len=max_len_tokens,\n",
    "         embeddings=final_embeddings,\n",
    "         embedding_prefix=mode,\n",
    "         missing_tokens=np.array(missing_idx).astype(np.int32),\n",
    "         dropout_prob=0.2,\n",
    "        )"
   ]
  },
  {
   "cell_type": "markdown",
   "id": "specific-slovak",
   "metadata": {},
   "source": [
    "# Training a model "
   ]
  },
  {
   "cell_type": "code",
   "execution_count": 15,
   "id": "weird-arlington",
   "metadata": {},
   "outputs": [],
   "source": [
    "train_data = tf.data.Dataset.from_tensor_slices((X_train_enc, X_train_dec, y_train, len_train))\n",
    "if not all_train:\n",
    "    val_data = tf.data.Dataset.from_tensor_slices((X_test_enc, X_test_dec, y_test, len_test))\n",
    "else:\n",
    "    val_data = None"
   ]
  },
  {
   "cell_type": "code",
   "execution_count": 16,
   "id": "chemical-companion",
   "metadata": {},
   "outputs": [],
   "source": [
    "batch_size = 256\n",
    "num_epochs = 100\n",
    "epochs_patience = 10"
   ]
  },
  {
   "cell_type": "code",
   "execution_count": 17,
   "id": "actual-activity",
   "metadata": {},
   "outputs": [
    {
     "name": "stdout",
     "output_type": "stream",
     "text": [
      "Dir models already exists\n"
     ]
    },
    {
     "name": "stderr",
     "output_type": "stream",
     "text": [
      "  1%|          | 1/100 [23:19<38:29:52, 1399.93s/it]"
     ]
    },
    {
     "name": "stdout",
     "output_type": "stream",
     "text": [
      "\n",
      "\n",
      "Epoch 0 train loss 5.5081 train perplexity 771.9377\n"
     ]
    },
    {
     "name": "stderr",
     "output_type": "stream",
     "text": [
      "\r",
      "  2%|▏         | 2/100 [45:21<36:51:10, 1353.78s/it]"
     ]
    },
    {
     "name": "stdout",
     "output_type": "stream",
     "text": [
      "\n",
      "\n",
      "Epoch 1 train loss 4.9599 train perplexity 153.0233\n"
     ]
    },
    {
     "name": "stderr",
     "output_type": "stream",
     "text": [
      "\r",
      "  3%|▎         | 3/100 [1:07:30<36:10:03, 1342.31s/it]"
     ]
    },
    {
     "name": "stdout",
     "output_type": "stream",
     "text": [
      "\n",
      "\n",
      "Epoch 2 train loss 4.8124 train perplexity 131.3123\n"
     ]
    },
    {
     "name": "stderr",
     "output_type": "stream",
     "text": [
      "\r",
      "  4%|▍         | 4/100 [1:29:33<35:35:46, 1334.86s/it]"
     ]
    },
    {
     "name": "stdout",
     "output_type": "stream",
     "text": [
      "\n",
      "\n",
      "Epoch 3 train loss 4.7342 train perplexity 121.1666\n"
     ]
    },
    {
     "name": "stderr",
     "output_type": "stream",
     "text": [
      "\r",
      "  5%|▌         | 5/100 [1:51:35<35:06:24, 1330.37s/it]"
     ]
    },
    {
     "name": "stdout",
     "output_type": "stream",
     "text": [
      "\n",
      "\n",
      "Epoch 4 train loss 4.6772 train perplexity 114.2266\n"
     ]
    },
    {
     "name": "stderr",
     "output_type": "stream",
     "text": [
      "\r",
      "  6%|▌         | 6/100 [2:13:38<34:40:03, 1327.69s/it]"
     ]
    },
    {
     "name": "stdout",
     "output_type": "stream",
     "text": [
      "\n",
      "\n",
      "Epoch 5 train loss 4.6373 train perplexity 109.6827\n"
     ]
    },
    {
     "name": "stderr",
     "output_type": "stream",
     "text": [
      "\r",
      "  7%|▋         | 7/100 [2:35:41<34:15:24, 1326.06s/it]"
     ]
    },
    {
     "name": "stdout",
     "output_type": "stream",
     "text": [
      "\n",
      "\n",
      "Epoch 6 train loss 4.6056 train perplexity 106.1266\n"
     ]
    },
    {
     "name": "stderr",
     "output_type": "stream",
     "text": [
      "\r",
      "  8%|▊         | 8/100 [2:57:42<33:51:04, 1324.61s/it]"
     ]
    },
    {
     "name": "stdout",
     "output_type": "stream",
     "text": [
      "\n",
      "\n",
      "Epoch 7 train loss 4.5807 train perplexity 103.3711\n"
     ]
    },
    {
     "name": "stderr",
     "output_type": "stream",
     "text": [
      "\r",
      "  9%|▉         | 9/100 [3:19:43<33:27:27, 1323.60s/it]"
     ]
    },
    {
     "name": "stdout",
     "output_type": "stream",
     "text": [
      "\n",
      "\n",
      "Epoch 8 train loss 4.5593 train perplexity 101.2112\n"
     ]
    },
    {
     "name": "stderr",
     "output_type": "stream",
     "text": [
      "\r",
      " 10%|█         | 10/100 [3:41:45<33:04:13, 1322.82s/it]"
     ]
    },
    {
     "name": "stdout",
     "output_type": "stream",
     "text": [
      "\n",
      "\n",
      "Epoch 9 train loss 4.5414 train perplexity 99.3680\n"
     ]
    },
    {
     "name": "stderr",
     "output_type": "stream",
     "text": [
      "\r",
      " 11%|█         | 11/100 [4:03:48<32:42:14, 1322.86s/it]"
     ]
    },
    {
     "name": "stdout",
     "output_type": "stream",
     "text": [
      "\n",
      "\n",
      "Epoch 10 train loss 4.5257 train perplexity 97.7543\n"
     ]
    },
    {
     "name": "stderr",
     "output_type": "stream",
     "text": [
      "\r",
      " 12%|█▏        | 12/100 [4:25:49<32:19:36, 1322.45s/it]"
     ]
    },
    {
     "name": "stdout",
     "output_type": "stream",
     "text": [
      "\n",
      "\n",
      "Epoch 11 train loss 4.5111 train perplexity 96.2483\n"
     ]
    },
    {
     "name": "stderr",
     "output_type": "stream",
     "text": [
      "\r",
      " 13%|█▎        | 13/100 [4:47:52<31:57:52, 1322.67s/it]"
     ]
    },
    {
     "name": "stdout",
     "output_type": "stream",
     "text": [
      "\n",
      "\n",
      "Epoch 12 train loss 4.5011 train perplexity 95.3598\n"
     ]
    },
    {
     "name": "stderr",
     "output_type": "stream",
     "text": [
      "\r",
      " 14%|█▍        | 14/100 [5:09:51<31:34:04, 1321.44s/it]"
     ]
    },
    {
     "name": "stdout",
     "output_type": "stream",
     "text": [
      "\n",
      "\n",
      "Epoch 13 train loss 4.4904 train perplexity 94.3176\n"
     ]
    },
    {
     "name": "stderr",
     "output_type": "stream",
     "text": [
      "\r",
      " 15%|█▌        | 15/100 [5:31:50<31:10:53, 1320.63s/it]"
     ]
    },
    {
     "name": "stdout",
     "output_type": "stream",
     "text": [
      "\n",
      "\n",
      "Epoch 14 train loss 4.4827 train perplexity 93.5269\n"
     ]
    },
    {
     "name": "stderr",
     "output_type": "stream",
     "text": [
      "\r",
      " 16%|█▌        | 16/100 [5:53:55<30:50:56, 1322.10s/it]"
     ]
    },
    {
     "name": "stdout",
     "output_type": "stream",
     "text": [
      "\n",
      "\n",
      "Epoch 15 train loss 4.4725 train perplexity 92.5231\n"
     ]
    },
    {
     "name": "stderr",
     "output_type": "stream",
     "text": [
      "\r",
      " 17%|█▋        | 17/100 [6:15:58<30:29:08, 1322.27s/it]"
     ]
    },
    {
     "name": "stdout",
     "output_type": "stream",
     "text": [
      "\n",
      "\n",
      "Epoch 16 train loss 4.4652 train perplexity 91.8237\n"
     ]
    },
    {
     "name": "stderr",
     "output_type": "stream",
     "text": [
      "\r",
      " 18%|█▊        | 18/100 [6:37:59<30:06:43, 1322.00s/it]"
     ]
    },
    {
     "name": "stdout",
     "output_type": "stream",
     "text": [
      "\n",
      "\n",
      "Epoch 17 train loss 4.4566 train perplexity 91.0061\n"
     ]
    },
    {
     "name": "stderr",
     "output_type": "stream",
     "text": [
      "\r",
      " 19%|█▉        | 19/100 [6:59:58<29:43:32, 1321.14s/it]"
     ]
    },
    {
     "name": "stdout",
     "output_type": "stream",
     "text": [
      "\n",
      "\n",
      "Epoch 18 train loss 4.4529 train perplexity 90.6920\n"
     ]
    },
    {
     "name": "stderr",
     "output_type": "stream",
     "text": [
      "\r",
      " 20%|██        | 20/100 [7:22:02<29:22:22, 1321.78s/it]"
     ]
    },
    {
     "name": "stdout",
     "output_type": "stream",
     "text": [
      "\n",
      "\n",
      "Epoch 19 train loss 4.4466 train perplexity 90.1614\n"
     ]
    },
    {
     "name": "stderr",
     "output_type": "stream",
     "text": [
      "\r",
      " 21%|██        | 21/100 [7:44:09<29:02:45, 1323.61s/it]"
     ]
    },
    {
     "name": "stdout",
     "output_type": "stream",
     "text": [
      "\n",
      "\n",
      "Epoch 20 train loss 4.4415 train perplexity 89.6698\n"
     ]
    },
    {
     "name": "stderr",
     "output_type": "stream",
     "text": [
      "\r",
      " 22%|██▏       | 22/100 [8:06:21<28:43:49, 1326.01s/it]"
     ]
    },
    {
     "name": "stdout",
     "output_type": "stream",
     "text": [
      "\n",
      "\n",
      "Epoch 21 train loss 4.4359 train perplexity 89.0928\n"
     ]
    },
    {
     "name": "stderr",
     "output_type": "stream",
     "text": [
      "\r",
      " 23%|██▎       | 23/100 [8:28:22<28:19:36, 1324.37s/it]"
     ]
    },
    {
     "name": "stdout",
     "output_type": "stream",
     "text": [
      "\n",
      "\n",
      "Epoch 22 train loss 4.4334 train perplexity 88.9220\n"
     ]
    },
    {
     "name": "stderr",
     "output_type": "stream",
     "text": [
      "\r",
      " 24%|██▍       | 24/100 [8:50:24<27:56:50, 1323.82s/it]"
     ]
    },
    {
     "name": "stdout",
     "output_type": "stream",
     "text": [
      "\n",
      "\n",
      "Epoch 23 train loss 4.4293 train perplexity 88.5343\n"
     ]
    },
    {
     "name": "stderr",
     "output_type": "stream",
     "text": [
      "\r",
      " 25%|██▌       | 25/100 [9:12:29<27:35:10, 1324.14s/it]"
     ]
    },
    {
     "name": "stdout",
     "output_type": "stream",
     "text": [
      "\n",
      "\n",
      "Epoch 24 train loss 4.4244 train perplexity 88.0935\n"
     ]
    },
    {
     "name": "stderr",
     "output_type": "stream",
     "text": [
      "\r",
      " 26%|██▌       | 26/100 [9:34:35<27:13:51, 1324.75s/it]"
     ]
    },
    {
     "name": "stdout",
     "output_type": "stream",
     "text": [
      "\n",
      "\n",
      "Epoch 25 train loss 4.4216 train perplexity 87.7945\n"
     ]
    },
    {
     "name": "stderr",
     "output_type": "stream",
     "text": [
      "\r",
      " 27%|██▋       | 27/100 [9:56:41<26:52:21, 1325.22s/it]"
     ]
    },
    {
     "name": "stdout",
     "output_type": "stream",
     "text": [
      "\n",
      "\n",
      "Epoch 26 train loss 4.4166 train perplexity 87.3478\n"
     ]
    },
    {
     "name": "stderr",
     "output_type": "stream",
     "text": [
      "\r",
      " 28%|██▊       | 28/100 [10:18:49<26:31:01, 1325.85s/it]"
     ]
    },
    {
     "name": "stdout",
     "output_type": "stream",
     "text": [
      "\n",
      "\n",
      "Epoch 27 train loss 4.4141 train perplexity 87.1181\n"
     ]
    },
    {
     "name": "stderr",
     "output_type": "stream",
     "text": [
      "\r",
      " 29%|██▉       | 29/100 [10:40:57<26:09:38, 1326.45s/it]"
     ]
    },
    {
     "name": "stdout",
     "output_type": "stream",
     "text": [
      "\n",
      "\n",
      "Epoch 28 train loss 4.4125 train perplexity 87.0383\n"
     ]
    },
    {
     "name": "stderr",
     "output_type": "stream",
     "text": [
      "\r",
      " 30%|███       | 30/100 [11:03:03<25:47:27, 1326.39s/it]"
     ]
    },
    {
     "name": "stdout",
     "output_type": "stream",
     "text": [
      "\n",
      "\n",
      "Epoch 29 train loss 4.4071 train perplexity 86.5000\n"
     ]
    },
    {
     "name": "stderr",
     "output_type": "stream",
     "text": [
      "\r",
      " 31%|███       | 31/100 [11:25:12<25:26:25, 1327.33s/it]"
     ]
    },
    {
     "name": "stdout",
     "output_type": "stream",
     "text": [
      "\n",
      "\n",
      "Epoch 30 train loss 4.4078 train perplexity 86.6440\n"
     ]
    },
    {
     "name": "stderr",
     "output_type": "stream",
     "text": [
      "\r",
      " 32%|███▏      | 32/100 [11:48:00<25:17:49, 1339.26s/it]"
     ]
    },
    {
     "name": "stdout",
     "output_type": "stream",
     "text": [
      "\n",
      "\n",
      "Epoch 31 train loss 4.4043 train perplexity 86.3376\n"
     ]
    },
    {
     "name": "stderr",
     "output_type": "stream",
     "text": [
      "\r",
      " 33%|███▎      | 33/100 [12:10:06<24:51:23, 1335.57s/it]"
     ]
    },
    {
     "name": "stdout",
     "output_type": "stream",
     "text": [
      "\n",
      "\n",
      "Epoch 32 train loss 4.3999 train perplexity 85.8600\n"
     ]
    },
    {
     "name": "stderr",
     "output_type": "stream",
     "text": [
      "\r",
      " 34%|███▍      | 34/100 [12:32:08<24:24:33, 1331.41s/it]"
     ]
    },
    {
     "name": "stdout",
     "output_type": "stream",
     "text": [
      "\n",
      "\n",
      "Epoch 33 train loss 4.3998 train perplexity 85.8114\n"
     ]
    },
    {
     "name": "stderr",
     "output_type": "stream",
     "text": [
      "\r",
      " 35%|███▌      | 35/100 [12:54:10<23:59:12, 1328.50s/it]"
     ]
    },
    {
     "name": "stdout",
     "output_type": "stream",
     "text": [
      "\n",
      "\n",
      "Epoch 34 train loss 4.3980 train perplexity 85.7328\n"
     ]
    },
    {
     "name": "stderr",
     "output_type": "stream",
     "text": [
      "\r",
      " 36%|███▌      | 36/100 [13:16:15<23:36:05, 1327.58s/it]"
     ]
    },
    {
     "name": "stdout",
     "output_type": "stream",
     "text": [
      "\n",
      "\n",
      "Epoch 35 train loss 4.3945 train perplexity 85.3484\n"
     ]
    },
    {
     "name": "stderr",
     "output_type": "stream",
     "text": [
      "\r",
      " 37%|███▋      | 37/100 [13:38:23<23:14:07, 1327.74s/it]"
     ]
    },
    {
     "name": "stdout",
     "output_type": "stream",
     "text": [
      "\n",
      "\n",
      "Epoch 36 train loss 4.3919 train perplexity 85.1660\n"
     ]
    },
    {
     "name": "stderr",
     "output_type": "stream",
     "text": [
      "\r",
      " 38%|███▊      | 38/100 [14:00:24<22:49:37, 1325.45s/it]"
     ]
    },
    {
     "name": "stdout",
     "output_type": "stream",
     "text": [
      "\n",
      "\n",
      "Epoch 37 train loss 4.3924 train perplexity 85.2565\n"
     ]
    },
    {
     "name": "stderr",
     "output_type": "stream",
     "text": [
      "\r",
      " 39%|███▉      | 39/100 [14:22:23<22:25:47, 1323.73s/it]"
     ]
    },
    {
     "name": "stdout",
     "output_type": "stream",
     "text": [
      "\n",
      "\n",
      "Epoch 38 train loss 4.3879 train perplexity 84.8263\n"
     ]
    },
    {
     "name": "stderr",
     "output_type": "stream",
     "text": [
      "\r",
      " 40%|████      | 40/100 [14:44:23<22:02:31, 1322.52s/it]"
     ]
    },
    {
     "name": "stdout",
     "output_type": "stream",
     "text": [
      "\n",
      "\n",
      "Epoch 39 train loss 4.3880 train perplexity 84.7845\n"
     ]
    },
    {
     "name": "stderr",
     "output_type": "stream",
     "text": [
      "\r",
      " 41%|████      | 41/100 [15:06:23<21:39:39, 1321.69s/it]"
     ]
    },
    {
     "name": "stdout",
     "output_type": "stream",
     "text": [
      "\n",
      "\n",
      "Epoch 40 train loss 4.3864 train perplexity 84.6433\n"
     ]
    },
    {
     "name": "stderr",
     "output_type": "stream",
     "text": [
      "\r",
      " 42%|████▏     | 42/100 [15:28:23<21:17:06, 1321.16s/it]"
     ]
    },
    {
     "name": "stdout",
     "output_type": "stream",
     "text": [
      "\n",
      "\n",
      "Epoch 41 train loss 4.3829 train perplexity 84.4216\n"
     ]
    },
    {
     "name": "stderr",
     "output_type": "stream",
     "text": [
      "\r",
      " 43%|████▎     | 43/100 [15:50:21<20:54:24, 1320.42s/it]"
     ]
    },
    {
     "name": "stdout",
     "output_type": "stream",
     "text": [
      "\n",
      "\n",
      "Epoch 42 train loss 4.3825 train perplexity 84.3687\n"
     ]
    },
    {
     "name": "stderr",
     "output_type": "stream",
     "text": [
      "\r",
      " 44%|████▍     | 44/100 [16:12:20<20:31:54, 1319.90s/it]"
     ]
    },
    {
     "name": "stdout",
     "output_type": "stream",
     "text": [
      "\n",
      "\n",
      "Epoch 43 train loss 4.3814 train perplexity 84.3224\n"
     ]
    },
    {
     "name": "stderr",
     "output_type": "stream",
     "text": [
      "\r",
      " 45%|████▌     | 45/100 [16:34:19<20:09:35, 1319.56s/it]"
     ]
    },
    {
     "name": "stdout",
     "output_type": "stream",
     "text": [
      "\n",
      "\n",
      "Epoch 44 train loss 4.3812 train perplexity 84.2592\n"
     ]
    },
    {
     "name": "stderr",
     "output_type": "stream",
     "text": [
      "\r",
      " 46%|████▌     | 46/100 [16:56:19<19:47:43, 1319.70s/it]"
     ]
    },
    {
     "name": "stdout",
     "output_type": "stream",
     "text": [
      "\n",
      "\n",
      "Epoch 45 train loss 4.3803 train perplexity 84.2319\n"
     ]
    },
    {
     "name": "stderr",
     "output_type": "stream",
     "text": [
      "\r",
      " 47%|████▋     | 47/100 [17:18:15<19:24:51, 1318.72s/it]"
     ]
    },
    {
     "name": "stdout",
     "output_type": "stream",
     "text": [
      "\n",
      "\n",
      "Epoch 46 train loss 4.3775 train perplexity 83.9804\n"
     ]
    },
    {
     "name": "stderr",
     "output_type": "stream",
     "text": [
      "\r",
      " 48%|████▊     | 48/100 [17:40:12<19:02:16, 1318.01s/it]"
     ]
    },
    {
     "name": "stdout",
     "output_type": "stream",
     "text": [
      "\n",
      "\n",
      "Epoch 47 train loss 4.3769 train perplexity 83.9308\n"
     ]
    },
    {
     "name": "stderr",
     "output_type": "stream",
     "text": [
      "\r",
      " 49%|████▉     | 49/100 [18:02:08<18:39:52, 1317.51s/it]"
     ]
    },
    {
     "name": "stdout",
     "output_type": "stream",
     "text": [
      "\n",
      "\n",
      "Epoch 48 train loss 4.3756 train perplexity 83.7212\n"
     ]
    },
    {
     "name": "stderr",
     "output_type": "stream",
     "text": [
      "\r",
      " 50%|█████     | 50/100 [18:24:04<18:17:40, 1317.21s/it]"
     ]
    },
    {
     "name": "stdout",
     "output_type": "stream",
     "text": [
      "\n",
      "\n",
      "Epoch 49 train loss 4.3766 train perplexity 83.8667\n"
     ]
    },
    {
     "name": "stderr",
     "output_type": "stream",
     "text": [
      "\r",
      " 51%|█████     | 51/100 [18:46:01<17:55:32, 1316.98s/it]"
     ]
    },
    {
     "name": "stdout",
     "output_type": "stream",
     "text": [
      "\n",
      "\n",
      "Epoch 50 train loss 4.3742 train perplexity 83.6371\n"
     ]
    },
    {
     "name": "stderr",
     "output_type": "stream",
     "text": [
      "\r",
      " 52%|█████▏    | 52/100 [19:08:01<17:34:18, 1317.89s/it]"
     ]
    },
    {
     "name": "stdout",
     "output_type": "stream",
     "text": [
      "\n",
      "\n",
      "Epoch 51 train loss 4.3720 train perplexity 83.5031\n"
     ]
    },
    {
     "name": "stderr",
     "output_type": "stream",
     "text": [
      "\r",
      " 53%|█████▎    | 53/100 [19:30:01<17:12:48, 1318.48s/it]"
     ]
    },
    {
     "name": "stdout",
     "output_type": "stream",
     "text": [
      "\n",
      "\n",
      "Epoch 52 train loss 4.3725 train perplexity 83.5436\n"
     ]
    },
    {
     "name": "stderr",
     "output_type": "stream",
     "text": [
      "\r",
      " 54%|█████▍    | 54/100 [19:51:57<16:50:22, 1317.89s/it]"
     ]
    },
    {
     "name": "stdout",
     "output_type": "stream",
     "text": [
      "\n",
      "\n",
      "Epoch 53 train loss 4.3689 train perplexity 83.1413\n"
     ]
    },
    {
     "name": "stderr",
     "output_type": "stream",
     "text": [
      "\r",
      " 55%|█████▌    | 55/100 [20:13:54<16:28:08, 1317.51s/it]"
     ]
    },
    {
     "name": "stdout",
     "output_type": "stream",
     "text": [
      "\n",
      "\n",
      "Epoch 54 train loss 4.3702 train perplexity 83.3438\n"
     ]
    },
    {
     "name": "stderr",
     "output_type": "stream",
     "text": [
      "\r",
      " 56%|█████▌    | 56/100 [20:35:50<16:05:57, 1317.22s/it]"
     ]
    },
    {
     "name": "stdout",
     "output_type": "stream",
     "text": [
      "\n",
      "\n",
      "Epoch 55 train loss 4.3700 train perplexity 83.3369\n"
     ]
    },
    {
     "name": "stderr",
     "output_type": "stream",
     "text": [
      "\r",
      " 57%|█████▋    | 57/100 [20:57:47<15:43:52, 1317.03s/it]"
     ]
    },
    {
     "name": "stdout",
     "output_type": "stream",
     "text": [
      "\n",
      "\n",
      "Epoch 56 train loss 4.3690 train perplexity 83.2753\n"
     ]
    },
    {
     "name": "stderr",
     "output_type": "stream",
     "text": [
      "\r",
      " 58%|█████▊    | 58/100 [21:19:44<15:21:49, 1316.90s/it]"
     ]
    },
    {
     "name": "stdout",
     "output_type": "stream",
     "text": [
      "\n",
      "\n",
      "Epoch 57 train loss 4.3661 train perplexity 83.0013\n"
     ]
    },
    {
     "name": "stderr",
     "output_type": "stream",
     "text": [
      "\r",
      " 59%|█████▉    | 59/100 [21:41:40<14:59:49, 1316.82s/it]"
     ]
    },
    {
     "name": "stdout",
     "output_type": "stream",
     "text": [
      "\n",
      "\n",
      "Epoch 58 train loss 4.3667 train perplexity 83.0547\n"
     ]
    },
    {
     "name": "stderr",
     "output_type": "stream",
     "text": [
      "\r",
      " 60%|██████    | 60/100 [22:03:37<14:37:49, 1316.75s/it]"
     ]
    },
    {
     "name": "stdout",
     "output_type": "stream",
     "text": [
      "\n",
      "\n",
      "Epoch 59 train loss 4.3675 train perplexity 83.1528\n"
     ]
    },
    {
     "name": "stderr",
     "output_type": "stream",
     "text": [
      "\r",
      " 61%|██████    | 61/100 [22:25:36<14:16:19, 1317.43s/it]"
     ]
    },
    {
     "name": "stdout",
     "output_type": "stream",
     "text": [
      "\n",
      "\n",
      "Epoch 60 train loss 4.3651 train perplexity 82.8606\n"
     ]
    },
    {
     "name": "stderr",
     "output_type": "stream",
     "text": [
      "\r",
      " 62%|██████▏   | 62/100 [22:47:35<13:54:43, 1317.99s/it]"
     ]
    },
    {
     "name": "stdout",
     "output_type": "stream",
     "text": [
      "\n",
      "\n",
      "Epoch 61 train loss 4.3641 train perplexity 82.8172\n"
     ]
    },
    {
     "name": "stderr",
     "output_type": "stream",
     "text": [
      "\r",
      " 63%|██████▎   | 63/100 [23:09:34<13:32:55, 1318.26s/it]"
     ]
    },
    {
     "name": "stdout",
     "output_type": "stream",
     "text": [
      "\n",
      "\n",
      "Epoch 62 train loss 4.3638 train perplexity 82.8031\n"
     ]
    },
    {
     "name": "stderr",
     "output_type": "stream",
     "text": [
      "\r",
      " 64%|██████▍   | 64/100 [23:31:33<13:11:01, 1318.38s/it]"
     ]
    },
    {
     "name": "stdout",
     "output_type": "stream",
     "text": [
      "\n",
      "\n",
      "Epoch 63 train loss 4.3642 train perplexity 82.8095\n"
     ]
    },
    {
     "name": "stderr",
     "output_type": "stream",
     "text": [
      "\r",
      " 65%|██████▌   | 65/100 [23:54:59<13:04:27, 1344.79s/it]"
     ]
    },
    {
     "name": "stdout",
     "output_type": "stream",
     "text": [
      "\n",
      "\n",
      "Epoch 64 train loss 4.3626 train perplexity 82.6575\n"
     ]
    },
    {
     "name": "stderr",
     "output_type": "stream",
     "text": [
      "\r",
      " 66%|██████▌   | 66/100 [24:18:30<12:53:19, 1364.70s/it]"
     ]
    },
    {
     "name": "stdout",
     "output_type": "stream",
     "text": [
      "\n",
      "\n",
      "Epoch 65 train loss 4.3633 train perplexity 82.7608\n"
     ]
    },
    {
     "name": "stderr",
     "output_type": "stream",
     "text": [
      "\r",
      " 67%|██████▋   | 67/100 [24:41:05<12:28:59, 1361.80s/it]"
     ]
    },
    {
     "name": "stdout",
     "output_type": "stream",
     "text": [
      "\n",
      "\n",
      "Epoch 66 train loss 4.3610 train perplexity 82.5867\n"
     ]
    },
    {
     "name": "stderr",
     "output_type": "stream",
     "text": [
      "\r",
      " 68%|██████▊   | 68/100 [25:03:05<11:59:32, 1349.14s/it]"
     ]
    },
    {
     "name": "stdout",
     "output_type": "stream",
     "text": [
      "\n",
      "\n",
      "Epoch 67 train loss 4.3621 train perplexity 82.6101\n"
     ]
    },
    {
     "name": "stderr",
     "output_type": "stream",
     "text": [
      "\r",
      " 69%|██████▉   | 69/100 [25:25:04<11:32:28, 1340.26s/it]"
     ]
    },
    {
     "name": "stdout",
     "output_type": "stream",
     "text": [
      "\n",
      "\n",
      "Epoch 68 train loss 4.3594 train perplexity 82.2907\n"
     ]
    },
    {
     "name": "stderr",
     "output_type": "stream",
     "text": [
      "\r",
      " 70%|███████   | 70/100 [25:47:07<11:07:26, 1334.87s/it]"
     ]
    },
    {
     "name": "stdout",
     "output_type": "stream",
     "text": [
      "\n",
      "\n",
      "Epoch 69 train loss 4.3605 train perplexity 82.4947\n"
     ]
    },
    {
     "name": "stderr",
     "output_type": "stream",
     "text": [
      "\r",
      " 71%|███████   | 71/100 [26:09:09<10:43:21, 1331.09s/it]"
     ]
    },
    {
     "name": "stdout",
     "output_type": "stream",
     "text": [
      "\n",
      "\n",
      "Epoch 70 train loss 4.3574 train perplexity 82.3544\n"
     ]
    },
    {
     "name": "stderr",
     "output_type": "stream",
     "text": [
      "\r",
      " 72%|███████▏  | 72/100 [26:31:12<10:20:00, 1328.59s/it]"
     ]
    },
    {
     "name": "stdout",
     "output_type": "stream",
     "text": [
      "\n",
      "\n",
      "Epoch 71 train loss 4.3565 train perplexity 82.2022\n"
     ]
    },
    {
     "name": "stderr",
     "output_type": "stream",
     "text": [
      "\r",
      " 73%|███████▎  | 73/100 [26:53:15<9:57:06, 1326.89s/it] "
     ]
    },
    {
     "name": "stdout",
     "output_type": "stream",
     "text": [
      "\n",
      "\n",
      "Epoch 72 train loss 4.3564 train perplexity 82.1306\n"
     ]
    },
    {
     "name": "stderr",
     "output_type": "stream",
     "text": [
      "\r",
      " 74%|███████▍  | 74/100 [27:15:19<9:34:36, 1326.03s/it]"
     ]
    },
    {
     "name": "stdout",
     "output_type": "stream",
     "text": [
      "\n",
      "\n",
      "Epoch 73 train loss 4.3585 train perplexity 82.4114\n"
     ]
    },
    {
     "name": "stderr",
     "output_type": "stream",
     "text": [
      "\r",
      " 75%|███████▌  | 75/100 [27:37:23<9:12:15, 1325.42s/it]"
     ]
    },
    {
     "name": "stdout",
     "output_type": "stream",
     "text": [
      "\n",
      "\n",
      "Epoch 74 train loss 4.3570 train perplexity 82.1968\n"
     ]
    },
    {
     "name": "stderr",
     "output_type": "stream",
     "text": [
      "\r",
      " 76%|███████▌  | 76/100 [27:59:26<8:49:52, 1324.68s/it]"
     ]
    },
    {
     "name": "stdout",
     "output_type": "stream",
     "text": [
      "\n",
      "\n",
      "Epoch 75 train loss 4.3577 train perplexity 82.2727\n"
     ]
    },
    {
     "name": "stderr",
     "output_type": "stream",
     "text": [
      "\r",
      " 77%|███████▋  | 77/100 [28:21:28<8:27:30, 1323.94s/it]"
     ]
    },
    {
     "name": "stdout",
     "output_type": "stream",
     "text": [
      "\n",
      "\n",
      "Epoch 76 train loss 4.3572 train perplexity 82.2571\n"
     ]
    },
    {
     "name": "stderr",
     "output_type": "stream",
     "text": [
      " 77%|███████▋  | 77/100 [28:22:42<8:28:36, 1326.78s/it]\n"
     ]
    },
    {
     "ename": "KeyboardInterrupt",
     "evalue": "",
     "output_type": "error",
     "traceback": [
      "\u001b[0;31m---------------------------------------------------------------------------\u001b[0m",
      "\u001b[0;31mKeyboardInterrupt\u001b[0m                         Traceback (most recent call last)",
      "\u001b[0;32m<ipython-input-17-236bce5a412d>\u001b[0m in \u001b[0;36m<module>\u001b[0;34m\u001b[0m\n\u001b[1;32m      5\u001b[0m             \u001b[0mnum_epochs\u001b[0m\u001b[0;34m=\u001b[0m\u001b[0mnum_epochs\u001b[0m\u001b[0;34m,\u001b[0m\u001b[0;34m\u001b[0m\u001b[0;34m\u001b[0m\u001b[0m\n\u001b[1;32m      6\u001b[0m             \u001b[0mepochs_patience\u001b[0m\u001b[0;34m=\u001b[0m\u001b[0mepochs_patience\u001b[0m\u001b[0;34m,\u001b[0m\u001b[0;34m\u001b[0m\u001b[0;34m\u001b[0m\u001b[0m\n\u001b[0;32m----> 7\u001b[0;31m             experiment_name='opensubs')\n\u001b[0m",
      "\u001b[0;32m/home/volodymyr/conversational_bot/model/seq2seq.py\u001b[0m in \u001b[0;36mfit\u001b[0;34m(self, train_dataset, validation_dataset, learning_rate, num_epochs, batch_size, steps_per_epoch, epochs_patience, dir_save, experiment_name)\u001b[0m\n\u001b[1;32m    189\u001b[0m                                                                    \u001b[0mnp\u001b[0m\u001b[0;34m.\u001b[0m\u001b[0marray\u001b[0m\u001b[0;34m(\u001b[0m\u001b[0mbatched_y\u001b[0m\u001b[0;34m)\u001b[0m\u001b[0;34m,\u001b[0m\u001b[0;34m\u001b[0m\u001b[0;34m\u001b[0m\u001b[0m\n\u001b[1;32m    190\u001b[0m                                                                    \u001b[0mnp\u001b[0m\u001b[0;34m.\u001b[0m\u001b[0marray\u001b[0m\u001b[0;34m(\u001b[0m\u001b[0mbatched_length\u001b[0m\u001b[0;34m)\u001b[0m\u001b[0;34m,\u001b[0m\u001b[0;34m\u001b[0m\u001b[0;34m\u001b[0m\u001b[0m\n\u001b[0;32m--> 191\u001b[0;31m                                                                    optimizer)\n\u001b[0m\u001b[1;32m    192\u001b[0m                     \u001b[0mtotal_train_loss\u001b[0m\u001b[0;34m.\u001b[0m\u001b[0mappend\u001b[0m\u001b[0;34m(\u001b[0m\u001b[0mbatch_loss\u001b[0m\u001b[0;34m)\u001b[0m\u001b[0;34m\u001b[0m\u001b[0;34m\u001b[0m\u001b[0m\n\u001b[1;32m    193\u001b[0m                     \u001b[0mtotal_train_perplexity\u001b[0m\u001b[0;34m.\u001b[0m\u001b[0mappend\u001b[0m\u001b[0;34m(\u001b[0m\u001b[0mbatch_perplexity\u001b[0m\u001b[0;34m)\u001b[0m\u001b[0;34m\u001b[0m\u001b[0;34m\u001b[0m\u001b[0m\n",
      "\u001b[0;32m/home/volodymyr/envs/convbot_env/lib/python3.7/site-packages/tensorflow/python/eager/def_function.py\u001b[0m in \u001b[0;36m__call__\u001b[0;34m(self, *args, **kwds)\u001b[0m\n\u001b[1;32m    578\u001b[0m         \u001b[0mxla_context\u001b[0m\u001b[0;34m.\u001b[0m\u001b[0mExit\u001b[0m\u001b[0;34m(\u001b[0m\u001b[0;34m)\u001b[0m\u001b[0;34m\u001b[0m\u001b[0;34m\u001b[0m\u001b[0m\n\u001b[1;32m    579\u001b[0m     \u001b[0;32melse\u001b[0m\u001b[0;34m:\u001b[0m\u001b[0;34m\u001b[0m\u001b[0;34m\u001b[0m\u001b[0m\n\u001b[0;32m--> 580\u001b[0;31m       \u001b[0mresult\u001b[0m \u001b[0;34m=\u001b[0m \u001b[0mself\u001b[0m\u001b[0;34m.\u001b[0m\u001b[0m_call\u001b[0m\u001b[0;34m(\u001b[0m\u001b[0;34m*\u001b[0m\u001b[0margs\u001b[0m\u001b[0;34m,\u001b[0m \u001b[0;34m**\u001b[0m\u001b[0mkwds\u001b[0m\u001b[0;34m)\u001b[0m\u001b[0;34m\u001b[0m\u001b[0;34m\u001b[0m\u001b[0m\n\u001b[0m\u001b[1;32m    581\u001b[0m \u001b[0;34m\u001b[0m\u001b[0m\n\u001b[1;32m    582\u001b[0m     \u001b[0;32mif\u001b[0m \u001b[0mtracing_count\u001b[0m \u001b[0;34m==\u001b[0m \u001b[0mself\u001b[0m\u001b[0;34m.\u001b[0m\u001b[0m_get_tracing_count\u001b[0m\u001b[0;34m(\u001b[0m\u001b[0;34m)\u001b[0m\u001b[0;34m:\u001b[0m\u001b[0;34m\u001b[0m\u001b[0;34m\u001b[0m\u001b[0m\n",
      "\u001b[0;32m/home/volodymyr/envs/convbot_env/lib/python3.7/site-packages/tensorflow/python/eager/def_function.py\u001b[0m in \u001b[0;36m_call\u001b[0;34m(self, *args, **kwds)\u001b[0m\n\u001b[1;32m    609\u001b[0m       \u001b[0;31m# In this case we have created variables on the first call, so we run the\u001b[0m\u001b[0;34m\u001b[0m\u001b[0;34m\u001b[0m\u001b[0;34m\u001b[0m\u001b[0m\n\u001b[1;32m    610\u001b[0m       \u001b[0;31m# defunned version which is guaranteed to never create variables.\u001b[0m\u001b[0;34m\u001b[0m\u001b[0;34m\u001b[0m\u001b[0;34m\u001b[0m\u001b[0m\n\u001b[0;32m--> 611\u001b[0;31m       \u001b[0;32mreturn\u001b[0m \u001b[0mself\u001b[0m\u001b[0;34m.\u001b[0m\u001b[0m_stateless_fn\u001b[0m\u001b[0;34m(\u001b[0m\u001b[0;34m*\u001b[0m\u001b[0margs\u001b[0m\u001b[0;34m,\u001b[0m \u001b[0;34m**\u001b[0m\u001b[0mkwds\u001b[0m\u001b[0;34m)\u001b[0m  \u001b[0;31m# pylint: disable=not-callable\u001b[0m\u001b[0;34m\u001b[0m\u001b[0;34m\u001b[0m\u001b[0m\n\u001b[0m\u001b[1;32m    612\u001b[0m     \u001b[0;32melif\u001b[0m \u001b[0mself\u001b[0m\u001b[0;34m.\u001b[0m\u001b[0m_stateful_fn\u001b[0m \u001b[0;32mis\u001b[0m \u001b[0;32mnot\u001b[0m \u001b[0;32mNone\u001b[0m\u001b[0;34m:\u001b[0m\u001b[0;34m\u001b[0m\u001b[0;34m\u001b[0m\u001b[0m\n\u001b[1;32m    613\u001b[0m       \u001b[0;31m# Release the lock early so that multiple threads can perform the call\u001b[0m\u001b[0;34m\u001b[0m\u001b[0;34m\u001b[0m\u001b[0;34m\u001b[0m\u001b[0m\n",
      "\u001b[0;32m/home/volodymyr/envs/convbot_env/lib/python3.7/site-packages/tensorflow/python/eager/function.py\u001b[0m in \u001b[0;36m__call__\u001b[0;34m(self, *args, **kwargs)\u001b[0m\n\u001b[1;32m   2418\u001b[0m     \u001b[0;32mwith\u001b[0m \u001b[0mself\u001b[0m\u001b[0;34m.\u001b[0m\u001b[0m_lock\u001b[0m\u001b[0;34m:\u001b[0m\u001b[0;34m\u001b[0m\u001b[0;34m\u001b[0m\u001b[0m\n\u001b[1;32m   2419\u001b[0m       \u001b[0mgraph_function\u001b[0m\u001b[0;34m,\u001b[0m \u001b[0margs\u001b[0m\u001b[0;34m,\u001b[0m \u001b[0mkwargs\u001b[0m \u001b[0;34m=\u001b[0m \u001b[0mself\u001b[0m\u001b[0;34m.\u001b[0m\u001b[0m_maybe_define_function\u001b[0m\u001b[0;34m(\u001b[0m\u001b[0margs\u001b[0m\u001b[0;34m,\u001b[0m \u001b[0mkwargs\u001b[0m\u001b[0;34m)\u001b[0m\u001b[0;34m\u001b[0m\u001b[0;34m\u001b[0m\u001b[0m\n\u001b[0;32m-> 2420\u001b[0;31m     \u001b[0;32mreturn\u001b[0m \u001b[0mgraph_function\u001b[0m\u001b[0;34m.\u001b[0m\u001b[0m_filtered_call\u001b[0m\u001b[0;34m(\u001b[0m\u001b[0margs\u001b[0m\u001b[0;34m,\u001b[0m \u001b[0mkwargs\u001b[0m\u001b[0;34m)\u001b[0m  \u001b[0;31m# pylint: disable=protected-access\u001b[0m\u001b[0;34m\u001b[0m\u001b[0;34m\u001b[0m\u001b[0m\n\u001b[0m\u001b[1;32m   2421\u001b[0m \u001b[0;34m\u001b[0m\u001b[0m\n\u001b[1;32m   2422\u001b[0m   \u001b[0;34m@\u001b[0m\u001b[0mproperty\u001b[0m\u001b[0;34m\u001b[0m\u001b[0;34m\u001b[0m\u001b[0m\n",
      "\u001b[0;32m/home/volodymyr/envs/convbot_env/lib/python3.7/site-packages/tensorflow/python/eager/function.py\u001b[0m in \u001b[0;36m_filtered_call\u001b[0;34m(self, args, kwargs)\u001b[0m\n\u001b[1;32m   1663\u001b[0m          if isinstance(t, (ops.Tensor,\n\u001b[1;32m   1664\u001b[0m                            resource_variable_ops.BaseResourceVariable))),\n\u001b[0;32m-> 1665\u001b[0;31m         self.captured_inputs)\n\u001b[0m\u001b[1;32m   1666\u001b[0m \u001b[0;34m\u001b[0m\u001b[0m\n\u001b[1;32m   1667\u001b[0m   \u001b[0;32mdef\u001b[0m \u001b[0m_call_flat\u001b[0m\u001b[0;34m(\u001b[0m\u001b[0mself\u001b[0m\u001b[0;34m,\u001b[0m \u001b[0margs\u001b[0m\u001b[0;34m,\u001b[0m \u001b[0mcaptured_inputs\u001b[0m\u001b[0;34m,\u001b[0m \u001b[0mcancellation_manager\u001b[0m\u001b[0;34m=\u001b[0m\u001b[0;32mNone\u001b[0m\u001b[0;34m)\u001b[0m\u001b[0;34m:\u001b[0m\u001b[0;34m\u001b[0m\u001b[0;34m\u001b[0m\u001b[0m\n",
      "\u001b[0;32m/home/volodymyr/envs/convbot_env/lib/python3.7/site-packages/tensorflow/python/eager/function.py\u001b[0m in \u001b[0;36m_call_flat\u001b[0;34m(self, args, captured_inputs, cancellation_manager)\u001b[0m\n\u001b[1;32m   1744\u001b[0m       \u001b[0;31m# No tape is watching; skip to running the function.\u001b[0m\u001b[0;34m\u001b[0m\u001b[0;34m\u001b[0m\u001b[0;34m\u001b[0m\u001b[0m\n\u001b[1;32m   1745\u001b[0m       return self._build_call_outputs(self._inference_function.call(\n\u001b[0;32m-> 1746\u001b[0;31m           ctx, args, cancellation_manager=cancellation_manager))\n\u001b[0m\u001b[1;32m   1747\u001b[0m     forward_backward = self._select_forward_and_backward_functions(\n\u001b[1;32m   1748\u001b[0m         \u001b[0margs\u001b[0m\u001b[0;34m,\u001b[0m\u001b[0;34m\u001b[0m\u001b[0;34m\u001b[0m\u001b[0m\n",
      "\u001b[0;32m/home/volodymyr/envs/convbot_env/lib/python3.7/site-packages/tensorflow/python/eager/function.py\u001b[0m in \u001b[0;36mcall\u001b[0;34m(self, ctx, args, cancellation_manager)\u001b[0m\n\u001b[1;32m    596\u001b[0m               \u001b[0minputs\u001b[0m\u001b[0;34m=\u001b[0m\u001b[0margs\u001b[0m\u001b[0;34m,\u001b[0m\u001b[0;34m\u001b[0m\u001b[0;34m\u001b[0m\u001b[0m\n\u001b[1;32m    597\u001b[0m               \u001b[0mattrs\u001b[0m\u001b[0;34m=\u001b[0m\u001b[0mattrs\u001b[0m\u001b[0;34m,\u001b[0m\u001b[0;34m\u001b[0m\u001b[0;34m\u001b[0m\u001b[0m\n\u001b[0;32m--> 598\u001b[0;31m               ctx=ctx)\n\u001b[0m\u001b[1;32m    599\u001b[0m         \u001b[0;32melse\u001b[0m\u001b[0;34m:\u001b[0m\u001b[0;34m\u001b[0m\u001b[0;34m\u001b[0m\u001b[0m\n\u001b[1;32m    600\u001b[0m           outputs = execute.execute_with_cancellation(\n",
      "\u001b[0;32m/home/volodymyr/envs/convbot_env/lib/python3.7/site-packages/tensorflow/python/eager/execute.py\u001b[0m in \u001b[0;36mquick_execute\u001b[0;34m(op_name, num_outputs, inputs, attrs, ctx, name)\u001b[0m\n\u001b[1;32m     58\u001b[0m     \u001b[0mctx\u001b[0m\u001b[0;34m.\u001b[0m\u001b[0mensure_initialized\u001b[0m\u001b[0;34m(\u001b[0m\u001b[0;34m)\u001b[0m\u001b[0;34m\u001b[0m\u001b[0;34m\u001b[0m\u001b[0m\n\u001b[1;32m     59\u001b[0m     tensors = pywrap_tfe.TFE_Py_Execute(ctx._handle, device_name, op_name,\n\u001b[0;32m---> 60\u001b[0;31m                                         inputs, attrs, num_outputs)\n\u001b[0m\u001b[1;32m     61\u001b[0m   \u001b[0;32mexcept\u001b[0m \u001b[0mcore\u001b[0m\u001b[0;34m.\u001b[0m\u001b[0m_NotOkStatusException\u001b[0m \u001b[0;32mas\u001b[0m \u001b[0me\u001b[0m\u001b[0;34m:\u001b[0m\u001b[0;34m\u001b[0m\u001b[0;34m\u001b[0m\u001b[0m\n\u001b[1;32m     62\u001b[0m     \u001b[0;32mif\u001b[0m \u001b[0mname\u001b[0m \u001b[0;32mis\u001b[0m \u001b[0;32mnot\u001b[0m \u001b[0;32mNone\u001b[0m\u001b[0;34m:\u001b[0m\u001b[0;34m\u001b[0m\u001b[0;34m\u001b[0m\u001b[0m\n",
      "\u001b[0;31mKeyboardInterrupt\u001b[0m: "
     ]
    }
   ],
   "source": [
    "seq2seq.fit(train_data,\n",
    "            validation_dataset=val_data,\n",
    "            steps_per_epoch=X_train_enc.shape[0]//batch_size,\n",
    "            batch_size=batch_size,\n",
    "            num_epochs=num_epochs,\n",
    "            epochs_patience=epochs_patience,\n",
    "            experiment_name='opensubs')"
   ]
  },
  {
   "cell_type": "code",
   "execution_count": 18,
   "id": "german-customer",
   "metadata": {},
   "outputs": [],
   "source": [
    "seq2seq.save_models(decoder_path='decoder_all_data_opensubs.h5',\n",
    "                   encoder_path='encoder_all_data_opensubs.h5')"
   ]
  },
  {
   "cell_type": "markdown",
   "id": "agreed-proportion",
   "metadata": {},
   "source": [
    "# Testing predictions and other helpful stuff"
   ]
  },
  {
   "cell_type": "code",
   "execution_count": 19,
   "id": "accredited-satellite",
   "metadata": {},
   "outputs": [],
   "source": [
    "import sys\n",
    "sys.path.insert(0, '../')\n",
    "from utils.model_utils import plot_attention"
   ]
  },
  {
   "cell_type": "code",
   "execution_count": 20,
   "id": "inner-quarter",
   "metadata": {},
   "outputs": [],
   "source": [
    "def process(x, unk_token):\n",
    "  res = []\n",
    "  for i in x.split(' '):\n",
    "    if token_mapping.get(i):\n",
    "      res.append(i)\n",
    "    elif token_mapping.get(i.lower()):\n",
    "      res.append(i.lower())\n",
    "    else:\n",
    "      res.append(unk_token)\n",
    "  return res"
   ]
  },
  {
   "cell_type": "code",
   "execution_count": 21,
   "id": "fitting-actress",
   "metadata": {},
   "outputs": [],
   "source": [
    "def give_answer(decoder, sentence, inverse_token_mapping, pad_unk=True, process_sentence=True, len_output=50,\n",
    "               beam_size=3,\n",
    "              top_p=0.95,\n",
    "               beam_search=False,\n",
    "               nucleus_sampling = False,\n",
    "               show_attention=False):\n",
    "      if process_sentence:\n",
    "        cleaned_sentence = uncover_reduction(clean_bad_chars(sentence))\n",
    "        unk_token = pad_token if pad_unk else \"<unk>\"\n",
    "        processed_sentence = process(cleaned_sentence, unk_token)\n",
    "        mapped_sentence = map_to_ids(processed_sentence, token_mapping, end_token, padding_token=pad_token, max_len=max_len_tokens)\n",
    "      else:\n",
    "        mapped_sentence = sentence\n",
    "      if beam_search:\n",
    "        prediction = decoder.decode(mapped_sentence, beam_size)\n",
    "      elif nucleus_sampling:\n",
    "        prediction = decoder.decode(mapped_sentence, len_output, top_p)\n",
    "      else:\n",
    "          prediction = decoder.decode(mapped_sentence, len_output, show_attention)\n",
    "      if show_attention and not beam_search:\n",
    "        prediction, attention = prediction\n",
    "      answer = \" \".join([inverse_token_mapping.get(i) for i in prediction]).capitalize()\n",
    "      if show_attention and not beam_search:\n",
    "            plot_attention(attention,sentence.split(' '), answer.split(' '))\n",
    "      return answer"
   ]
  },
  {
   "cell_type": "code",
   "execution_count": 22,
   "id": "opponent-conservative",
   "metadata": {},
   "outputs": [],
   "source": [
    "greedy_decoder = GreedyDecoder(decoder=seq2seq.decoder,\n",
    "             encoder=seq2seq.encoder,\n",
    "             max_len=max_len_tokens,\n",
    "             start_token=token_mapping[start_token],\n",
    "             end_token=token_mapping[end_token])"
   ]
  },
  {
   "cell_type": "code",
   "execution_count": 23,
   "id": "desirable-pierce",
   "metadata": {},
   "outputs": [
    {
     "name": "stderr",
     "output_type": "stream",
     "text": [
      "../utils/model_utils.py:12: UserWarning: FixedFormatter should only be used together with FixedLocator\n",
      "  ax.set_xticklabels([''] + sentence, fontdict=fontdict, rotation=90)\n",
      "../utils/model_utils.py:13: UserWarning: FixedFormatter should only be used together with FixedLocator\n",
      "  ax.set_yticklabels([''] + predicted_sentence, fontdict=fontdict)\n"
     ]
    },
    {
     "data": {
      "image/png": "[encoded data removed]",
      "text/plain": [
       "<Figure size 720x720 with 1 Axes>"
      ]
     },
     "metadata": {},
     "output_type": "display_data"
    },
    {
     "data": {
      "text/plain": [
       "'I am sorry .'"
      ]
     },
     "execution_count": 23,
     "metadata": {},
     "output_type": "execute_result"
    }
   ],
   "source": [
    "give_answer(greedy_decoder, 'hi', inverse_token_mapping, show_attention=True)"
   ]
  },
  {
   "cell_type": "code",
   "execution_count": 24,
   "id": "induced-tactics",
   "metadata": {},
   "outputs": [],
   "source": [
    "beam_search_decoder = BeamSearchDecoder(decoder=seq2seq.decoder, \n",
    "                 encoder=seq2seq.encoder,\n",
    "                 max_len=max_len_tokens,\n",
    "                 start_token=token_mapping[start_token],\n",
    "                 end_token=token_mapping[end_token])"
   ]
  },
  {
   "cell_type": "code",
   "execution_count": 25,
   "id": "split-married",
   "metadata": {},
   "outputs": [
    {
     "data": {
      "text/plain": [
       "'Hi . hi .'"
      ]
     },
     "execution_count": 25,
     "metadata": {},
     "output_type": "execute_result"
    }
   ],
   "source": [
    "give_answer(beam_search_decoder, 'hi ', inverse_token_mapping, show_attention=False,\n",
    "           beam_search=True)"
   ]
  },
  {
   "cell_type": "code",
   "execution_count": 26,
   "id": "ethical-static",
   "metadata": {},
   "outputs": [],
   "source": [
    "nucleus_decoder = NucleusDecoder(decoder=seq2seq.decoder, \n",
    "                 encoder=seq2seq.encoder,\n",
    "                 max_len=max_len_tokens,\n",
    "                 start_token=token_mapping[start_token],\n",
    "                 end_token=token_mapping[end_token])"
   ]
  },
  {
   "cell_type": "code",
   "execution_count": 27,
   "id": "blocked-membership",
   "metadata": {},
   "outputs": [
    {
     "data": {
      "text/plain": [
       "'How about that story ?'"
      ]
     },
     "execution_count": 27,
     "metadata": {},
     "output_type": "execute_result"
    }
   ],
   "source": [
    "give_answer(nucleus_decoder, 'hi', inverse_token_mapping, nucleus_sampling=True, top_p=0.75)"
   ]
  },
  {
   "cell_type": "code",
   "execution_count": 28,
   "id": "brazilian-south",
   "metadata": {},
   "outputs": [
    {
     "data": {
      "image/png": "[encoded data removed]",
      "text/plain": [
       "<Figure size 720x720 with 1 Axes>"
      ]
     },
     "metadata": {},
     "output_type": "display_data"
    },
    {
     "name": "stdout",
     "output_type": "stream",
     "text": [
      "------------------------------\n",
      "Test replica : hey you!\n",
      "Bot greedy answer : Hey !\n",
      "Bot beam search answer : Hey ! hey !\n",
      "Bot nucleus answr : Now is in here just before it was long\n",
      "------------------------------\n"
     ]
    },
    {
     "data": {
      "image/png": "[encoded data removed]",
      "text/plain": [
       "<Figure size 720x720 with 1 Axes>"
      ]
     },
     "metadata": {},
     "output_type": "display_data"
    },
    {
     "name": "stdout",
     "output_type": "stream",
     "text": [
      "------------------------------\n",
      "Test replica : hello\n",
      "Bot greedy answer : Hello ?\n",
      "Bot beam search answer : Hello ?\n",
      "Bot nucleus answr : Where do you think this song music like that\n",
      "------------------------------\n"
     ]
    },
    {
     "data": {
      "image/png": "[encoded data removed]",
      "text/plain": [
       "<Figure size 720x720 with 1 Axes>"
      ]
     },
     "metadata": {},
     "output_type": "display_data"
    },
    {
     "name": "stdout",
     "output_type": "stream",
     "text": [
      "------------------------------\n",
      "Test replica : hi\n",
      "Bot greedy answer : I am sorry .\n",
      "Bot beam search answer : Hi . hi .\n",
      "Bot nucleus answr : And in your place all day up\n",
      "------------------------------\n"
     ]
    },
    {
     "data": {
      "image/png": "[encoded data removed]",
      "text/plain": [
       "<Figure size 720x720 with 1 Axes>"
      ]
     },
     "metadata": {},
     "output_type": "display_data"
    },
    {
     "name": "stdout",
     "output_type": "stream",
     "text": [
      "------------------------------\n",
      "Test replica : how are you?\n",
      "Bot greedy answer : I am sorry .\n",
      "Bot beam search answer : Fine .\n",
      "Bot nucleus answr : Iil be at there !\n",
      "------------------------------\n"
     ]
    },
    {
     "data": {
      "image/png": "[encoded data removed]",
      "text/plain": [
       "<Figure size 720x720 with 1 Axes>"
      ]
     },
     "metadata": {},
     "output_type": "display_data"
    },
    {
     "name": "stdout",
     "output_type": "stream",
     "text": [
      "------------------------------\n",
      "Test replica : have you ever been to USA?\n",
      "Bot greedy answer : I am not a teenager .\n",
      "Bot beam search answer : No .\n",
      "Bot nucleus answr : Right there s over the big advantage .\n",
      "------------------------------\n"
     ]
    },
    {
     "data": {
      "image/png": "[encoded data removed]",
      "text/plain": [
       "<Figure size 720x720 with 1 Axes>"
      ]
     },
     "metadata": {},
     "output_type": "display_data"
    },
    {
     "name": "stdout",
     "output_type": "stream",
     "text": [
      "------------------------------\n",
      "Test replica : where are you from?\n",
      "Bot greedy answer : I am a friend .\n",
      "Bot beam search answer : Boiro .\n",
      "Bot nucleus answr : ( music )\n",
      "------------------------------\n"
     ]
    },
    {
     "data": {
      "image/png": "[encoded data removed]",
      "text/plain": [
       "<Figure size 720x720 with 1 Axes>"
      ]
     },
     "metadata": {},
     "output_type": "display_data"
    },
    {
     "name": "stdout",
     "output_type": "stream",
     "text": [
      "------------------------------\n",
      "Test replica : what do you think about marriage?\n",
      "Bot greedy answer : I do not know .\n",
      "Bot beam search answer : I do not know .\n",
      "Bot nucleus answr : So many your friends as stupid questions .\n",
      "------------------------------\n"
     ]
    },
    {
     "data": {
      "image/png": "[encoded data removed]",
      "text/plain": [
       "<Figure size 720x720 with 1 Axes>"
      ]
     },
     "metadata": {},
     "output_type": "display_data"
    },
    {
     "name": "stdout",
     "output_type": "stream",
     "text": [
      "------------------------------\n",
      "Test replica : I need your help\n",
      "Bot greedy answer : I want to be a novelist .\n",
      "Bot beam search answer : I want you to know\n",
      "Bot nucleus answr : With my daughter in particular school student\n",
      "------------------------------\n"
     ]
    },
    {
     "data": {
      "image/png": "[encoded data removed]",
      "text/plain": [
       "<Figure size 720x720 with 1 Axes>"
      ]
     },
     "metadata": {},
     "output_type": "display_data"
    },
    {
     "name": "stdout",
     "output_type": "stream",
     "text": [
      "------------------------------\n",
      "Test replica : Where do you recommend me to go?\n",
      "Bot greedy answer : I am not going to be a little winks\n",
      "Bot beam search answer : I do not know .\n",
      "Bot nucleus answr : Not now\n",
      "------------------------------\n"
     ]
    },
    {
     "data": {
      "image/png": "[encoded data removed]",
      "text/plain": [
       "<Figure size 720x720 with 1 Axes>"
      ]
     },
     "metadata": {},
     "output_type": "display_data"
    },
    {
     "name": "stdout",
     "output_type": "stream",
     "text": [
      "------------------------------\n",
      "Test replica : you are under arrest!\n",
      "Bot greedy answer : You are not a fucking idiot !\n",
      "Bot beam search answer : What are you talking about ?\n",
      "Bot nucleus answr : So just finish me up on that way of\n",
      "------------------------------\n"
     ]
    },
    {
     "data": {
      "image/png": "[encoded data removed]",
      "text/plain": [
       "<Figure size 720x720 with 1 Axes>"
      ]
     },
     "metadata": {},
     "output_type": "display_data"
    },
    {
     "name": "stdout",
     "output_type": "stream",
     "text": [
      "------------------------------\n",
      "Test replica : want to fuck me?\n",
      "Bot greedy answer : I am not going to be a little bit\n",
      "Bot beam search answer : I do not know .\n",
      "Bot nucleus answr : Excuse\n",
      "------------------------------\n"
     ]
    },
    {
     "data": {
      "image/png": "[encoded data removed]",
      "text/plain": [
       "<Figure size 720x720 with 1 Axes>"
      ]
     },
     "metadata": {},
     "output_type": "display_data"
    },
    {
     "name": "stdout",
     "output_type": "stream",
     "text": [
      "------------------------------\n",
      "Test replica : see you\n",
      "Bot greedy answer : You are a little bit of a little bit\n",
      "Bot beam search answer : Oh\n",
      "Bot nucleus answr : My you have found you in .\n",
      "------------------------------\n"
     ]
    },
    {
     "data": {
      "image/png": "[encoded data removed]",
      "text/plain": [
       "<Figure size 720x720 with 1 Axes>"
      ]
     },
     "metadata": {},
     "output_type": "display_data"
    },
    {
     "name": "stdout",
     "output_type": "stream",
     "text": [
      "------------------------------\n",
      "Test replica : you are shit\n",
      "Bot greedy answer : You are a little bit of a bitch .\n",
      "Bot beam search answer : I am gonna be over here .\n",
      "Bot nucleus answr : Your dog the traings ai\n",
      "------------------------------\n"
     ]
    }
   ],
   "source": [
    "replicas = ['hey you!',\n",
    "            'hello',\n",
    "            'hi',\n",
    "            'how are you?',\n",
    "            'have you ever been to USA?',\n",
    "            'where are you from?',\n",
    "            'what do you think about marriage?',\n",
    "             'I need your help',\n",
    "           'Where do you recommend me to go?',\n",
    "           'you are under arrest!',\n",
    "           'want to fuck me?',\n",
    "           'see you',\n",
    "           'you are shit']\n",
    "for i in replicas:\n",
    "    greedy_answer = give_answer(greedy_decoder, i, inverse_token_mapping, show_attention=True)\n",
    "    beam_search_answer = give_answer(beam_search_decoder, i, inverse_token_mapping,\n",
    "           beam_search=True,\n",
    "           beam_size=3)\n",
    "    nucleus_answer = give_answer(nucleus_decoder, i, inverse_token_mapping, \n",
    "                                 nucleus_sampling=True, \n",
    "                                 top_p=0.75)\n",
    "    print(30*'-')\n",
    "    print('Test replica : {}'.format(i))\n",
    "    print('Bot greedy answer : {}'.format(greedy_answer))\n",
    "    print('Bot beam search answer : {}'.format(beam_search_answer))\n",
    "    print('Bot nucleus answr : {}'.format(nucleus_answer))\n",
    "    print(30*'-')\n"
   ]
  },
  {
   "cell_type": "markdown",
   "id": "mighty-freeze",
   "metadata": {},
   "source": [
    "# Gabberish dialogue"
   ]
  },
  {
   "cell_type": "code",
   "execution_count": 29,
   "id": "signed-patrick",
   "metadata": {},
   "outputs": [
    {
     "name": "stdout",
     "output_type": "stream",
     "text": [
      "hi\n",
      "\n",
      "--- Heilo cousin shoes could fall behind in many\n",
      "\n",
      "--- Especially their toy service please emily when at lights\n",
      "\n",
      "--- Ma les take louis fleet file works room have\n",
      "\n",
      "--- Fatty p. and anybody sleeps it says place business\n",
      "\n",
      "--- Pull overhead side chest gets laid from gibbons baby\n",
      "\n",
      "--- Hiding there charlies also at which when this airport\n",
      "\n",
      "--- Peter hill they really crack youn profits by sheep\n",
      "\n",
      "--- Non jumping 4 degrees members u. body too woke\n",
      "\n",
      "--- Yet along without peeling romance leads calls is penny\n",
      "\n",
      "--- Mom brad open opening dreams live before this thursday\n",
      "\n",
      "--- Lf . point next christmas eh ! get serious\n",
      "\n",
      "--- Need facts money something scared has time ahead out\n",
      "\n",
      "--- Lunch kate becky well new o base br food\n",
      "\n",
      "--- Would you move alone but trooper i did really\n",
      "\n",
      "--- More waste guilt side positive per seventh possibly do\n",
      "\n",
      "--- Hi was murdered from tokyos heavy pharmaceutical record parties\n",
      "\n",
      "--- Church dead roman products accountant orange vegas dealing ran\n",
      "\n",
      "--- Familiar faces screaming blue into her wipe me inside\n",
      "\n",
      "--- Slammin against crime hat hair moves sort and spit\n",
      "\n",
      "--- Sounds exactly any extraordinary especially people their unorthodox balls\n",
      "\n",
      "--- 1 9 at m per show mr. danger raccoon\n",
      "\n",
      "--- Secretary moore richard christopher bush washington states probably seems\n",
      "\n",
      "--- Compared best pictures mr. bloom dr. shall ride lunch\n",
      "\n",
      "--- April yeah hon ok and hampton miles jr shine\n",
      "\n",
      "--- .. swing garth open not cry back lions guys\n",
      "\n",
      "--- Honey breathe by freeway start butterflies in television ramu\n",
      "\n",
      "--- Buddy patty who skips disgusting pipes your pantyhose dad\n",
      "\n",
      "--- Lisas talking worth can suck punches .... three gotta\n",
      "\n",
      "--- Youil send someone pretty popular : dad like she\n",
      "\n",
      "--- Help a drag harry my store by dating headquarters\n",
      "\n",
      "--- Narrator : purpose sled training christine channel unit to\n",
      "\n",
      "--- Tells what one assignment pat princes cream were presented\n",
      "\n",
      "--- Could build us each job going today was capable\n",
      "\n",
      "--- Objection control behind pac rock ladies as <unk> even\n",
      "\n",
      "--- Though larry arranged tony jacob executed stone farmer garcia\n",
      "\n",
      "--- Witness hong is would remember it twice over and\n",
      "\n",
      "--- George city island ordered plenty with living an author\n",
      "\n",
      "--- Once too instead i tried meeting back thursday night\n",
      "\n",
      "--- Congratulations girls never georgie because maybe act over haven\n",
      "\n",
      "--- Busy come dream here immediately something stuff now by\n",
      "\n",
      "--- Stupid has confused don tworry big number or drink\n",
      "\n",
      "--- Que vasa sex been fixing right already through judgment\n",
      "\n",
      "--- A. ed dog hit hit bad paddy man broke\n",
      "\n",
      "--- Frank higgins would never given us not sick mr\n",
      "\n",
      "--- Brilliant number days will post myers cornered set under\n",
      "\n",
      "--- Per cond bedrooms 6 degrees into berlin into selling\n",
      "\n",
      "--- Try forthe publications which amount center disappearing nine when\n",
      "\n",
      "--- Headquarters who fallen thousands except both identified for senate\n",
      "\n",
      "--- Visit goes like hope must hate i are lousy\n",
      "\n",
      "--- Ever spread and nasty day happening i give youth\n",
      "\n",
      "--- Mommy oh rachel needs mr little cop interview costs\n",
      "\n",
      "--- Men ever god p your medium whereas axe till\n",
      "\n",
      "--- Huh what of his gym your imagination opera brand\n",
      "\n",
      "--- Best jim matt t long cool fuck yourself by\n",
      "\n",
      "--- Calling lassiter good bass christmas today a dash white\n",
      "\n",
      "--- Rockets breaks the pipeline bowl fast kick gas again\n",
      "\n",
      "--- Shouting up like getting talking by crude instead as\n",
      "\n",
      "--- Kind have ended meat as brightly free pot cow\n",
      "\n",
      "--- Chop bump hose mouth cause goodbye paper come a\n",
      "\n",
      "--- Wee can he generously belt hurt stop aboutthe shaming\n",
      "\n",
      "--- Santa coming he great woman lookin sex ray beaten\n",
      "\n",
      "--- Im galore style tender times we ended around jerry\n",
      "\n",
      "--- Brought amazing positions hot confident thinkin sometimes lonely even\n",
      "\n",
      "--- Thankyou angry ? should notyou all iook different in\n",
      "\n",
      "--- Aliens exist forever lucas time till em beyond elroy\n",
      "\n",
      "--- Ass mama greet free too and decide here again\n",
      "\n",
      "--- Anyways being bullied your thick twisted fire but bite\n",
      "\n",
      "--- Heres half overall nurse chainsaw .... how work an\n",
      "\n",
      "--- Yeah come along . what can ? weil better\n",
      "\n",
      "--- Sure thanks dad ! first copy they off wearing\n",
      "\n",
      "--- Been sheriff throw their queue dresses himself right notify\n",
      "\n",
      "--- Outside .... senator thunder ? whose fund books :\n",
      "\n",
      "--- They hang online but billy girl downstairs come a\n",
      "\n",
      "--- Took ginny them know them knowing so dangerous !\n",
      "\n",
      "--- T yours waxing clothes in effect was convincing amazing\n",
      "\n",
      "--- Sold half life war template then definitely happily bodies\n",
      "\n",
      "--- Under taking your aid top engine heading parcels okay\n",
      "\n",
      "--- Announcing past 5 months has probably flat bosom 4\n",
      "\n",
      "--- Setting company mr. maless grade special draw holes larger\n",
      "\n",
      "--- Bouncing is amsterdam man out more slick mushrooms doc\n",
      "\n",
      "--- Taquayzsha each mission automobile sounds quarterback cousin martin !\n",
      "\n",
      "--- Nicolai rocking hair road stained very iong dangerous land\n",
      "\n",
      "--- Groaning audrey for wrong wrong during right around away\n",
      "\n",
      "--- Ribs shithead did hurt dr. age 3 of sort\n",
      "\n",
      "--- Anita doing broke am gonna then fuckers dad in\n",
      "\n",
      "--- Eight alone he goes wild games hanging cut the\n",
      "\n",
      "--- Bambino often give me sweets ali punched got from\n",
      "\n",
      "--- Rays fort nevada hot open any matches charges was\n",
      "\n",
      "--- Gonzo does rock mean none even made important you\n",
      "\n",
      "--- Helping gracie you made the formal sweetheart or murder\n",
      "\n",
      "--- Gee w an uncle ca problem solution rule law\n",
      "\n",
      "--- Th : lets pay most small job directly and\n",
      "\n",
      "--- Cheers that are toa a taught yourselves okay thank\n",
      "\n",
      "--- Robbie caitlin wanted sort and developed in now has\n",
      "\n",
      "--- Sara left questions they let for advice is forget\n",
      "\n",
      "--- Something human yes actually ahem look amanda ? look\n",
      "\n",
      "--- Pay stalling so sit stay all is excellent so\n",
      "\n",
      "--- Cool cool here boy and ride not love in\n",
      "\n",
      "--- Most distinguished piece thing please free true !\n",
      "\n",
      "--- Lock code get what it got nice iike snowman\n"
     ]
    }
   ],
   "source": [
    "n_replicas = 100\n",
    "count = 0\n",
    "replica = str(input()).strip()\n",
    "while count<n_replicas:\n",
    "    replica = give_answer(nucleus_decoder, replica, inverse_token_mapping, \n",
    "                                 nucleus_sampling=True, \n",
    "                                 top_p=0.95)\n",
    "    print('\\n--- {}'.format(replica))\n",
    "    count+=1"
   ]
  },
  {
   "cell_type": "markdown",
   "id": "transsexual-destination",
   "metadata": {},
   "source": [
    "# Interactive usage"
   ]
  },
  {
   "cell_type": "code",
   "execution_count": 30,
   "id": "upset-corruption",
   "metadata": {},
   "outputs": [
    {
     "name": "stdout",
     "output_type": "stream",
     "text": [
      "how old are you?\n",
      "------------------------------\n",
      "Replica : how old are you?\n",
      "Beam answer : Eighteen .\n",
      "Greedy answer : Eighteen .\n",
      "------------------------------\n",
      "what is your name?\n",
      "------------------------------\n",
      "Replica : what is your name?\n",
      "Beam answer : Hi .\n",
      "Greedy answer : I am sorry .\n",
      "------------------------------\n",
      "my name is John\n",
      "------------------------------\n",
      "Replica : my name is John\n",
      "Beam answer : I do not know .\n",
      "Greedy answer : I am a copilot\n",
      "------------------------------\n",
      "hey bro\n",
      "------------------------------\n",
      "Replica : hey bro\n",
      "Beam answer : What are you talking about ?\n",
      "Greedy answer : Hey hey hey hey hey hey hey hey hey\n",
      "------------------------------\n",
      "kill yourself\n",
      "------------------------------\n",
      "Replica : kill yourself\n",
      "Beam answer : You\n",
      "Greedy answer : You are not a coward .\n",
      "------------------------------\n"
     ]
    },
    {
     "ename": "KeyboardInterrupt",
     "evalue": "Interrupted by user",
     "output_type": "error",
     "traceback": [
      "\u001b[0;31m---------------------------------------------------------------------------\u001b[0m",
      "\u001b[0;31mKeyboardInterrupt\u001b[0m                         Traceback (most recent call last)",
      "\u001b[0;32m<ipython-input-30-2c409b356802>\u001b[0m in \u001b[0;36m<module>\u001b[0;34m\u001b[0m\n\u001b[1;32m      1\u001b[0m \u001b[0minp\u001b[0m \u001b[0;34m=\u001b[0m \u001b[0;34m''\u001b[0m\u001b[0;34m\u001b[0m\u001b[0;34m\u001b[0m\u001b[0m\n\u001b[1;32m      2\u001b[0m \u001b[0;32mwhile\u001b[0m \u001b[0;32mTrue\u001b[0m\u001b[0;34m:\u001b[0m\u001b[0;34m\u001b[0m\u001b[0;34m\u001b[0m\u001b[0m\n\u001b[0;32m----> 3\u001b[0;31m     \u001b[0minp\u001b[0m \u001b[0;34m=\u001b[0m \u001b[0mstr\u001b[0m\u001b[0;34m(\u001b[0m\u001b[0minput\u001b[0m\u001b[0;34m(\u001b[0m\u001b[0;34m)\u001b[0m\u001b[0;34m)\u001b[0m\u001b[0;34m.\u001b[0m\u001b[0mstrip\u001b[0m\u001b[0;34m(\u001b[0m\u001b[0;34m)\u001b[0m\u001b[0;34m\u001b[0m\u001b[0;34m\u001b[0m\u001b[0m\n\u001b[0m\u001b[1;32m      4\u001b[0m     \u001b[0;32mif\u001b[0m \u001b[0minp\u001b[0m\u001b[0;34m==\u001b[0m\u001b[0;34m'exit'\u001b[0m\u001b[0;34m:\u001b[0m\u001b[0;34m\u001b[0m\u001b[0;34m\u001b[0m\u001b[0m\n\u001b[1;32m      5\u001b[0m         \u001b[0;32mbreak\u001b[0m\u001b[0;34m\u001b[0m\u001b[0;34m\u001b[0m\u001b[0m\n",
      "\u001b[0;32m/home/volodymyr/envs/convbot_env/lib/python3.7/site-packages/ipykernel/kernelbase.py\u001b[0m in \u001b[0;36mraw_input\u001b[0;34m(self, prompt)\u001b[0m\n\u001b[1;32m    849\u001b[0m             \u001b[0mself\u001b[0m\u001b[0;34m.\u001b[0m\u001b[0m_parent_ident\u001b[0m\u001b[0;34m,\u001b[0m\u001b[0;34m\u001b[0m\u001b[0;34m\u001b[0m\u001b[0m\n\u001b[1;32m    850\u001b[0m             \u001b[0mself\u001b[0m\u001b[0;34m.\u001b[0m\u001b[0m_parent_header\u001b[0m\u001b[0;34m,\u001b[0m\u001b[0;34m\u001b[0m\u001b[0;34m\u001b[0m\u001b[0m\n\u001b[0;32m--> 851\u001b[0;31m             \u001b[0mpassword\u001b[0m\u001b[0;34m=\u001b[0m\u001b[0;32mFalse\u001b[0m\u001b[0;34m,\u001b[0m\u001b[0;34m\u001b[0m\u001b[0;34m\u001b[0m\u001b[0m\n\u001b[0m\u001b[1;32m    852\u001b[0m         )\n\u001b[1;32m    853\u001b[0m \u001b[0;34m\u001b[0m\u001b[0m\n",
      "\u001b[0;32m/home/volodymyr/envs/convbot_env/lib/python3.7/site-packages/ipykernel/kernelbase.py\u001b[0m in \u001b[0;36m_input_request\u001b[0;34m(self, prompt, ident, parent, password)\u001b[0m\n\u001b[1;32m    890\u001b[0m             \u001b[0;32mexcept\u001b[0m \u001b[0mKeyboardInterrupt\u001b[0m\u001b[0;34m:\u001b[0m\u001b[0;34m\u001b[0m\u001b[0;34m\u001b[0m\u001b[0m\n\u001b[1;32m    891\u001b[0m                 \u001b[0;31m# re-raise KeyboardInterrupt, to truncate traceback\u001b[0m\u001b[0;34m\u001b[0m\u001b[0;34m\u001b[0m\u001b[0;34m\u001b[0m\u001b[0m\n\u001b[0;32m--> 892\u001b[0;31m                 \u001b[0;32mraise\u001b[0m \u001b[0mKeyboardInterrupt\u001b[0m\u001b[0;34m(\u001b[0m\u001b[0;34m\"Interrupted by user\"\u001b[0m\u001b[0;34m)\u001b[0m \u001b[0;32mfrom\u001b[0m \u001b[0;32mNone\u001b[0m\u001b[0;34m\u001b[0m\u001b[0;34m\u001b[0m\u001b[0m\n\u001b[0m\u001b[1;32m    893\u001b[0m             \u001b[0;32mexcept\u001b[0m \u001b[0mException\u001b[0m \u001b[0;32mas\u001b[0m \u001b[0me\u001b[0m\u001b[0;34m:\u001b[0m\u001b[0;34m\u001b[0m\u001b[0;34m\u001b[0m\u001b[0m\n\u001b[1;32m    894\u001b[0m                 \u001b[0mself\u001b[0m\u001b[0;34m.\u001b[0m\u001b[0mlog\u001b[0m\u001b[0;34m.\u001b[0m\u001b[0mwarning\u001b[0m\u001b[0;34m(\u001b[0m\u001b[0;34m\"Invalid Message:\"\u001b[0m\u001b[0;34m,\u001b[0m \u001b[0mexc_info\u001b[0m\u001b[0;34m=\u001b[0m\u001b[0;32mTrue\u001b[0m\u001b[0;34m)\u001b[0m\u001b[0;34m\u001b[0m\u001b[0;34m\u001b[0m\u001b[0m\n",
      "\u001b[0;31mKeyboardInterrupt\u001b[0m: Interrupted by user"
     ]
    }
   ],
   "source": [
    "inp = ''\n",
    "while True:\n",
    "    inp = str(input()).strip()\n",
    "    if inp=='exit':\n",
    "        break\n",
    "    greedy_answer = give_answer(greedy_decoder, inp, inverse_token_mapping, show_attention=False)\n",
    "    beam_search_answer = give_answer(beam_search_decoder, inp, inverse_token_mapping,\n",
    "           beam_search=True,\n",
    "           beam_size=7)\n",
    "    print(30*'-')\n",
    "    print('Replica : {}'.format(inp))\n",
    "    print('Beam answer : {}'.format(beam_search_answer))\n",
    "    print('Greedy answer : {}'.format(greedy_answer))\n",
    "    print(30*'-')"
   ]
  },
  {
   "cell_type": "code",
   "execution_count": null,
   "id": "former-passport",
   "metadata": {},
   "outputs": [],
   "source": []
  }
 ],
 "metadata": {
  "kernelspec": {
   "display_name": "Python 3",
   "language": "python",
   "name": "python3"
  },
  "language_info": {
   "codemirror_mode": {
    "name": "ipython",
    "version": 3
   },
   "file_extension": ".py",
   "mimetype": "text/x-python",
   "name": "python",
   "nbconvert_exporter": "python",
   "pygments_lexer": "ipython3",
   "version": "3.7.5"
  }
 },
 "nbformat": 4,
 "nbformat_minor": 5
}
