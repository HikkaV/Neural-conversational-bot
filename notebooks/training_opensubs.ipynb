{
 "cells": [
  {
   "cell_type": "code",
   "execution_count": 6,
   "id": "native-fitting",
   "metadata": {},
   "outputs": [],
   "source": [
    "import numpy as np\n",
    "from sklearn.model_selection import train_test_split\n",
    "import seaborn as sns\n",
    "import matplotlib.pyplot as plt\n",
    "import os\n",
    "import json\n",
    "import tqdm\n",
    "import matplotlib.ticker as ticker\n",
    "sns.set()"
   ]
  },
  {
   "cell_type": "code",
   "execution_count": 7,
   "id": "republican-publication",
   "metadata": {},
   "outputs": [
    {
     "name": "stdout",
     "output_type": "stream",
     "text": [
      "1 Physical GPUs, 1 Logical GPUs\n"
     ]
    }
   ],
   "source": [
    "import sys\n",
    "sys.path.insert(0, '../')\n",
    "from model.seq2seq import Seq2Seq, tf\n",
    "from model.decoding_techniques import BeamSearchDecoder, GreedyDecoder, NucleusDecoder\n",
    "from utils.processing_utils import *"
   ]
  },
  {
   "cell_type": "markdown",
   "id": "polar-south",
   "metadata": {},
   "source": [
    "# Loading and preparation"
   ]
  },
  {
   "cell_type": "code",
   "execution_count": 8,
   "id": "assumed-charles",
   "metadata": {},
   "outputs": [],
   "source": [
    "data_path = '../processed_data'\n",
    "mode = 'custom'\n",
    "all_train = True\n",
    "with open(os.path.join(data_path,'glove_embeddings_trained_opensubs.npy'), 'rb') as f:\n",
    "        final_embeddings = np.load(f)\n",
    "        \n",
    "with open(os.path.join(data_path,'token_mapping_opensubs.json'), 'r') as f:\n",
    "    token_mapping = json.load(f)\n",
    "\n",
    "with open(os.path.join(data_path,'data_opensubs.npy'), 'rb') as f:\n",
    "    data = np.load(f,allow_pickle=True) \n",
    "    \n",
    "with open(os.path.join(data_path,'missing_in_glove_trained_opensubs.npy'), 'rb') as f:\n",
    "        missing = np.load(f)"
   ]
  },
  {
   "cell_type": "code",
   "execution_count": 9,
   "id": "located-guide",
   "metadata": {},
   "outputs": [],
   "source": [
    "missing_idx = [token_mapping[i] for i in missing]"
   ]
  },
  {
   "cell_type": "code",
   "execution_count": 10,
   "id": "corresponding-official",
   "metadata": {},
   "outputs": [
    {
     "data": {
      "text/plain": [
       "1617140"
      ]
     },
     "execution_count": 10,
     "metadata": {},
     "output_type": "execute_result"
    }
   ],
   "source": [
    "len(data)"
   ]
  },
  {
   "cell_type": "code",
   "execution_count": 11,
   "id": "urban-producer",
   "metadata": {},
   "outputs": [],
   "source": [
    "inverse_token_mapping = dict((v,k) for k,v in token_mapping.items())\n",
    "pad_token = inverse_token_mapping[0]\n",
    "start_token = inverse_token_mapping[1]\n",
    "end_token = inverse_token_mapping[2]\n",
    "unk_token = inverse_token_mapping[3]"
   ]
  },
  {
   "cell_type": "code",
   "execution_count": 12,
   "id": "existing-seven",
   "metadata": {},
   "outputs": [],
   "source": [
    "data = np.array(data)"
   ]
  },
  {
   "cell_type": "code",
   "execution_count": 13,
   "id": "cross-canadian",
   "metadata": {},
   "outputs": [],
   "source": [
    "X, y = data[:,0], data[:,1]"
   ]
  },
  {
   "cell_type": "code",
   "execution_count": 14,
   "id": "ignored-marking",
   "metadata": {},
   "outputs": [],
   "source": [
    "def map_to_ids(x, mapping, end_token=None, start_token=None, padding_token=None, max_len=None, \n",
    "              return_len=False):\n",
    "  if isinstance(x, str):\n",
    "    x = x.split(' ')\n",
    "  max_len = max_len if max_len else len(x)\n",
    "  length = len(x)\n",
    "  if start_token:\n",
    "    x = [start_token] + x\n",
    "  sent_ids = [mapping[word] for word in x[:max_len]]\n",
    "  if max_len>len(x):\n",
    "      if end_token:\n",
    "        sent_ids.append(mapping[end_token])\n",
    "      if padding_token:\n",
    "        sent_ids += [mapping[padding_token]]*(max_len-len(sent_ids))\n",
    "      if return_len:\n",
    "          return sent_ids,length+1\n",
    "      else:\n",
    "          return sent_ids\n",
    "  if end_token:\n",
    "    sent_ids[-1] = mapping[end_token]\n",
    "  if return_len:\n",
    "      return sent_ids, max_len\n",
    "  else:\n",
    "      return sent_ids\n"
   ]
  },
  {
   "cell_type": "code",
   "execution_count": 15,
   "id": "nuclear-rachel",
   "metadata": {},
   "outputs": [],
   "source": [
    "max_len_tokens = 10"
   ]
  },
  {
   "cell_type": "code",
   "execution_count": 31,
   "id": "broken-fourth",
   "metadata": {},
   "outputs": [],
   "source": [
    "if all_train:\n",
    "    X_train_enc = np.array([map_to_ids(i, token_mapping, end_token, None, pad_token, max_len_tokens) for i in X])\n",
    "    X_train_dec = np.array([map_to_ids(i, token_mapping, None, start_token, pad_token, max_len_tokens) for i in y])\n",
    "    y_train, len_train = zip(*[map_to_ids(i, token_mapping, end_token, None, pad_token, max_len_tokens, return_len=True) for i in y])\n",
    "    y_train, len_train = np.array(y_train), np.array(len_train)"
   ]
  },
  {
   "cell_type": "code",
   "execution_count": 32,
   "id": "ordered-surface",
   "metadata": {},
   "outputs": [
    {
     "data": {
      "text/plain": [
       "(array([  1, 602,  14,   0,   0,   0,   0,   0,   0,   0]),\n",
       " array([602,  14,   2,   0,   0,   0,   0,   0,   0,   0]),\n",
       " 3)"
      ]
     },
     "execution_count": 32,
     "metadata": {},
     "output_type": "execute_result"
    }
   ],
   "source": [
    "X_train_dec[0], y_train[0], len_train[0]"
   ]
  },
  {
   "cell_type": "markdown",
   "id": "vital-faith",
   "metadata": {},
   "source": [
    "# Building a model"
   ]
  },
  {
   "cell_type": "code",
   "execution_count": 16,
   "id": "sorted-certificate",
   "metadata": {},
   "outputs": [
    {
     "data": {
      "text/plain": [
       "(50004, 100)"
      ]
     },
     "execution_count": 16,
     "metadata": {},
     "output_type": "execute_result"
    }
   ],
   "source": [
    "final_embeddings.shape"
   ]
  },
  {
   "cell_type": "code",
   "execution_count": 17,
   "id": "spare-infection",
   "metadata": {},
   "outputs": [
    {
     "name": "stdout",
     "output_type": "stream",
     "text": [
      "WARNING:tensorflow:No training configuration found in the save file, so the model was *not* compiled. Compile it manually.\n",
      "WARNING:tensorflow:No training configuration found in the save file, so the model was *not* compiled. Compile it manually.\n"
     ]
    }
   ],
   "source": [
    "seq2seq = Seq2Seq(token_mapping, \n",
    "         pad_token=token_mapping[pad_token],\n",
    "         end_token=token_mapping[end_token],\n",
    "         start_token=token_mapping[start_token],\n",
    "         max_len=max_len_tokens,\n",
    "         embeddings=final_embeddings,\n",
    "         embedding_prefix=mode,\n",
    "         missing_tokens=np.array(missing_idx).astype(np.int32),\n",
    "                  dropout_prob=0.2,\n",
    "                  path_decoder='decoder_all_data_opensubs.h5',\n",
    "                  path_encoder='encoder_all_data_opensubs.h5'\n",
    "        )"
   ]
  },
  {
   "cell_type": "markdown",
   "id": "specific-slovak",
   "metadata": {},
   "source": [
    "# Training a model "
   ]
  },
  {
   "cell_type": "code",
   "execution_count": 33,
   "id": "weird-arlington",
   "metadata": {},
   "outputs": [],
   "source": [
    "train_data = tf.data.Dataset.from_tensor_slices((X_train_enc, X_train_dec, y_train, len_train))\n",
    "if not all_train:\n",
    "    val_data = tf.data.Dataset.from_tensor_slices((X_test_enc, X_test_dec, y_test, len_test))\n",
    "else:\n",
    "    val_data = None"
   ]
  },
  {
   "cell_type": "code",
   "execution_count": 34,
   "id": "chemical-companion",
   "metadata": {},
   "outputs": [],
   "source": [
    "batch_size = 256\n",
    "num_epochs = 68\n",
    "epochs_patience = 10"
   ]
  },
  {
   "cell_type": "code",
   "execution_count": 35,
   "id": "actual-activity",
   "metadata": {},
   "outputs": [
    {
     "name": "stdout",
     "output_type": "stream",
     "text": [
      "Dir models already exists\n"
     ]
    },
    {
     "name": "stderr",
     "output_type": "stream",
     "text": [
      "  0%|          | 0/68 [00:30<?, ?it/s]\n"
     ]
    },
    {
     "ename": "KeyboardInterrupt",
     "evalue": "",
     "output_type": "error",
     "traceback": [
      "\u001b[0;31m---------------------------------------------------------------------------\u001b[0m",
      "\u001b[0;31mKeyboardInterrupt\u001b[0m                         Traceback (most recent call last)",
      "\u001b[0;32m<ipython-input-35-236bce5a412d>\u001b[0m in \u001b[0;36m<module>\u001b[0;34m\u001b[0m\n\u001b[1;32m      5\u001b[0m             \u001b[0mnum_epochs\u001b[0m\u001b[0;34m=\u001b[0m\u001b[0mnum_epochs\u001b[0m\u001b[0;34m,\u001b[0m\u001b[0;34m\u001b[0m\u001b[0;34m\u001b[0m\u001b[0m\n\u001b[1;32m      6\u001b[0m             \u001b[0mepochs_patience\u001b[0m\u001b[0;34m=\u001b[0m\u001b[0mepochs_patience\u001b[0m\u001b[0;34m,\u001b[0m\u001b[0;34m\u001b[0m\u001b[0;34m\u001b[0m\u001b[0m\n\u001b[0;32m----> 7\u001b[0;31m             experiment_name='opensubs')\n\u001b[0m",
      "\u001b[0;32m/home/volodymyr/conversational_bot/model/seq2seq.py\u001b[0m in \u001b[0;36mfit\u001b[0;34m(self, train_dataset, validation_dataset, learning_rate, num_epochs, batch_size, steps_per_epoch, epochs_patience, dir_save, experiment_name)\u001b[0m\n\u001b[1;32m    189\u001b[0m                                                                    \u001b[0mnp\u001b[0m\u001b[0;34m.\u001b[0m\u001b[0marray\u001b[0m\u001b[0;34m(\u001b[0m\u001b[0mbatched_y\u001b[0m\u001b[0;34m)\u001b[0m\u001b[0;34m,\u001b[0m\u001b[0;34m\u001b[0m\u001b[0;34m\u001b[0m\u001b[0m\n\u001b[1;32m    190\u001b[0m                                                                    \u001b[0mnp\u001b[0m\u001b[0;34m.\u001b[0m\u001b[0marray\u001b[0m\u001b[0;34m(\u001b[0m\u001b[0mbatched_length\u001b[0m\u001b[0;34m)\u001b[0m\u001b[0;34m,\u001b[0m\u001b[0;34m\u001b[0m\u001b[0;34m\u001b[0m\u001b[0m\n\u001b[0;32m--> 191\u001b[0;31m                                                                    optimizer)\n\u001b[0m\u001b[1;32m    192\u001b[0m                     \u001b[0mtotal_train_loss\u001b[0m\u001b[0;34m.\u001b[0m\u001b[0mappend\u001b[0m\u001b[0;34m(\u001b[0m\u001b[0mbatch_loss\u001b[0m\u001b[0;34m)\u001b[0m\u001b[0;34m\u001b[0m\u001b[0;34m\u001b[0m\u001b[0m\n\u001b[1;32m    193\u001b[0m                     \u001b[0mtotal_train_perplexity\u001b[0m\u001b[0;34m.\u001b[0m\u001b[0mappend\u001b[0m\u001b[0;34m(\u001b[0m\u001b[0mbatch_perplexity\u001b[0m\u001b[0;34m)\u001b[0m\u001b[0;34m\u001b[0m\u001b[0;34m\u001b[0m\u001b[0m\n",
      "\u001b[0;32m/home/volodymyr/envs/convbot_env/lib/python3.7/site-packages/tensorflow/python/eager/def_function.py\u001b[0m in \u001b[0;36m__call__\u001b[0;34m(self, *args, **kwds)\u001b[0m\n\u001b[1;32m    578\u001b[0m         \u001b[0mxla_context\u001b[0m\u001b[0;34m.\u001b[0m\u001b[0mExit\u001b[0m\u001b[0;34m(\u001b[0m\u001b[0;34m)\u001b[0m\u001b[0;34m\u001b[0m\u001b[0;34m\u001b[0m\u001b[0m\n\u001b[1;32m    579\u001b[0m     \u001b[0;32melse\u001b[0m\u001b[0;34m:\u001b[0m\u001b[0;34m\u001b[0m\u001b[0;34m\u001b[0m\u001b[0m\n\u001b[0;32m--> 580\u001b[0;31m       \u001b[0mresult\u001b[0m \u001b[0;34m=\u001b[0m \u001b[0mself\u001b[0m\u001b[0;34m.\u001b[0m\u001b[0m_call\u001b[0m\u001b[0;34m(\u001b[0m\u001b[0;34m*\u001b[0m\u001b[0margs\u001b[0m\u001b[0;34m,\u001b[0m \u001b[0;34m**\u001b[0m\u001b[0mkwds\u001b[0m\u001b[0;34m)\u001b[0m\u001b[0;34m\u001b[0m\u001b[0;34m\u001b[0m\u001b[0m\n\u001b[0m\u001b[1;32m    581\u001b[0m \u001b[0;34m\u001b[0m\u001b[0m\n\u001b[1;32m    582\u001b[0m     \u001b[0;32mif\u001b[0m \u001b[0mtracing_count\u001b[0m \u001b[0;34m==\u001b[0m \u001b[0mself\u001b[0m\u001b[0;34m.\u001b[0m\u001b[0m_get_tracing_count\u001b[0m\u001b[0;34m(\u001b[0m\u001b[0;34m)\u001b[0m\u001b[0;34m:\u001b[0m\u001b[0;34m\u001b[0m\u001b[0;34m\u001b[0m\u001b[0m\n",
      "\u001b[0;32m/home/volodymyr/envs/convbot_env/lib/python3.7/site-packages/tensorflow/python/eager/def_function.py\u001b[0m in \u001b[0;36m_call\u001b[0;34m(self, *args, **kwds)\u001b[0m\n\u001b[1;32m    609\u001b[0m       \u001b[0;31m# In this case we have created variables on the first call, so we run the\u001b[0m\u001b[0;34m\u001b[0m\u001b[0;34m\u001b[0m\u001b[0;34m\u001b[0m\u001b[0m\n\u001b[1;32m    610\u001b[0m       \u001b[0;31m# defunned version which is guaranteed to never create variables.\u001b[0m\u001b[0;34m\u001b[0m\u001b[0;34m\u001b[0m\u001b[0;34m\u001b[0m\u001b[0m\n\u001b[0;32m--> 611\u001b[0;31m       \u001b[0;32mreturn\u001b[0m \u001b[0mself\u001b[0m\u001b[0;34m.\u001b[0m\u001b[0m_stateless_fn\u001b[0m\u001b[0;34m(\u001b[0m\u001b[0;34m*\u001b[0m\u001b[0margs\u001b[0m\u001b[0;34m,\u001b[0m \u001b[0;34m**\u001b[0m\u001b[0mkwds\u001b[0m\u001b[0;34m)\u001b[0m  \u001b[0;31m# pylint: disable=not-callable\u001b[0m\u001b[0;34m\u001b[0m\u001b[0;34m\u001b[0m\u001b[0m\n\u001b[0m\u001b[1;32m    612\u001b[0m     \u001b[0;32melif\u001b[0m \u001b[0mself\u001b[0m\u001b[0;34m.\u001b[0m\u001b[0m_stateful_fn\u001b[0m \u001b[0;32mis\u001b[0m \u001b[0;32mnot\u001b[0m \u001b[0;32mNone\u001b[0m\u001b[0;34m:\u001b[0m\u001b[0;34m\u001b[0m\u001b[0;34m\u001b[0m\u001b[0m\n\u001b[1;32m    613\u001b[0m       \u001b[0;31m# Release the lock early so that multiple threads can perform the call\u001b[0m\u001b[0;34m\u001b[0m\u001b[0;34m\u001b[0m\u001b[0;34m\u001b[0m\u001b[0m\n",
      "\u001b[0;32m/home/volodymyr/envs/convbot_env/lib/python3.7/site-packages/tensorflow/python/eager/function.py\u001b[0m in \u001b[0;36m__call__\u001b[0;34m(self, *args, **kwargs)\u001b[0m\n\u001b[1;32m   2418\u001b[0m     \u001b[0;32mwith\u001b[0m \u001b[0mself\u001b[0m\u001b[0;34m.\u001b[0m\u001b[0m_lock\u001b[0m\u001b[0;34m:\u001b[0m\u001b[0;34m\u001b[0m\u001b[0;34m\u001b[0m\u001b[0m\n\u001b[1;32m   2419\u001b[0m       \u001b[0mgraph_function\u001b[0m\u001b[0;34m,\u001b[0m \u001b[0margs\u001b[0m\u001b[0;34m,\u001b[0m \u001b[0mkwargs\u001b[0m \u001b[0;34m=\u001b[0m \u001b[0mself\u001b[0m\u001b[0;34m.\u001b[0m\u001b[0m_maybe_define_function\u001b[0m\u001b[0;34m(\u001b[0m\u001b[0margs\u001b[0m\u001b[0;34m,\u001b[0m \u001b[0mkwargs\u001b[0m\u001b[0;34m)\u001b[0m\u001b[0;34m\u001b[0m\u001b[0;34m\u001b[0m\u001b[0m\n\u001b[0;32m-> 2420\u001b[0;31m     \u001b[0;32mreturn\u001b[0m \u001b[0mgraph_function\u001b[0m\u001b[0;34m.\u001b[0m\u001b[0m_filtered_call\u001b[0m\u001b[0;34m(\u001b[0m\u001b[0margs\u001b[0m\u001b[0;34m,\u001b[0m \u001b[0mkwargs\u001b[0m\u001b[0;34m)\u001b[0m  \u001b[0;31m# pylint: disable=protected-access\u001b[0m\u001b[0;34m\u001b[0m\u001b[0;34m\u001b[0m\u001b[0m\n\u001b[0m\u001b[1;32m   2421\u001b[0m \u001b[0;34m\u001b[0m\u001b[0m\n\u001b[1;32m   2422\u001b[0m   \u001b[0;34m@\u001b[0m\u001b[0mproperty\u001b[0m\u001b[0;34m\u001b[0m\u001b[0;34m\u001b[0m\u001b[0m\n",
      "\u001b[0;32m/home/volodymyr/envs/convbot_env/lib/python3.7/site-packages/tensorflow/python/eager/function.py\u001b[0m in \u001b[0;36m_filtered_call\u001b[0;34m(self, args, kwargs)\u001b[0m\n\u001b[1;32m   1663\u001b[0m          if isinstance(t, (ops.Tensor,\n\u001b[1;32m   1664\u001b[0m                            resource_variable_ops.BaseResourceVariable))),\n\u001b[0;32m-> 1665\u001b[0;31m         self.captured_inputs)\n\u001b[0m\u001b[1;32m   1666\u001b[0m \u001b[0;34m\u001b[0m\u001b[0m\n\u001b[1;32m   1667\u001b[0m   \u001b[0;32mdef\u001b[0m \u001b[0m_call_flat\u001b[0m\u001b[0;34m(\u001b[0m\u001b[0mself\u001b[0m\u001b[0;34m,\u001b[0m \u001b[0margs\u001b[0m\u001b[0;34m,\u001b[0m \u001b[0mcaptured_inputs\u001b[0m\u001b[0;34m,\u001b[0m \u001b[0mcancellation_manager\u001b[0m\u001b[0;34m=\u001b[0m\u001b[0;32mNone\u001b[0m\u001b[0;34m)\u001b[0m\u001b[0;34m:\u001b[0m\u001b[0;34m\u001b[0m\u001b[0;34m\u001b[0m\u001b[0m\n",
      "\u001b[0;32m/home/volodymyr/envs/convbot_env/lib/python3.7/site-packages/tensorflow/python/eager/function.py\u001b[0m in \u001b[0;36m_call_flat\u001b[0;34m(self, args, captured_inputs, cancellation_manager)\u001b[0m\n\u001b[1;32m   1744\u001b[0m       \u001b[0;31m# No tape is watching; skip to running the function.\u001b[0m\u001b[0;34m\u001b[0m\u001b[0;34m\u001b[0m\u001b[0;34m\u001b[0m\u001b[0m\n\u001b[1;32m   1745\u001b[0m       return self._build_call_outputs(self._inference_function.call(\n\u001b[0;32m-> 1746\u001b[0;31m           ctx, args, cancellation_manager=cancellation_manager))\n\u001b[0m\u001b[1;32m   1747\u001b[0m     forward_backward = self._select_forward_and_backward_functions(\n\u001b[1;32m   1748\u001b[0m         \u001b[0margs\u001b[0m\u001b[0;34m,\u001b[0m\u001b[0;34m\u001b[0m\u001b[0;34m\u001b[0m\u001b[0m\n",
      "\u001b[0;32m/home/volodymyr/envs/convbot_env/lib/python3.7/site-packages/tensorflow/python/eager/function.py\u001b[0m in \u001b[0;36mcall\u001b[0;34m(self, ctx, args, cancellation_manager)\u001b[0m\n\u001b[1;32m    596\u001b[0m               \u001b[0minputs\u001b[0m\u001b[0;34m=\u001b[0m\u001b[0margs\u001b[0m\u001b[0;34m,\u001b[0m\u001b[0;34m\u001b[0m\u001b[0;34m\u001b[0m\u001b[0m\n\u001b[1;32m    597\u001b[0m               \u001b[0mattrs\u001b[0m\u001b[0;34m=\u001b[0m\u001b[0mattrs\u001b[0m\u001b[0;34m,\u001b[0m\u001b[0;34m\u001b[0m\u001b[0;34m\u001b[0m\u001b[0m\n\u001b[0;32m--> 598\u001b[0;31m               ctx=ctx)\n\u001b[0m\u001b[1;32m    599\u001b[0m         \u001b[0;32melse\u001b[0m\u001b[0;34m:\u001b[0m\u001b[0;34m\u001b[0m\u001b[0;34m\u001b[0m\u001b[0m\n\u001b[1;32m    600\u001b[0m           outputs = execute.execute_with_cancellation(\n",
      "\u001b[0;32m/home/volodymyr/envs/convbot_env/lib/python3.7/site-packages/tensorflow/python/eager/execute.py\u001b[0m in \u001b[0;36mquick_execute\u001b[0;34m(op_name, num_outputs, inputs, attrs, ctx, name)\u001b[0m\n\u001b[1;32m     58\u001b[0m     \u001b[0mctx\u001b[0m\u001b[0;34m.\u001b[0m\u001b[0mensure_initialized\u001b[0m\u001b[0;34m(\u001b[0m\u001b[0;34m)\u001b[0m\u001b[0;34m\u001b[0m\u001b[0;34m\u001b[0m\u001b[0m\n\u001b[1;32m     59\u001b[0m     tensors = pywrap_tfe.TFE_Py_Execute(ctx._handle, device_name, op_name,\n\u001b[0;32m---> 60\u001b[0;31m                                         inputs, attrs, num_outputs)\n\u001b[0m\u001b[1;32m     61\u001b[0m   \u001b[0;32mexcept\u001b[0m \u001b[0mcore\u001b[0m\u001b[0;34m.\u001b[0m\u001b[0m_NotOkStatusException\u001b[0m \u001b[0;32mas\u001b[0m \u001b[0me\u001b[0m\u001b[0;34m:\u001b[0m\u001b[0;34m\u001b[0m\u001b[0;34m\u001b[0m\u001b[0m\n\u001b[1;32m     62\u001b[0m     \u001b[0;32mif\u001b[0m \u001b[0mname\u001b[0m \u001b[0;32mis\u001b[0m \u001b[0;32mnot\u001b[0m \u001b[0;32mNone\u001b[0m\u001b[0;34m:\u001b[0m\u001b[0;34m\u001b[0m\u001b[0;34m\u001b[0m\u001b[0m\n",
      "\u001b[0;31mKeyboardInterrupt\u001b[0m: "
     ]
    }
   ],
   "source": [
    "seq2seq.fit(train_data,\n",
    "            validation_dataset=val_data,\n",
    "            steps_per_epoch=X_train_enc.shape[0]//batch_size,\n",
    "            batch_size=batch_size,\n",
    "            num_epochs=num_epochs,\n",
    "            epochs_patience=epochs_patience,\n",
    "            experiment_name='opensubs')"
   ]
  },
  {
   "cell_type": "code",
   "execution_count": null,
   "id": "german-customer",
   "metadata": {},
   "outputs": [],
   "source": [
    "seq2seq.save_models(decoder_path='decoder_all_data_opensubs.h5',\n",
    "                   encoder_path='encoder_all_data_opensubs.h5')"
   ]
  },
  {
   "cell_type": "markdown",
   "id": "agreed-proportion",
   "metadata": {},
   "source": [
    "# Testing predictions and other helpful stuff"
   ]
  },
  {
   "cell_type": "code",
   "execution_count": 20,
   "id": "accredited-satellite",
   "metadata": {},
   "outputs": [],
   "source": [
    "import sys\n",
    "sys.path.insert(0, '../')\n",
    "from utils.model_utils import plot_attention"
   ]
  },
  {
   "cell_type": "code",
   "execution_count": 18,
   "id": "inner-quarter",
   "metadata": {},
   "outputs": [],
   "source": [
    "def process(x, unk_token):\n",
    "  res = []\n",
    "  for i in x.split(' '):\n",
    "    if token_mapping.get(i):\n",
    "      res.append(i)\n",
    "    elif token_mapping.get(i.lower()):\n",
    "      res.append(i.lower())\n",
    "    else:\n",
    "      res.append(unk_token)\n",
    "  return res"
   ]
  },
  {
   "cell_type": "code",
   "execution_count": 19,
   "id": "fitting-actress",
   "metadata": {},
   "outputs": [],
   "source": [
    "def give_answer(decoder, sentence, inverse_token_mapping, pad_unk=True, process_sentence=True, len_output=50,\n",
    "               beam_size=3,\n",
    "              top_p=0.95,\n",
    "               beam_search=False,\n",
    "               nucleus_sampling = False,\n",
    "               show_attention=False):\n",
    "      if process_sentence:\n",
    "        cleaned_sentence = uncover_reduction(clean_bad_chars(sentence))\n",
    "        unk_token = pad_token if pad_unk else \"<unk>\"\n",
    "        processed_sentence = process(cleaned_sentence, unk_token)\n",
    "        mapped_sentence = map_to_ids(processed_sentence, token_mapping, end_token, padding_token=pad_token, max_len=max_len_tokens)\n",
    "      else:\n",
    "        mapped_sentence = sentence\n",
    "      if beam_search:\n",
    "        prediction = decoder.decode(mapped_sentence, beam_size)\n",
    "      elif nucleus_sampling:\n",
    "        prediction = decoder.decode(mapped_sentence, len_output, top_p)\n",
    "      else:\n",
    "          prediction = decoder.decode(mapped_sentence, len_output, show_attention)\n",
    "      if show_attention and not beam_search:\n",
    "        prediction, attention = prediction\n",
    "      answer = \" \".join([inverse_token_mapping.get(i) for i in prediction]).capitalize()\n",
    "      if show_attention and not beam_search:\n",
    "            plot_attention(attention,sentence.split(' '), answer.split(' '))\n",
    "      return answer"
   ]
  },
  {
   "cell_type": "code",
   "execution_count": 21,
   "id": "opponent-conservative",
   "metadata": {},
   "outputs": [],
   "source": [
    "greedy_decoder = GreedyDecoder(decoder=seq2seq.decoder,\n",
    "             encoder=seq2seq.encoder,\n",
    "             max_len=max_len_tokens,\n",
    "             start_token=token_mapping[start_token],\n",
    "             end_token=token_mapping[end_token])"
   ]
  },
  {
   "cell_type": "code",
   "execution_count": 23,
   "id": "desirable-pierce",
   "metadata": {},
   "outputs": [
    {
     "data": {
      "image/png": "[encoded data removed]",
      "text/plain": [
       "<Figure size 720x720 with 1 Axes>"
      ]
     },
     "metadata": {},
     "output_type": "display_data"
    },
    {
     "data": {
      "text/plain": [
       "'I am sorry .'"
      ]
     },
     "execution_count": 23,
     "metadata": {},
     "output_type": "execute_result"
    }
   ],
   "source": [
    "give_answer(greedy_decoder, 'hi', inverse_token_mapping, show_attention=True)"
   ]
  },
  {
   "cell_type": "code",
   "execution_count": 24,
   "id": "induced-tactics",
   "metadata": {},
   "outputs": [],
   "source": [
    "beam_search_decoder = BeamSearchDecoder(decoder=seq2seq.decoder, \n",
    "                 encoder=seq2seq.encoder,\n",
    "                 max_len=max_len_tokens,\n",
    "                 start_token=token_mapping[start_token],\n",
    "                 end_token=token_mapping[end_token])"
   ]
  },
  {
   "cell_type": "code",
   "execution_count": 25,
   "id": "split-married",
   "metadata": {},
   "outputs": [
    {
     "data": {
      "text/plain": [
       "'I am sorry .'"
      ]
     },
     "execution_count": 25,
     "metadata": {},
     "output_type": "execute_result"
    }
   ],
   "source": [
    "give_answer(beam_search_decoder, 'hi ', inverse_token_mapping, show_attention=False,\n",
    "           beam_search=True)"
   ]
  },
  {
   "cell_type": "code",
   "execution_count": 26,
   "id": "ethical-static",
   "metadata": {},
   "outputs": [],
   "source": [
    "nucleus_decoder = NucleusDecoder(decoder=seq2seq.decoder, \n",
    "                 encoder=seq2seq.encoder,\n",
    "                 max_len=max_len_tokens,\n",
    "                 start_token=token_mapping[start_token],\n",
    "                 end_token=token_mapping[end_token])"
   ]
  },
  {
   "cell_type": "code",
   "execution_count": 27,
   "id": "blocked-membership",
   "metadata": {},
   "outputs": [
    {
     "data": {
      "text/plain": [
       "'So long up ?'"
      ]
     },
     "execution_count": 27,
     "metadata": {},
     "output_type": "execute_result"
    }
   ],
   "source": [
    "give_answer(nucleus_decoder, 'hi', inverse_token_mapping, nucleus_sampling=True, top_p=0.75)"
   ]
  },
  {
   "cell_type": "code",
   "execution_count": 28,
   "id": "brazilian-south",
   "metadata": {},
   "outputs": [
    {
     "data": {
      "image/png": "[encoded data removed]",
      "text/plain": [
       "<Figure size 720x720 with 1 Axes>"
      ]
     },
     "metadata": {},
     "output_type": "display_data"
    },
    {
     "name": "stdout",
     "output_type": "stream",
     "text": [
      "------------------------------\n",
      "Test replica : hey you!\n",
      "Bot greedy answer : I am sorry .\n",
      "Bot beam search answer : Hey !\n",
      "Bot nucleus answr : It\n",
      "------------------------------\n"
     ]
    },
    {
     "data": {
      "image/png": "[encoded data removed]",
      "text/plain": [
       "<Figure size 720x720 with 1 Axes>"
      ]
     },
     "metadata": {},
     "output_type": "display_data"
    },
    {
     "name": "stdout",
     "output_type": "stream",
     "text": [
      "------------------------------\n",
      "Test replica : hello\n",
      "Bot greedy answer : I am sorry\n",
      "Bot beam search answer : Hello hello hello .\n",
      "Bot nucleus answr : Iil buy you something up i need the city\n",
      "------------------------------\n"
     ]
    },
    {
     "data": {
      "image/png": "[encoded data removed]",
      "text/plain": [
       "<Figure size 720x720 with 1 Axes>"
      ]
     },
     "metadata": {},
     "output_type": "display_data"
    },
    {
     "name": "stdout",
     "output_type": "stream",
     "text": [
      "------------------------------\n",
      "Test replica : hi\n",
      "Bot greedy answer : I am sorry .\n",
      "Bot beam search answer : I am sorry .\n",
      "Bot nucleus answr : Ah hey jack hi\n",
      "------------------------------\n"
     ]
    },
    {
     "data": {
      "image/png": "[encoded data removed]",
      "text/plain": [
       "<Figure size 720x720 with 1 Axes>"
      ]
     },
     "metadata": {},
     "output_type": "display_data"
    },
    {
     "name": "stdout",
     "output_type": "stream",
     "text": [
      "------------------------------\n",
      "Test replica : how are you?\n",
      "Bot greedy answer : I am sorry .\n",
      "Bot beam search answer : Good . good .\n",
      "Bot nucleus answr : If this can hurt i was something something i\n",
      "------------------------------\n"
     ]
    },
    {
     "data": {
      "image/png": "[encoded data removed]",
      "text/plain": [
       "<Figure size 720x720 with 1 Axes>"
      ]
     },
     "metadata": {},
     "output_type": "display_data"
    },
    {
     "name": "stdout",
     "output_type": "stream",
     "text": [
      "------------------------------\n",
      "Test replica : have you ever been to USA?\n",
      "Bot greedy answer : I am not gonna do it .\n",
      "Bot beam search answer : Yeah .\n",
      "Bot nucleus answr : How is your mind . i was interested at\n",
      "------------------------------\n"
     ]
    },
    {
     "data": {
      "image/png": "[encoded data removed]",
      "text/plain": [
       "<Figure size 720x720 with 1 Axes>"
      ]
     },
     "metadata": {},
     "output_type": "display_data"
    },
    {
     "name": "stdout",
     "output_type": "stream",
     "text": [
      "------------------------------\n",
      "Test replica : where are you from?\n",
      "Bot greedy answer : I am a friend of the <unk> .\n",
      "Bot beam search answer : Where are you going ?\n",
      "Bot nucleus answr : Ok ? my fire .\n",
      "------------------------------\n"
     ]
    },
    {
     "data": {
      "image/png": "[encoded data removed]",
      "text/plain": [
       "<Figure size 720x720 with 1 Axes>"
      ]
     },
     "metadata": {},
     "output_type": "display_data"
    },
    {
     "name": "stdout",
     "output_type": "stream",
     "text": [
      "------------------------------\n",
      "Test replica : what do you think about marriage?\n",
      "Bot greedy answer : I do not know .\n",
      "Bot beam search answer : I do not know .\n",
      "Bot nucleus answr : An ignorant american we could bring this book for\n",
      "------------------------------\n"
     ]
    },
    {
     "data": {
      "image/png": "[encoded data removed]",
      "text/plain": [
       "<Figure size 720x720 with 1 Axes>"
      ]
     },
     "metadata": {},
     "output_type": "display_data"
    },
    {
     "name": "stdout",
     "output_type": "stream",
     "text": [
      "------------------------------\n",
      "Test replica : I need your help\n",
      "Bot greedy answer : I want to help you\n",
      "Bot beam search answer : I want to help you\n",
      "Bot nucleus answr : I want to stop in or it will be\n",
      "------------------------------\n"
     ]
    },
    {
     "data": {
      "image/png": "[encoded data removed]",
      "text/plain": [
       "<Figure size 720x720 with 1 Axes>"
      ]
     },
     "metadata": {},
     "output_type": "display_data"
    },
    {
     "name": "stdout",
     "output_type": "stream",
     "text": [
      "------------------------------\n",
      "Test replica : Where do you recommend me to go?\n",
      "Bot greedy answer : I do not know .\n",
      "Bot beam search answer : I do not know what you are talking about\n",
      "Bot nucleus answr : Come on me look like <unk> it !\n",
      "------------------------------\n"
     ]
    },
    {
     "data": {
      "image/png": "[encoded data removed]",
      "text/plain": [
       "<Figure size 720x720 with 1 Axes>"
      ]
     },
     "metadata": {},
     "output_type": "display_data"
    },
    {
     "name": "stdout",
     "output_type": "stream",
     "text": [
      "------------------------------\n",
      "Test replica : you are under arrest!\n",
      "Bot greedy answer : I am not going to do anything .\n",
      "Bot beam search answer : You are the only way to get out of\n",
      "Bot nucleus answr : Will i tell you a fool !\n",
      "------------------------------\n"
     ]
    },
    {
     "data": {
      "image/png": "[encoded data removed]",
      "text/plain": [
       "<Figure size 720x720 with 1 Axes>"
      ]
     },
     "metadata": {},
     "output_type": "display_data"
    },
    {
     "name": "stdout",
     "output_type": "stream",
     "text": [
      "------------------------------\n",
      "Test replica : want to fuck me?\n",
      "Bot greedy answer : I am not gonna let you go .\n",
      "Bot beam search answer : I do not know what you are talking about\n",
      "Bot nucleus answr : Ask the part . come on here you really\n",
      "------------------------------\n"
     ]
    },
    {
     "data": {
      "image/png": "[encoded data removed]",
      "text/plain": [
       "<Figure size 720x720 with 1 Axes>"
      ]
     },
     "metadata": {},
     "output_type": "display_data"
    },
    {
     "name": "stdout",
     "output_type": "stream",
     "text": [
      "------------------------------\n",
      "Test replica : see you\n",
      "Bot greedy answer : You are a little bit of a baby .\n",
      "Bot beam search answer : You are a little bit of me .\n",
      "Bot nucleus answr : Come back in order me come here you maggots\n",
      "------------------------------\n"
     ]
    },
    {
     "data": {
      "image/png": "[encoded data removed]",
      "text/plain": [
       "<Figure size 720x720 with 1 Axes>"
      ]
     },
     "metadata": {},
     "output_type": "display_data"
    },
    {
     "name": "stdout",
     "output_type": "stream",
     "text": [
      "------------------------------\n",
      "Test replica : you are shit\n",
      "Bot greedy answer : I am not gonna kill you\n",
      "Bot beam search answer : I do not know what you are talking about\n",
      "Bot nucleus answr : Bitch was in some adolescent process about me i\n",
      "------------------------------\n"
     ]
    }
   ],
   "source": [
    "replicas = ['hey you!',\n",
    "            'hello',\n",
    "            'hi',\n",
    "            'how are you?',\n",
    "            'have you ever been to USA?',\n",
    "            'where are you from?',\n",
    "            'what do you think about marriage?',\n",
    "             'I need your help',\n",
    "           'Where do you recommend me to go?',\n",
    "           'you are under arrest!',\n",
    "           'want to fuck me?',\n",
    "           'see you',\n",
    "           'you are shit']\n",
    "for i in replicas:\n",
    "    greedy_answer = give_answer(greedy_decoder, i, inverse_token_mapping, show_attention=True)\n",
    "    beam_search_answer = give_answer(beam_search_decoder, i, inverse_token_mapping,\n",
    "           beam_search=True,\n",
    "           beam_size=3)\n",
    "    nucleus_answer = give_answer(nucleus_decoder, i, inverse_token_mapping, \n",
    "                                 nucleus_sampling=True, \n",
    "                                 top_p=0.75)\n",
    "    print(30*'-')\n",
    "    print('Test replica : {}'.format(i))\n",
    "    print('Bot greedy answer : {}'.format(greedy_answer))\n",
    "    print('Bot beam search answer : {}'.format(beam_search_answer))\n",
    "    print('Bot nucleus answr : {}'.format(nucleus_answer))\n",
    "    print(30*'-')\n"
   ]
  },
  {
   "cell_type": "markdown",
   "id": "mighty-freeze",
   "metadata": {},
   "source": [
    "# Gabberish dialogue"
   ]
  },
  {
   "cell_type": "code",
   "execution_count": 29,
   "id": "signed-patrick",
   "metadata": {},
   "outputs": [
    {
     "name": "stdout",
     "output_type": "stream",
     "text": [
      "hi\n",
      "\n",
      "--- Yuri in particular division consortium within after sunrise 0\n",
      "\n",
      "--- Il il arrest right proceed may th germany mr.\n",
      "\n",
      "--- Senator throws she goes below captain wilkins building :\n",
      "\n",
      "--- Engines checked motor day amongst teeth ! faster out\n",
      "\n",
      "--- Safe those worry calm get tight rotor loaded behind\n",
      "\n",
      "--- Pulse show ya cash holes supply plans on ammo\n",
      "\n",
      "--- Admlral po muscle public market transfer records is entirely\n",
      "\n",
      "--- Twelve st. distribution his sir doctor louise . power\n",
      "\n",
      "--- Star navy call chief supports or pedro hunt loose\n",
      "\n",
      "--- Enigma coursing close balls check colonel supplies two minor\n",
      "\n",
      "--- Priorities fucking illegal market forward for main magic mountain\n",
      "\n",
      "--- Row feel hat silent inside put new wardrobe or\n",
      "\n",
      "--- Bravo on four separate full all week pain speed\n",
      "\n",
      "--- Shirts room squadron then aragorn dinner tickets if ruben\n",
      "\n",
      "--- Pittsburgh through massive movie ultrasonics ( marks ready we\n",
      "\n",
      "--- Virus saruman mr. senator costa down another plate time\n",
      "\n",
      "--- Presently wait go clean there ? stay only snake\n",
      "\n",
      "--- Lax city already dressed half today after dark boy\n",
      "\n",
      "--- Motherfucker dog has personally without pulling before stephen showed\n",
      "\n",
      "--- High russian get blamed up this latter yeah shit\n",
      "\n",
      "--- Judge sucked six building civilians flyer five that theyil\n",
      "\n",
      "--- Mimura dr. backingme blows agent ho heil stay fly\n",
      "\n",
      "--- Ted stan carmen has playing matches last mechanism weather\n",
      "\n",
      "--- Saw half iam however sunlight today that cut ers\n",
      "\n",
      "--- Explosion overdose drove . em blackout separate through underneath\n",
      "\n",
      "--- Eddie landing fragment predictions completely means early 0 per\n",
      "\n",
      "--- Defensive student custody morphine i succeeded burned china downtown\n",
      "\n",
      "--- For arms wide wicked 2 million prison figured myself\n",
      "\n",
      "--- Mostly incinerated easily weigh guns rebels food come show\n",
      "\n",
      "--- Nsa history penetration attempted picked on socially paint i\n",
      "\n",
      "--- Direct massing tomorrow out where deaf open lit bones\n",
      "\n",
      "--- Sunday declaration about 9 4 million fly switch jack\n",
      "\n",
      "--- Together 3 you cowboys gasping to provide schumann ha\n",
      "\n",
      "--- Forever weil whatever out all anxiety track animal\n",
      "\n",
      "--- Alpha plasma making such history negotiations against palestine soon\n",
      "\n",
      "--- Arrange security international actual reinforcements for anaesthesia sweep at\n",
      "\n",
      "--- Hawaii anyway or fall momentarily take revolt central hemisphere\n",
      "\n",
      "--- Storm from walls horns code scan rice containment out\n",
      "\n",
      "--- Bye change ahi in lunch box after boys all\n",
      "\n",
      "--- Nice freaking diaper freddy boy pretty deep turned well\n",
      "\n",
      "--- Larry died singing but admit he has disappeared exposed\n",
      "\n",
      "--- Cutting steel crime receptor secret stuff at most continental\n",
      "\n",
      "--- Mosquitoes thanks account tonight mains ins forgotten somewhere long\n",
      "\n",
      "--- Bloods bound provided energy use candles two perhaps jolt\n",
      "\n",
      "--- Enormous mushrooms brand fighting burning charts double never causing\n",
      "\n",
      "--- Human alexanders nuclear whatever approaches nothing valuable problems .\n",
      "\n",
      "--- Morpheus looks sick persuasive wolf says boss eye cock\n",
      "\n",
      "--- Do you sir and everything stays just kicks how\n",
      "\n",
      "--- Animals doing females questions how were old accidents site\n",
      "\n",
      "--- Oh could become simply adjust angels taking sold huh\n",
      "\n",
      "--- Bigger cooler than howard does badly delusional escape notice\n",
      "\n",
      "--- Contains 5 4 week trying known mr. vernon torvalds\n",
      "\n",
      "--- Ornithologist hiding narcotics : bond quicker death today when\n",
      "\n",
      "--- Tennis carthage status ceremony panel day surprise him sir\n",
      "\n",
      "--- Drunkards as fat gets frozen snow enough ring how\n",
      "\n",
      "--- Throwing every every paper plays golf wizard tells as\n",
      "\n",
      "--- Welcome seeing count right 8 men advise within inbound\n",
      "\n",
      "--- Consorting situations agree well very severe monsieur had brandy\n",
      "\n",
      "--- Construction happens words . got probable ours made bread\n",
      "\n",
      "--- Seemed every guardians passed took passed safely spring travel\n",
      "\n",
      "--- Talon remember shooting committees use farm source return wed\n",
      "\n",
      "--- Beach shots weak only yellow footage exactly fighter corps\n",
      "\n",
      "--- Snakeheads mountains showed us s busted next turn back\n",
      "\n",
      "--- Sighs hello gordon then zion contacts hearts so food\n",
      "\n",
      "--- Murder class consists here and right clean today storm\n",
      "\n",
      "--- Alvin made feathers charlie actually everyones bringing with george\n",
      "\n",
      "--- Mas comin old to mind aii everyone bump town\n",
      "\n",
      "--- Rodney johnson jessica jerry y the lamp acting before\n",
      "\n",
      "--- Stay sir english laundry in loneliness . but get\n",
      "\n",
      "--- Indistinct over she odd dare without ghosts about <unk>\n",
      "\n",
      "--- Alright heh she plays pretty ice when\n",
      "\n",
      "--- Bell book then bringing as lucky as light instead\n",
      "\n",
      "--- Sydney 2 weeks probably cover closed about finance martial\n",
      "\n",
      "--- Long advance already stole thirty generations b cards 1\n",
      "\n",
      "--- Partially cruel grand team leader star faces too humid\n",
      "\n",
      "--- Carl which fancies life experimentation operation building death l\n",
      "\n",
      "--- Dredd frau will direct crassus nature lies\n",
      "\n",
      "--- Wmds coming north with armor soul immediately without jay\n",
      "\n",
      "--- Soldiers ladies respect away are provided those sarah team\n",
      "\n",
      "--- Medium ero cars merchants hide does between airborne characters\n",
      "\n",
      "--- Truck machinery grunting <unk> top cell dead face middle\n",
      "\n",
      "--- Terminal bleating mental droid temple hall the network you\n",
      "\n",
      "--- Student coordinates klmmel leads 4 under position against being\n",
      "\n",
      "--- Multiple aware financed determined input influenced broadcast before their\n",
      "\n",
      "--- Municipality boards green human have ? slow quality object\n",
      "\n",
      "--- Strange guys one demon saint franklin down four loads\n",
      "\n",
      "--- Covers belongs nothing while any reading earth ii out\n",
      "\n",
      "--- Far drugs knows itil between hundreds had obtained migrated\n",
      "\n",
      "--- Shell cloning triggered mechanical defeat tenderloin combinations release really\n",
      "\n",
      "--- Wherein well saves moves vampires dying was defending before\n",
      "\n",
      "--- Don sensei closed be appreciated not nothing where bob\n",
      "\n",
      "--- Little discourse ieft saved force did these corpse toga\n",
      "\n",
      "--- Allright eyes laughing wait did we interrupt or lucy\n",
      "\n",
      "--- Ies 2 oclock zero look got back easy mike\n",
      "\n",
      "--- Visual tons tons off brick hose it for chocolate\n",
      "\n",
      "--- Shirts here handling yourself vagina things heavy movies jobs\n",
      "\n",
      "--- Disinformation asking when . slow i touch those set\n",
      "\n",
      "--- Hmm i so dry it out what number fire\n",
      "\n",
      "--- Major space companies look blindness offering and step it\n",
      "\n",
      "--- Negative increase trees facilities western crate jumps down then\n"
     ]
    }
   ],
   "source": [
    "n_replicas = 100\n",
    "count = 0\n",
    "replica = str(input()).strip()\n",
    "while count<n_replicas:\n",
    "    replica = give_answer(nucleus_decoder, replica, inverse_token_mapping, \n",
    "                                 nucleus_sampling=True, \n",
    "                                 top_p=0.95)\n",
    "    print('\\n--- {}'.format(replica))\n",
    "    count+=1"
   ]
  },
  {
   "cell_type": "markdown",
   "id": "transsexual-destination",
   "metadata": {},
   "source": [
    "# Interactive usage"
   ]
  },
  {
   "cell_type": "code",
   "execution_count": 30,
   "id": "upset-corruption",
   "metadata": {},
   "outputs": [
    {
     "name": "stdout",
     "output_type": "stream",
     "text": [
      "hello\n",
      "------------------------------\n",
      "Replica : hello\n",
      "Beam answer : It is me .\n",
      "Greedy answer : I am sorry\n",
      "------------------------------\n",
      "why are ypu sorry?\n",
      "------------------------------\n",
      "Replica : why are ypu sorry?\n",
      "Beam answer : What are you doing here ?\n",
      "Greedy answer : I am not gonna do it .\n",
      "------------------------------\n",
      "why are you sorry?\n",
      "------------------------------\n",
      "Replica : why are you sorry?\n",
      "Beam answer : I do not know . it is okay .\n",
      "Greedy answer : I am not gonna do it .\n",
      "------------------------------\n",
      "how old are you?\n",
      "------------------------------\n",
      "Replica : how old are you?\n",
      "Beam answer : Seventeen .\n",
      "Greedy answer : I am a little bit .\n",
      "------------------------------\n",
      "what is your name?\n",
      "------------------------------\n",
      "Replica : what is your name?\n",
      "Beam answer : Lau .\n",
      "Greedy answer : I am sorry .\n",
      "------------------------------\n",
      "where are you from?\n",
      "------------------------------\n",
      "Replica : where are you from?\n",
      "Beam answer : Where are you ?\n",
      "Greedy answer : I am a friend of the <unk> .\n",
      "------------------------------\n",
      "good evening\n",
      "------------------------------\n",
      "Replica : good evening\n",
      "Beam answer : Good morning .\n",
      "Greedy answer : You are welcome .\n",
      "------------------------------\n",
      "good to see you\n",
      "------------------------------\n",
      "Replica : good to see you\n",
      "Beam answer : Thank you very much\n",
      "Greedy answer : You are welcome .\n",
      "------------------------------\n"
     ]
    },
    {
     "ename": "KeyboardInterrupt",
     "evalue": "Interrupted by user",
     "output_type": "error",
     "traceback": [
      "\u001b[0;31m---------------------------------------------------------------------------\u001b[0m",
      "\u001b[0;31mKeyboardInterrupt\u001b[0m                         Traceback (most recent call last)",
      "\u001b[0;32m<ipython-input-30-2c409b356802>\u001b[0m in \u001b[0;36m<module>\u001b[0;34m\u001b[0m\n\u001b[1;32m      1\u001b[0m \u001b[0minp\u001b[0m \u001b[0;34m=\u001b[0m \u001b[0;34m''\u001b[0m\u001b[0;34m\u001b[0m\u001b[0;34m\u001b[0m\u001b[0m\n\u001b[1;32m      2\u001b[0m \u001b[0;32mwhile\u001b[0m \u001b[0;32mTrue\u001b[0m\u001b[0;34m:\u001b[0m\u001b[0;34m\u001b[0m\u001b[0;34m\u001b[0m\u001b[0m\n\u001b[0;32m----> 3\u001b[0;31m     \u001b[0minp\u001b[0m \u001b[0;34m=\u001b[0m \u001b[0mstr\u001b[0m\u001b[0;34m(\u001b[0m\u001b[0minput\u001b[0m\u001b[0;34m(\u001b[0m\u001b[0;34m)\u001b[0m\u001b[0;34m)\u001b[0m\u001b[0;34m.\u001b[0m\u001b[0mstrip\u001b[0m\u001b[0;34m(\u001b[0m\u001b[0;34m)\u001b[0m\u001b[0;34m\u001b[0m\u001b[0;34m\u001b[0m\u001b[0m\n\u001b[0m\u001b[1;32m      4\u001b[0m     \u001b[0;32mif\u001b[0m \u001b[0minp\u001b[0m\u001b[0;34m==\u001b[0m\u001b[0;34m'exit'\u001b[0m\u001b[0;34m:\u001b[0m\u001b[0;34m\u001b[0m\u001b[0;34m\u001b[0m\u001b[0m\n\u001b[1;32m      5\u001b[0m         \u001b[0;32mbreak\u001b[0m\u001b[0;34m\u001b[0m\u001b[0;34m\u001b[0m\u001b[0m\n",
      "\u001b[0;32m/home/volodymyr/envs/convbot_env/lib/python3.7/site-packages/ipykernel/kernelbase.py\u001b[0m in \u001b[0;36mraw_input\u001b[0;34m(self, prompt)\u001b[0m\n\u001b[1;32m    849\u001b[0m             \u001b[0mself\u001b[0m\u001b[0;34m.\u001b[0m\u001b[0m_parent_ident\u001b[0m\u001b[0;34m,\u001b[0m\u001b[0;34m\u001b[0m\u001b[0;34m\u001b[0m\u001b[0m\n\u001b[1;32m    850\u001b[0m             \u001b[0mself\u001b[0m\u001b[0;34m.\u001b[0m\u001b[0m_parent_header\u001b[0m\u001b[0;34m,\u001b[0m\u001b[0;34m\u001b[0m\u001b[0;34m\u001b[0m\u001b[0m\n\u001b[0;32m--> 851\u001b[0;31m             \u001b[0mpassword\u001b[0m\u001b[0;34m=\u001b[0m\u001b[0;32mFalse\u001b[0m\u001b[0;34m,\u001b[0m\u001b[0;34m\u001b[0m\u001b[0;34m\u001b[0m\u001b[0m\n\u001b[0m\u001b[1;32m    852\u001b[0m         )\n\u001b[1;32m    853\u001b[0m \u001b[0;34m\u001b[0m\u001b[0m\n",
      "\u001b[0;32m/home/volodymyr/envs/convbot_env/lib/python3.7/site-packages/ipykernel/kernelbase.py\u001b[0m in \u001b[0;36m_input_request\u001b[0;34m(self, prompt, ident, parent, password)\u001b[0m\n\u001b[1;32m    890\u001b[0m             \u001b[0;32mexcept\u001b[0m \u001b[0mKeyboardInterrupt\u001b[0m\u001b[0;34m:\u001b[0m\u001b[0;34m\u001b[0m\u001b[0;34m\u001b[0m\u001b[0m\n\u001b[1;32m    891\u001b[0m                 \u001b[0;31m# re-raise KeyboardInterrupt, to truncate traceback\u001b[0m\u001b[0;34m\u001b[0m\u001b[0;34m\u001b[0m\u001b[0;34m\u001b[0m\u001b[0m\n\u001b[0;32m--> 892\u001b[0;31m                 \u001b[0;32mraise\u001b[0m \u001b[0mKeyboardInterrupt\u001b[0m\u001b[0;34m(\u001b[0m\u001b[0;34m\"Interrupted by user\"\u001b[0m\u001b[0;34m)\u001b[0m \u001b[0;32mfrom\u001b[0m \u001b[0;32mNone\u001b[0m\u001b[0;34m\u001b[0m\u001b[0;34m\u001b[0m\u001b[0m\n\u001b[0m\u001b[1;32m    893\u001b[0m             \u001b[0;32mexcept\u001b[0m \u001b[0mException\u001b[0m \u001b[0;32mas\u001b[0m \u001b[0me\u001b[0m\u001b[0;34m:\u001b[0m\u001b[0;34m\u001b[0m\u001b[0;34m\u001b[0m\u001b[0m\n\u001b[1;32m    894\u001b[0m                 \u001b[0mself\u001b[0m\u001b[0;34m.\u001b[0m\u001b[0mlog\u001b[0m\u001b[0;34m.\u001b[0m\u001b[0mwarning\u001b[0m\u001b[0;34m(\u001b[0m\u001b[0;34m\"Invalid Message:\"\u001b[0m\u001b[0;34m,\u001b[0m \u001b[0mexc_info\u001b[0m\u001b[0;34m=\u001b[0m\u001b[0;32mTrue\u001b[0m\u001b[0;34m)\u001b[0m\u001b[0;34m\u001b[0m\u001b[0;34m\u001b[0m\u001b[0m\n",
      "\u001b[0;31mKeyboardInterrupt\u001b[0m: Interrupted by user"
     ]
    }
   ],
   "source": [
    "inp = ''\n",
    "while True:\n",
    "    inp = str(input()).strip()\n",
    "    if inp=='exit':\n",
    "        break\n",
    "    greedy_answer = give_answer(greedy_decoder, inp, inverse_token_mapping, show_attention=False)\n",
    "    beam_search_answer = give_answer(beam_search_decoder, inp, inverse_token_mapping,\n",
    "           beam_search=True,\n",
    "           beam_size=7)\n",
    "    print(30*'-')\n",
    "    print('Replica : {}'.format(inp))\n",
    "    print('Beam answer : {}'.format(beam_search_answer))\n",
    "    print('Greedy answer : {}'.format(greedy_answer))\n",
    "    print(30*'-')"
   ]
  },
  {
   "cell_type": "code",
   "execution_count": null,
   "id": "former-passport",
   "metadata": {},
   "outputs": [],
   "source": []
  }
 ],
 "metadata": {
  "kernelspec": {
   "display_name": "Python 3",
   "language": "python",
   "name": "python3"
  },
  "language_info": {
   "codemirror_mode": {
    "name": "ipython",
    "version": 3
   },
   "file_extension": ".py",
   "mimetype": "text/x-python",
   "name": "python",
   "nbconvert_exporter": "python",
   "pygments_lexer": "ipython3",
   "version": "3.7.6"
  }
 },
 "nbformat": 4,
 "nbformat_minor": 5
}
