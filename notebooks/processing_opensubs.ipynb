{
 "cells": [
  {
   "cell_type": "code",
   "execution_count": 1,
   "id": "laughing-violence",
   "metadata": {},
   "outputs": [],
   "source": [
    "import pandas as pd\n",
    "import numpy as np\n",
    "import matplotlib.pyplot as plt\n",
    "import seaborn as sns\n",
    "sns.set()"
   ]
  },
  {
   "cell_type": "markdown",
   "id": "irish-cambridge",
   "metadata": {},
   "source": [
    "# Loading the data"
   ]
  },
  {
   "cell_type": "code",
   "execution_count": 2,
   "id": "sensitive-viewer",
   "metadata": {},
   "outputs": [
    {
     "name": "stdout",
     "output_type": "stream",
     "text": [
      "INFO  LICENSE  OpenSubtitles  README\r\n"
     ]
    }
   ],
   "source": [
    "!ls ../data/opensubs/"
   ]
  },
  {
   "cell_type": "code",
   "execution_count": 3,
   "id": "specific-catering",
   "metadata": {},
   "outputs": [
    {
     "name": "stdout",
     "output_type": "stream",
     "text": [
      " Corpus Name: OpenSubtitles\r\n",
      "     Package: OpenSubtitles/xml/en\r\n",
      "     Website: http://opus.nlpl.eu/OpenSubtitles-v1.php\r\n",
      "     Release: v1\r\n",
      "Release date: Sat Mar  3 23:10:02 EET 2018\r\n",
      "\r\n",
      "This corpus is part of OPUS - the open collection of parallel corpora\r\n",
      "OPUS Website: http://opus.nlpl.eu\r\n",
      "\r\n",
      "Please cite the following article if you use any part of the corpus in your own work: J. Tiedemann, 2012, Parallel Data, Tools and Interfaces in OPUS. In Proceedings of the 8th International Conference on Language Resources and Evaluation (LREC 2012)\r\n",
      "\r\n",
      "A collection of documents from http://www.opensubtitles.org/.IMPORTANT: If you use the OpenSubtitle corpus, please, add a link to http://www.opensubtitles.org/ to your website and to your reports and publications produced with the data! I got the data under this condition!\r\n",
      "\r\n"
     ]
    }
   ],
   "source": [
    "!cat ../data/opensubs/README"
   ]
  },
  {
   "cell_type": "code",
   "execution_count": 4,
   "id": "historic-economy",
   "metadata": {},
   "outputs": [
    {
     "name": "stdout",
     "output_type": "stream",
     "text": [
      "OpenSubtitles/xml/en\r\n",
      "OpenSubtitles\r\n",
      "v1\r\n"
     ]
    }
   ],
   "source": [
    "!cat ../data/opensubs/INFO"
   ]
  },
  {
   "cell_type": "code",
   "execution_count": 5,
   "id": "engaged-listening",
   "metadata": {},
   "outputs": [],
   "source": [
    "#copied (and further altered) from https://github.com/hse-aml/natural-language-processing/blob/master/honor/datasets.py\n",
    "import xml.etree.ElementTree as ET\n",
    "import datetime\n",
    "import os\n",
    "import sys\n",
    "import json\n",
    "import re\n",
    "import pprint\n",
    "from tqdm import tqdm\n",
    "from gzip import GzipFile\n",
    "\n",
    "class OpensubsData:\n",
    "    \"\"\"\n",
    "    \"\"\"\n",
    "\n",
    "    def __init__(self, dirName):\n",
    "        \"\"\"\n",
    "        Args:\n",
    "            dirName (string): directory where to load the corpus\n",
    "        \"\"\"\n",
    "\n",
    "        # Hack this to filter on subset of Opensubtitles\n",
    "        # dirName = \"%s/en/Action\" % dirName\n",
    "\n",
    "        print(\"Loading OpenSubtitles conversations in %s.\" % dirName)\n",
    "        self.conversations = []\n",
    "        self.tag_re = re.compile(r'(<!--.*?-->|<[^>]*>)')\n",
    "        self.conversations = self.loadConversations(dirName)\n",
    "\n",
    "    def loadConversations(self, dirName):\n",
    "        \"\"\"\n",
    "        Args:\n",
    "            dirName (str): folder to load\n",
    "        Return:\n",
    "            array(question, answer): the extracted QA pairs\n",
    "        \"\"\"\n",
    "        conversations = []\n",
    "        dirList = self.filesInDir(dirName)\n",
    "        for filepath in tqdm(dirList, \"OpenSubtitles data files\"):\n",
    "            if filepath[-3:]=='xml':\n",
    "                try:\n",
    "                    doc = self.getXML(filepath)\n",
    "                    conversations.extend(self.genList(doc))\n",
    "                except ValueError:\n",
    "                    tqdm.write(\"Skipping file %s with errors.\" % filepath)\n",
    "                except:\n",
    "                    print(\"Unexpected error:\", sys.exc_info()[0])\n",
    "                    raise\n",
    "        return conversations\n",
    "\n",
    "    def getConversations(self):\n",
    "        return self.conversations\n",
    "\n",
    "    def genList(self, tree):\n",
    "        root = tree.getroot()\n",
    "\n",
    "        timeFormat = '%H:%M:%S'\n",
    "        maxDelta = datetime.timedelta(seconds=1)\n",
    "\n",
    "        startTime = datetime.datetime.min\n",
    "        strbuf = ''\n",
    "        sentList = []\n",
    "\n",
    "        for child in root:\n",
    "            for elem in child:\n",
    "                if elem.tag == 'time':\n",
    "                    elemID = elem.attrib['id']\n",
    "                    elemVal = elem.attrib['value'][:-4]\n",
    "                    if elemID[-1] == 'S':\n",
    "                        startTime = datetime.datetime.strptime(elemVal, timeFormat)\n",
    "                    else:\n",
    "                        sentList.append((strbuf.strip(), startTime, datetime.datetime.strptime(elemVal, timeFormat)))\n",
    "                        strbuf = ''\n",
    "                else:\n",
    "                    try:\n",
    "                        strbuf = strbuf + \" \" + elem.text\n",
    "                    except:\n",
    "                        pass\n",
    "\n",
    "        conversations = []\n",
    "        for idx in range(0, len(sentList) - 1):\n",
    "            cur = sentList[idx]\n",
    "            nxt = sentList[idx + 1]\n",
    "            if nxt[1] - cur[2] <= maxDelta and cur and nxt:\n",
    "                tmp = {}\n",
    "                tmp[\"lines\"] = []\n",
    "                tmp[\"lines\"].append(self.getLine(cur[0]))\n",
    "                tmp[\"lines\"].append(self.getLine(nxt[0]))\n",
    "                conversations.append(tmp)\n",
    "\n",
    "        return conversations\n",
    "\n",
    "    def getLine(self, sentence):\n",
    "        line = {}\n",
    "        line[\"text\"] = self.tag_re.sub('', sentence).replace('\\\\\\'','\\'').strip().lower()\n",
    "        return line\n",
    "\n",
    "\n",
    "    def getXML(self, filepath):\n",
    "        fext = os.path.splitext(filepath)[1]\n",
    "        if fext == '.gz':\n",
    "            tmp = GzipFile(filename=filepath)\n",
    "            return ET.parse(tmp)\n",
    "        else:\n",
    "            return ET.parse(filepath)\n",
    "\n",
    "    def filesInDir(self, dirname):\n",
    "        result = []\n",
    "        for dirpath, dirs, files in os.walk(dirname):\n",
    "            for filename in files:\n",
    "                fname = os.path.join(dirpath, filename)\n",
    "                result.append(fname)\n",
    "        return result"
   ]
  },
  {
   "cell_type": "code",
   "execution_count": 6,
   "id": "middle-soundtrack",
   "metadata": {},
   "outputs": [
    {
     "name": "stdout",
     "output_type": "stream",
     "text": [
      "Loading OpenSubtitles conversations in ../data/opensubs/OpenSubtitles/.\n"
     ]
    },
    {
     "name": "stderr",
     "output_type": "stream",
     "text": [
      "OpenSubtitles data files:   6%|▌         | 261/4634 [00:07<02:43, 26.78it/s]"
     ]
    },
    {
     "name": "stdout",
     "output_type": "stream",
     "text": [
      "Skipping file ../data/opensubs/OpenSubtitles/xml/en/Comedy/2003/529_124078_171007_how_to_lose_a_guy_in_10_days.xml with errors.\n"
     ]
    },
    {
     "name": "stderr",
     "output_type": "stream",
     "text": [
      "OpenSubtitles data files:  12%|█▏        | 542/4634 [00:15<02:23, 28.42it/s]"
     ]
    },
    {
     "name": "stdout",
     "output_type": "stream",
     "text": [
      "Skipping file ../data/opensubs/OpenSubtitles/xml/en/Comedy/2004/2480_226704_299940_little_black_book.xml with errors.\n"
     ]
    },
    {
     "name": "stderr",
     "output_type": "stream",
     "text": [
      "OpenSubtitles data files:  26%|██▋       | 1219/4634 [00:35<01:10, 48.34it/s]"
     ]
    },
    {
     "name": "stdout",
     "output_type": "stream",
     "text": [
      "Skipping file ../data/opensubs/OpenSubtitles/xml/en/Family/2001/3935_19508_22105_cats__dogs.xml with errors.\n"
     ]
    },
    {
     "name": "stderr",
     "output_type": "stream",
     "text": [
      "OpenSubtitles data files:  37%|███▋      | 1695/4634 [00:45<00:29, 99.49it/s]"
     ]
    },
    {
     "name": "stdout",
     "output_type": "stream",
     "text": [
      "Skipping file ../data/opensubs/OpenSubtitles/xml/en/Action/2003/602_152466_207871_batoru_rowaiaru_ii_rekuiemu.xml with errors.\n"
     ]
    },
    {
     "name": "stderr",
     "output_type": "stream",
     "text": [
      "OpenSubtitles data files:  43%|████▎     | 1973/4634 [00:50<00:46, 56.71it/s]"
     ]
    },
    {
     "name": "stdout",
     "output_type": "stream",
     "text": [
      "Skipping file ../data/opensubs/OpenSubtitles/xml/en/Action/2004/59_84873_113518_appurushdo.xml with errors.\n"
     ]
    },
    {
     "name": "stderr",
     "output_type": "stream",
     "text": [
      "OpenSubtitles data files:  61%|██████    | 2827/4634 [01:07<00:26, 67.99it/s]"
     ]
    },
    {
     "name": "stdout",
     "output_type": "stream",
     "text": [
      "Skipping file ../data/opensubs/OpenSubtitles/xml/en/Drama/2003/1723_68784_89159_big_fish.xml with errors.\n"
     ]
    },
    {
     "name": "stderr",
     "output_type": "stream",
     "text": [
      "OpenSubtitles data files:  64%|██████▍   | 2969/4634 [01:10<00:27, 60.22it/s]"
     ]
    },
    {
     "name": "stdout",
     "output_type": "stream",
     "text": [
      "Skipping file ../data/opensubs/OpenSubtitles/xml/en/Drama/2004/146_206647_272090_eternal_sunshine_of_the_spotless_mind.xml with errors.\n"
     ]
    },
    {
     "name": "stderr",
     "output_type": "stream",
     "text": [
      "OpenSubtitles data files:  70%|███████   | 3253/4634 [01:16<00:32, 42.03it/s]"
     ]
    },
    {
     "name": "stdout",
     "output_type": "stream",
     "text": [
      "Skipping file ../data/opensubs/OpenSubtitles/xml/en/Drama/2002/3265_149497_204017_unfaithful.xml with errors.\n"
     ]
    },
    {
     "name": "stderr",
     "output_type": "stream",
     "text": [
      "OpenSubtitles data files:  78%|███████▊  | 3612/4634 [01:24<00:19, 52.75it/s]"
     ]
    },
    {
     "name": "stdout",
     "output_type": "stream",
     "text": [
      "Skipping file ../data/opensubs/OpenSubtitles/xml/en/Drama/2000/179_88528_119102_batoru_rowaiaru.xml with errors.\n"
     ]
    },
    {
     "name": "stderr",
     "output_type": "stream",
     "text": [
      "OpenSubtitles data files:  94%|█████████▎| 4340/4634 [01:41<00:04, 71.74it/s]"
     ]
    },
    {
     "name": "stdout",
     "output_type": "stream",
     "text": [
      "Skipping file ../data/opensubs/OpenSubtitles/xml/en/Horror/1922/1166_134135_184270_nosferatu_eine_symphonie_des_grauens.xml with errors.\n"
     ]
    },
    {
     "name": "stderr",
     "output_type": "stream",
     "text": [
      "OpenSubtitles data files: 100%|██████████| 4634/4634 [01:46<00:00, 43.41it/s]\n"
     ]
    }
   ],
   "source": [
    "loader = OpensubsData('../data/opensubs/OpenSubtitles/')"
   ]
  },
  {
   "cell_type": "code",
   "execution_count": 7,
   "id": "inappropriate-seafood",
   "metadata": {},
   "outputs": [],
   "source": [
    "conversations = loader.getConversations()"
   ]
  },
  {
   "cell_type": "code",
   "execution_count": 8,
   "id": "fifteen-virus",
   "metadata": {},
   "outputs": [
    {
     "data": {
      "text/plain": [
       "1648080"
      ]
     },
     "execution_count": 8,
     "metadata": {},
     "output_type": "execute_result"
    }
   ],
   "source": [
    "len(conversations)"
   ]
  },
  {
   "cell_type": "markdown",
   "id": "future-change",
   "metadata": {},
   "source": [
    "# EDA and cleaning"
   ]
  },
  {
   "cell_type": "code",
   "execution_count": 9,
   "id": "fluid-memorial",
   "metadata": {},
   "outputs": [],
   "source": [
    "all_words = [i['lines'][0]['text'].split(' ') for i in conversations]"
   ]
  },
  {
   "cell_type": "code",
   "execution_count": 10,
   "id": "collect-field",
   "metadata": {},
   "outputs": [
    {
     "name": "stderr",
     "output_type": "stream",
     "text": [
      "/home/volodymyr/envs/convbot_env/lib/python3.7/site-packages/seaborn/distributions.py:2557: FutureWarning: `distplot` is a deprecated function and will be removed in a future version. Please adapt your code to use either `displot` (a figure-level function with similar flexibility) or `histplot` (an axes-level function for histograms).\n",
      "  warnings.warn(msg, FutureWarning)\n"
     ]
    },
    {
     "data": {
      "text/plain": [
       "<AxesSubplot:ylabel='Density'>"
      ]
     },
     "execution_count": 10,
     "metadata": {},
     "output_type": "execute_result"
    },
    {
     "data": {
      "image/png": "[encoded data removed]",
      "text/plain": [
       "<Figure size 432x288 with 1 Axes>"
      ]
     },
     "metadata": {},
     "output_type": "display_data"
    }
   ],
   "source": [
    "sns.distplot([len(i) for i in all_words])"
   ]
  },
  {
   "cell_type": "code",
   "execution_count": 11,
   "id": "catholic-director",
   "metadata": {},
   "outputs": [
    {
     "data": {
      "text/plain": [
       "(9.186791903305664, 9.0)"
      ]
     },
     "execution_count": 11,
     "metadata": {},
     "output_type": "execute_result"
    }
   ],
   "source": [
    "np.mean([len(i) for i in all_words]), np.median([len(i) for i in all_words])"
   ]
  },
  {
   "cell_type": "code",
   "execution_count": 12,
   "id": "sensitive-convenience",
   "metadata": {},
   "outputs": [],
   "source": [
    "def count_words(all_words):\n",
    "    count_dict = {}\n",
    "    for sentence in tqdm(all_words):\n",
    "        for word in sentence:\n",
    "            count = count_dict.get(word,0)\n",
    "            count_dict.update({word : count+1})\n",
    "    count_dict = sorted(count_dict.items(), key=lambda x: x[1])[::-1]\n",
    "    return count_dict"
   ]
  },
  {
   "cell_type": "code",
   "execution_count": 13,
   "id": "adequate-handy",
   "metadata": {},
   "outputs": [
    {
     "name": "stderr",
     "output_type": "stream",
     "text": [
      "100%|██████████| 1648080/1648080 [00:03<00:00, 415373.97it/s]\n"
     ]
    }
   ],
   "source": [
    "counter = count_words(all_words)"
   ]
  },
  {
   "cell_type": "code",
   "execution_count": 14,
   "id": "offshore-stereo",
   "metadata": {},
   "outputs": [
    {
     "data": {
      "text/plain": [
       "118566"
      ]
     },
     "execution_count": 14,
     "metadata": {},
     "output_type": "execute_result"
    }
   ],
   "source": [
    "len(counter)"
   ]
  },
  {
   "cell_type": "code",
   "execution_count": 15,
   "id": "major-award",
   "metadata": {},
   "outputs": [
    {
     "data": {
      "text/plain": [
       "81910"
      ]
     },
     "execution_count": 15,
     "metadata": {},
     "output_type": "execute_result"
    }
   ],
   "source": [
    "len([i for i in counter if i[1]<=5])"
   ]
  },
  {
   "cell_type": "code",
   "execution_count": 16,
   "id": "aboriginal-success",
   "metadata": {},
   "outputs": [
    {
     "data": {
      "text/plain": [
       "[('guerriilas', 5),\n",
       " ('gpl', 5),\n",
       " ('moreland', 5),\n",
       " ('spurlock', 5),\n",
       " ('jihoh', 5),\n",
       " ('tlhingan', 5),\n",
       " ('liberalization', 5),\n",
       " ('coates', 5),\n",
       " ('neocell', 5),\n",
       " ('haven´', 5)]"
      ]
     },
     "execution_count": 16,
     "metadata": {},
     "output_type": "execute_result"
    }
   ],
   "source": [
    "[i for i in counter if i[1]<=5][:10]"
   ]
  },
  {
   "cell_type": "code",
   "execution_count": 17,
   "id": "atmospheric-administrator",
   "metadata": {},
   "outputs": [
    {
     "data": {
      "text/plain": [
       "2.0"
      ]
     },
     "execution_count": 17,
     "metadata": {},
     "output_type": "execute_result"
    }
   ],
   "source": [
    "np.mean([len(i['lines']) for i in conversations])"
   ]
  },
  {
   "cell_type": "code",
   "execution_count": 18,
   "id": "arabic-history",
   "metadata": {},
   "outputs": [],
   "source": [
    "conversations = [[i['lines'][0]['text'], i['lines'][1]['text']] for i in conversations]"
   ]
  },
  {
   "cell_type": "code",
   "execution_count": 19,
   "id": "adolescent-favorite",
   "metadata": {},
   "outputs": [],
   "source": [
    "import sys\n",
    "sys.path.insert(0,'../')\n",
    "from utils.processing_utils import *"
   ]
  },
  {
   "cell_type": "code",
   "execution_count": 20,
   "id": "criminal-school",
   "metadata": {},
   "outputs": [],
   "source": [
    "def shortcuts_cleaning(x):\n",
    "    if any([i.endswith(\"'\") for i in x.split(' ')]):\n",
    "        x = x.split(' ')\n",
    "        word = [i for i in x if i.endswith(\"'\")][0]\n",
    "        idx = x.index(word)\n",
    "        word = x.pop(idx)\n",
    "        if idx!=len(x):\n",
    "            x[idx] = word+x[idx]\n",
    "        x = ' '.join(x)\n",
    "        x = shortcuts_cleaning(x)\n",
    "    else:\n",
    "        return x\n",
    "    return x"
   ]
  },
  {
   "cell_type": "code",
   "execution_count": 21,
   "id": "christian-frame",
   "metadata": {},
   "outputs": [],
   "source": [
    "def clean(conversations):\n",
    "    new_conversations =  []\n",
    "    for conversation in tqdm(conversations):\n",
    "            entries = []\n",
    "            for entry in conversation:\n",
    "                #cleaning ... \n",
    "                cleaned_conversation = \" \".join(i for i in entry.split(' ') if i!='...')\n",
    "                # adding spaces between numbers\n",
    "                cleaned_conversation = \"\".join([\" \"+i+\" \" if i.isnumeric() else i for i in cleaned_conversation]).strip()\n",
    "                # cleaning bad chars\n",
    "                cleaned_conversation = re.sub(r\"[^a-zA-Z0-9(!?.:)']+\", \" \", cleaned_conversation).strip()\n",
    "\n",
    "                # removing escapes between 't/'m and actual words \n",
    "                cleaned_conversation = shortcuts_cleaning(cleaned_conversation)\n",
    "                \n",
    "                # uncovering shortcuts \n",
    "                cleaned_conversation = uncover_reduction(cleaned_conversation)\n",
    "                if cleaned_conversation:\n",
    "                    entries.append(cleaned_conversation)\n",
    "                    \n",
    "            if len(entries)==2:\n",
    "                new_conversations.append(entries)\n",
    "                \n",
    "    return new_conversations"
   ]
  },
  {
   "cell_type": "code",
   "execution_count": 22,
   "id": "mathematical-biodiversity",
   "metadata": {},
   "outputs": [
    {
     "data": {
      "text/plain": [
       "1648080"
      ]
     },
     "execution_count": 22,
     "metadata": {},
     "output_type": "execute_result"
    }
   ],
   "source": [
    "len(conversations)"
   ]
  },
  {
   "cell_type": "code",
   "execution_count": 23,
   "id": "maritime-faculty",
   "metadata": {},
   "outputs": [
    {
     "name": "stderr",
     "output_type": "stream",
     "text": [
      "100%|██████████| 1648080/1648080 [01:13<00:00, 22430.29it/s]\n"
     ]
    }
   ],
   "source": [
    "conversations = clean(conversations)"
   ]
  },
  {
   "cell_type": "code",
   "execution_count": 24,
   "id": "joint-component",
   "metadata": {},
   "outputs": [
    {
     "data": {
      "text/plain": [
       "1617140"
      ]
     },
     "execution_count": 24,
     "metadata": {},
     "output_type": "execute_result"
    }
   ],
   "source": [
    "len(conversations)"
   ]
  },
  {
   "cell_type": "code",
   "execution_count": 25,
   "id": "vietnamese-helicopter",
   "metadata": {},
   "outputs": [
    {
     "name": "stderr",
     "output_type": "stream",
     "text": [
      "100%|██████████| 1617140/1617140 [00:03<00:00, 456474.00it/s]\n"
     ]
    }
   ],
   "source": [
    "counter = count_words([i[0].split(' ') for i in conversations])"
   ]
  },
  {
   "cell_type": "code",
   "execution_count": 26,
   "id": "spare-royal",
   "metadata": {},
   "outputs": [
    {
     "data": {
      "text/plain": [
       "102959"
      ]
     },
     "execution_count": 26,
     "metadata": {},
     "output_type": "execute_result"
    }
   ],
   "source": [
    "len(counter)"
   ]
  },
  {
   "cell_type": "code",
   "execution_count": 27,
   "id": "flexible-michael",
   "metadata": {},
   "outputs": [
    {
     "data": {
      "text/plain": [
       "65342"
      ]
     },
     "execution_count": 27,
     "metadata": {},
     "output_type": "execute_result"
    }
   ],
   "source": [
    "len([i for i in counter if i[1]<5])"
   ]
  },
  {
   "cell_type": "markdown",
   "id": "important-raleigh",
   "metadata": {},
   "source": [
    "# adding special tokens"
   ]
  },
  {
   "cell_type": "code",
   "execution_count": 28,
   "id": "accessory-chuck",
   "metadata": {},
   "outputs": [
    {
     "name": "stderr",
     "output_type": "stream",
     "text": [
      "100%|██████████| 1617140/1617140 [00:03<00:00, 451272.91it/s]\n",
      "100%|██████████| 1617140/1617140 [00:03<00:00, 440968.10it/s]\n"
     ]
    }
   ],
   "source": [
    "counter = dict(count_words([i[0].split(' ') for i in conversations]))\n",
    "backup = dict(count_words([i[1].split(' ') for i in conversations]))\n",
    "for k, v in backup.items():\n",
    "    counts = counter.get(k,0)\n",
    "    counter.update({k:counts+v})"
   ]
  },
  {
   "cell_type": "code",
   "execution_count": 29,
   "id": "material-saver",
   "metadata": {},
   "outputs": [
    {
     "data": {
      "text/plain": [
       "109705"
      ]
     },
     "execution_count": 29,
     "metadata": {},
     "output_type": "execute_result"
    }
   ],
   "source": [
    "len(counter)"
   ]
  },
  {
   "cell_type": "code",
   "execution_count": 30,
   "id": "arabic-victor",
   "metadata": {},
   "outputs": [],
   "source": [
    "max_tokens = 50000"
   ]
  },
  {
   "cell_type": "code",
   "execution_count": 31,
   "id": "adjustable-drinking",
   "metadata": {},
   "outputs": [],
   "source": [
    "rare_tokens, _ = zip(*sorted(counter.items(), key=lambda x: x[1])[::-1][-(len(counter)-max_tokens):])"
   ]
  },
  {
   "cell_type": "code",
   "execution_count": 32,
   "id": "certain-vietnam",
   "metadata": {},
   "outputs": [
    {
     "data": {
      "text/plain": [
       "(109705, 59705)"
      ]
     },
     "execution_count": 32,
     "metadata": {},
     "output_type": "execute_result"
    }
   ],
   "source": [
    "len(counter), len(rare_tokens)"
   ]
  },
  {
   "cell_type": "code",
   "execution_count": 33,
   "id": "handled-guess",
   "metadata": {},
   "outputs": [],
   "source": [
    "unk_token = '<unk>'\n",
    "unk_dict = dict((i,unk_token) for i in rare_tokens)"
   ]
  },
  {
   "cell_type": "code",
   "execution_count": 34,
   "id": "frequent-driving",
   "metadata": {},
   "outputs": [],
   "source": [
    "conversations = replace_in_conversations(conversations, unk_dict)"
   ]
  },
  {
   "cell_type": "code",
   "execution_count": 35,
   "id": "million-omaha",
   "metadata": {},
   "outputs": [
    {
     "data": {
      "text/plain": [
       "Counter({2: 1617140})"
      ]
     },
     "execution_count": 35,
     "metadata": {},
     "output_type": "execute_result"
    }
   ],
   "source": [
    "from collections import Counter\n",
    "lengths_dialogues = list(map(len,conversations))\n",
    "Counter(lengths_dialogues)"
   ]
  },
  {
   "cell_type": "code",
   "execution_count": 36,
   "id": "sudden-showcase",
   "metadata": {},
   "outputs": [
    {
     "name": "stderr",
     "output_type": "stream",
     "text": [
      "100%|██████████| 1617140/1617140 [00:03<00:00, 444478.77it/s]\n",
      "100%|██████████| 1617140/1617140 [00:03<00:00, 451394.64it/s]\n"
     ]
    }
   ],
   "source": [
    "counter = dict(count_words([i[0].split(' ') for i in conversations]))\n",
    "backup = dict(count_words([i[1].split(' ') for i in conversations]))\n",
    "for k, v in backup.items():\n",
    "    counts = counter.get(k,0)\n",
    "    counter.update({k:counts+v})"
   ]
  },
  {
   "cell_type": "code",
   "execution_count": 37,
   "id": "guided-corrections",
   "metadata": {},
   "outputs": [
    {
     "data": {
      "text/plain": [
       "139139"
      ]
     },
     "execution_count": 37,
     "metadata": {},
     "output_type": "execute_result"
    }
   ],
   "source": [
    "counter['<unk>']"
   ]
  },
  {
   "cell_type": "code",
   "execution_count": 38,
   "id": "relevant-security",
   "metadata": {},
   "outputs": [],
   "source": [
    "unique_tokens = list(counter.keys())"
   ]
  },
  {
   "cell_type": "code",
   "execution_count": 39,
   "id": "national-hundred",
   "metadata": {},
   "outputs": [],
   "source": [
    "pad_token = '<pad>'\n",
    "start_token = '<start>'\n",
    "end_token = '<end>'\n",
    "token_mapping = {pad_token:0, \n",
    "                start_token:1,\n",
    "                end_token:2,\n",
    "                unk_token:3}\n",
    "start_point = 3\n",
    "for token in unique_tokens:\n",
    "    if not token_mapping.get(token):\n",
    "        start_point+=1\n",
    "        token_mapping.update({token:start_point})"
   ]
  },
  {
   "cell_type": "code",
   "execution_count": 40,
   "id": "productive-senator",
   "metadata": {},
   "outputs": [
    {
     "data": {
      "text/plain": [
       "50004"
      ]
     },
     "execution_count": 40,
     "metadata": {},
     "output_type": "execute_result"
    }
   ],
   "source": [
    "len(token_mapping)"
   ]
  },
  {
   "cell_type": "markdown",
   "id": "cubic-education",
   "metadata": {},
   "source": [
    "# Creation of embeddings"
   ]
  },
  {
   "cell_type": "code",
   "execution_count": 41,
   "id": "labeled-finger",
   "metadata": {},
   "outputs": [],
   "source": [
    "import gensim\n",
    "import tqdm"
   ]
  },
  {
   "cell_type": "code",
   "execution_count": 42,
   "id": "listed-console",
   "metadata": {},
   "outputs": [],
   "source": [
    "data_path = '../processed_data'\n",
    "if not os.path.exists(data_path):\n",
    "    os.mkdir(data_path)"
   ]
  },
  {
   "cell_type": "code",
   "execution_count": 52,
   "id": "three-server",
   "metadata": {},
   "outputs": [
    {
     "name": "stderr",
     "output_type": "stream",
     "text": [
      "100%|██████████| 1617140/1617140 [00:00<00:00, 1667978.64it/s]\n"
     ]
    }
   ],
   "source": [
    "prepared_data = set()\n",
    "for phrases in tqdm.tqdm(conversations):\n",
    "    for entry in phrases:\n",
    "        prepared_data.update([entry])\n",
    "prepared_data = list([i.split(' ') for i in prepared_data])"
   ]
  },
  {
   "cell_type": "code",
   "execution_count": 54,
   "id": "dangerous-minimum",
   "metadata": {},
   "outputs": [],
   "source": [
    "from glove import Glove, Corpus"
   ]
  },
  {
   "cell_type": "code",
   "execution_count": 55,
   "id": "successful-advantage",
   "metadata": {},
   "outputs": [
    {
     "name": "stdout",
     "output_type": "stream",
     "text": [
      "Performing 100 training epochs with 6 threads\n",
      "Epoch 0\n",
      "Epoch 1\n",
      "Epoch 2\n",
      "Epoch 3\n",
      "Epoch 4\n",
      "Epoch 5\n",
      "Epoch 6\n",
      "Epoch 7\n",
      "Epoch 8\n",
      "Epoch 9\n",
      "Epoch 10\n",
      "Epoch 11\n",
      "Epoch 12\n",
      "Epoch 13\n",
      "Epoch 14\n",
      "Epoch 15\n",
      "Epoch 16\n",
      "Epoch 17\n",
      "Epoch 18\n",
      "Epoch 19\n",
      "Epoch 20\n",
      "Epoch 21\n",
      "Epoch 22\n",
      "Epoch 23\n",
      "Epoch 24\n",
      "Epoch 25\n",
      "Epoch 26\n",
      "Epoch 27\n",
      "Epoch 28\n",
      "Epoch 29\n",
      "Epoch 30\n",
      "Epoch 31\n",
      "Epoch 32\n",
      "Epoch 33\n",
      "Epoch 34\n",
      "Epoch 35\n",
      "Epoch 36\n",
      "Epoch 37\n",
      "Epoch 38\n",
      "Epoch 39\n",
      "Epoch 40\n",
      "Epoch 41\n",
      "Epoch 42\n",
      "Epoch 43\n",
      "Epoch 44\n",
      "Epoch 45\n",
      "Epoch 46\n",
      "Epoch 47\n",
      "Epoch 48\n",
      "Epoch 49\n",
      "Epoch 50\n",
      "Epoch 51\n",
      "Epoch 52\n",
      "Epoch 53\n",
      "Epoch 54\n",
      "Epoch 55\n",
      "Epoch 56\n",
      "Epoch 57\n",
      "Epoch 58\n",
      "Epoch 59\n",
      "Epoch 60\n",
      "Epoch 61\n",
      "Epoch 62\n",
      "Epoch 63\n",
      "Epoch 64\n",
      "Epoch 65\n",
      "Epoch 66\n",
      "Epoch 67\n",
      "Epoch 68\n",
      "Epoch 69\n",
      "Epoch 70\n",
      "Epoch 71\n",
      "Epoch 72\n",
      "Epoch 73\n",
      "Epoch 74\n",
      "Epoch 75\n",
      "Epoch 76\n",
      "Epoch 77\n",
      "Epoch 78\n",
      "Epoch 79\n",
      "Epoch 80\n",
      "Epoch 81\n",
      "Epoch 82\n",
      "Epoch 83\n",
      "Epoch 84\n",
      "Epoch 85\n",
      "Epoch 86\n",
      "Epoch 87\n",
      "Epoch 88\n",
      "Epoch 89\n",
      "Epoch 90\n",
      "Epoch 91\n",
      "Epoch 92\n",
      "Epoch 93\n",
      "Epoch 94\n",
      "Epoch 95\n",
      "Epoch 96\n",
      "Epoch 97\n",
      "Epoch 98\n",
      "Epoch 99\n"
     ]
    }
   ],
   "source": [
    "corpus = Corpus()\n",
    "corpus.fit(prepared_data)\n",
    "glove = Glove(no_components=100, learning_rate=0.05) \n",
    "glove.fit(corpus.matrix, epochs=100, no_threads=6, verbose=True)\n",
    "glove.add_dictionary(corpus.dictionary)"
   ]
  },
  {
   "cell_type": "code",
   "execution_count": 57,
   "id": "documentary-crystal",
   "metadata": {},
   "outputs": [
    {
     "data": {
      "text/plain": [
       "[('funerals', 0.5210481955466075),\n",
       " ('elementary', 0.5091150875500425),\n",
       " ('caymans', 0.5079441042491039),\n",
       " ('harwich', 0.49851319294051827)]"
      ]
     },
     "execution_count": 57,
     "metadata": {},
     "output_type": "execute_result"
    }
   ],
   "source": [
    "glove.most_similar('usa')"
   ]
  },
  {
   "cell_type": "code",
   "execution_count": 58,
   "id": "accredited-unemployment",
   "metadata": {},
   "outputs": [
    {
     "data": {
      "text/plain": [
       "[('7', 0.8340335967724176),\n",
       " ('8', 0.8306227766891209),\n",
       " ('6', 0.8161687506172369),\n",
       " ('1', 0.8159741392414859)]"
      ]
     },
     "execution_count": 58,
     "metadata": {},
     "output_type": "execute_result"
    }
   ],
   "source": [
    "glove.most_similar('9')"
   ]
  },
  {
   "cell_type": "code",
   "execution_count": 59,
   "id": "cross-fleet",
   "metadata": {},
   "outputs": [
    {
     "data": {
      "text/plain": [
       "[('hi', 0.8057899766955682),\n",
       " ('darling', 0.6330188353238926),\n",
       " ('tom', 0.6242366997075678),\n",
       " ('say', 0.6215115751884105)]"
      ]
     },
     "execution_count": 59,
     "metadata": {},
     "output_type": "execute_result"
    }
   ],
   "source": [
    "glove.most_similar('hello')"
   ]
  },
  {
   "cell_type": "code",
   "execution_count": 60,
   "id": "regulation-wrapping",
   "metadata": {},
   "outputs": [
    {
     "data": {
      "text/plain": [
       "[('hell', 0.7466540894225678),\n",
       " ('grond', 0.6809860061818086),\n",
       " ('dude', 0.6799619781158673),\n",
       " ('shut', 0.6790224622334781)]"
      ]
     },
     "execution_count": 60,
     "metadata": {},
     "output_type": "execute_result"
    }
   ],
   "source": [
    "glove.most_similar('fuck')"
   ]
  },
  {
   "cell_type": "code",
   "execution_count": 61,
   "id": "celtic-conservative",
   "metadata": {},
   "outputs": [
    {
     "name": "stdout",
     "output_type": "stream",
     "text": [
      "50001\n"
     ]
    }
   ],
   "source": [
    "tokens = list(glove.dictionary.keys())\n",
    "print(len(tokens))\n",
    "glove_vectors = dict([(tokens[idx],vector) for idx, vector in enumerate(glove.word_vectors)])"
   ]
  },
  {
   "cell_type": "code",
   "execution_count": 63,
   "id": "champion-natural",
   "metadata": {},
   "outputs": [],
   "source": [
    "from utils.embeddings_utils import *"
   ]
  },
  {
   "cell_type": "code",
   "execution_count": 64,
   "id": "colonial-hearing",
   "metadata": {},
   "outputs": [
    {
     "name": "stderr",
     "output_type": "stream",
     "text": [
      "100%|██████████| 50004/50004 [00:00<00:00, 1022823.37it/s]"
     ]
    },
    {
     "name": "stdout",
     "output_type": "stream",
     "text": [
      "3 words where absent in embedding\n"
     ]
    },
    {
     "name": "stderr",
     "output_type": "stream",
     "text": [
      "\n"
     ]
    }
   ],
   "source": [
    "tokens_embs, missing = get_emb_rep_glove(list(token_mapping.keys()), glove_vectors)"
   ]
  },
  {
   "cell_type": "code",
   "execution_count": 65,
   "id": "working-bobby",
   "metadata": {},
   "outputs": [],
   "source": [
    "final_embeddings = create_embeddings(tokens_embs, token_mapping, pad_token)"
   ]
  },
  {
   "cell_type": "code",
   "execution_count": 66,
   "id": "round-serve",
   "metadata": {},
   "outputs": [],
   "source": [
    "with open(os.path.join(data_path,'glove_embeddings_trained_opensubs.npy'), 'wb') as f:\n",
    "    np.save(f, final_embeddings)\n",
    "\n",
    "with open(os.path.join(data_path,'missing_in_glove_trained_opensubs.npy'), 'wb') as f:\n",
    "    np.save(f, missing)\n"
   ]
  },
  {
   "cell_type": "markdown",
   "id": "matched-angola",
   "metadata": {},
   "source": [
    "# saving out"
   ]
  },
  {
   "cell_type": "code",
   "execution_count": 67,
   "id": "plastic-mystery",
   "metadata": {},
   "outputs": [],
   "source": [
    "\n",
    "with open(os.path.join(data_path,'token_mapping_opensubs.json'), 'w') as f:\n",
    "    json.dump(token_mapping, f)\n",
    "\n",
    "with open(os.path.join(data_path,'data_opensubs.npy'), 'wb') as f:\n",
    "    np.save(f, conversations)  "
   ]
  },
  {
   "cell_type": "code",
   "execution_count": null,
   "id": "understanding-marshall",
   "metadata": {},
   "outputs": [],
   "source": []
  }
 ],
 "metadata": {
  "kernelspec": {
   "display_name": "Python 3",
   "language": "python",
   "name": "python3"
  },
  "language_info": {
   "codemirror_mode": {
    "name": "ipython",
    "version": 3
   },
   "file_extension": ".py",
   "mimetype": "text/x-python",
   "name": "python",
   "nbconvert_exporter": "python",
   "pygments_lexer": "ipython3",
   "version": "3.7.6"
  }
 },
 "nbformat": 4,
 "nbformat_minor": 5
}
