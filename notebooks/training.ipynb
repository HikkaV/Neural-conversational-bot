{
 "cells": [
  {
   "cell_type": "code",
   "execution_count": 1,
   "id": "minor-marina",
   "metadata": {},
   "outputs": [],
   "source": [
    "import numpy as np\n",
    "from sklearn.model_selection import train_test_split\n",
    "import seaborn as sns\n",
    "import matplotlib.pyplot as plt\n",
    "import os\n",
    "import json\n",
    "import tqdm\n",
    "import matplotlib.ticker as ticker\n",
    "sns.set()"
   ]
  },
  {
   "cell_type": "code",
   "execution_count": 2,
   "id": "composed-prerequisite",
   "metadata": {},
   "outputs": [
    {
     "name": "stdout",
     "output_type": "stream",
     "text": [
      "1 Physical GPUs, 1 Logical GPUs\n"
     ]
    }
   ],
   "source": [
    "import tensorflow as tf\n",
    "gpus = tf.config.experimental.list_physical_devices('GPU')\n",
    "if gpus:\n",
    "    try:\n",
    "        # Currently, memory growth needs to be the same across GPUs\n",
    "        for gpu in gpus:\n",
    "            tf.config.experimental.set_memory_growth(gpu, True)\n",
    "        logical_gpus = tf.config.experimental.list_logical_devices('GPU')\n",
    "        print(len(gpus), \"Physical GPUs,\", len(logical_gpus), \"Logical GPUs\")\n",
    "    except RuntimeError as e:\n",
    "        # Memory growth must be set before GPUs have been initialized\n",
    "        print(e)"
   ]
  },
  {
   "cell_type": "markdown",
   "id": "choice-istanbul",
   "metadata": {},
   "source": [
    "# Loading data and spliting"
   ]
  },
  {
   "cell_type": "code",
   "execution_count": 3,
   "id": "atomic-pottery",
   "metadata": {},
   "outputs": [],
   "source": [
    "import re\n",
    "def clean_bad_chars(x):\n",
    "  x = re.sub(r\"[^0-9a-zA-Z(!?.)']+\", \" \", x).strip()\n",
    "  x = ''.join(\" \"+i+\" \" if i in ['!', '?', '.'] else i for i in x).strip()\n",
    "  return x\n",
    "def uncover_reduction(x):\n",
    "  x = re.sub(r\"i'm\", \"i am\", x)\n",
    "  x = re.sub(r\"he's\", \"he is\", x)\n",
    "  x = re.sub(r\"she's\", \"she is\", x)\n",
    "  x = re.sub(r\"it's\", \"it is\", x)\n",
    "  x = re.sub(r\"that's\", \"that is\", x)\n",
    "  x = re.sub(r\"what's\", \"that is\", x)\n",
    "  x = re.sub(r\"where's\", \"where is\", x)\n",
    "  x = re.sub(r\"how's\", \"how is\", x)\n",
    "  x = re.sub(r\"\\'ll\", \" will\", x)\n",
    "  x = re.sub(r\"\\'ve\", \" have\", x)\n",
    "  x = re.sub(r\"\\'re\", \" are\", x)\n",
    "  x = re.sub(r\"\\'d\", \" would\", x)\n",
    "  x = re.sub(r\"\\'re\", \" are\", x)\n",
    "  x = re.sub(r\"won't\", \"will not\", x)\n",
    "  x = re.sub(r\"can't\", \"cannot\", x)\n",
    "  x = re.sub(r\"n't\", \" not\", x)\n",
    "  x = re.sub(r\"n'\", \"ng\", x)\n",
    "  x = re.sub(r\"'bout\", \"about\", x)\n",
    "  x = re.sub(r\"'til\", \"until\", x)\n",
    "  x = ' '.join(i.replace(\"'\",'') for i in x.split(' ') if i ).strip()\n",
    "  return x"
   ]
  },
  {
   "cell_type": "code",
   "execution_count": 4,
   "id": "worth-portfolio",
   "metadata": {},
   "outputs": [],
   "source": [
    "data_path = '../processed_data'\n",
    "mode = 'custom'\n",
    "if mode=='w2v':\n",
    "    with open(os.path.join(data_path,'w2v_embeddings.npy'), 'rb') as f:\n",
    "        final_embeddings = np.load(f)\n",
    "\n",
    "    with open(os.path.join(data_path,'missing_in_w2v.npy'), 'rb') as f:\n",
    "        missing = np.load(f)\n",
    "elif mode=='glove':\n",
    "    with open(os.path.join(data_path,'glove_embeddings.npy'), 'rb') as f:\n",
    "        final_embeddings = np.load(f)\n",
    "\n",
    "    with open(os.path.join(data_path,'missing_in_glove.npy'), 'rb') as f:\n",
    "        missing = np.load(f)\n",
    "elif mode=='custom':\n",
    "    with open(os.path.join(data_path,'glove_embeddings_trained.npy'), 'rb') as f:\n",
    "        final_embeddings = np.load(f)\n",
    "\n",
    "    with open(os.path.join(data_path,'missing_in_glove_trained.npy'), 'rb') as f:\n",
    "        missing = np.load(f)\n",
    "        \n",
    "with open(os.path.join(data_path,'token_mapping.json'), 'r') as f:\n",
    "    token_mapping = json.load(f)\n",
    "\n",
    "with open(os.path.join(data_path,'data.npy'), 'rb') as f:\n",
    "    data = np.load(f,allow_pickle=True)  "
   ]
  },
  {
   "cell_type": "code",
   "execution_count": 5,
   "id": "fourth-afghanistan",
   "metadata": {},
   "outputs": [],
   "source": [
    "missing_idx = [token_mapping[i] for i in missing]"
   ]
  },
  {
   "cell_type": "code",
   "execution_count": 6,
   "id": "committed-chain",
   "metadata": {},
   "outputs": [
    {
     "data": {
      "text/plain": [
       "82957"
      ]
     },
     "execution_count": 6,
     "metadata": {},
     "output_type": "execute_result"
    }
   ],
   "source": [
    "len(data)"
   ]
  },
  {
   "cell_type": "code",
   "execution_count": 7,
   "id": "joint-harvest",
   "metadata": {},
   "outputs": [],
   "source": [
    "inverse_token_mapping = dict((v,k) for k,v in token_mapping.items())\n",
    "pad_token = inverse_token_mapping[0]\n",
    "start_token = inverse_token_mapping[1]\n",
    "end_token = inverse_token_mapping[2]\n",
    "unk_token = inverse_token_mapping[3]"
   ]
  },
  {
   "cell_type": "code",
   "execution_count": 8,
   "id": "artistic-walter",
   "metadata": {},
   "outputs": [
    {
     "data": {
      "text/plain": [
       "('<pad>', '<start>', '<end>', '<unk>')"
      ]
     },
     "execution_count": 8,
     "metadata": {},
     "output_type": "execute_result"
    }
   ],
   "source": [
    "pad_token, start_token, end_token,unk_token"
   ]
  },
  {
   "cell_type": "code",
   "execution_count": 9,
   "id": "tender-campbell",
   "metadata": {},
   "outputs": [
    {
     "data": {
      "text/plain": [
       "[['no no it is my fault we did not have a proper introduction', 'Cameron .'],\n",
       " ['Cameron .',\n",
       "  'the thing is Cameron i am at the mercy of a particularly hideous breed of loser . my sister . i cannot date until she does .'],\n",
       " ['the thing is Cameron i am at the mercy of a particularly hideous breed of loser . my sister . i cannot date until she does .',\n",
       "  'seems like she could get a date easy enough .']]"
      ]
     },
     "execution_count": 9,
     "metadata": {},
     "output_type": "execute_result"
    }
   ],
   "source": [
    "test = data[2]\n",
    "[test[i:i+2] for i in range(0,len(test)-1,1)]"
   ]
  },
  {
   "cell_type": "code",
   "execution_count": 10,
   "id": "insured-former",
   "metadata": {},
   "outputs": [],
   "source": [
    "def slice_data(data):\n",
    "    X, y = [], []\n",
    "    for conversation in data:\n",
    "        pairs = np.array([conversation[i:i+2] for i in range(0,len(conversation)-1,1)])\n",
    "        X.extend(list(pairs[:,0]))\n",
    "        y.extend(list(pairs[:,1]))\n",
    "    return X, y"
   ]
  },
  {
   "cell_type": "code",
   "execution_count": 11,
   "id": "alleged-fairy",
   "metadata": {},
   "outputs": [],
   "source": [
    "X, y = slice_data(data)"
   ]
  },
  {
   "cell_type": "code",
   "execution_count": 12,
   "id": "posted-knight",
   "metadata": {},
   "outputs": [
    {
     "data": {
      "text/plain": [
       "(221068, 221068)"
      ]
     },
     "execution_count": 12,
     "metadata": {},
     "output_type": "execute_result"
    }
   ],
   "source": [
    "len(X), len(y)"
   ]
  },
  {
   "cell_type": "code",
   "execution_count": 34,
   "id": "choice-graduate",
   "metadata": {},
   "outputs": [],
   "source": [
    "X_train, X_test, y_train, y_test = train_test_split(X,y, test_size=0.15, shuffle=True)"
   ]
  },
  {
   "cell_type": "code",
   "execution_count": 35,
   "id": "prepared-aurora",
   "metadata": {},
   "outputs": [
    {
     "data": {
      "text/plain": [
       "(187907, 33161)"
      ]
     },
     "execution_count": 35,
     "metadata": {},
     "output_type": "execute_result"
    }
   ],
   "source": [
    "len(X_train), len(X_test)"
   ]
  },
  {
   "cell_type": "code",
   "execution_count": 37,
   "id": "chief-colony",
   "metadata": {},
   "outputs": [],
   "source": [
    "def map_to_ids(x, mapping, end_token=None, start_token=None, padding_token=None, max_len=None):\n",
    "  if isinstance(x, str):\n",
    "    x = x.split(' ')\n",
    "  max_len = max_len if max_len else len(x)\n",
    "  if start_token:\n",
    "    x = [start_token] + x\n",
    "  sent_ids = [mapping[word] for word in x[:max_len]]\n",
    "  if max_len>len(x):\n",
    "      if end_token:\n",
    "        sent_ids.append(mapping[end_token])\n",
    "      if padding_token:\n",
    "        sent_ids += [mapping[padding_token]]*(max_len-len(sent_ids))\n",
    "      return sent_ids\n",
    "  if end_token:\n",
    "    sent_ids[-1] = mapping[end_token]\n",
    "  return sent_ids\n"
   ]
  },
  {
   "cell_type": "code",
   "execution_count": 38,
   "id": "liable-ceremony",
   "metadata": {},
   "outputs": [],
   "source": [
    "max_len_tokens = 20"
   ]
  },
  {
   "cell_type": "code",
   "execution_count": 39,
   "id": "victorian-pottery",
   "metadata": {},
   "outputs": [],
   "source": [
    "X_train_enc = np.array([map_to_ids(i, token_mapping, end_token, None, pad_token, max_len_tokens) for i in X_train])\n",
    "X_test_enc = np.array([map_to_ids(i, token_mapping, end_token, None, pad_token, max_len_tokens) for i in X_test])\n",
    "X_train_dec = np.array([map_to_ids(i, token_mapping, None, start_token, pad_token, max_len_tokens) for i in y_train])\n",
    "X_test_dec = np.array([map_to_ids(i, token_mapping, None, start_token, pad_token, max_len_tokens) for i in y_test])\n",
    "y_train = np.array([map_to_ids(i, token_mapping, end_token, None, pad_token, max_len_tokens) for i in y_train])\n",
    "y_test = np.array([map_to_ids(i, token_mapping, end_token, None, pad_token, max_len_tokens) for i in y_test])\n"
   ]
  },
  {
   "cell_type": "code",
   "execution_count": 40,
   "id": "massive-float",
   "metadata": {},
   "outputs": [
    {
     "data": {
      "text/plain": [
       "(array([    1, 27916, 25825,     8,     0,     0,     0,     0,     0,\n",
       "            0]),\n",
       " array([27916, 25825,     8,     2,     0,     0,     0,     0,     0,\n",
       "            0]))"
      ]
     },
     "execution_count": 40,
     "metadata": {},
     "output_type": "execute_result"
    }
   ],
   "source": [
    "X_train_dec[0], y_train[0]"
   ]
  },
  {
   "cell_type": "markdown",
   "id": "constant-petite",
   "metadata": {},
   "source": [
    "# Building a model "
   ]
  },
  {
   "cell_type": "code",
   "execution_count": 41,
   "id": "saving-account",
   "metadata": {},
   "outputs": [],
   "source": [
    "emb_units = 100\n",
    "lstm_units = 256\n",
    "attention_units = 128\n",
    "pretrained_embs = True\n",
    "fine_tune = False"
   ]
  },
  {
   "cell_type": "code",
   "execution_count": 42,
   "id": "constitutional-celebrity",
   "metadata": {},
   "outputs": [],
   "source": [
    "class PartialEmbeddingsUpdate(tf.keras.layers.Layer):\n",
    "    def __init__(self, input_dim, \n",
    "                 output_dim, \n",
    "                indices_to_update,\n",
    "                initializer='glorot_uniform',\n",
    "                 **kwargs):\n",
    "        super(PartialEmbeddingsUpdate, self).__init__(**kwargs)\n",
    "\n",
    "        self.input_dim = input_dim\n",
    "        self.output_dim = output_dim\n",
    "        self.initializer = initializer\n",
    "        self.indices_to_update = indices_to_update\n",
    "       \n",
    "    def build(self, input_shape):\n",
    "        self.embeddings = self.add_weight(shape=(self.input_dim, self.output_dim),\n",
    "                                             initializer=self.initializer,\n",
    "                                            trainable=True)\n",
    "        self.bool_mask = tf.equal(tf.expand_dims(tf.range(0,self.input_dim),1), tf.expand_dims(self.indices_to_update,0))\n",
    "        self.bool_mask = tf.reduce_any(self.bool_mask,1)\n",
    "        self.bool_mask_not = tf.logical_not(self.bool_mask)\n",
    "        self.bool_mask_not = tf.expand_dims(tf.cast(self.bool_mask_not, dtype=self.embeddings.dtype),1)\n",
    "        self.bool_mask = tf.expand_dims(tf.cast(self.bool_mask, dtype=self.embeddings.dtype),1)\n",
    "        \n",
    "    def call(self, input):\n",
    "        input = tf.cast(input, dtype=tf.int32)\n",
    "        embeddings = tf.stop_gradient(self.bool_mask_not * self.embeddings) + self.bool_mask * self.embeddings\n",
    "        return tf.gather(embeddings,input)\n",
    "    \n",
    "    def get_config(self):\n",
    "\n",
    "        config = super().get_config().copy()\n",
    "        config.update({\n",
    "            'input_dim' : self.input_dim,\n",
    "            'output_dim' : self.output_dim,\n",
    "            'indices_to_update' : self.indices_to_update,\n",
    "            'initializer' : self.initializer\n",
    "        })\n",
    "        return config"
   ]
  },
  {
   "cell_type": "code",
   "execution_count": 43,
   "id": "adopted-omega",
   "metadata": {},
   "outputs": [],
   "source": [
    "missing_indx = tf.constant(missing_idx, dtype=tf.float32)"
   ]
  },
  {
   "cell_type": "code",
   "execution_count": 44,
   "id": "differential-change",
   "metadata": {},
   "outputs": [],
   "source": [
    "class BahdanauAttention(tf.keras.layers.Layer):\n",
    "  def __init__(self, units,**kwargs):\n",
    "    super(BahdanauAttention, self).__init__(**kwargs)\n",
    "    self.units = units\n",
    "    self.W1 = tf.keras.layers.Dense(self.units)\n",
    "    self.W2 = tf.keras.layers.Dense(self.units)\n",
    "    self.V = tf.keras.layers.Dense(1)\n",
    "\n",
    "\n",
    "  def call(self, query, values):\n",
    "    # query hidden state shape == (batch_size, hidden size)\n",
    "    # query_with_time_axis shape == (batch_size, 1, hidden size)\n",
    "    # values shape == (batch_size, max_len, hidden size)\n",
    "    # we are doing this to broadcast addition along the time axis to calculate the score\n",
    "    query_with_time_axis = tf.expand_dims(query, 1)\n",
    "\n",
    "    # score shape == (batch_size, max_length, 1)\n",
    "    # we get 1 at the last axis because we are applying score to self.V\n",
    "    # the shape of the tensor before applying self.V is (batch_size, max_length, units)\n",
    "    score = self.V(tf.nn.tanh(\n",
    "        self.W1(query_with_time_axis) + self.W2(values)))\n",
    "\n",
    "    # attention_weights shape == (batch_size, max_length, 1)\n",
    "    attention_weights = tf.nn.softmax(score, axis=1)\n",
    "\n",
    "    # context_vector shape after sum == (batch_size, hidden_size)\n",
    "    context_vector = attention_weights * values\n",
    "    context_vector = tf.reduce_sum(context_vector, axis=1)\n",
    "\n",
    "    return context_vector, attention_weights\n",
    "\n",
    "  def get_config(self):\n",
    "\n",
    "        config = super().get_config().copy()\n",
    "        config.update({\n",
    "            'units' : self.units,\n",
    "        })\n",
    "        return config"
   ]
  },
  {
   "cell_type": "code",
   "execution_count": 45,
   "id": "northern-appreciation",
   "metadata": {},
   "outputs": [],
   "source": [
    "#encoder\n",
    "enc_input = tf.keras.Input(shape=(None,), name='enc_input')\n",
    "#shared embedding layer\n",
    "if not pretrained_embs:\n",
    "    utter_embedding = tf.keras.layers.Embedding(len(token_mapping), emb_units, name='embedding')\n",
    "else:\n",
    "    emb_units = final_embeddings.shape[1]\n",
    "    if fine_tune:\n",
    "        utter_embedding = tf.keras.layers.Embedding(len(token_mapping), emb_units, weights=[final_embeddings],\n",
    "                                  name='embedding')\n",
    "    else:\n",
    "        utter_embedding = PartialEmbeddingsUpdate(len(token_mapping),emb_units, missing_idx, weights=[final_embeddings],\n",
    "                                             name='embeddings')\n",
    "    \n",
    "embedded_enc = utter_embedding(enc_input)\n",
    "\n",
    "encoder = tf.keras.layers.LSTM(lstm_units, return_sequences=True, return_state=True, name='encoder',\n",
    "                               dropout=0.3\n",
    "                               )\n",
    "encoder_hidden_states, state_h, state_c  = encoder(embedded_enc)\n",
    "\n",
    "#building encoder model\n",
    "encoder = tf.keras.Model(enc_input, [encoder_hidden_states, state_h, state_c])\n",
    "#decoder\n",
    "dec_input = tf.keras.Input(shape=(None,), name='dec_input')\n",
    "dec_state_input_h = tf.keras.Input(shape=(lstm_units,), name='state_h')\n",
    "dec_state_input_c = tf.keras.Input(shape=(lstm_units,), name='state_c')\n",
    "encoder_hidden_states = tf.keras.Input(shape=(None,lstm_units), name='enc_hidden_states')\n",
    "#applying attention\n",
    "attention = BahdanauAttention(attention_units)\n",
    "context_vector, attention_weights = attention(dec_state_input_h,encoder_hidden_states)\n",
    "embedded_dec = utter_embedding(dec_input)\n",
    "inp = tf.concat([tf.expand_dims(context_vector, 1), embedded_dec], axis=-1)\n",
    "decoder = tf.keras.layers.LSTM(lstm_units, return_sequences=True, return_state=True, name='decoder',\n",
    "                              dropout=0.3)                               \n",
    "#giving everything to output layer\n",
    "decoder_hidden_states,  next_state_h, next_state_c  = decoder(inp,initial_state=[dec_state_input_h, dec_state_input_c])\n",
    "decoder_hidden_states = tf.reshape(decoder_hidden_states, (-1, decoder_hidden_states.shape[2]))\n",
    "output_layer = tf.keras.layers.Dense(len(token_mapping), activation=None, name='dense_logits')\n",
    "result = output_layer(decoder_hidden_states)\n",
    "decoder = tf.keras.Model([dec_input, dec_state_input_h, dec_state_input_c, encoder_hidden_states],\n",
    "                         [result, next_state_h, next_state_c, attention_weights])\n"
   ]
  },
  {
   "cell_type": "code",
   "execution_count": 46,
   "id": "experimental-private",
   "metadata": {},
   "outputs": [
    {
     "name": "stdout",
     "output_type": "stream",
     "text": [
      "Model: \"model_2\"\n",
      "_________________________________________________________________\n",
      "Layer (type)                 Output Shape              Param #   \n",
      "=================================================================\n",
      "enc_input (InputLayer)       [(None, None)]            0         \n",
      "_________________________________________________________________\n",
      "embeddings (PartialEmbedding (None, None, 100)         3000300   \n",
      "_________________________________________________________________\n",
      "encoder (LSTM)               [(None, None, 128), (None 117248    \n",
      "=================================================================\n",
      "Total params: 3,117,548\n",
      "Trainable params: 3,117,548\n",
      "Non-trainable params: 0\n",
      "_________________________________________________________________\n"
     ]
    }
   ],
   "source": [
    "encoder.summary()"
   ]
  },
  {
   "cell_type": "code",
   "execution_count": 47,
   "id": "convenient-delay",
   "metadata": {},
   "outputs": [
    {
     "name": "stdout",
     "output_type": "stream",
     "text": [
      "Model: \"model_3\"\n",
      "__________________________________________________________________________________________________\n",
      "Layer (type)                    Output Shape         Param #     Connected to                     \n",
      "==================================================================================================\n",
      "state_h (InputLayer)            [(None, 128)]        0                                            \n",
      "__________________________________________________________________________________________________\n",
      "enc_hidden_states (InputLayer)  [(None, None, 128)]  0                                            \n",
      "__________________________________________________________________________________________________\n",
      "bahdanau_attention_1 (BahdanauA ((None, 128), (None, 16577       state_h[0][0]                    \n",
      "__________________________________________________________________________________________________\n",
      "dec_input (InputLayer)          [(None, None)]       0                                            \n",
      "__________________________________________________________________________________________________\n",
      "tf_op_layer_ExpandDims_1 (Tenso [(None, 1, 128)]     0           bahdanau_attention_1[0][0]       \n",
      "__________________________________________________________________________________________________\n",
      "embeddings (PartialEmbeddingsUp (None, None, 100)    3000300     dec_input[0][0]                  \n",
      "__________________________________________________________________________________________________\n",
      "tf_op_layer_concat_1 (TensorFlo [(None, 1, 228)]     0           tf_op_layer_ExpandDims_1[0][0]   \n",
      "                                                                 embeddings[1][0]                 \n",
      "__________________________________________________________________________________________________\n",
      "state_c (InputLayer)            [(None, 128)]        0                                            \n",
      "__________________________________________________________________________________________________\n",
      "decoder (LSTM)                  [(None, 1, 128), (No 182784      tf_op_layer_concat_1[0][0]       \n",
      "                                                                 state_h[0][0]                    \n",
      "                                                                 state_c[0][0]                    \n",
      "__________________________________________________________________________________________________\n",
      "tf_op_layer_Reshape_1 (TensorFl [(None, 128)]        0           decoder[0][0]                    \n",
      "__________________________________________________________________________________________________\n",
      "dense_logits (Dense)            (None, 30003)        3870387     tf_op_layer_Reshape_1[0][0]      \n",
      "==================================================================================================\n",
      "Total params: 7,070,048\n",
      "Trainable params: 7,070,048\n",
      "Non-trainable params: 0\n",
      "__________________________________________________________________________________________________\n"
     ]
    }
   ],
   "source": [
    "decoder.summary()"
   ]
  },
  {
   "cell_type": "code",
   "execution_count": 48,
   "id": "desperate-flight",
   "metadata": {},
   "outputs": [
    {
     "name": "stdout",
     "output_type": "stream",
     "text": [
      "decoder\n"
     ]
    },
    {
     "data": {
      "image/png": "[encoded data removed]",
      "text/plain": [
       "<IPython.core.display.Image object>"
      ]
     },
     "execution_count": 48,
     "metadata": {},
     "output_type": "execute_result"
    }
   ],
   "source": [
    "from tensorflow.keras.utils import plot_model\n",
    "print('decoder')\n",
    "plot_model(decoder)\n"
   ]
  },
  {
   "cell_type": "code",
   "execution_count": 49,
   "id": "monetary-adolescent",
   "metadata": {},
   "outputs": [
    {
     "name": "stdout",
     "output_type": "stream",
     "text": [
      "encoder\n"
     ]
    },
    {
     "data": {
      "image/png": "[encoded data removed]",
      "text/plain": [
       "<IPython.core.display.Image object>"
      ]
     },
     "execution_count": 49,
     "metadata": {},
     "output_type": "execute_result"
    }
   ],
   "source": [
    "print('encoder')\n",
    "plot_model(encoder)"
   ]
  },
  {
   "cell_type": "markdown",
   "id": "green-adelaide",
   "metadata": {},
   "source": [
    "# Some helpful stuff"
   ]
  },
  {
   "cell_type": "code",
   "execution_count": 101,
   "id": "inclusive-genome",
   "metadata": {},
   "outputs": [],
   "source": [
    "def decode_sequence(x, greedy=False, top_k=50, len_output=50, \n",
    "                   return_attention=False, temperature=1):\n",
    "    encoder_hidden_states, state_h, state_c = encoder(np.expand_dims(x,axis=0))\n",
    "    attention_plot = []\n",
    "\n",
    "    start = token_mapping[start_token]\n",
    "    target_seq = np.zeros((1, 1))\n",
    "    target_seq[0, 0] = token_mapping[start_token]\n",
    "\n",
    "\n",
    "    stop_condition = False\n",
    "    decoded_sentence = ''\n",
    "    res=[]\n",
    "    while True:\n",
    "        # Sample a token\n",
    "          output, state_h, state_c, attention_weights = decoder([target_seq, \n",
    "                                                                        state_h, \n",
    "                                                                        state_c,\n",
    "                                                                        encoder_hidden_states])\n",
    "          attention_weights = tf.reshape(attention_weights, (-1, ))\n",
    "          attention_plot.append(attention_weights.numpy())\n",
    "          output = np.hstack(output)/temperature  \n",
    "          output = tf.nn.softmax(output).numpy()\n",
    "          if greedy:\n",
    "            sampled_token_index = np.argmax(output)\n",
    "          else:  \n",
    "            args = np.argsort(-output)[:top_k]\n",
    "            probs = output[args]\n",
    "            probs = tf.nn.softmax(probs).numpy()\n",
    "            sampled_token_index = np.random.choice(args, size=1, p=probs)[0]\n",
    "\n",
    "          if len(res) > len_output or sampled_token_index==token_mapping[end_token]:\n",
    "              break\n",
    "                \n",
    "          res.append(sampled_token_index)\n",
    "\n",
    "          target_seq = np.zeros((1, 1))\n",
    "          target_seq[0, 0] = sampled_token_index\n",
    "    \n",
    "    attention_plot  = np.array(attention_plot)\n",
    "    if return_attention:\n",
    "        return res, attention_plot\n",
    "    else:\n",
    "        return res"
   ]
  },
  {
   "cell_type": "code",
   "execution_count": 51,
   "id": "animal-russell",
   "metadata": {},
   "outputs": [],
   "source": [
    "def beam_search_predictions(x, beam_size = 3):\n",
    "    start = [token_mapping[start_token]]\n",
    "    encoder_hidden_states, state_h, state_c = encoder(np.expand_dims(x,axis=0))\n",
    "    \n",
    "    start_word = [[start, 0.0, state_h, state_c]]\n",
    "    \n",
    "    \n",
    "    while len(start_word[0][0]) < max_len_tokens:\n",
    "        temp = []\n",
    "        for s in start_word:\n",
    "            target_seq = np.array([[s[0][-1]]])\n",
    "            state_h = s[2]\n",
    "            state_c = s[3]\n",
    "            output, state_h, state_c, attention_weights = decoder([target_seq, \n",
    "                                                                        state_h, \n",
    "                                                                        state_c,\n",
    "                                                                        encoder_hidden_states])\n",
    "            output = np.hstack(output)\n",
    "            output = tf.nn.softmax(output).numpy()\n",
    "            word_preds = np.argsort(output)[-beam_size:]\n",
    "\n",
    "            for w in word_preds:\n",
    "                next_cap, prob = s[0][:], s[1]\n",
    "                next_cap.append(w)\n",
    "                prob += output[w]\n",
    "                temp.append([next_cap, prob, state_h, state_c,])\n",
    "                    \n",
    "        start_word = temp\n",
    "        # Sorting according to the probabilities\n",
    "        start_word = sorted(start_word, reverse=False, key=lambda l: l[1])\n",
    "        # Getting the top words\n",
    "        start_word = start_word[-beam_size:]\n",
    "    \n",
    "    start_word = start_word[-1][0]\n",
    "\n",
    "    final_caption = []\n",
    "    \n",
    "    for i in start_word:\n",
    "        if i != token_mapping[end_token]:\n",
    "            final_caption.append(i)\n",
    "        else:\n",
    "            break    \n",
    "    return final_caption[1:]"
   ]
  },
  {
   "cell_type": "code",
   "execution_count": 52,
   "id": "resident-spirit",
   "metadata": {},
   "outputs": [],
   "source": [
    "def process(x, unk_token):\n",
    "  res = []\n",
    "  for i in x.split(' '):\n",
    "    if token_mapping.get(i):\n",
    "      res.append(i)\n",
    "    elif token_mapping.get(i.lower()):\n",
    "      res.append(i.lower())\n",
    "    else:\n",
    "      res.append(unk_token)\n",
    "  return res"
   ]
  },
  {
   "cell_type": "code",
   "execution_count": 53,
   "id": "recovered-trance",
   "metadata": {},
   "outputs": [],
   "source": [
    "def plot_attention(attention, sentence, predicted_sentence):\n",
    "  fig = plt.figure(figsize=(10,10))\n",
    "  ax = fig.add_subplot(1, 1, 1)\n",
    "  ax.matshow(attention, cmap='viridis')\n",
    "\n",
    "  fontdict = {'fontsize': 14}\n",
    "\n",
    "  ax.set_xticklabels([''] + sentence, fontdict=fontdict, rotation=90)\n",
    "  ax.set_yticklabels([''] + predicted_sentence, fontdict=fontdict)\n",
    "\n",
    "  ax.xaxis.set_major_locator(ticker.MultipleLocator(1))\n",
    "  ax.yaxis.set_major_locator(ticker.MultipleLocator(1))\n",
    "\n",
    "  plt.show()"
   ]
  },
  {
   "cell_type": "code",
   "execution_count": 102,
   "id": "instrumental-marketplace",
   "metadata": {},
   "outputs": [],
   "source": [
    "def give_answer(sentence, pad_unk=True, process_sentence=True, greedy=False,\n",
    "               beam_search=False, beam_size=2, top_k=15, temperature=1, len_output=50, \n",
    "               show_attention=False):\n",
    "  if process_sentence:\n",
    "    cleaned_sentence = uncover_reduction(clean_bad_chars(sentence))\n",
    "    unk_token = pad_token if pad_unk else \"<unk>\"\n",
    "    processed_sentence = process(cleaned_sentence, unk_token)\n",
    "    mapped_sentence = map_to_ids(processed_sentence, token_mapping, end_token, padding_token=pad_token, max_len=max_len_tokens)\n",
    "  else:\n",
    "    mapped_sentence = sentence\n",
    "  if not beam_search:\n",
    "      prediction = decode_sequence(mapped_sentence,greedy,top_k,len_output, return_attention=show_attention, \n",
    "                                  temperature=temperature)\n",
    "      if show_attention:\n",
    "        prediction, attention = prediction\n",
    "  else:\n",
    "      prediction = beam_search_predictions(mapped_sentence, beam_size)\n",
    "  answer = \" \".join([inverse_token_mapping.get(i) for i in prediction]).capitalize()\n",
    "  if show_attention:\n",
    "        plot_attention(attention,sentence.split(' '), answer.split(' '))\n",
    "  return answer\n",
    "  "
   ]
  },
  {
   "cell_type": "code",
   "execution_count": 55,
   "id": "terminal-transcription",
   "metadata": {},
   "outputs": [
    {
     "data": {
      "text/plain": [
       "[5689,\n",
       " 9093,\n",
       " 9076,\n",
       " 7737,\n",
       " 28067,\n",
       " 3494,\n",
       " 12147,\n",
       " 29038,\n",
       " 2151,\n",
       " 4206,\n",
       " 8693,\n",
       " 12937,\n",
       " 9531,\n",
       " 1158,\n",
       " 17381,\n",
       " 11286]"
      ]
     },
     "execution_count": 55,
     "metadata": {},
     "output_type": "execute_result"
    }
   ],
   "source": [
    "res = decode_sequence(X_test_enc[13], False, len_output=15)\n",
    "res"
   ]
  },
  {
   "cell_type": "code",
   "execution_count": 56,
   "id": "crucial-pierre",
   "metadata": {},
   "outputs": [
    {
     "data": {
      "text/plain": [
       "[7712, 22991, 7712, 7712, 28279, 17373, 17373, 17373, 5380]"
      ]
     },
     "execution_count": 56,
     "metadata": {},
     "output_type": "execute_result"
    }
   ],
   "source": [
    "res = beam_search_predictions(X_test_enc[13], 7)\n",
    "res"
   ]
  },
  {
   "cell_type": "markdown",
   "id": "russian-holly",
   "metadata": {},
   "source": [
    "# Training"
   ]
  },
  {
   "cell_type": "code",
   "execution_count": 57,
   "id": "municipal-poison",
   "metadata": {},
   "outputs": [],
   "source": [
    "loss_object = tf.keras.losses.SparseCategoricalCrossentropy(reduction='none',\n",
    "                                                           from_logits=True)\n",
    "\n",
    "def loss_function(real, pred):\n",
    "  mask = tf.math.logical_not(tf.math.equal(real, token_mapping[pad_token]))\n",
    "  loss_ = loss_object(real, pred)\n",
    "\n",
    "  mask = tf.cast(mask, dtype=loss_.dtype)\n",
    "  loss_ *= mask\n",
    "\n",
    "  return tf.reduce_mean(loss_)"
   ]
  },
  {
   "cell_type": "code",
   "execution_count": 58,
   "id": "demanding-australia",
   "metadata": {},
   "outputs": [],
   "source": [
    "optimizer = tf.keras.optimizers.Adam(learning_rate=1e-3)"
   ]
  },
  {
   "cell_type": "code",
   "execution_count": 59,
   "id": "proof-worcester",
   "metadata": {},
   "outputs": [],
   "source": [
    "@tf.function\n",
    "def evaluate(encoder_input, decoder_input, target):\n",
    "    loss = 0\n",
    "    enc_hidden_states, state_h, state_c  = encoder(encoder_input)\n",
    "    # Teacher forcing - feeding the target as the next input\n",
    "    for t in range(decoder_input.shape[1]):\n",
    "      # passing enc_output to the decoder\n",
    "      dec_input = tf.expand_dims(decoder_input[:, t], 1) \n",
    "      result, state_h, state_c, attention_weights = decoder([dec_input, \n",
    "                                                             state_h, \n",
    "                                                             state_c, \n",
    "                                                             enc_hidden_states])\n",
    "      \n",
    "\n",
    "      loss += loss_function(target[:, t], result)\n",
    "    batch_loss = (loss / int(target.shape[1]))\n",
    "    batch_perplexity = tf.exp(batch_loss)\n",
    "    return batch_loss, batch_perplexity"
   ]
  },
  {
   "cell_type": "code",
   "execution_count": 60,
   "id": "thorough-memory",
   "metadata": {},
   "outputs": [],
   "source": [
    "@tf.function\n",
    "def train_step(encoder_input, decoder_input, target):\n",
    "  loss = 0\n",
    "\n",
    "  with tf.GradientTape() as tape:\n",
    "    enc_hidden_states, state_h, state_c  = encoder(encoder_input)\n",
    "    # Teacher forcing - feeding the target as the next input\n",
    "    for t in range(decoder_input.shape[1]):\n",
    "      # passing enc_output to the decoder\n",
    "      dec_input = tf.expand_dims(decoder_input[:, t], 1) \n",
    "      result, state_h, state_c, attention_weights = decoder([dec_input, \n",
    "                                                             state_h, \n",
    "                                                             state_c, \n",
    "                                                             enc_hidden_states])\n",
    "      \n",
    "\n",
    "      loss += loss_function(target[:, t], result)\n",
    "\n",
    "\n",
    "  batch_loss = (loss / int(target.shape[1]))\n",
    "  batch_perplexity = tf.exp(batch_loss)\n",
    "\n",
    "\n",
    "  variables = encoder.trainable_variables + decoder.trainable_variables\n",
    "  gradients = tape.gradient(loss, variables)\n",
    "\n",
    "\n",
    "  optimizer.apply_gradients(zip(gradients, variables))\n",
    "\n",
    "  return batch_loss, batch_perplexity"
   ]
  },
  {
   "cell_type": "code",
   "execution_count": 61,
   "id": "color-procurement",
   "metadata": {},
   "outputs": [],
   "source": [
    "batch_size = 256\n",
    "\n",
    "train_dataset = tf.data.Dataset.from_tensor_slices((X_train_enc, X_train_dec, y_train)).shuffle(len(X_train_enc))\n",
    "train_dataset = train_dataset.batch(batch_size, drop_remainder=True)\n",
    "\n",
    "test_datest = tf.data.Dataset.from_tensor_slices((X_test_enc, X_test_dec, y_test)).shuffle(len(X_test_enc))\n",
    "test_datest = test_datest.batch(batch_size, drop_remainder=True)"
   ]
  },
  {
   "cell_type": "code",
   "execution_count": 62,
   "id": "nasty-stopping",
   "metadata": {},
   "outputs": [
    {
     "name": "stderr",
     "output_type": "stream",
     "text": [
      "\r",
      "  0%|          | 0/300 [00:00<?, ?it/s]"
     ]
    },
    {
     "name": "stdout",
     "output_type": "stream",
     "text": [
      "\n",
      "\n",
      "Epoch 0 train loss 4.2459 train perplexity 114.2838\n",
      "\n",
      "\n",
      "Epoch 0 validation loss 3.8680 validation perplexity 48.1035\n",
      "\n",
      "\n",
      "------------------------------\n",
      "Test sentence : so what will you do ? after they give <end>\n",
      "Model answer : I do not not not not .\n",
      "------------------------------\n",
      "------------------------------\n",
      "Test sentence : they are taking off . <end> <pad> <pad> <pad> <pad>\n",
      "Model answer : I do not not not .\n",
      "------------------------------\n",
      "------------------------------\n",
      "Test sentence : yes . yes it is . <end> <pad> <pad> <pad>\n",
      "Model answer : I do not not not not .\n",
      "------------------------------\n",
      "------------------------------\n",
      "Test sentence : sorry luv . i have got a date . <end>\n",
      "Model answer : I do not not not .\n",
      "------------------------------\n",
      "------------------------------\n",
      "Test sentence : civil ? i am civil . <end> <pad> <pad> <pad>\n"
     ]
    },
    {
     "name": "stderr",
     "output_type": "stream",
     "text": [
      "\r",
      "  0%|          | 1/300 [02:00<10:02:33, 120.92s/it]"
     ]
    },
    {
     "name": "stdout",
     "output_type": "stream",
     "text": [
      "Model answer : No .\n",
      "------------------------------\n",
      "\n",
      "\n",
      "Epoch 1 train loss 3.7011 train perplexity 40.7720\n"
     ]
    },
    {
     "name": "stderr",
     "output_type": "stream",
     "text": [
      "\r",
      "  1%|          | 2/300 [03:49<9:23:08, 113.38s/it] "
     ]
    },
    {
     "name": "stdout",
     "output_type": "stream",
     "text": [
      "\n",
      "\n",
      "Epoch 1 validation loss 3.6325 validation perplexity 37.9833\n",
      "\n",
      "\n",
      "\n",
      "\n",
      "Epoch 2 train loss 3.5290 train perplexity 34.2799\n"
     ]
    },
    {
     "name": "stderr",
     "output_type": "stream",
     "text": [
      "\r",
      "  1%|          | 3/300 [05:37<9:09:13, 110.96s/it]"
     ]
    },
    {
     "name": "stdout",
     "output_type": "stream",
     "text": [
      "\n",
      "\n",
      "Epoch 2 validation loss 3.5160 validation perplexity 33.8150\n",
      "\n",
      "\n",
      "\n",
      "\n",
      "Epoch 3 train loss 3.4260 train perplexity 30.9064\n"
     ]
    },
    {
     "name": "stderr",
     "output_type": "stream",
     "text": [
      "\r",
      "  1%|▏         | 4/300 [07:28<9:07:52, 111.06s/it]"
     ]
    },
    {
     "name": "stdout",
     "output_type": "stream",
     "text": [
      "\n",
      "\n",
      "Epoch 3 validation loss 3.4466 validation perplexity 31.5549\n",
      "\n",
      "\n",
      "\n",
      "\n",
      "Epoch 4 train loss 3.3561 train perplexity 28.8388\n"
     ]
    },
    {
     "name": "stderr",
     "output_type": "stream",
     "text": [
      "\r",
      "  2%|▏         | 5/300 [09:16<9:01:02, 110.04s/it]"
     ]
    },
    {
     "name": "stdout",
     "output_type": "stream",
     "text": [
      "\n",
      "\n",
      "Epoch 4 validation loss 3.4044 validation perplexity 30.2112\n",
      "\n",
      "\n",
      "\n",
      "\n",
      "Epoch 5 train loss 3.3024 train perplexity 27.2965\n",
      "\n",
      "\n",
      "Epoch 5 validation loss 3.3681 validation perplexity 29.1445\n",
      "\n",
      "\n",
      "------------------------------\n",
      "Test sentence : nigga you got knock the fuck out . <end> <pad>\n",
      "Model answer : I do not know .\n",
      "------------------------------\n",
      "------------------------------\n",
      "Test sentence : charlie ! <end> <pad> <pad> <pad> <pad> <pad> <pad> <pad>\n",
      "Model answer : What ?\n",
      "------------------------------\n",
      "------------------------------\n",
      "Test sentence : that was my last . <end> <pad> <pad> <pad> <pad>\n",
      "Model answer : I do not know .\n",
      "------------------------------\n",
      "------------------------------\n",
      "Test sentence : sure baby . <unk> i do not ever have <end>\n"
     ]
    },
    {
     "name": "stderr",
     "output_type": "stream",
     "text": [
      "\r",
      "  2%|▏         | 6/300 [11:05<8:57:58, 109.79s/it]"
     ]
    },
    {
     "name": "stdout",
     "output_type": "stream",
     "text": [
      "Model answer : I do not know .\n",
      "------------------------------\n",
      "------------------------------\n",
      "Test sentence : you have a name missy ? <end> <pad> <pad> <pad>\n",
      "Model answer : Yes .\n",
      "------------------------------\n",
      "\n",
      "\n",
      "Epoch 6 train loss 3.2577 train perplexity 26.0972\n"
     ]
    },
    {
     "name": "stderr",
     "output_type": "stream",
     "text": [
      "\r",
      "  2%|▏         | 7/300 [12:54<8:53:39, 109.28s/it]"
     ]
    },
    {
     "name": "stdout",
     "output_type": "stream",
     "text": [
      "\n",
      "\n",
      "Epoch 6 validation loss 3.3420 validation perplexity 28.4537\n",
      "\n",
      "\n",
      "\n",
      "\n",
      "Epoch 7 train loss 3.2196 train perplexity 25.1282\n"
     ]
    },
    {
     "name": "stderr",
     "output_type": "stream",
     "text": [
      "\r",
      "  3%|▎         | 8/300 [14:42<8:50:10, 108.94s/it]"
     ]
    },
    {
     "name": "stdout",
     "output_type": "stream",
     "text": [
      "\n",
      "\n",
      "Epoch 7 validation loss 3.3244 validation perplexity 27.8932\n",
      "\n",
      "\n",
      "\n",
      "\n",
      "Epoch 8 train loss 3.1865 train perplexity 24.3154\n"
     ]
    },
    {
     "name": "stderr",
     "output_type": "stream",
     "text": [
      "\r",
      "  3%|▎         | 9/300 [16:30<8:47:15, 108.71s/it]"
     ]
    },
    {
     "name": "stdout",
     "output_type": "stream",
     "text": [
      "\n",
      "\n",
      "Epoch 8 validation loss 3.3092 validation perplexity 27.4668\n",
      "\n",
      "\n",
      "\n",
      "\n",
      "Epoch 9 train loss 3.1572 train perplexity 23.6126\n"
     ]
    },
    {
     "name": "stderr",
     "output_type": "stream",
     "text": [
      "\r",
      "  3%|▎         | 10/300 [18:18<8:44:38, 108.55s/it]"
     ]
    },
    {
     "name": "stdout",
     "output_type": "stream",
     "text": [
      "\n",
      "\n",
      "Epoch 9 validation loss 3.2998 validation perplexity 27.2274\n",
      "\n",
      "\n",
      "\n",
      "\n",
      "Epoch 10 train loss 3.1307 train perplexity 22.9828\n",
      "\n",
      "\n",
      "Epoch 10 validation loss 3.2903 validation perplexity 26.9892\n",
      "\n",
      "\n",
      "------------------------------\n",
      "Test sentence : i will be back later . you just be <end>\n",
      "Model answer : I do not know .\n",
      "------------------------------\n",
      "------------------------------\n",
      "Test sentence : thirty five thousand sir . coins and currency . <end>\n",
      "Model answer : What ?\n",
      "------------------------------\n",
      "------------------------------\n",
      "Test sentence : the last Sankara stone . <end> <pad> <pad> <pad> <pad>\n",
      "Model answer : I do not know .\n",
      "------------------------------\n",
      "------------------------------\n",
      "Test sentence : yes i do ! <end> <pad> <pad> <pad> <pad> <pad>\n",
      "Model answer : I do not know .\n",
      "------------------------------\n",
      "------------------------------\n",
      "Test sentence : hey do you know something ? she supports a <end>\n"
     ]
    },
    {
     "name": "stderr",
     "output_type": "stream",
     "text": [
      "\r",
      "  4%|▎         | 11/300 [20:07<8:43:46, 108.74s/it]"
     ]
    },
    {
     "name": "stdout",
     "output_type": "stream",
     "text": [
      "Model answer : I do not know .\n",
      "------------------------------\n",
      "\n",
      "\n",
      "Epoch 11 train loss 3.1065 train perplexity 22.4377\n"
     ]
    },
    {
     "name": "stderr",
     "output_type": "stream",
     "text": [
      "\r",
      "  4%|▍         | 12/300 [21:56<8:41:11, 108.58s/it]"
     ]
    },
    {
     "name": "stdout",
     "output_type": "stream",
     "text": [
      "\n",
      "\n",
      "Epoch 11 validation loss 3.2842 validation perplexity 26.7945\n",
      "\n",
      "\n",
      "\n",
      "\n",
      "Epoch 12 train loss 3.0844 train perplexity 21.9300\n"
     ]
    },
    {
     "name": "stderr",
     "output_type": "stream",
     "text": [
      "\r",
      "  4%|▍         | 13/300 [23:44<8:38:43, 108.45s/it]"
     ]
    },
    {
     "name": "stdout",
     "output_type": "stream",
     "text": [
      "\n",
      "\n",
      "Epoch 12 validation loss 3.2827 validation perplexity 26.7844\n",
      "\n",
      "\n",
      "\n",
      "\n",
      "Epoch 13 train loss 3.0641 train perplexity 21.4919\n"
     ]
    },
    {
     "name": "stderr",
     "output_type": "stream",
     "text": [
      "\r",
      "  5%|▍         | 14/300 [25:32<8:36:32, 108.37s/it]"
     ]
    },
    {
     "name": "stdout",
     "output_type": "stream",
     "text": [
      "\n",
      "\n",
      "Epoch 13 validation loss 3.2793 validation perplexity 26.7193\n",
      "\n",
      "\n",
      "\n",
      "\n",
      "Epoch 14 train loss 3.0449 train perplexity 21.0878\n"
     ]
    },
    {
     "name": "stderr",
     "output_type": "stream",
     "text": [
      "\r",
      "  5%|▌         | 15/300 [27:21<8:35:10, 108.46s/it]"
     ]
    },
    {
     "name": "stdout",
     "output_type": "stream",
     "text": [
      "\n",
      "\n",
      "Epoch 14 validation loss 3.2771 validation perplexity 26.6264\n",
      "\n",
      "\n",
      "\n",
      "\n",
      "Epoch 15 train loss 3.0274 train perplexity 20.7226\n",
      "\n",
      "\n",
      "Epoch 15 validation loss 3.2793 validation perplexity 26.6609\n",
      "\n",
      "\n",
      "------------------------------\n",
      "Test sentence : i know . you told me . it is <end>\n",
      "Model answer : I do not know .\n",
      "------------------------------\n",
      "------------------------------\n",
      "Test sentence : you burned the score ? <end> <pad> <pad> <pad> <pad>\n",
      "Model answer : Yes .\n",
      "------------------------------\n",
      "------------------------------\n",
      "Test sentence : you do not believe in the force ? <end> <pad>\n",
      "Model answer : I do not know .\n",
      "------------------------------\n",
      "------------------------------\n",
      "Test sentence : he is nuts about you . <end> <pad> <pad> <pad>\n",
      "Model answer : What ?\n",
      "------------------------------\n",
      "------------------------------\n",
      "Test sentence : it is crucifying him ! <end> <pad> <pad> <pad> <pad>\n"
     ]
    },
    {
     "name": "stderr",
     "output_type": "stream",
     "text": [
      "\r",
      "  5%|▌         | 16/300 [29:10<8:34:25, 108.68s/it]"
     ]
    },
    {
     "name": "stdout",
     "output_type": "stream",
     "text": [
      "Model answer : What ?\n",
      "------------------------------\n",
      "\n",
      "\n",
      "Epoch 16 train loss 3.0110 train perplexity 20.3864\n"
     ]
    },
    {
     "name": "stderr",
     "output_type": "stream",
     "text": [
      "\r",
      "  6%|▌         | 17/300 [30:58<8:32:03, 108.56s/it]"
     ]
    },
    {
     "name": "stdout",
     "output_type": "stream",
     "text": [
      "\n",
      "\n",
      "Epoch 16 validation loss 3.2804 validation perplexity 26.7061\n",
      "\n",
      "\n",
      "\n",
      "\n",
      "Epoch 17 train loss 2.9957 train perplexity 20.0763\n"
     ]
    },
    {
     "name": "stderr",
     "output_type": "stream",
     "text": [
      "\r",
      "  6%|▌         | 18/300 [32:46<8:29:54, 108.49s/it]"
     ]
    },
    {
     "name": "stdout",
     "output_type": "stream",
     "text": [
      "\n",
      "\n",
      "Epoch 17 validation loss 3.2815 validation perplexity 26.7349\n",
      "\n",
      "\n",
      "\n",
      "\n",
      "Epoch 18 train loss 2.9812 train perplexity 19.7894\n"
     ]
    },
    {
     "name": "stderr",
     "output_type": "stream",
     "text": [
      "\r",
      "  6%|▋         | 19/300 [34:34<8:27:32, 108.37s/it]"
     ]
    },
    {
     "name": "stdout",
     "output_type": "stream",
     "text": [
      "\n",
      "\n",
      "Epoch 18 validation loss 3.2845 validation perplexity 26.8630\n",
      "\n",
      "\n",
      "\n",
      "\n",
      "Epoch 19 train loss 2.9673 train perplexity 19.5104\n"
     ]
    },
    {
     "name": "stderr",
     "output_type": "stream",
     "text": [
      "\r",
      "  7%|▋         | 20/300 [36:23<8:25:40, 108.36s/it]"
     ]
    },
    {
     "name": "stdout",
     "output_type": "stream",
     "text": [
      "\n",
      "\n",
      "Epoch 19 validation loss 3.2863 validation perplexity 26.8995\n",
      "\n",
      "\n",
      "\n",
      "\n",
      "Epoch 20 train loss 2.9542 train perplexity 19.2553\n",
      "\n",
      "\n",
      "Epoch 20 validation loss 3.2904 validation perplexity 27.0010\n",
      "\n",
      "\n",
      "------------------------------\n",
      "Test sentence : i thought i told you to lose this guy <end>\n",
      "Model answer : I do not know .\n",
      "------------------------------\n",
      "------------------------------\n",
      "Test sentence : don t they have a limit at those machines <end>\n",
      "Model answer : I do not know .\n",
      "------------------------------\n",
      "------------------------------\n",
      "Test sentence : what ? <end> <pad> <pad> <pad> <pad> <pad> <pad> <pad>\n",
      "Model answer : I do not know . it is just a\n",
      "------------------------------\n",
      "------------------------------\n",
      "Test sentence : i cannot find the second one sir . <end> <pad>\n"
     ]
    },
    {
     "name": "stderr",
     "output_type": "stream",
     "text": [
      "\r",
      "  7%|▋         | 21/300 [38:12<8:24:59, 108.60s/it]"
     ]
    },
    {
     "name": "stdout",
     "output_type": "stream",
     "text": [
      "Model answer : No .\n",
      "------------------------------\n",
      "------------------------------\n",
      "Test sentence : yeah . <end> <pad> <pad> <pad> <pad> <pad> <pad> <pad>\n",
      "Model answer : I am sorry .\n",
      "------------------------------\n",
      "\n",
      "\n",
      "Epoch 21 train loss 2.9420 train perplexity 19.0158\n"
     ]
    },
    {
     "name": "stderr",
     "output_type": "stream",
     "text": [
      "\r",
      "  7%|▋         | 22/300 [40:00<8:22:34, 108.47s/it]"
     ]
    },
    {
     "name": "stdout",
     "output_type": "stream",
     "text": [
      "\n",
      "\n",
      "Epoch 21 validation loss 3.2922 validation perplexity 27.0436\n",
      "\n",
      "\n",
      "\n",
      "\n",
      "Epoch 22 train loss 2.9299 train perplexity 18.7872\n"
     ]
    },
    {
     "name": "stderr",
     "output_type": "stream",
     "text": [
      "\r",
      "  8%|▊         | 23/300 [41:48<8:20:19, 108.37s/it]"
     ]
    },
    {
     "name": "stdout",
     "output_type": "stream",
     "text": [
      "\n",
      "\n",
      "Epoch 22 validation loss 3.2991 validation perplexity 27.2437\n",
      "\n",
      "\n",
      "\n",
      "\n",
      "Epoch 23 train loss 2.9185 train perplexity 18.5849\n"
     ]
    },
    {
     "name": "stderr",
     "output_type": "stream",
     "text": [
      "\r",
      "  8%|▊         | 24/300 [43:37<8:18:29, 108.37s/it]"
     ]
    },
    {
     "name": "stdout",
     "output_type": "stream",
     "text": [
      "\n",
      "\n",
      "Epoch 23 validation loss 3.3015 validation perplexity 27.3025\n",
      "\n",
      "\n",
      "\n",
      "\n",
      "Epoch 24 train loss 2.9076 train perplexity 18.3703\n"
     ]
    },
    {
     "name": "stderr",
     "output_type": "stream",
     "text": [
      "\r",
      "  8%|▊         | 24/300 [45:26<8:42:38, 113.62s/it]"
     ]
    },
    {
     "name": "stdout",
     "output_type": "stream",
     "text": [
      "\n",
      "\n",
      "Epoch 24 validation loss 3.3090 validation perplexity 27.4893\n",
      "\n",
      "\n",
      "Validation loss has not improved for last 24 epochs, stopping training!\n"
     ]
    },
    {
     "name": "stderr",
     "output_type": "stream",
     "text": [
      "\n"
     ]
    }
   ],
   "source": [
    "from datetime import datetime\n",
    "now_date = datetime.strftime(datetime.now(), \"%Y-%m-%d\")\n",
    "steps_per_epoch = X_train_enc.shape[0]//batch_size\n",
    "epochs = 300\n",
    "cut_epoch = 10\n",
    "train_loss = []\n",
    "val_loss = []\n",
    "train_perplexity = []\n",
    "val_perplexity = []\n",
    "val_loss_bound = 0\n",
    "epochs_overfit = 0\n",
    "for epoch in tqdm.tqdm(range(epochs)):\n",
    "    total_train_loss = []\n",
    "    total_val_loss = []\n",
    "    total_train_perplexity = []\n",
    "    total_val_perplexity = []\n",
    "    \n",
    "    for batched_x_enc, batched_x_dec, batched_y in train_dataset.take(steps_per_epoch):\n",
    "        batch_loss, batch_perplexity = train_step(np.array(batched_x_enc),np.array(batched_x_dec), np.array(batched_y))\n",
    "        total_train_loss.append(batch_loss)\n",
    "        total_train_perplexity.append(batch_perplexity)\n",
    "        \n",
    "    total_train_perplexity = np.mean(total_train_perplexity)\n",
    "    total_train_loss = np.mean(total_train_loss)\n",
    "    \n",
    "    print('\\n')\n",
    "    print('Epoch {} train loss {:.4f} train perplexity {:.4f}'.format(epoch,\n",
    "                                      total_train_loss, total_train_perplexity))\n",
    "    \n",
    "    for batched_x_test_enc, batched_x_test_dec, batched_test_y in test_datest.take(steps_per_epoch):\n",
    "        batch_loss, batch_perplexity = evaluate(np.array(batched_x_test_enc),np.array(batched_x_test_dec), np.array(batched_test_y))\n",
    "        total_val_loss.append(batch_loss)\n",
    "        total_val_perplexity.append(batch_perplexity)\n",
    "        \n",
    "    total_val_perplexity = np.mean(total_val_perplexity)\n",
    "    total_val_loss = np.mean(total_val_loss)\n",
    "    \n",
    "    if epoch==0:\n",
    "        val_loss_bound = total_val_loss\n",
    "        \n",
    "    if total_val_loss>val_loss_bound:\n",
    "        epochs_overfit+=1\n",
    "        if epochs_overfit==1:\n",
    "            encoder.save('../models/encoder_date:{}_fine_tune:{}_mode:{}_epoch:{}.h5'.format(now_date, fine_tune,mode, epoch,))\n",
    "            decoder.save('../models/decoder_date:{}_fine_tune:{}_mode:{}_epoch:{}.h5'.format(now_date,fine_tune,mode,epoch))\n",
    "    else:\n",
    "        val_loss_bound=total_val_loss\n",
    "        epochs_overfit=0\n",
    "    \n",
    "        \n",
    "    print('\\n')\n",
    "    print('Epoch {} validation loss {:.4f} validation perplexity {:.4f}'.format(epoch,\n",
    "                                                            total_val_loss,\n",
    "                                                             total_val_perplexity))\n",
    "    print('\\n')\n",
    "    \n",
    "    train_loss.append(total_train_loss)\n",
    "    train_perplexity.append(total_train_perplexity)\n",
    "    val_loss.append(total_val_loss)\n",
    "    val_perplexity.append(total_val_perplexity)\n",
    "    \n",
    "    if epoch%5==0:\n",
    "      test_sentences = np.random.choice(X_test_enc.shape[0], 5)\n",
    "      test_sentences = X_test_enc[test_sentences]\n",
    "      for sentence in test_sentences:\n",
    "        print(30*'-')\n",
    "        print('Test sentence : {}'.format(' '.join([inverse_token_mapping.get(i) for i in sentence])))\n",
    "        answer = give_answer(sentence,process_sentence=False, beam_search=True, beam_size=3)\n",
    "        print(\"Model answer : {}\".format(answer))\n",
    "        print(30*'-')\n",
    "        \n",
    "    if epochs_overfit==cut_epoch:\n",
    "       print('Validation loss has not improved for last {} epochs, stopping training!'.format(cut_epoch))\n",
    "       break"
   ]
  },
  {
   "cell_type": "markdown",
   "id": "convertible-lighter",
   "metadata": {},
   "source": [
    "# Training history plot"
   ]
  },
  {
   "cell_type": "code",
   "execution_count": 67,
   "id": "proper-tampa",
   "metadata": {},
   "outputs": [
    {
     "data": {
      "image/png": "[encoded data removed]",
      "text/plain": [
       "<Figure size 1080x864 with 1 Axes>"
      ]
     },
     "metadata": {},
     "output_type": "display_data"
    }
   ],
   "source": [
    "plt.figure(figsize=(15,12))\n",
    "plt.plot(train_perplexity)\n",
    "plt.plot(val_perplexity)\n",
    "plt.yticks(np.arange(min(train_perplexity), max(train_perplexity),2))\n",
    "plt.legend(['Train perplexity','Val perplexity'])\n",
    "plt.title('Perplexity ');"
   ]
  },
  {
   "cell_type": "code",
   "execution_count": 68,
   "id": "conditional-strike",
   "metadata": {},
   "outputs": [
    {
     "data": {
      "image/png": "[encoded data removed]",
      "text/plain": [
       "<Figure size 1080x864 with 1 Axes>"
      ]
     },
     "metadata": {},
     "output_type": "display_data"
    }
   ],
   "source": [
    "plt.figure(figsize=(15,12))\n",
    "plt.plot(train_loss)\n",
    "plt.plot(val_loss)\n",
    "plt.yticks(np.arange(min(train_loss), max(train_loss),0.1))\n",
    "plt.legend(['Train loss','Val loss'])\n",
    "plt.title('Loss ');"
   ]
  },
  {
   "cell_type": "markdown",
   "id": "facial-economy",
   "metadata": {},
   "source": [
    "# Loading the model"
   ]
  },
  {
   "cell_type": "code",
   "execution_count": 85,
   "id": "funny-shaft",
   "metadata": {},
   "outputs": [
    {
     "name": "stdout",
     "output_type": "stream",
     "text": [
      "WARNING:tensorflow:No training configuration found in the save file, so the model was *not* compiled. Compile it manually.\n",
      "WARNING:tensorflow:No training configuration found in the save file, so the model was *not* compiled. Compile it manually.\n"
     ]
    }
   ],
   "source": [
    "encoder = tf.keras.models.load_model('../models/encoder_date:2021-02-23_fine_tune:False_mode:custom_epoch:11.h5', \n",
    "                                     custom_objects={\"PartialEmbeddingsUpdate\" : PartialEmbeddingsUpdate})\n",
    "decoder = tf.keras.models.load_model('../models/decoder_date:2021-02-23_fine_tune:False_mode:custom_epoch:11.h5',\n",
    "                                    custom_objects={\"PartialEmbeddingsUpdate\" : PartialEmbeddingsUpdate,\n",
    "                                                   \"BahdanauAttention\":BahdanauAttention})"
   ]
  },
  {
   "cell_type": "code",
   "execution_count": 88,
   "id": "revolutionary-tucson",
   "metadata": {},
   "outputs": [],
   "source": [
    "max_len_tokens = 20"
   ]
  },
  {
   "cell_type": "markdown",
   "id": "modular-affairs",
   "metadata": {},
   "source": [
    "# Dialogue generation and question answering"
   ]
  },
  {
   "cell_type": "code",
   "execution_count": 95,
   "id": "solved-lambda",
   "metadata": {},
   "outputs": [
    {
     "name": "stdout",
     "output_type": "stream",
     "text": [
      "------------------------------\n",
      "Test replica : hey you!\n",
      "Bot greedy answer : I am not going to do it !\n",
      "Bot sampled answer : Hello !\n",
      "Bot beam search answer : I am sorry .\n",
      "------------------------------\n",
      "------------------------------\n",
      "Test replica : hello\n",
      "Bot greedy answer : Hello .\n",
      "Bot sampled answer : Hi !\n",
      "Bot beam search answer : Hi .\n",
      "------------------------------\n",
      "------------------------------\n",
      "Test replica : hi\n",
      "Bot greedy answer : Hi .\n",
      "Bot sampled answer : You are . my wife is she ?\n",
      "Bot beam search answer : Hi .\n",
      "------------------------------\n",
      "------------------------------\n",
      "Test replica : how are you?\n",
      "Bot greedy answer : I am fine .\n",
      "Bot sampled answer : Fine .\n",
      "Bot beam search answer : Fine .\n",
      "------------------------------\n",
      "------------------------------\n",
      "Test replica : have you ever been to USA?\n",
      "Bot greedy answer : No .\n",
      "Bot sampled answer : Of course .\n",
      "Bot beam search answer : I do not know .\n",
      "------------------------------\n",
      "------------------------------\n",
      "Test replica : where are you from?\n",
      "Bot greedy answer : I am going to see the phone .\n",
      "Bot sampled answer : We have the money . it is a bad long .\n",
      "Bot beam search answer : I do not know .\n",
      "------------------------------\n",
      "------------------------------\n",
      "Test replica : what do you think about marriage?\n",
      "Bot greedy answer : I do not know .\n",
      "Bot sampled answer : That is why i cannot do to believe !\n",
      "Bot beam search answer : I do not know .\n",
      "------------------------------\n",
      "------------------------------\n",
      "Test replica : I need your help\n",
      "Bot greedy answer : I am not going to be a good .\n",
      "Bot sampled answer : The thing i have you got to go with me . i was wondering if i wanted to keep\n",
      "Bot beam search answer : I am not going to do it .\n",
      "------------------------------\n",
      "------------------------------\n",
      "Test replica : Where do you recommend me to go?\n",
      "Bot greedy answer : I am not going to be a good .\n",
      "Bot sampled answer : If you could get me out of that !\n",
      "Bot beam search answer : No .\n",
      "------------------------------\n",
      "------------------------------\n",
      "Test replica : you are under arrest!\n",
      "Bot greedy answer : I am not .\n",
      "Bot sampled answer : What do i do ?\n",
      "Bot beam search answer : No !\n",
      "------------------------------\n",
      "------------------------------\n",
      "Test replica : want to fuck me?\n",
      "Bot greedy answer : I am not going to do it .\n",
      "Bot sampled answer : Do not mind my money ! my names .\n",
      "Bot beam search answer : No .\n",
      "------------------------------\n",
      "------------------------------\n",
      "Test replica : see you\n",
      "Bot greedy answer : I am not .\n",
      "Bot sampled answer : I can do . i would know you are gonna get excited and he was a very girl .\n",
      "Bot beam search answer : I am sorry .\n",
      "------------------------------\n",
      "------------------------------\n",
      "Test replica : you are shit\n",
      "Bot greedy answer : I am not .\n",
      "Bot sampled answer : I think we had nothing .\n",
      "Bot beam search answer : I am sorry .\n",
      "------------------------------\n"
     ]
    }
   ],
   "source": [
    "replicas = ['hey you!',\n",
    "            'hello',\n",
    "            'hi',\n",
    "            'how are you?',\n",
    "            'have you ever been to USA?',\n",
    "            'where are you from?',\n",
    "            'what do you think about marriage?',\n",
    "             'I need your help',\n",
    "           'Where do you recommend me to go?',\n",
    "           'you are under arrest!',\n",
    "           'want to fuck me?',\n",
    "           'see you',\n",
    "           'you are shit']\n",
    "for i in replicas:\n",
    "    greedy_answer = give_answer(i, greedy=True)\n",
    "    sampled_answer = give_answer(i, greedy=False, top_k=25)\n",
    "    beam_search_answer = give_answer(i, beam_search=True, beam_size=2)\n",
    "    print(30*'-')\n",
    "    print('Test replica : {}'.format(i))\n",
    "    print('Bot greedy answer : {}'.format(greedy_answer))\n",
    "    print('Bot sampled answer : {}'.format(sampled_answer))\n",
    "    print('Bot beam search answer : {}'.format(beam_search_answer))\n",
    "    print(30*'-')\n"
   ]
  },
  {
   "cell_type": "markdown",
   "id": "banned-master",
   "metadata": {},
   "source": [
    "# Generation of gabberish monologue"
   ]
  },
  {
   "cell_type": "code",
   "execution_count": 148,
   "id": "passing-payment",
   "metadata": {},
   "outputs": [
    {
     "name": "stdout",
     "output_type": "stream",
     "text": [
      "i am very sad\n",
      "Start of an everlasting monologue..\n",
      "------------------------------\n",
      "If it has has given me an idea\n",
      "We will need more money that money\n",
      "If why they they just gonna catch me ! just let this man man and get it to the city it\n",
      "But do something we have something we do\n",
      "I want this !\n",
      "No one man of them the man whos u to come to school here ! but ! they would come go\n",
      "What else you do we should need him up here with my job u ? the guy with your\n",
      "I do but he needs his job on all that money it ? do a time ? i know ? you\n",
      "No . . you did she ? so we know this one ? did what the hells got going with <unk>\n",
      ". he called all kinds years that\n",
      "I am in love !\n",
      "It will be a wonderful little lady to a lot you think ! well not you will be seeing right with\n",
      "But theres some no way they get not there but this guy . this man can give you two or with\n",
      "Oh it cannot it i just need something ! how about our fucking business and now we did something see i\n",
      "The whole thing is not we cannot ? you would do this thing or we want the <unk> . do my\n",
      "The truth would we will kill somebody to get back in here ! go on you ! i will see you\n",
      "Yes no way\n",
      "The way way i would never mind\n",
      "He may to tell that what they they are ? and they took a chance and you did not do it\n",
      "That could just happened out to . that way when was that is true that could get up here and when\n",
      "Do that now i just want to think we ai got you on this ship in the city floor just now\n",
      "I would go back now we just walk on some ice from in that chair . theres an example with no\n",
      "No they want i just get in that side on your ass i have . it is . not come\n",
      "Yes we need my car . we are doing ! now here ! and listen ! why should get catch .\n",
      "Okay just relax it . my brother will not do ! it it for him will kill the right i with\n",
      "Well do not you like us me the fuck do what he said to tell about the one he\n",
      "So did you like any a drink at least and she cannot tell . that you did me for once all\n",
      "Well he could tell that why was my brother did me and he would better .\n",
      "How the one was his son to be one . the guy one guy who is to make us look why\n",
      "Is right to get to my ? it has called my family to be his mothers mother i will love and\n",
      "No no good good i do\n",
      "It will do we all all right . now we need for money time that can i get to my right\n",
      "Yeah it looks wonderful is . they cannot do . the problem are right i would love if that\n",
      "Yeah and that can i take something something . if i they think she does it he cannot be think even\n",
      "It should happen for his job . do i do to get a thing one . i think of of where\n",
      "Who knows cares . if your life would do have been an an idiot . i love what he the the\n",
      "Well we could take a message a <unk> to find something about a long one day month of time they now\n",
      "Why it on a new yorker\n",
      "The way of that shit out they ai the u is wrong and we just sit into them into <unk> it\n",
      "What about what the world to live and the first do all it with that the world of the same why\n",
      "Do we believe to get rid of the ship is a nice good thing to know a lot or\n",
      "Do he know how can we make your hands up at their place when when is in ?\n",
      "A good way ahead go ! let it !\n",
      "Okay that ai i done something i have come with my wife ?\n",
      "Yes ! he ai is on him in here you are not crazy to him a little man but just it\n",
      "I think if theres . and .\n",
      "It makes me crazy but we did that ! now get away in a bar here the time time you want\n",
      "That would probably like that he knew you have made me to know me a minute\n",
      "Do i ? why that is the matter we have you can get you for for yourself the right go all\n",
      "We did ! how much does i do is there on a plane that i could ever it with last\n",
      "Yeah . so . that you see this was going there was that ? where you\n",
      "Well it did have been <unk> for a hundred hour when\n",
      "He said i got . i never liked em that the way that the kind the whole about me because where\n",
      "That you had to get her back here and the one with no idea how to come ?\n",
      "Well we gotta do it\n",
      "And if i get in this is <unk> . what happened to the people i had about a lot of right\n",
      "I would say they want them too many but can be <unk> from us of their you have ever met can\n",
      "Yes . . they will help them for their you would think i ? the least will have gotten with what\n",
      "We know . yes i was trying to do the people of all due to them to him again no\n",
      "It makes you very beautiful as as well they say it again it takes an the way it has i i\n",
      "He must believe even what did that ! how old it does ? is what you are going crazy and if\n",
      "How about how that it all the best for you for yourself him out the fuck do a favor do\n",
      "They got all i want with us at home but this . but we cannot take this a week you i\n",
      "Oh . well it must just been over too and he needs a girl at the house to go go let\n",
      "Is my name of my head ! that must would take an answer !\n",
      "It does you think what you were talking ! it does i . the kid ! no shit do i\n",
      "Look ! this would happen i will kill for !\n",
      "Yes ? that are we just ? how about me you will take off him on ! we are both you\n",
      "Okay now now i guess that if it comes a bit day day day and the end up in front\n",
      "Why ? i thought i could say what ?\n",
      "Not much better he is still so good like i think that it would like her when not i . come\n",
      "No thanks not ! he cannot let my shit it . not yet enough much ! if anyone ever did do\n",
      "How can have come up with his hand he is on a few minutes years we cannot talk it but come\n",
      "Who could we start out that way or a day night at four three in <unk> you got his first out\n",
      "They got nothing it . now . do what . are they we know is that supposed . not we do\n",
      "And they never go away for your hands ! this guys up u me do not have you no and the\n",
      "What the money of that he does he got his ? no he u it u . the guy who did\n",
      "No what are you doing in that shit with the man ? what would i find out here . with but\n",
      "I was not looking thinking in one and a long thing to take off her off off to withhold ! tell\n",
      "I know did not tell . it s for my father and your dad but your sister died ! let just\n",
      "That ? oh\n",
      "She could ever killed him or they never get in my apartment before before and then i want that all and\n",
      "The people will see them all we can tell do that about about this time . just try he\n",
      "But what kind you need the power do u do that u do it will take you later now see and\n",
      "Yes please u do we are out the same world thing ? you will kill them ? or they\n",
      "Well that makes the people are we on it in the floor for ?\n",
      "We could see them on .\n",
      "And he could run into her . now i have got to do all about . that the most with and\n",
      "I know why . not too hard i am a writer i mean if we could just talk from will catch\n",
      "Yeah . that should we both you with our lives together on that little way you could put up right .\n",
      "He could give him a long thing before that was his best to do the most ! that it\n",
      "Who does that what he got it off for you that they want for him or you and me <unk> where\n",
      "How much he do not feel the <unk> . i did that . you should leave ? do what he\n",
      "Oh ! what . do you do your own . why the kid you know this . i want believe\n",
      "We were the last old hour to meet them on me but but that is on your way the right\n",
      "Do it now but ? it might you be in his heart in our relationship room in an a <unk> why\n",
      "And ? is it ? do do do for the u did this is that he do for your fucking what\n",
      "And do something more important interesting . the way are on our <unk> in that case ?\n",
      "What for me talking the wrong with . <unk> you know that this is about this a joke thing you see\n",
      "You know i\n",
      "Do i look in any sense about ? why cannot get some a million for the one the other and get\n"
     ]
    }
   ],
   "source": [
    "inp = input()\n",
    "iters = 100\n",
    "print('Start of an everlasting monologue..')\n",
    "print(30*'-')\n",
    "c = 0\n",
    "while iters>=c:\n",
    "    inp = give_answer(inp, True, greedy=False, beam_search=False,\n",
    "                               top_k=20, temperature=1, len_output=20)\n",
    "    print(inp)\n",
    "    c+=1"
   ]
  },
  {
   "cell_type": "markdown",
   "id": "distinct-permit",
   "metadata": {},
   "source": [
    "# Plotting attention"
   ]
  },
  {
   "cell_type": "code",
   "execution_count": 128,
   "id": "determined-chaos",
   "metadata": {},
   "outputs": [
    {
     "name": "stderr",
     "output_type": "stream",
     "text": [
      "/home/volodymyr/envs/convbot_env/lib/python3.7/site-packages/ipykernel_launcher.py:8: UserWarning: FixedFormatter should only be used together with FixedLocator\n",
      "  \n",
      "/home/volodymyr/envs/convbot_env/lib/python3.7/site-packages/ipykernel_launcher.py:9: UserWarning: FixedFormatter should only be used together with FixedLocator\n",
      "  if __name__ == '__main__':\n"
     ]
    },
    {
     "data": {
      "image/png": "[encoded data removed]",
      "text/plain": [
       "<Figure size 720x720 with 1 Axes>"
      ]
     },
     "metadata": {},
     "output_type": "display_data"
    },
    {
     "data": {
      "text/plain": [
       "'I am not going to do it .'"
      ]
     },
     "execution_count": 128,
     "metadata": {},
     "output_type": "execute_result"
    }
   ],
   "source": [
    "replica = 'fuck you !'\n",
    "give_answer(replica, show_attention=True, greedy=True)"
   ]
  },
  {
   "cell_type": "markdown",
   "id": "removable-preview",
   "metadata": {},
   "source": [
    "# Interactive usage"
   ]
  },
  {
   "cell_type": "code",
   "execution_count": 113,
   "id": "aware-japanese",
   "metadata": {},
   "outputs": [
    {
     "name": "stdout",
     "output_type": "stream",
     "text": [
      "hi\n",
      "------------------------------\n",
      "Replica : hi\n",
      "Beam answer : Hi .\n",
      "Sampled answer : Hello ? you were in the car ? i am going to be the same time . you are\n",
      "------------------------------\n",
      "why are you so stupid?\n",
      "------------------------------\n",
      "Replica : why are you so stupid?\n",
      "Beam answer : I do not know . i do not know . it is me . it is me .\n",
      "Sampled answer : It will happen .\n",
      "------------------------------\n",
      "what will happen?\n",
      "------------------------------\n",
      "Replica : what will happen?\n",
      "Beam answer : I do not know .\n",
      "Sampled answer : We have a little more . i have to . the way i have to .\n",
      "------------------------------\n",
      "we all going to die\n",
      "------------------------------\n",
      "Replica : we all going to die\n",
      "Beam answer : That is the matter ?\n",
      "Sampled answer : You do .\n",
      "------------------------------\n",
      "fuck you stupid machine\n",
      "------------------------------\n",
      "Replica : fuck you stupid machine\n",
      "Beam answer : That is right . that is what i am talking about .\n",
      "Sampled answer : I know you know what you are doing !\n",
      "------------------------------\n"
     ]
    },
    {
     "ename": "KeyboardInterrupt",
     "evalue": "Interrupted by user",
     "output_type": "error",
     "traceback": [
      "\u001b[0;31m---------------------------------------------------------------------------\u001b[0m",
      "\u001b[0;31mKeyboardInterrupt\u001b[0m                         Traceback (most recent call last)",
      "\u001b[0;32m<ipython-input-113-7669bb09c988>\u001b[0m in \u001b[0;36m<module>\u001b[0;34m\u001b[0m\n\u001b[1;32m      1\u001b[0m \u001b[0minp\u001b[0m \u001b[0;34m=\u001b[0m \u001b[0;34m''\u001b[0m\u001b[0;34m\u001b[0m\u001b[0;34m\u001b[0m\u001b[0m\n\u001b[1;32m      2\u001b[0m \u001b[0;32mwhile\u001b[0m \u001b[0;32mTrue\u001b[0m\u001b[0;34m:\u001b[0m\u001b[0;34m\u001b[0m\u001b[0;34m\u001b[0m\u001b[0m\n\u001b[0;32m----> 3\u001b[0;31m     \u001b[0minp\u001b[0m \u001b[0;34m=\u001b[0m \u001b[0mstr\u001b[0m\u001b[0;34m(\u001b[0m\u001b[0minput\u001b[0m\u001b[0;34m(\u001b[0m\u001b[0;34m)\u001b[0m\u001b[0;34m)\u001b[0m\u001b[0;34m.\u001b[0m\u001b[0mstrip\u001b[0m\u001b[0;34m(\u001b[0m\u001b[0;34m)\u001b[0m\u001b[0;34m\u001b[0m\u001b[0;34m\u001b[0m\u001b[0m\n\u001b[0m\u001b[1;32m      4\u001b[0m     \u001b[0;32mif\u001b[0m \u001b[0minp\u001b[0m\u001b[0;34m==\u001b[0m\u001b[0;34m'exit'\u001b[0m\u001b[0;34m:\u001b[0m\u001b[0;34m\u001b[0m\u001b[0;34m\u001b[0m\u001b[0m\n\u001b[1;32m      5\u001b[0m         \u001b[0;32mbreak\u001b[0m\u001b[0;34m\u001b[0m\u001b[0;34m\u001b[0m\u001b[0m\n",
      "\u001b[0;32m/home/volodymyr/envs/convbot_env/lib/python3.7/site-packages/ipykernel/kernelbase.py\u001b[0m in \u001b[0;36mraw_input\u001b[0;34m(self, prompt)\u001b[0m\n\u001b[1;32m    849\u001b[0m             \u001b[0mself\u001b[0m\u001b[0;34m.\u001b[0m\u001b[0m_parent_ident\u001b[0m\u001b[0;34m,\u001b[0m\u001b[0;34m\u001b[0m\u001b[0;34m\u001b[0m\u001b[0m\n\u001b[1;32m    850\u001b[0m             \u001b[0mself\u001b[0m\u001b[0;34m.\u001b[0m\u001b[0m_parent_header\u001b[0m\u001b[0;34m,\u001b[0m\u001b[0;34m\u001b[0m\u001b[0;34m\u001b[0m\u001b[0m\n\u001b[0;32m--> 851\u001b[0;31m             \u001b[0mpassword\u001b[0m\u001b[0;34m=\u001b[0m\u001b[0;32mFalse\u001b[0m\u001b[0;34m,\u001b[0m\u001b[0;34m\u001b[0m\u001b[0;34m\u001b[0m\u001b[0m\n\u001b[0m\u001b[1;32m    852\u001b[0m         )\n\u001b[1;32m    853\u001b[0m \u001b[0;34m\u001b[0m\u001b[0m\n",
      "\u001b[0;32m/home/volodymyr/envs/convbot_env/lib/python3.7/site-packages/ipykernel/kernelbase.py\u001b[0m in \u001b[0;36m_input_request\u001b[0;34m(self, prompt, ident, parent, password)\u001b[0m\n\u001b[1;32m    890\u001b[0m             \u001b[0;32mexcept\u001b[0m \u001b[0mKeyboardInterrupt\u001b[0m\u001b[0;34m:\u001b[0m\u001b[0;34m\u001b[0m\u001b[0;34m\u001b[0m\u001b[0m\n\u001b[1;32m    891\u001b[0m                 \u001b[0;31m# re-raise KeyboardInterrupt, to truncate traceback\u001b[0m\u001b[0;34m\u001b[0m\u001b[0;34m\u001b[0m\u001b[0;34m\u001b[0m\u001b[0m\n\u001b[0;32m--> 892\u001b[0;31m                 \u001b[0;32mraise\u001b[0m \u001b[0mKeyboardInterrupt\u001b[0m\u001b[0;34m(\u001b[0m\u001b[0;34m\"Interrupted by user\"\u001b[0m\u001b[0;34m)\u001b[0m \u001b[0;32mfrom\u001b[0m \u001b[0;32mNone\u001b[0m\u001b[0;34m\u001b[0m\u001b[0;34m\u001b[0m\u001b[0m\n\u001b[0m\u001b[1;32m    893\u001b[0m             \u001b[0;32mexcept\u001b[0m \u001b[0mException\u001b[0m \u001b[0;32mas\u001b[0m \u001b[0me\u001b[0m\u001b[0;34m:\u001b[0m\u001b[0;34m\u001b[0m\u001b[0;34m\u001b[0m\u001b[0m\n\u001b[1;32m    894\u001b[0m                 \u001b[0mself\u001b[0m\u001b[0;34m.\u001b[0m\u001b[0mlog\u001b[0m\u001b[0;34m.\u001b[0m\u001b[0mwarning\u001b[0m\u001b[0;34m(\u001b[0m\u001b[0;34m\"Invalid Message:\"\u001b[0m\u001b[0;34m,\u001b[0m \u001b[0mexc_info\u001b[0m\u001b[0;34m=\u001b[0m\u001b[0;32mTrue\u001b[0m\u001b[0;34m)\u001b[0m\u001b[0;34m\u001b[0m\u001b[0;34m\u001b[0m\u001b[0m\n",
      "\u001b[0;31mKeyboardInterrupt\u001b[0m: Interrupted by user"
     ]
    }
   ],
   "source": [
    "inp = ''\n",
    "while True:\n",
    "    inp = str(input()).strip()\n",
    "    if inp=='exit':\n",
    "        break\n",
    "    answer_beam = give_answer(inp, True, greedy=False, beam_search=True,\n",
    "                               beam_size=10)\n",
    "    answer_sampled = give_answer(inp, True, greedy=False, beam_search=False,\n",
    "                               top_k=3, temperature=1, len_output=20)\n",
    "    print(30*'-')\n",
    "    print('Replica : {}'.format(inp))\n",
    "    print('Beam answer : {}'.format(answer_beam))\n",
    "    print('Sampled answer : {}'.format(answer_sampled))\n",
    "    print(30*'-')"
   ]
  },
  {
   "cell_type": "code",
   "execution_count": null,
   "id": "seasonal-boost",
   "metadata": {},
   "outputs": [],
   "source": []
  }
 ],
 "metadata": {
  "kernelspec": {
   "display_name": "Python 3",
   "language": "python",
   "name": "python3"
  },
  "language_info": {
   "codemirror_mode": {
    "name": "ipython",
    "version": 3
   },
   "file_extension": ".py",
   "mimetype": "text/x-python",
   "name": "python",
   "nbconvert_exporter": "python",
   "pygments_lexer": "ipython3",
   "version": "3.7.5"
  }
 },
 "nbformat": 4,
 "nbformat_minor": 5
}
