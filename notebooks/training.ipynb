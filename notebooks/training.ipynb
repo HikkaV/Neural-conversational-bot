{
 "cells": [
  {
   "cell_type": "code",
   "execution_count": 1,
   "id": "hungry-input",
   "metadata": {},
   "outputs": [],
   "source": [
    "import numpy as np\n",
    "from sklearn.model_selection import train_test_split\n",
    "import seaborn as sns\n",
    "import matplotlib.pyplot as plt\n",
    "import os\n",
    "import json\n",
    "import tqdm\n",
    "sns.set()"
   ]
  },
  {
   "cell_type": "code",
   "execution_count": 2,
   "id": "legitimate-company",
   "metadata": {},
   "outputs": [
    {
     "name": "stdout",
     "output_type": "stream",
     "text": [
      "1 Physical GPUs, 1 Logical GPUs\n"
     ]
    }
   ],
   "source": [
    "import tensorflow as tf\n",
    "gpus = tf.config.experimental.list_physical_devices('GPU')\n",
    "if gpus:\n",
    "    try:\n",
    "        # Currently, memory growth needs to be the same across GPUs\n",
    "        for gpu in gpus:\n",
    "            tf.config.experimental.set_memory_growth(gpu, True)\n",
    "        logical_gpus = tf.config.experimental.list_logical_devices('GPU')\n",
    "        print(len(gpus), \"Physical GPUs,\", len(logical_gpus), \"Logical GPUs\")\n",
    "    except RuntimeError as e:\n",
    "        # Memory growth must be set before GPUs have been initialized\n",
    "        print(e)"
   ]
  },
  {
   "cell_type": "markdown",
   "id": "loved-marriage",
   "metadata": {},
   "source": [
    "# Loading data and spliting"
   ]
  },
  {
   "cell_type": "code",
   "execution_count": 3,
   "id": "bizarre-encyclopedia",
   "metadata": {},
   "outputs": [],
   "source": [
    "import re\n",
    "def clean_bad_chars(x):\n",
    "  x = re.sub(r\"[^0-9a-zA-Z(!?.)']+\", \" \", x).strip()\n",
    "  x = ''.join(\" \"+i+\" \" if i in ['!', '?', '.'] else i for i in x).strip()\n",
    "  return x\n",
    "def uncover_reduction(x):\n",
    "  x = re.sub(r\"i'm\", \"i am\", x)\n",
    "  x = re.sub(r\"he's\", \"he is\", x)\n",
    "  x = re.sub(r\"she's\", \"she is\", x)\n",
    "  x = re.sub(r\"it's\", \"it is\", x)\n",
    "  x = re.sub(r\"that's\", \"that is\", x)\n",
    "  x = re.sub(r\"what's\", \"that is\", x)\n",
    "  x = re.sub(r\"where's\", \"where is\", x)\n",
    "  x = re.sub(r\"how's\", \"how is\", x)\n",
    "  x = re.sub(r\"\\'ll\", \" will\", x)\n",
    "  x = re.sub(r\"\\'ve\", \" have\", x)\n",
    "  x = re.sub(r\"\\'re\", \" are\", x)\n",
    "  x = re.sub(r\"\\'d\", \" would\", x)\n",
    "  x = re.sub(r\"\\'re\", \" are\", x)\n",
    "  x = re.sub(r\"won't\", \"will not\", x)\n",
    "  x = re.sub(r\"can't\", \"cannot\", x)\n",
    "  x = re.sub(r\"n't\", \" not\", x)\n",
    "  x = re.sub(r\"n'\", \"ng\", x)\n",
    "  x = re.sub(r\"'bout\", \"about\", x)\n",
    "  x = re.sub(r\"'til\", \"until\", x)\n",
    "  x = ' '.join(i.replace(\"'\",'') for i in x.split(' ') if i ).strip()\n",
    "  return x"
   ]
  },
  {
   "cell_type": "code",
   "execution_count": 4,
   "id": "demanding-valley",
   "metadata": {},
   "outputs": [],
   "source": [
    "data_path = '../processed_data'\n",
    "w2v_embs = True\n",
    "if w2v_embs:\n",
    "    with open(os.path.join(data_path,'w2v_embeddings.npy'), 'rb') as f:\n",
    "        final_embeddings = np.load(f)\n",
    "\n",
    "    with open(os.path.join(data_path,'missing_in_w2v.npy'), 'rb') as f:\n",
    "        missing = np.load(f)\n",
    "else:\n",
    "    with open(os.path.join(data_path,'glove_embeddings.npy'), 'rb') as f:\n",
    "        final_embeddings = np.load(f)\n",
    "\n",
    "    with open(os.path.join(data_path,'missing_in_glove.npy'), 'rb') as f:\n",
    "        missing = np.load(f)\n",
    "with open(os.path.join(data_path,'token_mapping.json'), 'r') as f:\n",
    "    token_mapping = json.load(f)\n",
    "\n",
    "with open(os.path.join(data_path,'data.npy'), 'rb') as f:\n",
    "    data = np.load(f,allow_pickle=True)  "
   ]
  },
  {
   "cell_type": "code",
   "execution_count": 5,
   "id": "tracked-radius",
   "metadata": {},
   "outputs": [],
   "source": [
    "missing_idx = [token_mapping[i] for i in missing]"
   ]
  },
  {
   "cell_type": "code",
   "execution_count": 6,
   "id": "fifteen-basket",
   "metadata": {},
   "outputs": [
    {
     "data": {
      "text/plain": [
       "82957"
      ]
     },
     "execution_count": 6,
     "metadata": {},
     "output_type": "execute_result"
    }
   ],
   "source": [
    "len(data)"
   ]
  },
  {
   "cell_type": "code",
   "execution_count": 7,
   "id": "young-motorcycle",
   "metadata": {},
   "outputs": [],
   "source": [
    "inverse_token_mapping = dict((v,k) for k,v in token_mapping.items())\n",
    "pad_token = inverse_token_mapping[0]\n",
    "start_token = inverse_token_mapping[1]\n",
    "end_token = inverse_token_mapping[2]\n",
    "unk_token = inverse_token_mapping[3]"
   ]
  },
  {
   "cell_type": "code",
   "execution_count": 8,
   "id": "threaded-salem",
   "metadata": {},
   "outputs": [
    {
     "data": {
      "text/plain": [
       "('<pad>', '<start>', '<end>', '<unk>')"
      ]
     },
     "execution_count": 8,
     "metadata": {},
     "output_type": "execute_result"
    }
   ],
   "source": [
    "pad_token, start_token, end_token,unk_token"
   ]
  },
  {
   "cell_type": "code",
   "execution_count": 9,
   "id": "objective-ideal",
   "metadata": {},
   "outputs": [
    {
     "data": {
      "text/plain": [
       "[['no no it is my fault we did not have a proper introduction', 'Cameron .'],\n",
       " ['Cameron .',\n",
       "  'the thing is Cameron i am at the mercy of a particularly hideous breed of loser . my sister . i cannot date until she does .'],\n",
       " ['the thing is Cameron i am at the mercy of a particularly hideous breed of loser . my sister . i cannot date until she does .',\n",
       "  'seems like she could get a date easy enough .']]"
      ]
     },
     "execution_count": 9,
     "metadata": {},
     "output_type": "execute_result"
    }
   ],
   "source": [
    "test = data[2]\n",
    "[test[i:i+2] for i in range(0,len(test)-1,1)]"
   ]
  },
  {
   "cell_type": "code",
   "execution_count": 10,
   "id": "waiting-judgment",
   "metadata": {},
   "outputs": [],
   "source": [
    "def slice_data(data):\n",
    "    X, y = [], []\n",
    "    for conversation in data:\n",
    "        pairs = np.array([conversation[i:i+2] for i in range(0,len(conversation)-1,1)])\n",
    "        X.extend(list(pairs[:,0]))\n",
    "        y.extend(list(pairs[:,1]))\n",
    "    return X, y"
   ]
  },
  {
   "cell_type": "code",
   "execution_count": 11,
   "id": "criminal-silver",
   "metadata": {},
   "outputs": [],
   "source": [
    "X, y = slice_data(data)"
   ]
  },
  {
   "cell_type": "code",
   "execution_count": 12,
   "id": "inappropriate-things",
   "metadata": {},
   "outputs": [
    {
     "data": {
      "text/plain": [
       "(221068, 221068)"
      ]
     },
     "execution_count": 12,
     "metadata": {},
     "output_type": "execute_result"
    }
   ],
   "source": [
    "len(X), len(y)"
   ]
  },
  {
   "cell_type": "code",
   "execution_count": 13,
   "id": "recreational-ivory",
   "metadata": {},
   "outputs": [],
   "source": [
    "X_train, X_test, y_train, y_test = train_test_split(X,y, test_size=0.20)"
   ]
  },
  {
   "cell_type": "code",
   "execution_count": 14,
   "id": "adverse-removal",
   "metadata": {},
   "outputs": [
    {
     "data": {
      "text/plain": [
       "(176854, 44214)"
      ]
     },
     "execution_count": 14,
     "metadata": {},
     "output_type": "execute_result"
    }
   ],
   "source": [
    "len(X_train), len(X_test)"
   ]
  },
  {
   "cell_type": "code",
   "execution_count": 15,
   "id": "formed-louis",
   "metadata": {},
   "outputs": [],
   "source": [
    "def map_to_ids(x, mapping, end_token=None, start_token=None, padding_token=None, max_len=None):\n",
    "  if isinstance(x, str):\n",
    "    x = x.split(' ')\n",
    "  max_len = max_len if max_len else len(x)\n",
    "  if start_token:\n",
    "    x = [start_token] + x\n",
    "  sent_ids = [mapping[word] for word in x[:max_len]]\n",
    "  if max_len>len(x):\n",
    "      if end_token:\n",
    "        sent_ids.append(mapping[end_token])\n",
    "      if padding_token:\n",
    "        sent_ids += [mapping[padding_token]]*(max_len-len(sent_ids))\n",
    "      return sent_ids\n",
    "  if end_token:\n",
    "    sent_ids[-1] = mapping[end_token]\n",
    "  return sent_ids\n"
   ]
  },
  {
   "cell_type": "code",
   "execution_count": 16,
   "id": "restricted-solution",
   "metadata": {},
   "outputs": [],
   "source": [
    "max_len_tokens = 20"
   ]
  },
  {
   "cell_type": "code",
   "execution_count": 17,
   "id": "underlying-delicious",
   "metadata": {},
   "outputs": [],
   "source": [
    "X_train_enc = np.array([map_to_ids(i, token_mapping, end_token, None, pad_token, max_len_tokens) for i in X_train])\n",
    "X_test_enc = np.array([map_to_ids(i, token_mapping, end_token, None, pad_token, max_len_tokens) for i in X_test])\n",
    "X_train_dec = np.array([map_to_ids(i, token_mapping, None, start_token, pad_token, max_len_tokens) for i in y_train])\n",
    "X_test_dec = np.array([map_to_ids(i, token_mapping, None, start_token, pad_token, max_len_tokens) for i in y_test])\n",
    "y_train = np.array([map_to_ids(i, token_mapping, end_token, None, pad_token, max_len_tokens) for i in y_train])\n",
    "y_test = np.array([map_to_ids(i, token_mapping, end_token, None, pad_token, max_len_tokens) for i in y_test])\n"
   ]
  },
  {
   "cell_type": "code",
   "execution_count": 18,
   "id": "loving-ceramic",
   "metadata": {},
   "outputs": [
    {
     "data": {
      "text/plain": [
       "(array([    1, 11324,  8654, 13689, 12143, 19650,  5611, 13117,     7,\n",
       "            0,     0,     0,     0,     0,     0,     0,     0,     0,\n",
       "            0,     0]),\n",
       " array([11324,  8654, 13689, 12143, 19650,  5611, 13117,     7,     2,\n",
       "            0,     0,     0,     0,     0,     0,     0,     0,     0,\n",
       "            0,     0]))"
      ]
     },
     "execution_count": 18,
     "metadata": {},
     "output_type": "execute_result"
    }
   ],
   "source": [
    "X_train_dec[0], y_train[0]"
   ]
  },
  {
   "cell_type": "markdown",
   "id": "removed-estonia",
   "metadata": {},
   "source": [
    "# Building a model "
   ]
  },
  {
   "cell_type": "code",
   "execution_count": 19,
   "id": "administrative-makeup",
   "metadata": {},
   "outputs": [],
   "source": [
    "emb_units = 100\n",
    "lstm_units = 256\n",
    "attention_units = 128\n",
    "pretrained_embs = True\n",
    "fine_tune = False"
   ]
  },
  {
   "cell_type": "code",
   "execution_count": 20,
   "id": "intimate-budapest",
   "metadata": {},
   "outputs": [],
   "source": [
    "class PartialEmbeddingsUpdate(tf.keras.layers.Layer):\n",
    "    def __init__(self, input_dim, \n",
    "                 output_dim, \n",
    "                indices_to_update,\n",
    "                initializer='glorot_uniform',\n",
    "                 **kwargs):\n",
    "        super(PartialEmbeddingsUpdate, self).__init__(**kwargs)\n",
    "\n",
    "        self.input_dim = input_dim\n",
    "        self.output_dim = output_dim\n",
    "        self.initializer = initializer\n",
    "        self.indices_to_update = indices_to_update\n",
    "       \n",
    "    def build(self, input_shape):\n",
    "        self.embeddings = self.add_weight(shape=(self.input_dim, self.output_dim),\n",
    "                                             initializer=self.initializer,\n",
    "                                            trainable=True)\n",
    "        self.bool_mask = tf.equal(tf.expand_dims(tf.range(0,self.input_dim),1), tf.expand_dims(self.indices_to_update,0))\n",
    "        self.bool_mask = tf.reduce_any(self.bool_mask,1)\n",
    "        self.bool_mask_not = tf.logical_not(self.bool_mask)\n",
    "        self.bool_mask_not = tf.expand_dims(tf.cast(self.bool_mask_not, dtype=self.embeddings.dtype),1)\n",
    "        self.bool_mask = tf.expand_dims(tf.cast(self.bool_mask, dtype=self.embeddings.dtype),1)\n",
    "        \n",
    "    def call(self, input):\n",
    "        input = tf.cast(input, dtype=tf.int32)\n",
    "        embeddings = tf.stop_gradient(self.bool_mask_not * self.embeddings) + self.bool_mask * self.embeddings\n",
    "        return tf.gather(embeddings,input)\n",
    "    \n",
    "    def get_config(self):\n",
    "\n",
    "        config = super().get_config().copy()\n",
    "        config.update({\n",
    "            'input_dim' : self.input_dim,\n",
    "            'output_dim' : self.output_dim,\n",
    "            'indices_to_update' : self.indices_to_update,\n",
    "            'initializer' : self.initializer\n",
    "        })\n",
    "        return config"
   ]
  },
  {
   "cell_type": "code",
   "execution_count": 21,
   "id": "speaking-labor",
   "metadata": {},
   "outputs": [],
   "source": [
    "missing_indx = tf.constant(missing_idx, dtype=tf.float32)"
   ]
  },
  {
   "cell_type": "code",
   "execution_count": 22,
   "id": "killing-rider",
   "metadata": {},
   "outputs": [],
   "source": [
    "class BahdanauAttention(tf.keras.layers.Layer):\n",
    "  def __init__(self, units,**kwargs):\n",
    "    super(BahdanauAttention, self).__init__(**kwargs)\n",
    "    self.units = units\n",
    "    self.W1 = tf.keras.layers.Dense(self.units)\n",
    "    self.W2 = tf.keras.layers.Dense(self.units)\n",
    "    self.V = tf.keras.layers.Dense(1)\n",
    "\n",
    "\n",
    "  def call(self, query, values):\n",
    "    # query hidden state shape == (batch_size, hidden size)\n",
    "    # query_with_time_axis shape == (batch_size, 1, hidden size)\n",
    "    # values shape == (batch_size, max_len, hidden size)\n",
    "    # we are doing this to broadcast addition along the time axis to calculate the score\n",
    "    query_with_time_axis = tf.expand_dims(query, 1)\n",
    "\n",
    "    # score shape == (batch_size, max_length, 1)\n",
    "    # we get 1 at the last axis because we are applying score to self.V\n",
    "    # the shape of the tensor before applying self.V is (batch_size, max_length, units)\n",
    "    score = self.V(tf.nn.tanh(\n",
    "        self.W1(query_with_time_axis) + self.W2(values)))\n",
    "\n",
    "    # attention_weights shape == (batch_size, max_length, 1)\n",
    "    attention_weights = tf.nn.softmax(score, axis=1)\n",
    "\n",
    "    # context_vector shape after sum == (batch_size, hidden_size)\n",
    "    context_vector = attention_weights * values\n",
    "    context_vector = tf.reduce_sum(context_vector, axis=1)\n",
    "\n",
    "    return context_vector, attention_weights\n",
    "\n",
    "  def get_config(self):\n",
    "\n",
    "        config = super().get_config().copy()\n",
    "        config.update({\n",
    "            'units' : self.units,\n",
    "        })\n",
    "        return config"
   ]
  },
  {
   "cell_type": "code",
   "execution_count": 23,
   "id": "disciplinary-integer",
   "metadata": {},
   "outputs": [],
   "source": [
    "#encoder\n",
    "enc_input = tf.keras.Input(shape=(None,), name='enc_input')\n",
    "#shared embedding layer\n",
    "if not pretrained_embs:\n",
    "    utter_embedding = tf.keras.layers.Embedding(len(token_mapping), emb_units, name='embedding')\n",
    "else:\n",
    "    emb_units = final_embeddings.shape[1]\n",
    "    if fine_tune:\n",
    "        utter_embedding = tf.keras.layers.Embedding(len(token_mapping), emb_units, weights=[final_embeddings],\n",
    "                                  name='embedding')\n",
    "    else:\n",
    "        utter_embedding = PartialEmbeddingsUpdate(len(token_mapping),emb_units, missing_idx, weights=[final_embeddings],\n",
    "                                             name='embeddings')\n",
    "    \n",
    "embedded_enc = utter_embedding(enc_input)\n",
    "\n",
    "encoder = tf.keras.layers.LSTM(lstm_units, return_sequences=True, return_state=True, name='encoder',\n",
    "                               dropout=0.3\n",
    "                               )\n",
    "encoder_hidden_states, state_h, state_c  = encoder(embedded_enc)\n",
    "\n",
    "#building encoder model\n",
    "encoder = tf.keras.Model(enc_input, [encoder_hidden_states, state_h, state_c])\n",
    "#decoder\n",
    "dec_input = tf.keras.Input(shape=(None,), name='dec_input')\n",
    "dec_state_input_h = tf.keras.Input(shape=(lstm_units,), name='state_h')\n",
    "dec_state_input_c = tf.keras.Input(shape=(lstm_units,), name='state_c')\n",
    "encoder_hidden_states = tf.keras.Input(shape=(None,lstm_units), name='enc_hidden_states')\n",
    "#applying attention\n",
    "attention = BahdanauAttention(attention_units)\n",
    "context_vector, attention_weights = attention(dec_state_input_h,encoder_hidden_states)\n",
    "embedded_dec = utter_embedding(dec_input)\n",
    "inp = tf.concat([tf.expand_dims(context_vector, 1), embedded_dec], axis=-1)\n",
    "decoder = tf.keras.layers.LSTM(lstm_units, return_sequences=True, return_state=True, name='decoder',\n",
    "                              dropout=0.3)                               \n",
    "#giving everything to output layer\n",
    "decoder_hidden_states,  next_state_h, next_state_c  = decoder(inp,initial_state=[dec_state_input_h, dec_state_input_c])\n",
    "decoder_hidden_states = tf.reshape(decoder_hidden_states, (-1, decoder_hidden_states.shape[2]))\n",
    "output_layer = tf.keras.layers.Dense(len(token_mapping), activation='softmax', name='dense_softmax')\n",
    "result = output_layer(decoder_hidden_states)\n",
    "decoder = tf.keras.Model([dec_input, dec_state_input_h, dec_state_input_c, encoder_hidden_states],\n",
    "                         [result, next_state_h, next_state_c, attention_weights])\n"
   ]
  },
  {
   "cell_type": "code",
   "execution_count": 24,
   "id": "rental-bolivia",
   "metadata": {},
   "outputs": [
    {
     "name": "stdout",
     "output_type": "stream",
     "text": [
      "Model: \"model\"\n",
      "_________________________________________________________________\n",
      "Layer (type)                 Output Shape              Param #   \n",
      "=================================================================\n",
      "enc_input (InputLayer)       [(None, None)]            0         \n",
      "_________________________________________________________________\n",
      "embeddings (PartialEmbedding (None, None, 300)         6001200   \n",
      "_________________________________________________________________\n",
      "encoder (LSTM)               [(None, None, 256), (None 570368    \n",
      "=================================================================\n",
      "Total params: 6,571,568\n",
      "Trainable params: 6,571,568\n",
      "Non-trainable params: 0\n",
      "_________________________________________________________________\n"
     ]
    }
   ],
   "source": [
    "encoder.summary()"
   ]
  },
  {
   "cell_type": "code",
   "execution_count": 25,
   "id": "increasing-consumption",
   "metadata": {},
   "outputs": [
    {
     "name": "stdout",
     "output_type": "stream",
     "text": [
      "Model: \"model_1\"\n",
      "__________________________________________________________________________________________________\n",
      "Layer (type)                    Output Shape         Param #     Connected to                     \n",
      "==================================================================================================\n",
      "state_h (InputLayer)            [(None, 256)]        0                                            \n",
      "__________________________________________________________________________________________________\n",
      "enc_hidden_states (InputLayer)  [(None, None, 256)]  0                                            \n",
      "__________________________________________________________________________________________________\n",
      "bahdanau_attention (BahdanauAtt ((None, 256), (None, 65921       state_h[0][0]                    \n",
      "__________________________________________________________________________________________________\n",
      "dec_input (InputLayer)          [(None, None)]       0                                            \n",
      "__________________________________________________________________________________________________\n",
      "tf_op_layer_ExpandDims (TensorF [(None, 1, 256)]     0           bahdanau_attention[0][0]         \n",
      "__________________________________________________________________________________________________\n",
      "embeddings (PartialEmbeddingsUp (None, None, 300)    6001200     dec_input[0][0]                  \n",
      "__________________________________________________________________________________________________\n",
      "tf_op_layer_concat (TensorFlowO [(None, 1, 556)]     0           tf_op_layer_ExpandDims[0][0]     \n",
      "                                                                 embeddings[1][0]                 \n",
      "__________________________________________________________________________________________________\n",
      "state_c (InputLayer)            [(None, 256)]        0                                            \n",
      "__________________________________________________________________________________________________\n",
      "decoder (LSTM)                  [(None, 1, 256), (No 832512      tf_op_layer_concat[0][0]         \n",
      "                                                                 state_h[0][0]                    \n",
      "                                                                 state_c[0][0]                    \n",
      "__________________________________________________________________________________________________\n",
      "tf_op_layer_Reshape (TensorFlow [(None, 256)]        0           decoder[0][0]                    \n",
      "__________________________________________________________________________________________________\n",
      "dense_softmax (Dense)           (None, 20004)        5141028     tf_op_layer_Reshape[0][0]        \n",
      "==================================================================================================\n",
      "Total params: 12,040,661\n",
      "Trainable params: 12,040,661\n",
      "Non-trainable params: 0\n",
      "__________________________________________________________________________________________________\n"
     ]
    }
   ],
   "source": [
    "decoder.summary()"
   ]
  },
  {
   "cell_type": "code",
   "execution_count": 26,
   "id": "joint-williams",
   "metadata": {},
   "outputs": [
    {
     "name": "stdout",
     "output_type": "stream",
     "text": [
      "decoder\n"
     ]
    },
    {
     "data": {
      "image/png": "[encoded data removed]",
      "text/plain": [
       "<IPython.core.display.Image object>"
      ]
     },
     "execution_count": 26,
     "metadata": {},
     "output_type": "execute_result"
    }
   ],
   "source": [
    "from tensorflow.keras.utils import plot_model\n",
    "print('decoder')\n",
    "plot_model(decoder)\n"
   ]
  },
  {
   "cell_type": "code",
   "execution_count": 27,
   "id": "international-reggae",
   "metadata": {},
   "outputs": [
    {
     "name": "stdout",
     "output_type": "stream",
     "text": [
      "encoder\n"
     ]
    },
    {
     "data": {
      "image/png": "[encoded data removed]",
      "text/plain": [
       "<IPython.core.display.Image object>"
      ]
     },
     "execution_count": 27,
     "metadata": {},
     "output_type": "execute_result"
    }
   ],
   "source": [
    "print('encoder')\n",
    "plot_model(encoder)"
   ]
  },
  {
   "cell_type": "markdown",
   "id": "occupied-packet",
   "metadata": {},
   "source": [
    "# Some helpful stuff"
   ]
  },
  {
   "cell_type": "code",
   "execution_count": 28,
   "id": "worse-radar",
   "metadata": {},
   "outputs": [],
   "source": [
    "def decode_sequence(x, greedy=False):\n",
    "    encoder_hidden_states, state_h, state_c = encoder(np.expand_dims(x,axis=0))\n",
    "\n",
    "    start = token_mapping[start_token]\n",
    "    target_seq = np.zeros((1, 1))\n",
    "    target_seq[0, 0] = token_mapping[start_token]\n",
    "\n",
    "\n",
    "    stop_condition = False\n",
    "    decoded_sentence = ''\n",
    "    res=[]\n",
    "    while True:\n",
    "        # Sample a token\n",
    "          output, state_h, state_c, attention_weights = decoder([target_seq, \n",
    "                                                                        state_h, \n",
    "                                                                        state_c,\n",
    "                                                                        encoder_hidden_states])\n",
    "          output = np.hstack(output)          \n",
    "          if greedy:\n",
    "            sampled_token_index = np.argmax(output)\n",
    "          else:  \n",
    "            sampled_token_index = np.random.choice(range(len(output)), size=1, p=output)[0]\n",
    "\n",
    "          if (len(res) > max_len_tokens or sampled_token_index==token_mapping[end_token]):\n",
    "              break\n",
    "                \n",
    "          res.append(sampled_token_index)\n",
    "\n",
    "          target_seq = np.zeros((1, 1))\n",
    "          target_seq[0, 0] = sampled_token_index\n",
    "\n",
    "    return res"
   ]
  },
  {
   "cell_type": "code",
   "execution_count": 29,
   "id": "eleven-messaging",
   "metadata": {},
   "outputs": [],
   "source": [
    "def beam_search_predictions(x, beam_size = 3):\n",
    "    start = [token_mapping[start_token]]\n",
    "    encoder_hidden_states, state_h, state_c = encoder(np.expand_dims(x,axis=0))\n",
    "    \n",
    "    start_word = [[start, 0.0, state_h, state_c]]\n",
    "    \n",
    "    \n",
    "    while len(start_word[0][0]) < max_len_tokens:\n",
    "        temp = []\n",
    "        for s in start_word:\n",
    "            target_seq = np.array([[s[0][-1]]])\n",
    "            state_h = s[2]\n",
    "            state_c = s[3]\n",
    "            output, state_h, state_c, attention_weights = decoder([target_seq, \n",
    "                                                                        state_h, \n",
    "                                                                        state_c,\n",
    "                                                                        encoder_hidden_states])\n",
    "            output = np.hstack(output)\n",
    "            \n",
    "            word_preds = np.argsort(output)[-beam_size:]\n",
    "\n",
    "            for w in word_preds:\n",
    "                next_cap, prob = s[0][:], s[1]\n",
    "                next_cap.append(w)\n",
    "                prob += output[w]\n",
    "                temp.append([next_cap, prob, state_h, state_c,])\n",
    "                    \n",
    "        start_word = temp\n",
    "        # Sorting according to the probabilities\n",
    "        start_word = sorted(start_word, reverse=False, key=lambda l: l[1])\n",
    "        # Getting the top words\n",
    "        start_word = start_word[-beam_size:]\n",
    "    \n",
    "    start_word = start_word[-1][0]\n",
    "\n",
    "    final_caption = []\n",
    "    \n",
    "    for i in start_word:\n",
    "        if i != token_mapping[end_token]:\n",
    "            final_caption.append(i)\n",
    "        else:\n",
    "            break    \n",
    "    return final_caption[1:]"
   ]
  },
  {
   "cell_type": "code",
   "execution_count": 30,
   "id": "sought-original",
   "metadata": {},
   "outputs": [],
   "source": [
    "def process(x, unk_token):\n",
    "  res = []\n",
    "  for i in x.split(' '):\n",
    "    if token_mapping.get(i):\n",
    "      res.append(i)\n",
    "    elif token_mapping.get(i.lower()):\n",
    "      res.append(i.lower())\n",
    "    else:\n",
    "      res.append(unk_token)\n",
    "  return res"
   ]
  },
  {
   "cell_type": "code",
   "execution_count": 31,
   "id": "interesting-amber",
   "metadata": {},
   "outputs": [],
   "source": [
    "def give_answer(sentence, pad_unk=True, process_sentence=True, greedy=False,\n",
    "               beam_search=False, beam_size=2):\n",
    "  if process_sentence:\n",
    "    cleaned_sentence = uncover_reduction(clean_bad_chars(sentence))\n",
    "    unk_token = pad_token if pad_unk else \"<unk>\"\n",
    "    processed_sentence = process(cleaned_sentence, unk_token)\n",
    "    mapped_sentence = map_to_ids(processed_sentence, token_mapping, end_token, padding_token=pad_token, max_len=max_len_tokens)\n",
    "  else:\n",
    "    mapped_sentence = sentence\n",
    "  if not beam_search:\n",
    "      prediction = decode_sequence(mapped_sentence,greedy)\n",
    "  else:\n",
    "      prediction = beam_search_predictions(mapped_sentence, beam_size)\n",
    "  answer = \" \".join([inverse_token_mapping.get(i) for i in prediction]).capitalize()\n",
    "  return answer\n",
    "  "
   ]
  },
  {
   "cell_type": "code",
   "execution_count": 32,
   "id": "attached-kenya",
   "metadata": {},
   "outputs": [
    {
     "data": {
      "text/plain": [
       "[11122,\n",
       " 11122,\n",
       " 11122,\n",
       " 11122,\n",
       " 16607,\n",
       " 1175,\n",
       " 3283,\n",
       " 18594,\n",
       " 18594,\n",
       " 18594,\n",
       " 18594,\n",
       " 19781,\n",
       " 19781,\n",
       " 9235,\n",
       " 1981,\n",
       " 15742,\n",
       " 12207,\n",
       " 12207,\n",
       " 14769,\n",
       " 4806,\n",
       " 14039]"
      ]
     },
     "execution_count": 32,
     "metadata": {},
     "output_type": "execute_result"
    }
   ],
   "source": [
    "res = decode_sequence(X_test_enc[13], True)\n",
    "res"
   ]
  },
  {
   "cell_type": "code",
   "execution_count": 33,
   "id": "national-ottawa",
   "metadata": {},
   "outputs": [
    {
     "data": {
      "text/plain": [
       "[2113,\n",
       " 6034,\n",
       " 6034,\n",
       " 6034,\n",
       " 4542,\n",
       " 1359,\n",
       " 1359,\n",
       " 2836,\n",
       " 2836,\n",
       " 16593,\n",
       " 140,\n",
       " 19691,\n",
       " 11500,\n",
       " 2970,\n",
       " 4420,\n",
       " 3058,\n",
       " 3752,\n",
       " 3173,\n",
       " 17163]"
      ]
     },
     "execution_count": 33,
     "metadata": {},
     "output_type": "execute_result"
    }
   ],
   "source": [
    "res = beam_search_predictions(X_test_enc[13], 7)\n",
    "res"
   ]
  },
  {
   "cell_type": "markdown",
   "id": "electoral-commission",
   "metadata": {},
   "source": [
    "# Training"
   ]
  },
  {
   "cell_type": "code",
   "execution_count": 34,
   "id": "according-clothing",
   "metadata": {},
   "outputs": [],
   "source": [
    "loss_object = tf.keras.losses.SparseCategoricalCrossentropy(reduction='none')\n",
    "\n",
    "def loss_function(real, pred):\n",
    "  mask = tf.math.logical_not(tf.math.equal(real, token_mapping[pad_token]))\n",
    "  loss_ = loss_object(real, pred)\n",
    "\n",
    "  mask = tf.cast(mask, dtype=loss_.dtype)\n",
    "  loss_ *= mask\n",
    "\n",
    "  return tf.reduce_mean(loss_)"
   ]
  },
  {
   "cell_type": "code",
   "execution_count": 35,
   "id": "subsequent-aaron",
   "metadata": {},
   "outputs": [],
   "source": [
    "optimizer = tf.keras.optimizers.Adam(learning_rate=1e-3)"
   ]
  },
  {
   "cell_type": "code",
   "execution_count": 36,
   "id": "brief-defendant",
   "metadata": {},
   "outputs": [],
   "source": [
    "@tf.function\n",
    "def evaluate(encoder_input, decoder_input, target):\n",
    "    loss = 0\n",
    "    enc_hidden_states, state_h, state_c  = encoder(encoder_input)\n",
    "    # Teacher forcing - feeding the target as the next input\n",
    "    for t in range(decoder_input.shape[1]):\n",
    "      # passing enc_output to the decoder\n",
    "      dec_input = tf.expand_dims(decoder_input[:, t], 1) \n",
    "      result, state_h, state_c, attention_weights = decoder([dec_input, \n",
    "                                                             state_h, \n",
    "                                                             state_c, \n",
    "                                                             enc_hidden_states])\n",
    "      \n",
    "\n",
    "      loss += loss_function(target[:, t], result)\n",
    "    batch_loss = (loss / int(target.shape[1]))\n",
    "    batch_perplexity = tf.exp(batch_loss)\n",
    "    return batch_loss, batch_perplexity"
   ]
  },
  {
   "cell_type": "code",
   "execution_count": 37,
   "id": "built-coach",
   "metadata": {},
   "outputs": [],
   "source": [
    "@tf.function\n",
    "def train_step(encoder_input, decoder_input, target):\n",
    "  loss = 0\n",
    "\n",
    "  with tf.GradientTape() as tape:\n",
    "    enc_hidden_states, state_h, state_c  = encoder(encoder_input)\n",
    "    # Teacher forcing - feeding the target as the next input\n",
    "    for t in range(decoder_input.shape[1]):\n",
    "      # passing enc_output to the decoder\n",
    "      dec_input = tf.expand_dims(decoder_input[:, t], 1) \n",
    "      result, state_h, state_c, attention_weights = decoder([dec_input, \n",
    "                                                             state_h, \n",
    "                                                             state_c, \n",
    "                                                             enc_hidden_states])\n",
    "      \n",
    "\n",
    "      loss += loss_function(target[:, t], result)\n",
    "\n",
    "\n",
    "  batch_loss = (loss / int(target.shape[1]))\n",
    "  batch_perplexity = tf.exp(batch_loss)\n",
    "\n",
    "\n",
    "  variables = encoder.trainable_variables + decoder.trainable_variables\n",
    "  gradients = tape.gradient(loss, variables)\n",
    "\n",
    "\n",
    "  optimizer.apply_gradients(zip(gradients, variables))\n",
    "\n",
    "  return batch_loss, batch_perplexity"
   ]
  },
  {
   "cell_type": "code",
   "execution_count": 38,
   "id": "noted-juice",
   "metadata": {},
   "outputs": [],
   "source": [
    "batch_size = 256\n",
    "\n",
    "train_dataset = tf.data.Dataset.from_tensor_slices((X_train_enc, X_train_dec, y_train)).shuffle(len(X_train_enc))\n",
    "train_dataset = train_dataset.batch(batch_size, drop_remainder=True)\n",
    "\n",
    "test_datest = tf.data.Dataset.from_tensor_slices((X_test_enc, X_test_dec, y_test)).shuffle(len(X_test_enc))\n",
    "test_datest = test_datest.batch(batch_size, drop_remainder=True)"
   ]
  },
  {
   "cell_type": "code",
   "execution_count": null,
   "id": "recreational-springer",
   "metadata": {},
   "outputs": [
    {
     "name": "stderr",
     "output_type": "stream",
     "text": [
      "\r",
      "  0%|          | 0/300 [00:00<?, ?it/s]"
     ]
    },
    {
     "name": "stdout",
     "output_type": "stream",
     "text": [
      "\n",
      "\n",
      "Epoch 0 train loss 2.9163 train perplexity 20.4418\n",
      "\n",
      "\n",
      "Epoch 0 validation loss 2.6307 validation perplexity 13.9757\n",
      "\n",
      "\n",
      "------------------------------\n",
      "Test sentence : naw naw that is too much exposure . i ai not goin anywhere near that money . <end> <pad> <pad>\n",
      "Model answer : I do not know you .\n",
      "------------------------------\n",
      "------------------------------\n",
      "Test sentence : the money ! <end> <pad> <pad> <pad> <pad> <pad> <pad> <pad> <pad> <pad> <pad> <pad> <pad> <pad> <pad> <pad> <pad>\n",
      "Model answer : I do not know you .\n",
      "------------------------------\n",
      "------------------------------\n",
      "Test sentence : get out ! me too ! what are the odds ? <end> <pad> <pad> <pad> <pad> <pad> <pad> <pad> <pad>\n",
      "Model answer : I do not know you .\n",
      "------------------------------\n",
      "------------------------------\n",
      "Test sentence : wait ! hold it it is on . lets go . <end> <pad> <pad> <pad> <pad> <pad> <pad> <pad> <pad>\n",
      "Model answer : I do not know you .\n",
      "------------------------------\n",
      "------------------------------\n",
      "Test sentence : no sir . <end> <pad> <pad> <pad> <pad> <pad> <pad> <pad> <pad> <pad> <pad> <pad> <pad> <pad> <pad> <pad> <pad>\n"
     ]
    },
    {
     "name": "stderr",
     "output_type": "stream",
     "text": [
      "\r",
      "  0%|          | 1/300 [04:42<23:26:31, 282.24s/it]"
     ]
    },
    {
     "name": "stdout",
     "output_type": "stream",
     "text": [
      "Model answer : I do not know it .\n",
      "------------------------------\n",
      "\n",
      "\n",
      "Epoch 1 train loss 2.5303 train perplexity 12.6332\n"
     ]
    },
    {
     "name": "stderr",
     "output_type": "stream",
     "text": [
      "\r",
      "  1%|          | 2/300 [09:08<22:36:13, 273.06s/it]"
     ]
    },
    {
     "name": "stdout",
     "output_type": "stream",
     "text": [
      "\n",
      "\n",
      "Epoch 1 validation loss 2.4837 validation perplexity 12.0485\n",
      "\n",
      "\n",
      "\n",
      "\n",
      "Epoch 2 train loss 2.4236 train perplexity 11.3406\n"
     ]
    },
    {
     "name": "stderr",
     "output_type": "stream",
     "text": [
      "\r",
      "  1%|          | 3/300 [13:36<22:18:57, 270.50s/it]"
     ]
    },
    {
     "name": "stdout",
     "output_type": "stream",
     "text": [
      "\n",
      "\n",
      "Epoch 2 validation loss 2.4209 validation perplexity 11.3204\n",
      "\n",
      "\n",
      "\n",
      "\n",
      "Epoch 3 train loss 2.3611 train perplexity 10.6575\n"
     ]
    },
    {
     "name": "stderr",
     "output_type": "stream",
     "text": [
      "\r",
      "  1%|▏         | 4/300 [18:05<22:11:53, 269.98s/it]"
     ]
    },
    {
     "name": "stdout",
     "output_type": "stream",
     "text": [
      "\n",
      "\n",
      "Epoch 3 validation loss 2.3825 validation perplexity 10.8832\n",
      "\n",
      "\n",
      "\n",
      "\n",
      "Epoch 4 train loss 2.3134 train perplexity 10.1552\n"
     ]
    },
    {
     "name": "stderr",
     "output_type": "stream",
     "text": [
      "\r",
      "  2%|▏         | 5/300 [22:42<22:19:41, 272.48s/it]"
     ]
    },
    {
     "name": "stdout",
     "output_type": "stream",
     "text": [
      "\n",
      "\n",
      "Epoch 4 validation loss 2.3561 validation perplexity 10.6105\n",
      "\n",
      "\n",
      "\n",
      "\n",
      "Epoch 5 train loss 2.2743 train perplexity 9.7666\n",
      "\n",
      "\n",
      "Epoch 5 validation loss 2.3373 validation perplexity 10.4054\n",
      "\n",
      "\n",
      "------------------------------\n",
      "Test sentence : you sure it was him ? <end> <pad> <pad> <pad> <pad> <pad> <pad> <pad> <pad> <pad> <pad> <pad> <pad> <pad>\n",
      "Model answer : I do not know .\n",
      "------------------------------\n",
      "------------------------------\n",
      "Test sentence : do not let your fathers business infect your life . <end> <pad> <pad> <pad> <pad> <pad> <pad> <pad> <pad> <pad>\n",
      "Model answer : I do not know .\n",
      "------------------------------\n",
      "------------------------------\n",
      "Test sentence : you were talking about your wedding . <end> <pad> <pad> <pad> <pad> <pad> <pad> <pad> <pad> <pad> <pad> <pad> <pad>\n",
      "Model answer : I do not know .\n",
      "------------------------------\n",
      "------------------------------\n",
      "Test sentence : going after killers is not the same as chasing <unk> Eric . <end> <pad> <pad> <pad> <pad> <pad> <pad> <pad>\n",
      "Model answer : That is the matter ?\n",
      "------------------------------\n",
      "------------------------------\n",
      "Test sentence : ah . <end> <pad> <pad> <pad> <pad> <pad> <pad> <pad> <pad> <pad> <pad> <pad> <pad> <pad> <pad> <pad> <pad> <pad>\n"
     ]
    },
    {
     "name": "stderr",
     "output_type": "stream",
     "text": [
      "\r",
      "  2%|▏         | 6/300 [27:18<22:20:24, 273.55s/it]"
     ]
    },
    {
     "name": "stdout",
     "output_type": "stream",
     "text": [
      "Model answer : What ?\n",
      "------------------------------\n",
      "\n",
      "\n",
      "Epoch 6 train loss 2.2409 train perplexity 9.4392\n"
     ]
    },
    {
     "name": "stderr",
     "output_type": "stream",
     "text": [
      "\r",
      "  2%|▏         | 7/300 [31:45<22:06:42, 271.68s/it]"
     ]
    },
    {
     "name": "stdout",
     "output_type": "stream",
     "text": [
      "\n",
      "\n",
      "Epoch 6 validation loss 2.3241 validation perplexity 10.2684\n",
      "\n",
      "\n",
      "\n",
      "\n",
      "Epoch 7 train loss 2.2114 train perplexity 9.1665\n"
     ]
    },
    {
     "name": "stderr",
     "output_type": "stream",
     "text": [
      "\r",
      "  3%|▎         | 8/300 [36:19<22:04:29, 272.15s/it]"
     ]
    },
    {
     "name": "stdout",
     "output_type": "stream",
     "text": [
      "\n",
      "\n",
      "Epoch 7 validation loss 2.3148 validation perplexity 10.1719\n",
      "\n",
      "\n",
      "\n",
      "\n",
      "Epoch 8 train loss 2.1839 train perplexity 8.9200\n"
     ]
    },
    {
     "name": "stderr",
     "output_type": "stream",
     "text": [
      "\r",
      "  3%|▎         | 9/300 [40:52<22:01:40, 272.51s/it]"
     ]
    },
    {
     "name": "stdout",
     "output_type": "stream",
     "text": [
      "\n",
      "\n",
      "Epoch 8 validation loss 2.3085 validation perplexity 10.1065\n",
      "\n",
      "\n"
     ]
    }
   ],
   "source": [
    "from datetime import datetime\n",
    "now_date = datetime.strftime(datetime.now(), \"%Y-%m-%d\")\n",
    "steps_per_epoch = X_train_enc.shape[0]//batch_size\n",
    "epochs = 300\n",
    "cut_epoch = 10\n",
    "train_loss = []\n",
    "val_loss = []\n",
    "train_perplexity = []\n",
    "val_perplexity = []\n",
    "val_loss_bound = 0\n",
    "epochs_overfit = 0\n",
    "for epoch in tqdm.tqdm(range(epochs)):\n",
    "    total_train_loss = []\n",
    "    total_val_loss = []\n",
    "    total_train_perplexity = []\n",
    "    total_val_perplexity = []\n",
    "    \n",
    "    for batched_x_enc, batched_x_dec, batched_y in train_dataset.take(steps_per_epoch):\n",
    "        batch_loss, batch_perplexity = train_step(np.array(batched_x_enc),np.array(batched_x_dec), np.array(batched_y))\n",
    "        total_train_loss.append(batch_loss)\n",
    "        total_train_perplexity.append(batch_perplexity)\n",
    "        \n",
    "    total_train_perplexity = np.mean(total_train_perplexity)\n",
    "    total_train_loss = np.mean(total_train_loss)\n",
    "    \n",
    "    print('\\n')\n",
    "    print('Epoch {} train loss {:.4f} train perplexity {:.4f}'.format(epoch,\n",
    "                                      total_train_loss, total_train_perplexity))\n",
    "    \n",
    "    for batched_x_test_enc, batched_x_test_dec, batched_test_y in test_datest.take(steps_per_epoch):\n",
    "        batch_loss, batch_perplexity = evaluate(np.array(batched_x_test_enc),np.array(batched_x_test_dec), np.array(batched_test_y))\n",
    "        total_val_loss.append(batch_loss)\n",
    "        total_val_perplexity.append(batch_perplexity)\n",
    "        \n",
    "    total_val_perplexity = np.mean(total_val_perplexity)\n",
    "    total_val_loss = np.mean(total_val_loss)\n",
    "    \n",
    "    if epoch==0:\n",
    "        val_loss_bound = total_val_loss\n",
    "        \n",
    "    if total_val_loss>val_loss_bound:\n",
    "        epochs_overfit+=1\n",
    "        encoder.save('../models/encoder_date:{}_fine_tune:{}_w2v:{}_epoch:{}.h5'.format(now_date, fine_tune,w2v_embs, epoch,))\n",
    "        decoder.save('../models/decoder_date:{}_fine_tune:{}_w2v:{}_epoch:{}.h5'.format(now_date,fine_tune,w2v_embs,epoch))\n",
    "    else:\n",
    "        val_loss_bound=total_val_loss\n",
    "        epochs_overfit=0\n",
    "    \n",
    "        \n",
    "    print('\\n')\n",
    "    print('Epoch {} validation loss {:.4f} validation perplexity {:.4f}'.format(epoch,\n",
    "                                                            total_val_loss,\n",
    "                                                             total_val_perplexity))\n",
    "    print('\\n')\n",
    "    \n",
    "    train_loss.append(total_train_loss)\n",
    "    train_perplexity.append(total_train_perplexity)\n",
    "    val_loss.append(total_val_loss)\n",
    "    val_perplexity.append(total_val_perplexity)\n",
    "    \n",
    "    if epoch%5==0:\n",
    "      test_sentences = np.random.choice(X_test_enc.shape[0], 5)\n",
    "      test_sentences = X_test_enc[test_sentences]\n",
    "      for sentence in test_sentences:\n",
    "        print(30*'-')\n",
    "        print('Test sentence : {}'.format(' '.join([inverse_token_mapping.get(i) for i in sentence])))\n",
    "        answer = give_answer(sentence,process_sentence=False, beam_search=True, beam_size=3)\n",
    "        print(\"Model answer : {}\".format(answer))\n",
    "        print(30*'-')\n",
    "        \n",
    "    if epochs_overfit==cut_epoch:\n",
    "       print('Validation loss has not improved for last {} epochs, stopping training!'.format(epoch))\n",
    "       break"
   ]
  },
  {
   "cell_type": "markdown",
   "id": "improved-acrylic",
   "metadata": {},
   "source": [
    "# Training history plot"
   ]
  },
  {
   "cell_type": "code",
   "execution_count": null,
   "id": "coated-burlington",
   "metadata": {},
   "outputs": [],
   "source": [
    "plt.figure(figsize=(15,12))\n",
    "plt.plot(train_perplexity)\n",
    "plt.plot(val_perplexity)\n",
    "plt.yticks(np.arange(min(train_perplexity), max(train_perplexity),0.5))\n",
    "plt.legend(['Train perplexity','Val perplexity'])\n",
    "plt.title('Perplexity ');"
   ]
  },
  {
   "cell_type": "code",
   "execution_count": null,
   "id": "color-number",
   "metadata": {},
   "outputs": [],
   "source": [
    "plt.figure(figsize=(15,12))\n",
    "plt.plot(train_loss)\n",
    "plt.plot(val_loss)\n",
    "plt.yticks(np.arange(min(train_loss), max(train_loss),0.1))\n",
    "plt.legend(['Train loss','Val loss'])\n",
    "plt.title('Loss ');"
   ]
  },
  {
   "cell_type": "markdown",
   "id": "behind-boundary",
   "metadata": {},
   "source": [
    "# Loading the model"
   ]
  },
  {
   "cell_type": "code",
   "execution_count": 41,
   "id": "composite-artist",
   "metadata": {},
   "outputs": [
    {
     "name": "stdout",
     "output_type": "stream",
     "text": [
      "WARNING:tensorflow:No training configuration found in the save file, so the model was *not* compiled. Compile it manually.\n",
      "WARNING:tensorflow:No training configuration found in the save file, so the model was *not* compiled. Compile it manually.\n"
     ]
    }
   ],
   "source": [
    "encoder = tf.keras.models.load_model('../models/encoder_date:2021-02-22_fine_tune:False.h5', \n",
    "                                     custom_objects={\"PartialEmbeddingsUpdate\" : PartialEmbeddingsUpdate})\n",
    "decoder = tf.keras.models.load_model('../models/decoder_date:2021-02-22_fine_tune:False.h5',\n",
    "                                    custom_objects={\"PartialEmbeddingsUpdate\" : PartialEmbeddingsUpdate,\n",
    "                                                   \"BahdanauAttention\":BahdanauAttention})"
   ]
  },
  {
   "cell_type": "markdown",
   "id": "outstanding-xerox",
   "metadata": {},
   "source": [
    "# Dialogue generation and question answering"
   ]
  },
  {
   "cell_type": "code",
   "execution_count": 45,
   "id": "classified-stanford",
   "metadata": {},
   "outputs": [
    {
     "name": "stdout",
     "output_type": "stream",
     "text": [
      "------------------------------\n",
      "Test replica : hey you!\n",
      "Bot greedy answer : i am sorry .\n",
      "Bot sampled answer : okay .\n",
      "Bot beam search answer : what ?\n",
      "------------------------------\n",
      "------------------------------\n",
      "Test replica : hello\n",
      "Bot greedy answer : i am sorry .\n",
      "Bot sampled answer : Baxter Mr th handshake . my names Worf i heard them .\n",
      "Bot beam search answer : hi .\n",
      "------------------------------\n",
      "------------------------------\n",
      "Test replica : hi\n",
      "Bot greedy answer : hi .\n",
      "Bot sampled answer : Harold .\n",
      "Bot beam search answer : what ?\n",
      "------------------------------\n",
      "------------------------------\n",
      "Test replica : how are you?\n",
      "Bot greedy answer : i am not going to get you .\n",
      "Bot sampled answer : Ruiz knows knows where gets in something alive . he is a better .\n",
      "Bot beam search answer : i do not know .\n",
      "------------------------------\n",
      "------------------------------\n",
      "Test replica : have you ever been to USA?\n",
      "Bot greedy answer : no .\n",
      "Bot sampled answer : sure . i can get with cabins and maybe uhm around .\n",
      "Bot beam search answer : yes .\n",
      "------------------------------\n",
      "------------------------------\n",
      "Test replica : where are you from?\n",
      "Bot greedy answer : i am not going to get you .\n",
      "Bot sampled answer : saving . intervention again . i am very excited . i am sure it is all we ol will\n",
      "Bot beam search answer : i do not know .\n",
      "------------------------------\n",
      "------------------------------\n",
      "Test replica : what do you think about marriage?\n",
      "Bot greedy answer : i do not know .\n",
      "Bot sampled answer : except a severed <unk> daughter obviously .\n",
      "Bot beam search answer : i do not know .\n",
      "------------------------------\n",
      "------------------------------\n",
      "Test replica : I need your help\n",
      "Bot greedy answer : i am not going to be a little bit .\n",
      "Bot sampled answer : just give me protection . take up .\n",
      "Bot beam search answer : what ?\n",
      "------------------------------\n",
      "------------------------------\n",
      "Test replica : Where do you recommend me to go?\n",
      "Bot greedy answer : i am not going to be a little bit .\n",
      "Bot sampled answer : i am general to do .\n",
      "Bot beam search answer : i do not know .\n",
      "------------------------------\n",
      "------------------------------\n",
      "Test replica : you are under arrest!\n",
      "Bot greedy answer : i am not .\n",
      "Bot sampled answer : oh no no !\n",
      "Bot beam search answer : i am sorry .\n",
      "------------------------------\n",
      "------------------------------\n",
      "Test replica : want to fuck me?\n",
      "Bot greedy answer : i am not going to get you .\n",
      "Bot sampled answer : it is the word of the word .\n",
      "Bot beam search answer : no .\n",
      "------------------------------\n"
     ]
    }
   ],
   "source": [
    "replicas = ['hey you!',\n",
    "            'hello',\n",
    "            'hi',\n",
    "            'how are you?',\n",
    "            'have you ever been to USA?',\n",
    "            'where are you from?',\n",
    "            'what do you think about marriage?',\n",
    "             'I need your help',\n",
    "           'Where do you recommend me to go?',\n",
    "           'you are under arrest!',\n",
    "           'want to fuck me?']\n",
    "for i in replicas:\n",
    "    greedy_answer = give_answer(i, greedy=True)\n",
    "    sampled_answer = give_answer(i, greedy=False)\n",
    "    beam_search_answer = give_answer(i, beam_search=True, beam_size=3)\n",
    "    print(30*'-')\n",
    "    print('Test replica : {}'.format(i))\n",
    "    print('Bot greedy answer : {}'.format(greedy_answer))\n",
    "    print('Bot sampled answer : {}'.format(sampled_answer))\n",
    "    print('Bot beam search answer : {}'.format(beam_search_answer))\n",
    "    print(30*'-')\n"
   ]
  },
  {
   "cell_type": "code",
   "execution_count": 49,
   "id": "metallic-overhead",
   "metadata": {},
   "outputs": [
    {
     "name": "stdout",
     "output_type": "stream",
     "text": [
      "hello\n",
      "------------------------------\n",
      "Replica : hello\n",
      "Answer : hi .\n",
      "------------------------------\n",
      "how are you?\n",
      "------------------------------\n",
      "Replica : how are you?\n",
      "Answer : i do not know .\n",
      "------------------------------\n",
      "do you want to take a walk?\n",
      "------------------------------\n",
      "Replica : do you want to take a walk?\n",
      "Answer : no .\n",
      "------------------------------\n",
      "where are you from>\n",
      "------------------------------\n",
      "Replica : where are you from>\n",
      "Answer : i do not know .\n",
      "------------------------------\n",
      "where are we?\n",
      "------------------------------\n",
      "Replica : where are we?\n",
      "Answer : we are not going to get out .\n",
      "------------------------------\n"
     ]
    },
    {
     "ename": "KeyboardInterrupt",
     "evalue": "Interrupted by user",
     "output_type": "error",
     "traceback": [
      "\u001b[0;31m---------------------------------------------------------------------------\u001b[0m",
      "\u001b[0;31mKeyboardInterrupt\u001b[0m                         Traceback (most recent call last)",
      "\u001b[0;32m<ipython-input-49-6c5a8fc8d82a>\u001b[0m in \u001b[0;36m<module>\u001b[0;34m\u001b[0m\n\u001b[1;32m      1\u001b[0m \u001b[0minp\u001b[0m \u001b[0;34m=\u001b[0m \u001b[0;34m''\u001b[0m\u001b[0;34m\u001b[0m\u001b[0;34m\u001b[0m\u001b[0m\n\u001b[1;32m      2\u001b[0m \u001b[0;32mwhile\u001b[0m \u001b[0;32mTrue\u001b[0m\u001b[0;34m:\u001b[0m\u001b[0;34m\u001b[0m\u001b[0;34m\u001b[0m\u001b[0m\n\u001b[0;32m----> 3\u001b[0;31m     \u001b[0minp\u001b[0m \u001b[0;34m=\u001b[0m \u001b[0mstr\u001b[0m\u001b[0;34m(\u001b[0m\u001b[0minput\u001b[0m\u001b[0;34m(\u001b[0m\u001b[0;34m)\u001b[0m\u001b[0;34m)\u001b[0m\u001b[0;34m.\u001b[0m\u001b[0mstrip\u001b[0m\u001b[0;34m(\u001b[0m\u001b[0;34m)\u001b[0m\u001b[0;34m\u001b[0m\u001b[0;34m\u001b[0m\u001b[0m\n\u001b[0m\u001b[1;32m      4\u001b[0m     \u001b[0;32mif\u001b[0m \u001b[0minp\u001b[0m\u001b[0;34m==\u001b[0m\u001b[0;34m'exit'\u001b[0m\u001b[0;34m:\u001b[0m\u001b[0;34m\u001b[0m\u001b[0;34m\u001b[0m\u001b[0m\n\u001b[1;32m      5\u001b[0m         \u001b[0;32mbreak\u001b[0m\u001b[0;34m\u001b[0m\u001b[0;34m\u001b[0m\u001b[0m\n",
      "\u001b[0;32m/home/volodymyr/envs/convbot_env/lib/python3.7/site-packages/ipykernel/kernelbase.py\u001b[0m in \u001b[0;36mraw_input\u001b[0;34m(self, prompt)\u001b[0m\n\u001b[1;32m    849\u001b[0m             \u001b[0mself\u001b[0m\u001b[0;34m.\u001b[0m\u001b[0m_parent_ident\u001b[0m\u001b[0;34m,\u001b[0m\u001b[0;34m\u001b[0m\u001b[0;34m\u001b[0m\u001b[0m\n\u001b[1;32m    850\u001b[0m             \u001b[0mself\u001b[0m\u001b[0;34m.\u001b[0m\u001b[0m_parent_header\u001b[0m\u001b[0;34m,\u001b[0m\u001b[0;34m\u001b[0m\u001b[0;34m\u001b[0m\u001b[0m\n\u001b[0;32m--> 851\u001b[0;31m             \u001b[0mpassword\u001b[0m\u001b[0;34m=\u001b[0m\u001b[0;32mFalse\u001b[0m\u001b[0;34m,\u001b[0m\u001b[0;34m\u001b[0m\u001b[0;34m\u001b[0m\u001b[0m\n\u001b[0m\u001b[1;32m    852\u001b[0m         )\n\u001b[1;32m    853\u001b[0m \u001b[0;34m\u001b[0m\u001b[0m\n",
      "\u001b[0;32m/home/volodymyr/envs/convbot_env/lib/python3.7/site-packages/ipykernel/kernelbase.py\u001b[0m in \u001b[0;36m_input_request\u001b[0;34m(self, prompt, ident, parent, password)\u001b[0m\n\u001b[1;32m    890\u001b[0m             \u001b[0;32mexcept\u001b[0m \u001b[0mKeyboardInterrupt\u001b[0m\u001b[0;34m:\u001b[0m\u001b[0;34m\u001b[0m\u001b[0;34m\u001b[0m\u001b[0m\n\u001b[1;32m    891\u001b[0m                 \u001b[0;31m# re-raise KeyboardInterrupt, to truncate traceback\u001b[0m\u001b[0;34m\u001b[0m\u001b[0;34m\u001b[0m\u001b[0;34m\u001b[0m\u001b[0m\n\u001b[0;32m--> 892\u001b[0;31m                 \u001b[0;32mraise\u001b[0m \u001b[0mKeyboardInterrupt\u001b[0m\u001b[0;34m(\u001b[0m\u001b[0;34m\"Interrupted by user\"\u001b[0m\u001b[0;34m)\u001b[0m \u001b[0;32mfrom\u001b[0m \u001b[0;32mNone\u001b[0m\u001b[0;34m\u001b[0m\u001b[0;34m\u001b[0m\u001b[0m\n\u001b[0m\u001b[1;32m    893\u001b[0m             \u001b[0;32mexcept\u001b[0m \u001b[0mException\u001b[0m \u001b[0;32mas\u001b[0m \u001b[0me\u001b[0m\u001b[0;34m:\u001b[0m\u001b[0;34m\u001b[0m\u001b[0;34m\u001b[0m\u001b[0m\n\u001b[1;32m    894\u001b[0m                 \u001b[0mself\u001b[0m\u001b[0;34m.\u001b[0m\u001b[0mlog\u001b[0m\u001b[0;34m.\u001b[0m\u001b[0mwarning\u001b[0m\u001b[0;34m(\u001b[0m\u001b[0;34m\"Invalid Message:\"\u001b[0m\u001b[0;34m,\u001b[0m \u001b[0mexc_info\u001b[0m\u001b[0;34m=\u001b[0m\u001b[0;32mTrue\u001b[0m\u001b[0;34m)\u001b[0m\u001b[0;34m\u001b[0m\u001b[0;34m\u001b[0m\u001b[0m\n",
      "\u001b[0;31mKeyboardInterrupt\u001b[0m: Interrupted by user"
     ]
    }
   ],
   "source": [
    "inp = ''\n",
    "while True:\n",
    "    inp = str(input()).strip()\n",
    "    if inp=='exit':\n",
    "        break\n",
    "    greedy_answer = give_answer(inp, True, greedy=False, beam_search=True,\n",
    "                               beam_size=2)\n",
    "    print(30*'-')\n",
    "    print('Replica : {}'.format(inp))\n",
    "    print('Answer : {}'.format(greedy_answer))\n",
    "    print(30*'-')"
   ]
  },
  {
   "cell_type": "code",
   "execution_count": null,
   "id": "british-colorado",
   "metadata": {},
   "outputs": [],
   "source": []
  }
 ],
 "metadata": {
  "kernelspec": {
   "display_name": "Python 3",
   "language": "python",
   "name": "python3"
  },
  "language_info": {
   "codemirror_mode": {
    "name": "ipython",
    "version": 3
   },
   "file_extension": ".py",
   "mimetype": "text/x-python",
   "name": "python",
   "nbconvert_exporter": "python",
   "pygments_lexer": "ipython3",
   "version": "3.7.5"
  }
 },
 "nbformat": 4,
 "nbformat_minor": 5
}
