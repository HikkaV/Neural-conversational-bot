{
 "cells": [
  {
   "cell_type": "code",
   "execution_count": 1,
   "id": "posted-still",
   "metadata": {},
   "outputs": [],
   "source": [
    "import pandas as pd\n",
    "import numpy as np\n",
    "import pickle\n",
    "import json\n",
    "import seaborn as sns\n",
    "import os\n",
    "import tqdm\n",
    "import matplotlib.pyplot as plt\n",
    "import re \n",
    "from collections import Counter\n",
    "import sys\n",
    "sys.path.insert(0,'../')\n",
    "from utils.reading_utils import *\n",
    "from utils.embeddings_utils import *\n",
    "from utils.processing_utils import *\n",
    "sns.set()"
   ]
  },
  {
   "cell_type": "markdown",
   "id": "injured-heading",
   "metadata": {},
   "source": [
    "# Data loading"
   ]
  },
  {
   "cell_type": "code",
   "execution_count": 2,
   "id": "sunrise-certificate",
   "metadata": {},
   "outputs": [],
   "source": [
    "ABS_PATH = '../data/cornell/cornell movie-dialogs corpus'"
   ]
  },
  {
   "cell_type": "markdown",
   "id": "inner-debate",
   "metadata": {},
   "source": [
    "# Processing movie_lines.txt"
   ]
  },
  {
   "cell_type": "code",
   "execution_count": 3,
   "id": "suspended-slide",
   "metadata": {},
   "outputs": [],
   "source": [
    "movie_lines = read_chameleons(os.path.join(ABS_PATH,'movie_lines.txt'), ['lineID', 'charID', 'movieID','char_name', 'utter'])"
   ]
  },
  {
   "cell_type": "code",
   "execution_count": 4,
   "id": "golden-natural",
   "metadata": {},
   "outputs": [
    {
     "data": {
      "text/html": [
       "<div>\n",
       "<style scoped>\n",
       "    .dataframe tbody tr th:only-of-type {\n",
       "        vertical-align: middle;\n",
       "    }\n",
       "\n",
       "    .dataframe tbody tr th {\n",
       "        vertical-align: top;\n",
       "    }\n",
       "\n",
       "    .dataframe thead th {\n",
       "        text-align: right;\n",
       "    }\n",
       "</style>\n",
       "<table border=\"1\" class=\"dataframe\">\n",
       "  <thead>\n",
       "    <tr style=\"text-align: right;\">\n",
       "      <th></th>\n",
       "      <th>lineID</th>\n",
       "      <th>charID</th>\n",
       "      <th>movieID</th>\n",
       "      <th>char_name</th>\n",
       "      <th>utter</th>\n",
       "    </tr>\n",
       "  </thead>\n",
       "  <tbody>\n",
       "    <tr>\n",
       "      <th>0</th>\n",
       "      <td>L1045</td>\n",
       "      <td>u0</td>\n",
       "      <td>m0</td>\n",
       "      <td>BIANCA</td>\n",
       "      <td>They do not!</td>\n",
       "    </tr>\n",
       "    <tr>\n",
       "      <th>1</th>\n",
       "      <td>L1044</td>\n",
       "      <td>u2</td>\n",
       "      <td>m0</td>\n",
       "      <td>CAMERON</td>\n",
       "      <td>They do to!</td>\n",
       "    </tr>\n",
       "    <tr>\n",
       "      <th>2</th>\n",
       "      <td>L985</td>\n",
       "      <td>u0</td>\n",
       "      <td>m0</td>\n",
       "      <td>BIANCA</td>\n",
       "      <td>I hope so.</td>\n",
       "    </tr>\n",
       "    <tr>\n",
       "      <th>3</th>\n",
       "      <td>L984</td>\n",
       "      <td>u2</td>\n",
       "      <td>m0</td>\n",
       "      <td>CAMERON</td>\n",
       "      <td>She okay?</td>\n",
       "    </tr>\n",
       "    <tr>\n",
       "      <th>4</th>\n",
       "      <td>L925</td>\n",
       "      <td>u0</td>\n",
       "      <td>m0</td>\n",
       "      <td>BIANCA</td>\n",
       "      <td>Let's go.</td>\n",
       "    </tr>\n",
       "  </tbody>\n",
       "</table>\n",
       "</div>"
      ],
      "text/plain": [
       "  lineID charID movieID char_name         utter\n",
       "0  L1045     u0      m0    BIANCA  They do not!\n",
       "1  L1044     u2      m0   CAMERON   They do to!\n",
       "2   L985     u0      m0    BIANCA    I hope so.\n",
       "3   L984     u2      m0   CAMERON     She okay?\n",
       "4   L925     u0      m0    BIANCA     Let's go."
      ]
     },
     "execution_count": 4,
     "metadata": {},
     "output_type": "execute_result"
    }
   ],
   "source": [
    "movie_lines.head()"
   ]
  },
  {
   "cell_type": "code",
   "execution_count": 5,
   "id": "informative-stage",
   "metadata": {},
   "outputs": [],
   "source": [
    "movie_lines['utter'] = movie_lines['utter'].apply(cut_punctuation)"
   ]
  },
  {
   "cell_type": "code",
   "execution_count": 6,
   "id": "altered-amount",
   "metadata": {},
   "outputs": [],
   "source": [
    "movie_lines['utter'] = movie_lines['utter'].apply(clean_bad_chars)"
   ]
  },
  {
   "cell_type": "code",
   "execution_count": 7,
   "id": "lightweight-beads",
   "metadata": {},
   "outputs": [
    {
     "data": {
      "text/plain": [
       "68256"
      ]
     },
     "execution_count": 7,
     "metadata": {},
     "output_type": "execute_result"
    }
   ],
   "source": [
    "word_counts = Counter(np.hstack(movie_lines['utter'].apply(lambda x: x.split(' ')).values))\n",
    "len(word_counts)"
   ]
  },
  {
   "cell_type": "code",
   "execution_count": 8,
   "id": "difficult-thousand",
   "metadata": {},
   "outputs": [
    {
     "name": "stdout",
     "output_type": "stream",
     "text": [
      "29806 12002\n"
     ]
    }
   ],
   "source": [
    "upper_words = Counter(np.hstack(movie_lines['utter'].apply(get_upper_tokens)))\n",
    "token_counts = Counter(np.hstack(movie_lines['utter'].apply(lambda x: x.split(' '))))\n",
    "upper_entries_lower = dict((k,token_counts.get(k.lower())) for k in upper_words.keys() if token_counts.get(k.lower(),0)>1)\n",
    "print(len(upper_words), len(upper_entries_lower))\n"
   ]
  },
  {
   "cell_type": "code",
   "execution_count": 9,
   "id": "pleasant-jewelry",
   "metadata": {},
   "outputs": [],
   "source": [
    "movie_lines['utter'] = movie_lines['utter'].apply(lambda x: to_lower_case(x,upper_entries_lower))"
   ]
  },
  {
   "cell_type": "code",
   "execution_count": 10,
   "id": "amber-publisher",
   "metadata": {},
   "outputs": [],
   "source": [
    "movie_lines['utter'] = movie_lines['utter'].apply(uncover_reduction)"
   ]
  },
  {
   "cell_type": "code",
   "execution_count": 11,
   "id": "tired-china",
   "metadata": {},
   "outputs": [
    {
     "data": {
      "text/plain": [
       "0                                             they do not !\n",
       "1                                              they do to !\n",
       "2                                               i hope so .\n",
       "3                                                she okay ?\n",
       "4                                                 lets go .\n",
       "                                ...                        \n",
       "304708    lord Chelmsford seems to want me to stay back ...\n",
       "304709    i am to take the Sikali with the main column t...\n",
       "304710                             your orders Mr Vereker ?\n",
       "304711    good ones yes Mr Vereker . gentlemen who can r...\n",
       "304712    colonel Durnford . William Vereker . i hear yo...\n",
       "Name: utter, Length: 304713, dtype: object"
      ]
     },
     "execution_count": 11,
     "metadata": {},
     "output_type": "execute_result"
    }
   ],
   "source": [
    "movie_lines['utter']"
   ]
  },
  {
   "cell_type": "code",
   "execution_count": 12,
   "id": "spread-lighter",
   "metadata": {},
   "outputs": [],
   "source": [
    "word_counts = Counter(np.hstack(movie_lines['utter'].apply(lambda x: x.split(' ')).values))\n"
   ]
  },
  {
   "cell_type": "code",
   "execution_count": 13,
   "id": "accepted-revelation",
   "metadata": {},
   "outputs": [
    {
     "data": {
      "text/plain": [
       "53128"
      ]
     },
     "execution_count": 13,
     "metadata": {},
     "output_type": "execute_result"
    }
   ],
   "source": [
    "len(word_counts)"
   ]
  },
  {
   "cell_type": "code",
   "execution_count": 14,
   "id": "hawaiian-agreement",
   "metadata": {},
   "outputs": [
    {
     "data": {
      "image/png": "[encoded data removed]",
      "text/plain": [
       "<Figure size 864x864 with 1 Axes>"
      ]
     },
     "metadata": {},
     "output_type": "display_data"
    }
   ],
   "source": [
    "top_50_tokens, counts = zip(*sorted(word_counts.items(), key=lambda x: x[1])[::-1][:50])\n",
    "plt.figure(figsize=(12,12))\n",
    "plt.barh(range(len(top_50_tokens)), counts)\n",
    "plt.yticks(range(len(top_50_tokens)),top_50_tokens);"
   ]
  },
  {
   "cell_type": "code",
   "execution_count": 15,
   "id": "infectious-serum",
   "metadata": {},
   "outputs": [
    {
     "data": {
      "text/plain": [
       "574"
      ]
     },
     "execution_count": 15,
     "metadata": {},
     "output_type": "execute_result"
    }
   ],
   "source": [
    "(movie_lines['utter']=='').astype(int).sum()"
   ]
  },
  {
   "cell_type": "code",
   "execution_count": 16,
   "id": "inner-wiring",
   "metadata": {},
   "outputs": [],
   "source": [
    "movie_lines = movie_lines[movie_lines['utter'].apply(lambda x: True if x else False)]"
   ]
  },
  {
   "cell_type": "code",
   "execution_count": 17,
   "id": "finite-astronomy",
   "metadata": {},
   "outputs": [
    {
     "data": {
      "text/plain": [
       "0"
      ]
     },
     "execution_count": 17,
     "metadata": {},
     "output_type": "execute_result"
    }
   ],
   "source": [
    "(movie_lines['utter']=='').astype(int).sum()"
   ]
  },
  {
   "cell_type": "markdown",
   "id": "starting-commission",
   "metadata": {},
   "source": [
    "# Movie conversations loading and processing "
   ]
  },
  {
   "cell_type": "code",
   "execution_count": 18,
   "id": "varying-header",
   "metadata": {},
   "outputs": [],
   "source": [
    "movie_conversations = read_chameleons(os.path.join(ABS_PATH,'movie_conversations.txt'),\n",
    "                                      columns = ['charID_1', 'charID_2', 'movieID', 'conversation'])"
   ]
  },
  {
   "cell_type": "code",
   "execution_count": 19,
   "id": "likely-strengthening",
   "metadata": {},
   "outputs": [
    {
     "data": {
      "text/html": [
       "<div>\n",
       "<style scoped>\n",
       "    .dataframe tbody tr th:only-of-type {\n",
       "        vertical-align: middle;\n",
       "    }\n",
       "\n",
       "    .dataframe tbody tr th {\n",
       "        vertical-align: top;\n",
       "    }\n",
       "\n",
       "    .dataframe thead th {\n",
       "        text-align: right;\n",
       "    }\n",
       "</style>\n",
       "<table border=\"1\" class=\"dataframe\">\n",
       "  <thead>\n",
       "    <tr style=\"text-align: right;\">\n",
       "      <th></th>\n",
       "      <th>charID_1</th>\n",
       "      <th>charID_2</th>\n",
       "      <th>movieID</th>\n",
       "      <th>conversation</th>\n",
       "    </tr>\n",
       "  </thead>\n",
       "  <tbody>\n",
       "    <tr>\n",
       "      <th>0</th>\n",
       "      <td>u0</td>\n",
       "      <td>u2</td>\n",
       "      <td>m0</td>\n",
       "      <td>['L194', 'L195', 'L196', 'L197']</td>\n",
       "    </tr>\n",
       "    <tr>\n",
       "      <th>1</th>\n",
       "      <td>u0</td>\n",
       "      <td>u2</td>\n",
       "      <td>m0</td>\n",
       "      <td>['L198', 'L199']</td>\n",
       "    </tr>\n",
       "    <tr>\n",
       "      <th>2</th>\n",
       "      <td>u0</td>\n",
       "      <td>u2</td>\n",
       "      <td>m0</td>\n",
       "      <td>['L200', 'L201', 'L202', 'L203']</td>\n",
       "    </tr>\n",
       "    <tr>\n",
       "      <th>3</th>\n",
       "      <td>u0</td>\n",
       "      <td>u2</td>\n",
       "      <td>m0</td>\n",
       "      <td>['L204', 'L205', 'L206']</td>\n",
       "    </tr>\n",
       "    <tr>\n",
       "      <th>4</th>\n",
       "      <td>u0</td>\n",
       "      <td>u2</td>\n",
       "      <td>m0</td>\n",
       "      <td>['L207', 'L208']</td>\n",
       "    </tr>\n",
       "  </tbody>\n",
       "</table>\n",
       "</div>"
      ],
      "text/plain": [
       "  charID_1 charID_2 movieID                      conversation\n",
       "0       u0       u2      m0  ['L194', 'L195', 'L196', 'L197']\n",
       "1       u0       u2      m0                  ['L198', 'L199']\n",
       "2       u0       u2      m0  ['L200', 'L201', 'L202', 'L203']\n",
       "3       u0       u2      m0          ['L204', 'L205', 'L206']\n",
       "4       u0       u2      m0                  ['L207', 'L208']"
      ]
     },
     "execution_count": 19,
     "metadata": {},
     "output_type": "execute_result"
    }
   ],
   "source": [
    "movie_conversations.head()"
   ]
  },
  {
   "cell_type": "code",
   "execution_count": 20,
   "id": "disciplinary-disclosure",
   "metadata": {},
   "outputs": [],
   "source": [
    "movie_conversations['conversation'] = movie_conversations['conversation'].apply(lambda x: json.loads(x.replace(\"'\",'\"')))"
   ]
  },
  {
   "cell_type": "code",
   "execution_count": 21,
   "id": "assigned-bronze",
   "metadata": {},
   "outputs": [],
   "source": [
    "utters = movie_lines[['lineID','utter']].set_index('lineID').to_dict('dict')['utter']"
   ]
  },
  {
   "cell_type": "code",
   "execution_count": 22,
   "id": "invisible-receptor",
   "metadata": {},
   "outputs": [],
   "source": [
    "movie_conversations['conversation'] = movie_conversations['conversation'].apply(lambda x : [utters.get(i) for i in x if utters.get(i)])"
   ]
  },
  {
   "cell_type": "code",
   "execution_count": 23,
   "id": "difficult-nevada",
   "metadata": {},
   "outputs": [],
   "source": [
    "conversations = movie_conversations['conversation'].values"
   ]
  },
  {
   "cell_type": "code",
   "execution_count": 24,
   "id": "detailed-witch",
   "metadata": {},
   "outputs": [
    {
     "data": {
      "text/plain": [
       "array([list(['can we make this quick ? Roxanne Korrine and Andrew Barrett are having an incredibly horrendous public break up on the quad . again .', 'well i thought we would start with pronunciation if that is okay with you .', 'not the hacking and gagging and spitting part . please .', 'okay . then how about we try out some french cuisine . Saturday ? night ?']),\n",
       "       list(['you are asking me out . that is so cute . that is your name again ?', 'forget it .'])],\n",
       "      dtype=object)"
      ]
     },
     "execution_count": 24,
     "metadata": {},
     "output_type": "execute_result"
    }
   ],
   "source": [
    "conversations[:2]"
   ]
  },
  {
   "cell_type": "code",
   "execution_count": 25,
   "id": "relative-fellowship",
   "metadata": {},
   "outputs": [],
   "source": [
    "import gc\n",
    "del utters, movie_conversations, movie_lines;\n",
    "gc.collect();"
   ]
  },
  {
   "cell_type": "markdown",
   "id": "advanced-academy",
   "metadata": {},
   "source": [
    "# Processing of conversations and mapping creation"
   ]
  },
  {
   "cell_type": "code",
   "execution_count": 26,
   "id": "literary-harmony",
   "metadata": {},
   "outputs": [],
   "source": [
    "unique_tokens = Counter(np.hstack([i.split(' ') for i in np.hstack(conversations)]))"
   ]
  },
  {
   "cell_type": "code",
   "execution_count": 27,
   "id": "younger-lambda",
   "metadata": {},
   "outputs": [],
   "source": [
    "max_tokens = 30000"
   ]
  },
  {
   "cell_type": "code",
   "execution_count": 28,
   "id": "frequent-ordinance",
   "metadata": {},
   "outputs": [],
   "source": [
    "rare_tokens, _ = zip(*sorted(unique_tokens.items(), key=lambda x: x[1])[::-1][-(len(unique_tokens)-max_tokens):])"
   ]
  },
  {
   "cell_type": "code",
   "execution_count": 29,
   "id": "colored-theater",
   "metadata": {},
   "outputs": [
    {
     "data": {
      "text/plain": [
       "(53128, 23128)"
      ]
     },
     "execution_count": 29,
     "metadata": {},
     "output_type": "execute_result"
    }
   ],
   "source": [
    "len(unique_tokens), len(rare_tokens)"
   ]
  },
  {
   "cell_type": "code",
   "execution_count": 30,
   "id": "trained-kruger",
   "metadata": {},
   "outputs": [],
   "source": [
    "unk_token = '<unk>'\n",
    "unk_dict = dict((i,unk_token) for i in rare_tokens)"
   ]
  },
  {
   "cell_type": "code",
   "execution_count": 31,
   "id": "continent-cycling",
   "metadata": {},
   "outputs": [],
   "source": [
    "conversations = replace_in_conversations(conversations, unk_dict)"
   ]
  },
  {
   "cell_type": "code",
   "execution_count": 32,
   "id": "sticky-crash",
   "metadata": {},
   "outputs": [
    {
     "data": {
      "text/plain": [
       "Counter({4: 9482,\n",
       "         2: 38038,\n",
       "         3: 17427,\n",
       "         5: 5876,\n",
       "         8: 1562,\n",
       "         6: 3724,\n",
       "         7: 2374,\n",
       "         9: 1202,\n",
       "         1: 114,\n",
       "         11: 588,\n",
       "         10: 710,\n",
       "         16: 151,\n",
       "         18: 69,\n",
       "         15: 203,\n",
       "         13: 347,\n",
       "         12: 418,\n",
       "         21: 43,\n",
       "         22: 37,\n",
       "         17: 123,\n",
       "         14: 219,\n",
       "         19: 75,\n",
       "         28: 23,\n",
       "         26: 16,\n",
       "         20: 56,\n",
       "         34: 4,\n",
       "         23: 30,\n",
       "         27: 19,\n",
       "         41: 2,\n",
       "         33: 7,\n",
       "         29: 9,\n",
       "         24: 31,\n",
       "         54: 1,\n",
       "         36: 5,\n",
       "         38: 7,\n",
       "         30: 14,\n",
       "         32: 8,\n",
       "         35: 3,\n",
       "         31: 7,\n",
       "         37: 2,\n",
       "         44: 3,\n",
       "         53: 1,\n",
       "         25: 26,\n",
       "         43: 2,\n",
       "         39: 2,\n",
       "         40: 2,\n",
       "         49: 1,\n",
       "         52: 2,\n",
       "         89: 1,\n",
       "         42: 1,\n",
       "         55: 1,\n",
       "         45: 1,\n",
       "         56: 1,\n",
       "         59: 1})"
      ]
     },
     "execution_count": 32,
     "metadata": {},
     "output_type": "execute_result"
    }
   ],
   "source": [
    "lengths_dialogues = list(map(len,conversations))\n",
    "Counter(lengths_dialogues)"
   ]
  },
  {
   "cell_type": "code",
   "execution_count": 33,
   "id": "referenced-drama",
   "metadata": {},
   "outputs": [],
   "source": [
    "conversations = [i for i in conversations if len(i)>1]"
   ]
  },
  {
   "cell_type": "code",
   "execution_count": 34,
   "id": "judicial-orange",
   "metadata": {},
   "outputs": [],
   "source": [
    "unique_tokens = np.unique(np.hstack([i.split(' ') for i in np.hstack(conversations)]))"
   ]
  },
  {
   "cell_type": "code",
   "execution_count": 35,
   "id": "dense-wallace",
   "metadata": {},
   "outputs": [],
   "source": [
    "pad_token = '<pad>'\n",
    "start_token = '<start>'\n",
    "end_token = '<end>'\n",
    "token_mapping = {pad_token:0, \n",
    "                start_token:1,\n",
    "                end_token:2,\n",
    "                unk_token:3}\n",
    "start_point = 3\n",
    "for token in unique_tokens:\n",
    "    if not token_mapping.get(token):\n",
    "        start_point+=1\n",
    "        token_mapping.update({token:start_point})"
   ]
  },
  {
   "cell_type": "code",
   "execution_count": 36,
   "id": "female-olive",
   "metadata": {},
   "outputs": [
    {
     "data": {
      "text/plain": [
       "30003"
      ]
     },
     "execution_count": 36,
     "metadata": {},
     "output_type": "execute_result"
    }
   ],
   "source": [
    "len(token_mapping)"
   ]
  },
  {
   "cell_type": "markdown",
   "id": "actual-nicholas",
   "metadata": {},
   "source": [
    "# Creation of embeddings matrix"
   ]
  },
  {
   "cell_type": "code",
   "execution_count": 37,
   "id": "dimensional-illustration",
   "metadata": {},
   "outputs": [],
   "source": [
    "import gensim\n",
    "import tqdm"
   ]
  },
  {
   "cell_type": "code",
   "execution_count": 38,
   "id": "tender-premises",
   "metadata": {},
   "outputs": [],
   "source": [
    "data_path = '../processed_data'\n",
    "if not os.path.exists(data_path):\n",
    "    os.mkdir(data_path)"
   ]
  },
  {
   "cell_type": "markdown",
   "id": "minute-tennessee",
   "metadata": {},
   "source": [
    "## w2v embeddings"
   ]
  },
  {
   "cell_type": "code",
   "execution_count": 39,
   "id": "inner-aquatic",
   "metadata": {},
   "outputs": [],
   "source": [
    "embeddings = load_emb_from_disk('../embeddings/GoogleNews-vectors-negative300.bin')"
   ]
  },
  {
   "cell_type": "code",
   "execution_count": 40,
   "id": "corresponding-vacuum",
   "metadata": {},
   "outputs": [
    {
     "name": "stderr",
     "output_type": "stream",
     "text": [
      "100%|██████████| 30003/30003 [00:00<00:00, 634087.82it/s]"
     ]
    },
    {
     "name": "stdout",
     "output_type": "stream",
     "text": [
      "4955 words where absent in embedding\n"
     ]
    },
    {
     "name": "stderr",
     "output_type": "stream",
     "text": [
      "\n"
     ]
    }
   ],
   "source": [
    "tokens_embs, missing = get_emb_rep(list(token_mapping.keys()), embeddings)"
   ]
  },
  {
   "cell_type": "code",
   "execution_count": 41,
   "id": "working-deviation",
   "metadata": {},
   "outputs": [],
   "source": [
    "final_embeddings = create_embeddings(tokens_embs, token_mapping, pad_token)"
   ]
  },
  {
   "cell_type": "code",
   "execution_count": 42,
   "id": "auburn-liechtenstein",
   "metadata": {},
   "outputs": [],
   "source": [
    "with open(os.path.join(data_path,'w2v_embeddings_cornell.npy'), 'wb') as f:\n",
    "    np.save(f, final_embeddings)\n",
    "\n",
    "with open(os.path.join(data_path,'missing_in_w2v_cornell.npy'), 'wb') as f:\n",
    "    np.save(f, missing)\n"
   ]
  },
  {
   "cell_type": "code",
   "execution_count": 43,
   "id": "narrative-belief",
   "metadata": {},
   "outputs": [
    {
     "data": {
      "text/plain": [
       "(30003, 300)"
      ]
     },
     "execution_count": 43,
     "metadata": {},
     "output_type": "execute_result"
    }
   ],
   "source": [
    "final_embeddings.shape"
   ]
  },
  {
   "cell_type": "code",
   "execution_count": 44,
   "id": "cross-astrology",
   "metadata": {},
   "outputs": [],
   "source": [
    "import gc;\n",
    "del final_embeddings\n",
    "gc.collect();"
   ]
  },
  {
   "cell_type": "code",
   "execution_count": 45,
   "id": "opened-carter",
   "metadata": {},
   "outputs": [],
   "source": [
    "del embeddings;\n",
    "gc.collect();"
   ]
  },
  {
   "cell_type": "markdown",
   "id": "infectious-steel",
   "metadata": {},
   "source": [
    "## glove embeddings"
   ]
  },
  {
   "cell_type": "code",
   "execution_count": 46,
   "id": "exclusive-attitude",
   "metadata": {},
   "outputs": [
    {
     "name": "stdout",
     "output_type": "stream",
     "text": [
      "Loading Glove Model\n",
      "400000  words loaded!\n"
     ]
    }
   ],
   "source": [
    "glove_vectors = load_glove('../embeddings/glove.6B.100d.txt')"
   ]
  },
  {
   "cell_type": "code",
   "execution_count": 47,
   "id": "guided-twenty",
   "metadata": {},
   "outputs": [
    {
     "data": {
      "text/plain": [
       "400000"
      ]
     },
     "execution_count": 47,
     "metadata": {},
     "output_type": "execute_result"
    }
   ],
   "source": [
    "len(glove_vectors)"
   ]
  },
  {
   "cell_type": "code",
   "execution_count": 48,
   "id": "careful-preparation",
   "metadata": {},
   "outputs": [
    {
     "name": "stderr",
     "output_type": "stream",
     "text": [
      "100%|██████████| 30003/30003 [00:00<00:00, 1136843.03it/s]"
     ]
    },
    {
     "name": "stdout",
     "output_type": "stream",
     "text": [
      "2138 words where absent in embedding\n"
     ]
    },
    {
     "name": "stderr",
     "output_type": "stream",
     "text": [
      "\n"
     ]
    }
   ],
   "source": [
    "tokens_embs, missing = get_emb_rep_glove(list(token_mapping.keys()), glove_vectors)"
   ]
  },
  {
   "cell_type": "code",
   "execution_count": 49,
   "id": "abandoned-chair",
   "metadata": {},
   "outputs": [],
   "source": [
    "final_embeddings = create_embeddings(tokens_embs, token_mapping, pad_token)"
   ]
  },
  {
   "cell_type": "code",
   "execution_count": 50,
   "id": "located-messaging",
   "metadata": {},
   "outputs": [],
   "source": [
    "with open(os.path.join(data_path,'glove_embeddings_cornell.npy'), 'wb') as f:\n",
    "    np.save(f, final_embeddings)\n",
    "\n",
    "with open(os.path.join(data_path,'missing_in_glove_cornell.npy'), 'wb') as f:\n",
    "    np.save(f, missing)\n"
   ]
  },
  {
   "cell_type": "code",
   "execution_count": 51,
   "id": "wanted-enzyme",
   "metadata": {},
   "outputs": [],
   "source": [
    "del final_embeddings;\n",
    "gc.collect();"
   ]
  },
  {
   "cell_type": "markdown",
   "id": "serious-conjunction",
   "metadata": {},
   "source": [
    "## Training custom glove embeddings"
   ]
  },
  {
   "cell_type": "code",
   "execution_count": 52,
   "id": "conceptual-reverse",
   "metadata": {},
   "outputs": [],
   "source": [
    "glove_input = np.hstack(conversations)\n",
    "glove_input = [i.split(' ') for i in glove_input]"
   ]
  },
  {
   "cell_type": "code",
   "execution_count": 53,
   "id": "actual-round",
   "metadata": {},
   "outputs": [
    {
     "data": {
      "text/plain": [
       "[['can',\n",
       "  'we',\n",
       "  'make',\n",
       "  'this',\n",
       "  'quick',\n",
       "  '?',\n",
       "  '<unk>',\n",
       "  '<unk>',\n",
       "  'and',\n",
       "  'Andrew',\n",
       "  'Barrett',\n",
       "  'are',\n",
       "  'having',\n",
       "  'an',\n",
       "  'incredibly',\n",
       "  'horrendous',\n",
       "  'public',\n",
       "  'break',\n",
       "  'up',\n",
       "  'on',\n",
       "  'the',\n",
       "  '<unk>',\n",
       "  '.',\n",
       "  'again',\n",
       "  '.']]"
      ]
     },
     "execution_count": 53,
     "metadata": {},
     "output_type": "execute_result"
    }
   ],
   "source": [
    "glove_input[:1]"
   ]
  },
  {
   "cell_type": "code",
   "execution_count": 54,
   "id": "ordinary-speaking",
   "metadata": {},
   "outputs": [],
   "source": [
    "from glove import Glove, Corpus"
   ]
  },
  {
   "cell_type": "code",
   "execution_count": 55,
   "id": "consistent-percentage",
   "metadata": {},
   "outputs": [
    {
     "name": "stdout",
     "output_type": "stream",
     "text": [
      "Performing 100 training epochs with 6 threads\n",
      "Epoch 0\n",
      "Epoch 1\n",
      "Epoch 2\n",
      "Epoch 3\n",
      "Epoch 4\n",
      "Epoch 5\n",
      "Epoch 6\n",
      "Epoch 7\n",
      "Epoch 8\n",
      "Epoch 9\n",
      "Epoch 10\n",
      "Epoch 11\n",
      "Epoch 12\n",
      "Epoch 13\n",
      "Epoch 14\n",
      "Epoch 15\n",
      "Epoch 16\n",
      "Epoch 17\n",
      "Epoch 18\n",
      "Epoch 19\n",
      "Epoch 20\n",
      "Epoch 21\n",
      "Epoch 22\n",
      "Epoch 23\n",
      "Epoch 24\n",
      "Epoch 25\n",
      "Epoch 26\n",
      "Epoch 27\n",
      "Epoch 28\n",
      "Epoch 29\n",
      "Epoch 30\n",
      "Epoch 31\n",
      "Epoch 32\n",
      "Epoch 33\n",
      "Epoch 34\n",
      "Epoch 35\n",
      "Epoch 36\n",
      "Epoch 37\n",
      "Epoch 38\n",
      "Epoch 39\n",
      "Epoch 40\n",
      "Epoch 41\n",
      "Epoch 42\n",
      "Epoch 43\n",
      "Epoch 44\n",
      "Epoch 45\n",
      "Epoch 46\n",
      "Epoch 47\n",
      "Epoch 48\n",
      "Epoch 49\n",
      "Epoch 50\n",
      "Epoch 51\n",
      "Epoch 52\n",
      "Epoch 53\n",
      "Epoch 54\n",
      "Epoch 55\n",
      "Epoch 56\n",
      "Epoch 57\n",
      "Epoch 58\n",
      "Epoch 59\n",
      "Epoch 60\n",
      "Epoch 61\n",
      "Epoch 62\n",
      "Epoch 63\n",
      "Epoch 64\n",
      "Epoch 65\n",
      "Epoch 66\n",
      "Epoch 67\n",
      "Epoch 68\n",
      "Epoch 69\n",
      "Epoch 70\n",
      "Epoch 71\n",
      "Epoch 72\n",
      "Epoch 73\n",
      "Epoch 74\n",
      "Epoch 75\n",
      "Epoch 76\n",
      "Epoch 77\n",
      "Epoch 78\n",
      "Epoch 79\n",
      "Epoch 80\n",
      "Epoch 81\n",
      "Epoch 82\n",
      "Epoch 83\n",
      "Epoch 84\n",
      "Epoch 85\n",
      "Epoch 86\n",
      "Epoch 87\n",
      "Epoch 88\n",
      "Epoch 89\n",
      "Epoch 90\n",
      "Epoch 91\n",
      "Epoch 92\n",
      "Epoch 93\n",
      "Epoch 94\n",
      "Epoch 95\n",
      "Epoch 96\n",
      "Epoch 97\n",
      "Epoch 98\n",
      "Epoch 99\n"
     ]
    }
   ],
   "source": [
    "corpus = Corpus()\n",
    "corpus.fit(glove_input)\n",
    "glove = Glove(no_components=100, learning_rate=0.05) \n",
    "glove.fit(corpus.matrix, epochs=100, no_threads=6, verbose=True)\n",
    "glove.add_dictionary(corpus.dictionary)"
   ]
  },
  {
   "cell_type": "code",
   "execution_count": 56,
   "id": "decimal-bedroom",
   "metadata": {},
   "outputs": [
    {
     "data": {
      "text/plain": [
       "[('hi', 0.7836739007705554),\n",
       " ('goodbye', 0.7360863458677472),\n",
       " ('say', 0.6444250173637773),\n",
       " ('Boone', 0.5619236676620063)]"
      ]
     },
     "execution_count": 56,
     "metadata": {},
     "output_type": "execute_result"
    }
   ],
   "source": [
    "glove.most_similar('hello')"
   ]
  },
  {
   "cell_type": "code",
   "execution_count": 57,
   "id": "metric-poison",
   "metadata": {},
   "outputs": [
    {
     "data": {
      "text/plain": [
       "[('hell', 0.7217757351949371),\n",
       " ('OHH', 0.6924052388015276),\n",
       " ('shit', 0.6725542281361132),\n",
       " ('SSHH', 0.649724275867057)]"
      ]
     },
     "execution_count": 57,
     "metadata": {},
     "output_type": "execute_result"
    }
   ],
   "source": [
    "glove.most_similar('fuck')"
   ]
  },
  {
   "cell_type": "code",
   "execution_count": 58,
   "id": "sealed-promotion",
   "metadata": {},
   "outputs": [
    {
     "data": {
      "text/plain": [
       "[('sleepiness', 0.7244187084114616),\n",
       " ('doable', 0.6977313189810618),\n",
       " ('immaterial', 0.6949098047765087),\n",
       " ('Eduards', 0.6945459466492786)]"
      ]
     },
     "execution_count": 58,
     "metadata": {},
     "output_type": "execute_result"
    }
   ],
   "source": [
    "glove.most_similar('USA')"
   ]
  },
  {
   "cell_type": "code",
   "execution_count": 59,
   "id": "digital-christian",
   "metadata": {},
   "outputs": [
    {
     "data": {
      "text/plain": [
       "[('Sam', 0.7382855313810971),\n",
       " ('joe', 0.7125832358198114),\n",
       " ('tom', 0.6939943821247737),\n",
       " ('charlie', 0.6929890933992798)]"
      ]
     },
     "execution_count": 59,
     "metadata": {},
     "output_type": "execute_result"
    }
   ],
   "source": [
    "glove.most_similar('jack')"
   ]
  },
  {
   "cell_type": "code",
   "execution_count": 60,
   "id": "increasing-security",
   "metadata": {},
   "outputs": [
    {
     "name": "stdout",
     "output_type": "stream",
     "text": [
      "30000\n"
     ]
    }
   ],
   "source": [
    "tokens = list(glove.dictionary.keys())\n",
    "print(len(tokens))\n",
    "glove_vectors = dict([(tokens[idx],vector) for idx, vector in enumerate(glove.word_vectors)])"
   ]
  },
  {
   "cell_type": "code",
   "execution_count": 61,
   "id": "colonial-projector",
   "metadata": {},
   "outputs": [
    {
     "name": "stderr",
     "output_type": "stream",
     "text": [
      "100%|██████████| 30003/30003 [00:00<00:00, 1151489.70it/s]"
     ]
    },
    {
     "name": "stdout",
     "output_type": "stream",
     "text": [
      "3 words where absent in embedding\n"
     ]
    },
    {
     "name": "stderr",
     "output_type": "stream",
     "text": [
      "\n"
     ]
    }
   ],
   "source": [
    "tokens_embs, missing = get_emb_rep_glove(list(token_mapping.keys()), glove_vectors)"
   ]
  },
  {
   "cell_type": "code",
   "execution_count": 62,
   "id": "alike-malawi",
   "metadata": {},
   "outputs": [],
   "source": [
    "final_embeddings = create_embeddings(tokens_embs, token_mapping, pad_token)"
   ]
  },
  {
   "cell_type": "code",
   "execution_count": 63,
   "id": "bottom-acoustic",
   "metadata": {},
   "outputs": [],
   "source": [
    "with open(os.path.join(data_path,'glove_embeddings_trained_cornell.npy'), 'wb') as f:\n",
    "    np.save(f, final_embeddings)\n",
    "\n",
    "with open(os.path.join(data_path,'missing_in_glove_trained_cornell.npy'), 'wb') as f:\n",
    "    np.save(f, missing)\n"
   ]
  },
  {
   "cell_type": "markdown",
   "id": "beautiful-color",
   "metadata": {},
   "source": [
    "## saving out"
   ]
  },
  {
   "cell_type": "code",
   "execution_count": 64,
   "id": "documented-cathedral",
   "metadata": {},
   "outputs": [
    {
     "name": "stderr",
     "output_type": "stream",
     "text": [
      "/home/volodymyr/envs/convbot_env/lib/python3.7/site-packages/numpy/core/_asarray.py:136: VisibleDeprecationWarning: Creating an ndarray from ragged nested sequences (which is a list-or-tuple of lists-or-tuples-or ndarrays with different lengths or shapes) is deprecated. If you meant to do this, you must specify 'dtype=object' when creating the ndarray\n",
      "  return array(a, dtype, copy=False, order=order, subok=True)\n"
     ]
    }
   ],
   "source": [
    "\n",
    "with open(os.path.join(data_path,'token_mapping_cornell.json'), 'w') as f:\n",
    "    json.dump(token_mapping, f)\n",
    "\n",
    "with open(os.path.join(data_path,'data_cornell.npy'), 'wb') as f:\n",
    "    np.save(f, conversations)  "
   ]
  },
  {
   "cell_type": "code",
   "execution_count": null,
   "id": "comprehensive-determination",
   "metadata": {},
   "outputs": [],
   "source": []
  }
 ],
 "metadata": {
  "kernelspec": {
   "display_name": "Python 3",
   "language": "python",
   "name": "python3"
  },
  "language_info": {
   "codemirror_mode": {
    "name": "ipython",
    "version": 3
   },
   "file_extension": ".py",
   "mimetype": "text/x-python",
   "name": "python",
   "nbconvert_exporter": "python",
   "pygments_lexer": "ipython3",
   "version": "3.7.5"
  }
 },
 "nbformat": 4,
 "nbformat_minor": 5
}
