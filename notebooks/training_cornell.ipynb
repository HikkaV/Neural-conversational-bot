{
 "cells": [
  {
   "cell_type": "code",
   "execution_count": 1,
   "id": "minor-marina",
   "metadata": {},
   "outputs": [],
   "source": [
    "import numpy as np\n",
    "from sklearn.model_selection import train_test_split\n",
    "import seaborn as sns\n",
    "import matplotlib.pyplot as plt\n",
    "import os\n",
    "import json\n",
    "import tqdm\n",
    "import matplotlib.ticker as ticker\n",
    "sns.set()"
   ]
  },
  {
   "cell_type": "code",
   "execution_count": 2,
   "id": "banner-brain",
   "metadata": {},
   "outputs": [
    {
     "name": "stdout",
     "output_type": "stream",
     "text": [
      "1 Physical GPUs, 1 Logical GPUs\n"
     ]
    }
   ],
   "source": [
    "import sys\n",
    "sys.path.insert(0, '../')\n",
    "from model.seq2seq import Seq2Seq, tf\n",
    "from model.decoding_techniques import BeamSearchDecoder, GreedyDecoder\n",
    "from utils.processing_utils import *"
   ]
  },
  {
   "cell_type": "markdown",
   "id": "choice-istanbul",
   "metadata": {},
   "source": [
    "# Loading data and spliting"
   ]
  },
  {
   "cell_type": "code",
   "execution_count": 4,
   "id": "worth-portfolio",
   "metadata": {},
   "outputs": [],
   "source": [
    "data_path = '../processed_data'\n",
    "mode = 'glove'\n",
    "if mode=='w2v':\n",
    "    with open(os.path.join(data_path,'w2v_embeddings_cornell.npy'), 'rb') as f:\n",
    "        final_embeddings = np.load(f)\n",
    "\n",
    "    with open(os.path.join(data_path,'missing_in_w2v_cornell.npy'), 'rb') as f:\n",
    "        missing = np.load(f)\n",
    "elif mode=='glove':\n",
    "    with open(os.path.join(data_path,'glove_embeddings_cornell.npy'), 'rb') as f:\n",
    "        final_embeddings = np.load(f)\n",
    "\n",
    "    with open(os.path.join(data_path,'missing_in_glove_cornell.npy'), 'rb') as f:\n",
    "        missing = np.load(f)\n",
    "elif mode=='custom':\n",
    "    with open(os.path.join(data_path,'glove_embeddings_trained_cornell.npy'), 'rb') as f:\n",
    "        final_embeddings = np.load(f)\n",
    "\n",
    "    with open(os.path.join(data_path,'missing_in_glove_trained_cornell.npy'), 'rb') as f:\n",
    "        missing = np.load(f)\n",
    "        \n",
    "with open(os.path.join(data_path,'token_mapping_cornell.json'), 'r') as f:\n",
    "    token_mapping = json.load(f)\n",
    "\n",
    "with open(os.path.join(data_path,'data_cornell.npy'), 'rb') as f:\n",
    "    data = np.load(f,allow_pickle=True)  "
   ]
  },
  {
   "cell_type": "code",
   "execution_count": 5,
   "id": "fourth-afghanistan",
   "metadata": {},
   "outputs": [],
   "source": [
    "missing_idx = [token_mapping[i] for i in missing]"
   ]
  },
  {
   "cell_type": "code",
   "execution_count": 6,
   "id": "committed-chain",
   "metadata": {},
   "outputs": [
    {
     "data": {
      "text/plain": [
       "82957"
      ]
     },
     "execution_count": 6,
     "metadata": {},
     "output_type": "execute_result"
    }
   ],
   "source": [
    "len(data)"
   ]
  },
  {
   "cell_type": "code",
   "execution_count": 7,
   "id": "joint-harvest",
   "metadata": {},
   "outputs": [],
   "source": [
    "inverse_token_mapping = dict((v,k) for k,v in token_mapping.items())\n",
    "pad_token = inverse_token_mapping[0]\n",
    "start_token = inverse_token_mapping[1]\n",
    "end_token = inverse_token_mapping[2]\n",
    "unk_token = inverse_token_mapping[3]"
   ]
  },
  {
   "cell_type": "code",
   "execution_count": 8,
   "id": "artistic-walter",
   "metadata": {},
   "outputs": [
    {
     "data": {
      "text/plain": [
       "('<pad>', '<start>', '<end>', '<unk>')"
      ]
     },
     "execution_count": 8,
     "metadata": {},
     "output_type": "execute_result"
    }
   ],
   "source": [
    "pad_token, start_token, end_token,unk_token"
   ]
  },
  {
   "cell_type": "code",
   "execution_count": 9,
   "id": "tender-campbell",
   "metadata": {},
   "outputs": [
    {
     "data": {
      "text/plain": [
       "[['no no it is my fault we did not have a proper introduction', 'Cameron .'],\n",
       " ['Cameron .',\n",
       "  'the thing is Cameron i am at the mercy of a particularly hideous breed of loser . my sister . i cannot date until she does .'],\n",
       " ['the thing is Cameron i am at the mercy of a particularly hideous breed of loser . my sister . i cannot date until she does .',\n",
       "  'seems like she could get a date easy enough .']]"
      ]
     },
     "execution_count": 9,
     "metadata": {},
     "output_type": "execute_result"
    }
   ],
   "source": [
    "test = data[2]\n",
    "[test[i:i+2] for i in range(0,len(test)-1,1)]"
   ]
  },
  {
   "cell_type": "code",
   "execution_count": 10,
   "id": "insured-former",
   "metadata": {},
   "outputs": [],
   "source": [
    "def slice_data(data):\n",
    "    X, y = [], []\n",
    "    for conversation in data:\n",
    "        pairs = np.array([conversation[i:i+2] for i in range(0,len(conversation)-1,1)])\n",
    "        X.extend(list(pairs[:,0]))\n",
    "        y.extend(list(pairs[:,1]))\n",
    "    return X, y"
   ]
  },
  {
   "cell_type": "code",
   "execution_count": 11,
   "id": "alleged-fairy",
   "metadata": {},
   "outputs": [],
   "source": [
    "X, y = slice_data(data)"
   ]
  },
  {
   "cell_type": "code",
   "execution_count": 12,
   "id": "posted-knight",
   "metadata": {},
   "outputs": [
    {
     "data": {
      "text/plain": [
       "(221068, 221068)"
      ]
     },
     "execution_count": 12,
     "metadata": {},
     "output_type": "execute_result"
    }
   ],
   "source": [
    "len(X), len(y)"
   ]
  },
  {
   "cell_type": "code",
   "execution_count": 13,
   "id": "choice-graduate",
   "metadata": {},
   "outputs": [],
   "source": [
    "X_train, X_test, y_train, y_test = train_test_split(X,y, test_size=0.15, shuffle=True)"
   ]
  },
  {
   "cell_type": "code",
   "execution_count": 14,
   "id": "prepared-aurora",
   "metadata": {},
   "outputs": [
    {
     "data": {
      "text/plain": [
       "(187907, 33161)"
      ]
     },
     "execution_count": 14,
     "metadata": {},
     "output_type": "execute_result"
    }
   ],
   "source": [
    "len(X_train), len(X_test)"
   ]
  },
  {
   "cell_type": "code",
   "execution_count": 15,
   "id": "chief-colony",
   "metadata": {},
   "outputs": [],
   "source": [
    "def map_to_ids(x, mapping, end_token=None, start_token=None, padding_token=None, max_len=None):\n",
    "  if isinstance(x, str):\n",
    "    x = x.split(' ')\n",
    "  max_len = max_len if max_len else len(x)\n",
    "  if start_token:\n",
    "    x = [start_token] + x\n",
    "  sent_ids = [mapping[word] for word in x[:max_len]]\n",
    "  if max_len>len(x):\n",
    "      if end_token:\n",
    "        sent_ids.append(mapping[end_token])\n",
    "      if padding_token:\n",
    "        sent_ids += [mapping[padding_token]]*(max_len-len(sent_ids))\n",
    "      return sent_ids\n",
    "  if end_token:\n",
    "    sent_ids[-1] = mapping[end_token]\n",
    "  return sent_ids\n"
   ]
  },
  {
   "cell_type": "code",
   "execution_count": 16,
   "id": "liable-ceremony",
   "metadata": {},
   "outputs": [],
   "source": [
    "max_len_tokens = 20"
   ]
  },
  {
   "cell_type": "code",
   "execution_count": 17,
   "id": "victorian-pottery",
   "metadata": {},
   "outputs": [],
   "source": [
    "X_train_enc = np.array([map_to_ids(i, token_mapping, end_token, None, pad_token, max_len_tokens) for i in X_train])\n",
    "X_test_enc = np.array([map_to_ids(i, token_mapping, end_token, None, pad_token, max_len_tokens) for i in X_test])\n",
    "X_train_dec = np.array([map_to_ids(i, token_mapping, None, start_token, pad_token, max_len_tokens) for i in y_train])\n",
    "X_test_dec = np.array([map_to_ids(i, token_mapping, None, start_token, pad_token, max_len_tokens) for i in y_test])\n",
    "y_train = np.array([map_to_ids(i, token_mapping, end_token, None, pad_token, max_len_tokens) for i in y_train])\n",
    "y_test = np.array([map_to_ids(i, token_mapping, end_token, None, pad_token, max_len_tokens) for i in y_test])\n"
   ]
  },
  {
   "cell_type": "code",
   "execution_count": 18,
   "id": "massive-float",
   "metadata": {},
   "outputs": [
    {
     "data": {
      "text/plain": [
       "(array([    1, 17644, 27660, 29945, 18809, 17644,  8875, 25161,     7,\n",
       "        17644, 29595, 21886, 29945, 17689, 29945, 19210,     7, 10803,\n",
       "         3510, 29792]),\n",
       " array([17644, 27660, 29945, 18809, 17644,  8875, 25161,     7, 17644,\n",
       "        29595, 21886, 29945, 17689, 29945, 19210,     7, 10803,  3510,\n",
       "        29792,     2]))"
      ]
     },
     "execution_count": 18,
     "metadata": {},
     "output_type": "execute_result"
    }
   ],
   "source": [
    "X_train_dec[0], y_train[0]"
   ]
  },
  {
   "cell_type": "markdown",
   "id": "constant-petite",
   "metadata": {},
   "source": [
    "# Building a model "
   ]
  },
  {
   "cell_type": "code",
   "execution_count": 19,
   "id": "hearing-raising",
   "metadata": {},
   "outputs": [
    {
     "data": {
      "text/plain": [
       "(30003, 100)"
      ]
     },
     "execution_count": 19,
     "metadata": {},
     "output_type": "execute_result"
    }
   ],
   "source": [
    "final_embeddings.shape"
   ]
  },
  {
   "cell_type": "code",
   "execution_count": 20,
   "id": "collect-advance",
   "metadata": {},
   "outputs": [],
   "source": [
    "seq2seq = Seq2Seq(token_mapping, \n",
    "         pad_token=token_mapping[pad_token],\n",
    "         end_token=token_mapping[end_token],\n",
    "         start_token=token_mapping[start_token],\n",
    "         max_len=max_len_tokens,\n",
    "         embeddings=final_embeddings,\n",
    "         embedding_prefix=mode,\n",
    "         missing_tokens=np.array(missing_idx).astype(np.int32),\n",
    "        )"
   ]
  },
  {
   "cell_type": "markdown",
   "id": "published-evaluation",
   "metadata": {},
   "source": [
    "# Training a model"
   ]
  },
  {
   "cell_type": "code",
   "execution_count": 21,
   "id": "constant-zambia",
   "metadata": {},
   "outputs": [],
   "source": [
    "train_data = tf.data.Dataset.from_tensor_slices((X_train_enc, X_train_dec, y_train))\n",
    "val_data = tf.data.Dataset.from_tensor_slices((X_test_enc, X_test_dec, y_test))"
   ]
  },
  {
   "cell_type": "code",
   "execution_count": 22,
   "id": "shaped-poker",
   "metadata": {},
   "outputs": [],
   "source": [
    "batch_size = 256\n",
    "num_epochs = 100\n",
    "epochs_patience = 20"
   ]
  },
  {
   "cell_type": "code",
   "execution_count": null,
   "id": "laughing-resort",
   "metadata": {},
   "outputs": [
    {
     "name": "stderr",
     "output_type": "stream",
     "text": [
      "\r",
      "  0%|          | 0/100 [00:00<?, ?it/s]"
     ]
    },
    {
     "name": "stdout",
     "output_type": "stream",
     "text": [
      "Made dir : models\n",
      "WARNING:tensorflow:From /home/volodymyr/envs/convbot_env/lib/python3.7/site-packages/tensorflow/python/ops/array_grad.py:644: _EagerTensorBase.cpu (from tensorflow.python.framework.ops) is deprecated and will be removed in a future version.\n",
      "Instructions for updating:\n",
      "Use tf.identity instead.\n"
     ]
    }
   ],
   "source": [
    "seq2seq.fit(train_data,\n",
    "            validation_dataset=val_data,\n",
    "            steps_per_epoch=X_train_enc.shape[0]//batch_size,\n",
    "            batch_size=batch_size,\n",
    "            num_epochs=num_epochs,\n",
    "            epochs_patience=epochs_patience,\n",
    "           experiment_name='cornell')"
   ]
  },
  {
   "cell_type": "markdown",
   "id": "radio-company",
   "metadata": {},
   "source": [
    "# Testing predictions and other helpful stuff"
   ]
  },
  {
   "cell_type": "code",
   "execution_count": 21,
   "id": "environmental-politics",
   "metadata": {},
   "outputs": [],
   "source": [
    "from utils.model_utils import plot_attention"
   ]
  },
  {
   "cell_type": "code",
   "execution_count": 22,
   "id": "occasional-repeat",
   "metadata": {},
   "outputs": [],
   "source": [
    "def process(x, unk_token):\n",
    "  res = []\n",
    "  for i in x.split(' '):\n",
    "    if token_mapping.get(i):\n",
    "      res.append(i)\n",
    "    elif token_mapping.get(i.lower()):\n",
    "      res.append(i.lower())\n",
    "    else:\n",
    "      res.append(unk_token)\n",
    "  return res"
   ]
  },
  {
   "cell_type": "code",
   "execution_count": 23,
   "id": "golden-bishop",
   "metadata": {},
   "outputs": [],
   "source": [
    "def give_answer(decoder, sentence, inverse_token_mapping, pad_unk=True, process_sentence=True, len_output=50,\n",
    "               beam_size=3,\n",
    "               beam_search=False,\n",
    "               show_attention=False):\n",
    "      if process_sentence:\n",
    "        cleaned_sentence = uncover_reduction(clean_bad_chars(sentence))\n",
    "        unk_token = pad_token if pad_unk else \"<unk>\"\n",
    "        processed_sentence = process(cleaned_sentence, unk_token)\n",
    "        mapped_sentence = map_to_ids(processed_sentence, token_mapping, end_token, padding_token=pad_token, max_len=max_len_tokens)\n",
    "      else:\n",
    "        mapped_sentence = sentence\n",
    "      if beam_search:\n",
    "        prediction = decoder.decode(mapped_sentence, beam_size)\n",
    "      else:\n",
    "          prediction = decoder.decode(mapped_sentence, len_output, show_attention)\n",
    "      if show_attention and not beam_search:\n",
    "        prediction, attention = prediction\n",
    "      answer = \" \".join([inverse_token_mapping.get(i) for i in prediction]).capitalize()\n",
    "      if show_attention and not beam_search:\n",
    "            plot_attention(attention,sentence.split(' '), answer.split(' '))\n",
    "      return answer"
   ]
  },
  {
   "cell_type": "code",
   "execution_count": 36,
   "id": "executive-location",
   "metadata": {},
   "outputs": [],
   "source": [
    "greedy_decoder = GreedyDecoder(decoder=seq2seq.decoder,\n",
    "             encoder=seq2seq.encoder,\n",
    "             max_len=max_len_tokens,\n",
    "             start_token=token_mapping[start_token],\n",
    "             end_token=token_mapping[end_token])"
   ]
  },
  {
   "cell_type": "code",
   "execution_count": 42,
   "id": "passing-filling",
   "metadata": {},
   "outputs": [
    {
     "data": {
      "image/png": "[encoded data removed]",
      "text/plain": [
       "<Figure size 720x720 with 1 Axes>"
      ]
     },
     "metadata": {},
     "output_type": "display_data"
    },
    {
     "data": {
      "text/plain": [
       "'Hi .'"
      ]
     },
     "execution_count": 42,
     "metadata": {},
     "output_type": "execute_result"
    }
   ],
   "source": [
    "give_answer(greedy_decoder, 'hello .', inverse_token_mapping, show_attention=True)"
   ]
  },
  {
   "cell_type": "code",
   "execution_count": 39,
   "id": "christian-embassy",
   "metadata": {},
   "outputs": [],
   "source": [
    "beam_search_decoder = BeamSearchDecoder(decoder=seq2seq.decoder, \n",
    "                 encoder=seq2seq.encoder,\n",
    "                 max_len=max_len_tokens,\n",
    "                 start_token=token_mapping[start_token],\n",
    "                 end_token=token_mapping[end_token])"
   ]
  },
  {
   "cell_type": "code",
   "execution_count": 43,
   "id": "weighted-police",
   "metadata": {},
   "outputs": [
    {
     "data": {
      "text/plain": [
       "'Hi .'"
      ]
     },
     "execution_count": 43,
     "metadata": {},
     "output_type": "execute_result"
    }
   ],
   "source": [
    "give_answer(beam_search_decoder, 'hi .', inverse_token_mapping, show_attention=False,\n",
    "           beam_search=True)"
   ]
  },
  {
   "cell_type": "markdown",
   "id": "modular-affairs",
   "metadata": {},
   "source": [
    "# Dialogue generation and question answering"
   ]
  },
  {
   "cell_type": "code",
   "execution_count": 79,
   "id": "solved-lambda",
   "metadata": {},
   "outputs": [
    {
     "data": {
      "image/png": "[encoded data removed]",
      "text/plain": [
       "<Figure size 720x720 with 1 Axes>"
      ]
     },
     "metadata": {},
     "output_type": "display_data"
    },
    {
     "name": "stdout",
     "output_type": "stream",
     "text": [
      "------------------------------\n",
      "Test replica : hey you!\n",
      "Bot greedy answer : I am not going to be a good idea .\n",
      "Bot beam search answer : What ?\n",
      "------------------------------\n"
     ]
    },
    {
     "data": {
      "image/png": "[encoded data removed]",
      "text/plain": [
       "<Figure size 720x720 with 1 Axes>"
      ]
     },
     "metadata": {},
     "output_type": "display_data"
    },
    {
     "name": "stdout",
     "output_type": "stream",
     "text": [
      "------------------------------\n",
      "Test replica : hello\n",
      "Bot greedy answer : I am sorry .\n",
      "Bot beam search answer : Hi .\n",
      "------------------------------\n"
     ]
    },
    {
     "data": {
      "image/png": "[encoded data removed]",
      "text/plain": [
       "<Figure size 720x720 with 1 Axes>"
      ]
     },
     "metadata": {},
     "output_type": "display_data"
    },
    {
     "name": "stdout",
     "output_type": "stream",
     "text": [
      "------------------------------\n",
      "Test replica : hi\n",
      "Bot greedy answer : I am sorry .\n",
      "Bot beam search answer : Hi .\n",
      "------------------------------\n"
     ]
    },
    {
     "data": {
      "image/png": "[encoded data removed]",
      "text/plain": [
       "<Figure size 720x720 with 1 Axes>"
      ]
     },
     "metadata": {},
     "output_type": "display_data"
    },
    {
     "name": "stdout",
     "output_type": "stream",
     "text": [
      "------------------------------\n",
      "Test replica : how are you?\n",
      "Bot greedy answer : I am not .\n",
      "Bot beam search answer : I do not know .\n",
      "------------------------------\n"
     ]
    },
    {
     "data": {
      "image/png": "[encoded data removed]",
      "text/plain": [
       "<Figure size 720x720 with 1 Axes>"
      ]
     },
     "metadata": {},
     "output_type": "display_data"
    },
    {
     "name": "stdout",
     "output_type": "stream",
     "text": [
      "------------------------------\n",
      "Test replica : have you ever been to USA?\n",
      "Bot greedy answer : No .\n",
      "Bot beam search answer : Yes .\n",
      "------------------------------\n"
     ]
    },
    {
     "data": {
      "image/png": "[encoded data removed]",
      "text/plain": [
       "<Figure size 720x720 with 1 Axes>"
      ]
     },
     "metadata": {},
     "output_type": "display_data"
    },
    {
     "name": "stdout",
     "output_type": "stream",
     "text": [
      "------------------------------\n",
      "Test replica : where are you from?\n",
      "Bot greedy answer : I am not going to be here .\n",
      "Bot beam search answer : I do not know .\n",
      "------------------------------\n"
     ]
    },
    {
     "data": {
      "image/png": "[encoded data removed]",
      "text/plain": [
       "<Figure size 720x720 with 1 Axes>"
      ]
     },
     "metadata": {},
     "output_type": "display_data"
    },
    {
     "name": "stdout",
     "output_type": "stream",
     "text": [
      "------------------------------\n",
      "Test replica : what do you think about marriage?\n",
      "Bot greedy answer : I do not know .\n",
      "Bot beam search answer : I do not know .\n",
      "------------------------------\n"
     ]
    },
    {
     "data": {
      "image/png": "[encoded data removed]",
      "text/plain": [
       "<Figure size 720x720 with 1 Axes>"
      ]
     },
     "metadata": {},
     "output_type": "display_data"
    },
    {
     "name": "stdout",
     "output_type": "stream",
     "text": [
      "------------------------------\n",
      "Test replica : I need your help\n",
      "Bot greedy answer : I am not sure .\n",
      "Bot beam search answer : I do not want to do it .\n",
      "------------------------------\n"
     ]
    },
    {
     "data": {
      "image/png": "[encoded data removed]",
      "text/plain": [
       "<Figure size 720x720 with 1 Axes>"
      ]
     },
     "metadata": {},
     "output_type": "display_data"
    },
    {
     "name": "stdout",
     "output_type": "stream",
     "text": [
      "------------------------------\n",
      "Test replica : Where do you recommend me to go?\n",
      "Bot greedy answer : I am not .\n",
      "Bot beam search answer : Yes .\n",
      "------------------------------\n"
     ]
    },
    {
     "data": {
      "image/png": "[encoded data removed]",
      "text/plain": [
       "<Figure size 720x720 with 1 Axes>"
      ]
     },
     "metadata": {},
     "output_type": "display_data"
    },
    {
     "name": "stdout",
     "output_type": "stream",
     "text": [
      "------------------------------\n",
      "Test replica : you are under arrest!\n",
      "Bot greedy answer : I am not going to be here .\n",
      "Bot beam search answer : I do not know .\n",
      "------------------------------\n"
     ]
    },
    {
     "data": {
      "image/png": "[encoded data removed]",
      "text/plain": [
       "<Figure size 720x720 with 1 Axes>"
      ]
     },
     "metadata": {},
     "output_type": "display_data"
    },
    {
     "name": "stdout",
     "output_type": "stream",
     "text": [
      "------------------------------\n",
      "Test replica : want to fuck me?\n",
      "Bot greedy answer : I am not going to be a good idea .\n",
      "Bot beam search answer : I do not know .\n",
      "------------------------------\n"
     ]
    },
    {
     "data": {
      "image/png": "[encoded data removed]",
      "text/plain": [
       "<Figure size 720x720 with 1 Axes>"
      ]
     },
     "metadata": {},
     "output_type": "display_data"
    },
    {
     "name": "stdout",
     "output_type": "stream",
     "text": [
      "------------------------------\n",
      "Test replica : see you\n",
      "Bot greedy answer : I am not .\n",
      "Bot beam search answer : Yes .\n",
      "------------------------------\n"
     ]
    },
    {
     "data": {
      "image/png": "[encoded data removed]",
      "text/plain": [
       "<Figure size 720x720 with 1 Axes>"
      ]
     },
     "metadata": {},
     "output_type": "display_data"
    },
    {
     "name": "stdout",
     "output_type": "stream",
     "text": [
      "------------------------------\n",
      "Test replica : you are shit\n",
      "Bot greedy answer : I am not sure .\n",
      "Bot beam search answer : I do not know .\n",
      "------------------------------\n"
     ]
    }
   ],
   "source": [
    "replicas = ['hey you!',\n",
    "            'hello',\n",
    "            'hi',\n",
    "            'how are you?',\n",
    "            'have you ever been to USA?',\n",
    "            'where are you from?',\n",
    "            'what do you think about marriage?',\n",
    "             'I need your help',\n",
    "           'Where do you recommend me to go?',\n",
    "           'you are under arrest!',\n",
    "           'want to fuck me?',\n",
    "           'see you',\n",
    "           'you are shit']\n",
    "for i in replicas:\n",
    "    greedy_answer = give_answer(greedy_decoder, i, inverse_token_mapping, show_attention=True)\n",
    "    beam_search_answer = give_answer(beam_search_decoder, i, inverse_token_mapping,\n",
    "           beam_search=True,\n",
    "           beam_size=3)\n",
    "    print(30*'-')\n",
    "    print('Test replica : {}'.format(i))\n",
    "    print('Bot greedy answer : {}'.format(greedy_answer))\n",
    "    print('Bot beam search answer : {}'.format(beam_search_answer))\n",
    "    print(30*'-')\n"
   ]
  },
  {
   "cell_type": "markdown",
   "id": "removable-preview",
   "metadata": {},
   "source": [
    "# Interactive usage"
   ]
  },
  {
   "cell_type": "code",
   "execution_count": 45,
   "id": "aware-japanese",
   "metadata": {},
   "outputs": [
    {
     "name": "stdout",
     "output_type": "stream",
     "text": [
      "hi\n",
      "------------------------------\n",
      "Replica : hi\n",
      "Beam answer : What ?\n",
      "Greedy answer : I am sorry .\n",
      "------------------------------\n",
      "hi .\n",
      "------------------------------\n",
      "Replica : hi .\n",
      "Beam answer : Hi .\n",
      "Greedy answer : Hi .\n",
      "------------------------------\n",
      "what is it?\n",
      "------------------------------\n",
      "Replica : what is it?\n",
      "Beam answer : I do not know .\n",
      "Greedy answer : I am not going to be a good idea .\n",
      "------------------------------\n",
      "how are you, bastard?\n",
      "------------------------------\n",
      "Replica : how are you, bastard?\n",
      "Beam answer : I do not know .\n",
      "Greedy answer : I am not .\n",
      "------------------------------\n",
      "well well\n",
      "------------------------------\n",
      "Replica : well well\n",
      "Beam answer : That is that ?\n",
      "Greedy answer : I am sorry .\n",
      "------------------------------\n",
      "hell yeah\n",
      "------------------------------\n",
      "Replica : hell yeah\n",
      "Beam answer : What ?\n",
      "Greedy answer : I am not going to be a good idea .\n",
      "------------------------------\n",
      "how often do you jerk off?\n",
      "------------------------------\n",
      "Replica : how often do you jerk off?\n",
      "Beam answer : I do not know .\n",
      "Greedy answer : I am not going to be a good idea .\n",
      "------------------------------\n"
     ]
    },
    {
     "ename": "KeyboardInterrupt",
     "evalue": "Interrupted by user",
     "output_type": "error",
     "traceback": [
      "\u001b[0;31m---------------------------------------------------------------------------\u001b[0m",
      "\u001b[0;31mKeyboardInterrupt\u001b[0m                         Traceback (most recent call last)",
      "\u001b[0;32m<ipython-input-45-2c409b356802>\u001b[0m in \u001b[0;36m<module>\u001b[0;34m\u001b[0m\n\u001b[1;32m      1\u001b[0m \u001b[0minp\u001b[0m \u001b[0;34m=\u001b[0m \u001b[0;34m''\u001b[0m\u001b[0;34m\u001b[0m\u001b[0;34m\u001b[0m\u001b[0m\n\u001b[1;32m      2\u001b[0m \u001b[0;32mwhile\u001b[0m \u001b[0;32mTrue\u001b[0m\u001b[0;34m:\u001b[0m\u001b[0;34m\u001b[0m\u001b[0;34m\u001b[0m\u001b[0m\n\u001b[0;32m----> 3\u001b[0;31m     \u001b[0minp\u001b[0m \u001b[0;34m=\u001b[0m \u001b[0mstr\u001b[0m\u001b[0;34m(\u001b[0m\u001b[0minput\u001b[0m\u001b[0;34m(\u001b[0m\u001b[0;34m)\u001b[0m\u001b[0;34m)\u001b[0m\u001b[0;34m.\u001b[0m\u001b[0mstrip\u001b[0m\u001b[0;34m(\u001b[0m\u001b[0;34m)\u001b[0m\u001b[0;34m\u001b[0m\u001b[0;34m\u001b[0m\u001b[0m\n\u001b[0m\u001b[1;32m      4\u001b[0m     \u001b[0;32mif\u001b[0m \u001b[0minp\u001b[0m\u001b[0;34m==\u001b[0m\u001b[0;34m'exit'\u001b[0m\u001b[0;34m:\u001b[0m\u001b[0;34m\u001b[0m\u001b[0;34m\u001b[0m\u001b[0m\n\u001b[1;32m      5\u001b[0m         \u001b[0;32mbreak\u001b[0m\u001b[0;34m\u001b[0m\u001b[0;34m\u001b[0m\u001b[0m\n",
      "\u001b[0;32m/home/volodymyr/envs/convbot_env/lib/python3.7/site-packages/ipykernel/kernelbase.py\u001b[0m in \u001b[0;36mraw_input\u001b[0;34m(self, prompt)\u001b[0m\n\u001b[1;32m    849\u001b[0m             \u001b[0mself\u001b[0m\u001b[0;34m.\u001b[0m\u001b[0m_parent_ident\u001b[0m\u001b[0;34m,\u001b[0m\u001b[0;34m\u001b[0m\u001b[0;34m\u001b[0m\u001b[0m\n\u001b[1;32m    850\u001b[0m             \u001b[0mself\u001b[0m\u001b[0;34m.\u001b[0m\u001b[0m_parent_header\u001b[0m\u001b[0;34m,\u001b[0m\u001b[0;34m\u001b[0m\u001b[0;34m\u001b[0m\u001b[0m\n\u001b[0;32m--> 851\u001b[0;31m             \u001b[0mpassword\u001b[0m\u001b[0;34m=\u001b[0m\u001b[0;32mFalse\u001b[0m\u001b[0;34m,\u001b[0m\u001b[0;34m\u001b[0m\u001b[0;34m\u001b[0m\u001b[0m\n\u001b[0m\u001b[1;32m    852\u001b[0m         )\n\u001b[1;32m    853\u001b[0m \u001b[0;34m\u001b[0m\u001b[0m\n",
      "\u001b[0;32m/home/volodymyr/envs/convbot_env/lib/python3.7/site-packages/ipykernel/kernelbase.py\u001b[0m in \u001b[0;36m_input_request\u001b[0;34m(self, prompt, ident, parent, password)\u001b[0m\n\u001b[1;32m    890\u001b[0m             \u001b[0;32mexcept\u001b[0m \u001b[0mKeyboardInterrupt\u001b[0m\u001b[0;34m:\u001b[0m\u001b[0;34m\u001b[0m\u001b[0;34m\u001b[0m\u001b[0m\n\u001b[1;32m    891\u001b[0m                 \u001b[0;31m# re-raise KeyboardInterrupt, to truncate traceback\u001b[0m\u001b[0;34m\u001b[0m\u001b[0;34m\u001b[0m\u001b[0;34m\u001b[0m\u001b[0m\n\u001b[0;32m--> 892\u001b[0;31m                 \u001b[0;32mraise\u001b[0m \u001b[0mKeyboardInterrupt\u001b[0m\u001b[0;34m(\u001b[0m\u001b[0;34m\"Interrupted by user\"\u001b[0m\u001b[0;34m)\u001b[0m \u001b[0;32mfrom\u001b[0m \u001b[0;32mNone\u001b[0m\u001b[0;34m\u001b[0m\u001b[0;34m\u001b[0m\u001b[0m\n\u001b[0m\u001b[1;32m    893\u001b[0m             \u001b[0;32mexcept\u001b[0m \u001b[0mException\u001b[0m \u001b[0;32mas\u001b[0m \u001b[0me\u001b[0m\u001b[0;34m:\u001b[0m\u001b[0;34m\u001b[0m\u001b[0;34m\u001b[0m\u001b[0m\n\u001b[1;32m    894\u001b[0m                 \u001b[0mself\u001b[0m\u001b[0;34m.\u001b[0m\u001b[0mlog\u001b[0m\u001b[0;34m.\u001b[0m\u001b[0mwarning\u001b[0m\u001b[0;34m(\u001b[0m\u001b[0;34m\"Invalid Message:\"\u001b[0m\u001b[0;34m,\u001b[0m \u001b[0mexc_info\u001b[0m\u001b[0;34m=\u001b[0m\u001b[0;32mTrue\u001b[0m\u001b[0;34m)\u001b[0m\u001b[0;34m\u001b[0m\u001b[0;34m\u001b[0m\u001b[0m\n",
      "\u001b[0;31mKeyboardInterrupt\u001b[0m: Interrupted by user"
     ]
    }
   ],
   "source": [
    "inp = ''\n",
    "while True:\n",
    "    inp = str(input()).strip()\n",
    "    if inp=='exit':\n",
    "        break\n",
    "    greedy_answer = give_answer(greedy_decoder, inp, inverse_token_mapping, show_attention=False)\n",
    "    beam_search_answer = give_answer(beam_search_decoder, inp, inverse_token_mapping,\n",
    "           beam_search=True,\n",
    "           beam_size=7)\n",
    "    print(30*'-')\n",
    "    print('Replica : {}'.format(inp))\n",
    "    print('Beam answer : {}'.format(beam_search_answer))\n",
    "    print('Greedy answer : {}'.format(greedy_answer))\n",
    "    print(30*'-')"
   ]
  },
  {
   "cell_type": "code",
   "execution_count": null,
   "id": "seasonal-boost",
   "metadata": {},
   "outputs": [],
   "source": []
  }
 ],
 "metadata": {
  "kernelspec": {
   "display_name": "Python 3",
   "language": "python",
   "name": "python3"
  },
  "language_info": {
   "codemirror_mode": {
    "name": "ipython",
    "version": 3
   },
   "file_extension": ".py",
   "mimetype": "text/x-python",
   "name": "python",
   "nbconvert_exporter": "python",
   "pygments_lexer": "ipython3",
   "version": "3.7.5"
  }
 },
 "nbformat": 4,
 "nbformat_minor": 5
}
