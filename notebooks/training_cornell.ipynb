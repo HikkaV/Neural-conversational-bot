{
 "cells": [
  {
   "cell_type": "code",
   "execution_count": 1,
   "id": "minor-marina",
   "metadata": {},
   "outputs": [],
   "source": [
    "import numpy as np\n",
    "from sklearn.model_selection import train_test_split\n",
    "import seaborn as sns\n",
    "import matplotlib.pyplot as plt\n",
    "import os\n",
    "import json\n",
    "import tqdm\n",
    "import matplotlib.ticker as ticker\n",
    "sns.set()"
   ]
  },
  {
   "cell_type": "code",
   "execution_count": 2,
   "id": "twenty-angel",
   "metadata": {},
   "outputs": [
    {
     "name": "stdout",
     "output_type": "stream",
     "text": [
      "1 Physical GPUs, 1 Logical GPUs\n"
     ]
    }
   ],
   "source": [
    "import sys\n",
    "sys.path.insert(0, '../')\n",
    "from model.seq2seq import Seq2Seq, tf\n",
    "from model.decoding_techniques import BeamSearchDecoder, GreedyDecoder, NucleusDecoder\n",
    "from utils.processing_utils import *"
   ]
  },
  {
   "cell_type": "markdown",
   "id": "choice-istanbul",
   "metadata": {},
   "source": [
    "# Loading data and spliting"
   ]
  },
  {
   "cell_type": "code",
   "execution_count": 3,
   "id": "worth-portfolio",
   "metadata": {},
   "outputs": [],
   "source": [
    "data_path = '../processed_data'\n",
    "mode = 'custom'\n",
    "all_train = True\n",
    "if mode=='w2v':\n",
    "    with open(os.path.join(data_path,'w2v_embeddings_cornell.npy'), 'rb') as f:\n",
    "        final_embeddings = np.load(f)\n",
    "\n",
    "    with open(os.path.join(data_path,'missing_in_w2v_cornell.npy'), 'rb') as f:\n",
    "        missing = np.load(f)\n",
    "elif mode=='glove':\n",
    "    with open(os.path.join(data_path,'glove_embeddings_cornell.npy'), 'rb') as f:\n",
    "        final_embeddings = np.load(f)\n",
    "\n",
    "    with open(os.path.join(data_path,'missing_in_glove_cornell.npy'), 'rb') as f:\n",
    "        missing = np.load(f)\n",
    "elif mode=='custom':\n",
    "    with open(os.path.join(data_path,'glove_embeddings_trained_cornell.npy'), 'rb') as f:\n",
    "        final_embeddings = np.load(f)\n",
    "\n",
    "    with open(os.path.join(data_path,'missing_in_glove_trained_cornell.npy'), 'rb') as f:\n",
    "        missing = np.load(f)\n",
    "        \n",
    "with open(os.path.join(data_path,'token_mapping_cornell.json'), 'r') as f:\n",
    "    token_mapping = json.load(f)\n",
    "\n",
    "with open(os.path.join(data_path,'data_cornell.npy'), 'rb') as f:\n",
    "    data = np.load(f,allow_pickle=True)  "
   ]
  },
  {
   "cell_type": "code",
   "execution_count": 4,
   "id": "fourth-afghanistan",
   "metadata": {},
   "outputs": [],
   "source": [
    "missing_idx = [token_mapping[i] for i in missing]"
   ]
  },
  {
   "cell_type": "code",
   "execution_count": 5,
   "id": "committed-chain",
   "metadata": {},
   "outputs": [
    {
     "data": {
      "text/plain": [
       "83034"
      ]
     },
     "execution_count": 5,
     "metadata": {},
     "output_type": "execute_result"
    }
   ],
   "source": [
    "len(data)"
   ]
  },
  {
   "cell_type": "code",
   "execution_count": 6,
   "id": "joint-harvest",
   "metadata": {},
   "outputs": [],
   "source": [
    "inverse_token_mapping = dict((v,k) for k,v in token_mapping.items())\n",
    "pad_token = inverse_token_mapping[0]\n",
    "start_token = inverse_token_mapping[1]\n",
    "end_token = inverse_token_mapping[2]\n",
    "unk_token = inverse_token_mapping[3]"
   ]
  },
  {
   "cell_type": "code",
   "execution_count": 7,
   "id": "artistic-walter",
   "metadata": {},
   "outputs": [
    {
     "data": {
      "text/plain": [
       "('<pad>', '<start>', '<end>', '<unk>')"
      ]
     },
     "execution_count": 7,
     "metadata": {},
     "output_type": "execute_result"
    }
   ],
   "source": [
    "pad_token, start_token, end_token,unk_token"
   ]
  },
  {
   "cell_type": "code",
   "execution_count": 8,
   "id": "tender-campbell",
   "metadata": {},
   "outputs": [
    {
     "data": {
      "text/plain": [
       "[['no no it is my fault we did not have a proper introduction', 'cameron .'],\n",
       " ['cameron .',\n",
       "  'the thing is cameron i am at the mercy of a particularly hideous breed of loser . my sister . i can not date until she does .'],\n",
       " ['the thing is cameron i am at the mercy of a particularly hideous breed of loser . my sister . i can not date until she does .',\n",
       "  'seems like she could get a date easy enough .']]"
      ]
     },
     "execution_count": 8,
     "metadata": {},
     "output_type": "execute_result"
    }
   ],
   "source": [
    "test = data[2]\n",
    "[test[i:i+2] for i in range(0,len(test)-1,1)]"
   ]
  },
  {
   "cell_type": "code",
   "execution_count": 9,
   "id": "insured-former",
   "metadata": {},
   "outputs": [],
   "source": [
    "def slice_data(data):\n",
    "    X, y = [], []\n",
    "    for conversation in data:\n",
    "        pairs = np.array([conversation[i:i+2] for i in range(0,len(conversation)-1,1)])\n",
    "        X.extend(list(pairs[:,0]))\n",
    "        y.extend(list(pairs[:,1]))\n",
    "    return X, y"
   ]
  },
  {
   "cell_type": "code",
   "execution_count": 10,
   "id": "alleged-fairy",
   "metadata": {},
   "outputs": [],
   "source": [
    "X, y = slice_data(data)"
   ]
  },
  {
   "cell_type": "code",
   "execution_count": 11,
   "id": "posted-knight",
   "metadata": {},
   "outputs": [
    {
     "data": {
      "text/plain": [
       "(221365, 221365)"
      ]
     },
     "execution_count": 11,
     "metadata": {},
     "output_type": "execute_result"
    }
   ],
   "source": [
    "len(X), len(y)"
   ]
  },
  {
   "cell_type": "code",
   "execution_count": 12,
   "id": "choice-graduate",
   "metadata": {},
   "outputs": [],
   "source": [
    "X_train, X_test, y_train, y_test = train_test_split(X,y, test_size=0.15, shuffle=True)"
   ]
  },
  {
   "cell_type": "code",
   "execution_count": 13,
   "id": "prepared-aurora",
   "metadata": {},
   "outputs": [
    {
     "data": {
      "text/plain": [
       "(188160, 33205)"
      ]
     },
     "execution_count": 13,
     "metadata": {},
     "output_type": "execute_result"
    }
   ],
   "source": [
    "len(X_train), len(X_test)"
   ]
  },
  {
   "cell_type": "code",
   "execution_count": 14,
   "id": "chief-colony",
   "metadata": {},
   "outputs": [],
   "source": [
    "def map_to_ids(x, mapping, end_token=None, start_token=None, padding_token=None, max_len=None, \n",
    "              return_len=False):\n",
    "  if isinstance(x, str):\n",
    "    x = x.split(' ')\n",
    "  max_len = max_len if max_len else len(x)\n",
    "  length = len(x)\n",
    "  if start_token:\n",
    "    x = [start_token] + x\n",
    "  sent_ids = [mapping[word] for word in x[:max_len]]\n",
    "  if max_len>len(x):\n",
    "      if end_token:\n",
    "        sent_ids.append(mapping[end_token])\n",
    "      if padding_token:\n",
    "        sent_ids += [mapping[padding_token]]*(max_len-len(sent_ids))\n",
    "      if return_len:\n",
    "          return sent_ids,length+1\n",
    "      else:\n",
    "          return sent_ids\n",
    "  if end_token:\n",
    "    sent_ids[-1] = mapping[end_token]\n",
    "  if return_len:\n",
    "      return sent_ids, max_len\n",
    "  else:\n",
    "      return sent_ids\n"
   ]
  },
  {
   "cell_type": "code",
   "execution_count": 15,
   "id": "liable-ceremony",
   "metadata": {},
   "outputs": [],
   "source": [
    "max_len_tokens = 10"
   ]
  },
  {
   "cell_type": "code",
   "execution_count": 16,
   "id": "sustained-patio",
   "metadata": {},
   "outputs": [],
   "source": [
    "if all_train:\n",
    "    X_train_enc = np.array([map_to_ids(i, token_mapping, end_token, None, pad_token, max_len_tokens) for i in X])\n",
    "    X_train_dec = np.array([map_to_ids(i, token_mapping, None, start_token, pad_token, max_len_tokens) for i in y])\n",
    "    y_train, len_train = zip(*[map_to_ids(i, token_mapping, end_token, None, pad_token, max_len_tokens, return_len=True) for i in y])\n",
    "    y_train, len_train = np.array(y_train), np.array(len_train)\n",
    "else:\n",
    "    X_train_enc = np.array([map_to_ids(i, token_mapping, end_token, None, pad_token, max_len_tokens) for i in X_train])\n",
    "    X_test_enc = np.array([map_to_ids(i, token_mapping, end_token, None, pad_token, max_len_tokens) for i in X_test])\n",
    "    X_train_dec = np.array([map_to_ids(i, token_mapping, None, start_token, pad_token, max_len_tokens) for i in y_train])\n",
    "    X_test_dec = np.array([map_to_ids(i, token_mapping, None, start_token, pad_token, max_len_tokens) for i in y_test])\n",
    "    y_train, len_train = zip(*[map_to_ids(i, token_mapping, end_token, None, pad_token, max_len_tokens, return_len=True) for i in y_train])\n",
    "    y_test, len_test = zip(*[map_to_ids(i, token_mapping, end_token, None, pad_token, max_len_tokens, return_len=True) for i in y_test])\n",
    "    y_train, len_train, y_test, len_test  = np.array(y_train), np.array(len_train), np.array(y_test), np.array(len_test)\n"
   ]
  },
  {
   "cell_type": "code",
   "execution_count": 17,
   "id": "massive-float",
   "metadata": {},
   "outputs": [
    {
     "data": {
      "text/plain": [
       "(array([    1, 29084, 12833, 26797, 28992, 29605, 25304, 29464,     3,\n",
       "        12893]),\n",
       " array([29084, 12833, 26797, 28992, 29605, 25304, 29464,     3, 12893,\n",
       "            2]),\n",
       " 10)"
      ]
     },
     "execution_count": 17,
     "metadata": {},
     "output_type": "execute_result"
    }
   ],
   "source": [
    "X_train_dec[0], y_train[0], len_train[0]"
   ]
  },
  {
   "cell_type": "code",
   "execution_count": 18,
   "id": "rough-writing",
   "metadata": {},
   "outputs": [
    {
     "data": {
      "text/plain": [
       "221365"
      ]
     },
     "execution_count": 18,
     "metadata": {},
     "output_type": "execute_result"
    }
   ],
   "source": [
    "len(X_train_dec)"
   ]
  },
  {
   "cell_type": "markdown",
   "id": "constant-petite",
   "metadata": {},
   "source": [
    "# Building a model "
   ]
  },
  {
   "cell_type": "code",
   "execution_count": 19,
   "id": "regional-secretariat",
   "metadata": {},
   "outputs": [
    {
     "data": {
      "text/plain": [
       "(30004, 100)"
      ]
     },
     "execution_count": 19,
     "metadata": {},
     "output_type": "execute_result"
    }
   ],
   "source": [
    "final_embeddings.shape"
   ]
  },
  {
   "cell_type": "code",
   "execution_count": 20,
   "id": "intended-melbourne",
   "metadata": {},
   "outputs": [],
   "source": [
    "seq2seq = Seq2Seq(token_mapping, \n",
    "         pad_token=token_mapping[pad_token],\n",
    "         end_token=token_mapping[end_token],\n",
    "         start_token=token_mapping[start_token],\n",
    "         max_len=max_len_tokens,\n",
    "         embeddings=final_embeddings,\n",
    "         embedding_prefix=mode,\n",
    "         missing_tokens=np.array(missing_idx).astype(np.int32),\n",
    "        )"
   ]
  },
  {
   "cell_type": "markdown",
   "id": "located-survivor",
   "metadata": {},
   "source": [
    "# Training a model"
   ]
  },
  {
   "cell_type": "code",
   "execution_count": 21,
   "id": "comprehensive-gothic",
   "metadata": {},
   "outputs": [],
   "source": [
    "train_data = tf.data.Dataset.from_tensor_slices((X_train_enc, X_train_dec, y_train, len_train))\n",
    "if not all_train:\n",
    "    val_data = tf.data.Dataset.from_tensor_slices((X_test_enc, X_test_dec, y_test, len_test))\n",
    "else:\n",
    "    val_data = None"
   ]
  },
  {
   "cell_type": "code",
   "execution_count": 22,
   "id": "professional-musical",
   "metadata": {},
   "outputs": [],
   "source": [
    "batch_size = 256\n",
    "num_epochs = 200\n",
    "epochs_patience = 10"
   ]
  },
  {
   "cell_type": "code",
   "execution_count": 23,
   "id": "inappropriate-fantasy",
   "metadata": {},
   "outputs": [
    {
     "name": "stderr",
     "output_type": "stream",
     "text": [
      "\r",
      "  0%|          | 0/200 [00:00<?, ?it/s]"
     ]
    },
    {
     "name": "stdout",
     "output_type": "stream",
     "text": [
      "Dir models already exists\n"
     ]
    },
    {
     "name": "stderr",
     "output_type": "stream",
     "text": [
      "\r",
      "  0%|          | 1/200 [02:05<6:55:46, 125.36s/it]"
     ]
    },
    {
     "name": "stdout",
     "output_type": "stream",
     "text": [
      "\n",
      "\n",
      "Epoch 0 train loss 6.0638 train perplexity 2322.2158\n"
     ]
    },
    {
     "name": "stderr",
     "output_type": "stream",
     "text": [
      "\r",
      "  1%|          | 2/200 [04:00<6:33:26, 119.23s/it]"
     ]
    },
    {
     "name": "stdout",
     "output_type": "stream",
     "text": [
      "\n",
      "\n",
      "Epoch 1 train loss 5.3246 train perplexity 211.6156\n"
     ]
    },
    {
     "name": "stderr",
     "output_type": "stream",
     "text": [
      "\r",
      "  2%|▏         | 3/200 [05:55<6:25:02, 117.27s/it]"
     ]
    },
    {
     "name": "stdout",
     "output_type": "stream",
     "text": [
      "\n",
      "\n",
      "Epoch 2 train loss 5.0952 train perplexity 168.0223\n"
     ]
    },
    {
     "name": "stderr",
     "output_type": "stream",
     "text": [
      "\r",
      "  2%|▏         | 4/200 [07:50<6:20:04, 116.35s/it]"
     ]
    },
    {
     "name": "stdout",
     "output_type": "stream",
     "text": [
      "\n",
      "\n",
      "Epoch 3 train loss 4.9589 train perplexity 146.5627\n"
     ]
    },
    {
     "name": "stderr",
     "output_type": "stream",
     "text": [
      "\r",
      "  2%|▎         | 5/200 [09:45<6:16:46, 115.93s/it]"
     ]
    },
    {
     "name": "stdout",
     "output_type": "stream",
     "text": [
      "\n",
      "\n",
      "Epoch 4 train loss 4.8557 train perplexity 132.2254\n"
     ]
    },
    {
     "name": "stderr",
     "output_type": "stream",
     "text": [
      "\r",
      "  3%|▎         | 6/200 [11:40<6:14:05, 115.70s/it]"
     ]
    },
    {
     "name": "stdout",
     "output_type": "stream",
     "text": [
      "\n",
      "\n",
      "Epoch 5 train loss 4.7831 train perplexity 122.9100\n"
     ]
    },
    {
     "name": "stderr",
     "output_type": "stream",
     "text": [
      "\r",
      "  4%|▎         | 7/200 [13:35<6:11:40, 115.55s/it]"
     ]
    },
    {
     "name": "stdout",
     "output_type": "stream",
     "text": [
      "\n",
      "\n",
      "Epoch 6 train loss 4.7169 train perplexity 115.0552\n"
     ]
    },
    {
     "name": "stderr",
     "output_type": "stream",
     "text": [
      "\r",
      "  4%|▍         | 8/200 [15:31<6:09:26, 115.45s/it]"
     ]
    },
    {
     "name": "stdout",
     "output_type": "stream",
     "text": [
      "\n",
      "\n",
      "Epoch 7 train loss 4.6640 train perplexity 109.0046\n"
     ]
    },
    {
     "name": "stderr",
     "output_type": "stream",
     "text": [
      "\r",
      "  4%|▍         | 9/200 [17:26<6:07:19, 115.39s/it]"
     ]
    },
    {
     "name": "stdout",
     "output_type": "stream",
     "text": [
      "\n",
      "\n",
      "Epoch 8 train loss 4.6176 train perplexity 103.9077\n"
     ]
    },
    {
     "name": "stderr",
     "output_type": "stream",
     "text": [
      "\r",
      "  5%|▌         | 10/200 [19:21<6:05:15, 115.34s/it]"
     ]
    },
    {
     "name": "stdout",
     "output_type": "stream",
     "text": [
      "\n",
      "\n",
      "Epoch 9 train loss 4.5735 train perplexity 99.3657\n"
     ]
    },
    {
     "name": "stderr",
     "output_type": "stream",
     "text": [
      "\r",
      "  6%|▌         | 11/200 [21:16<6:03:11, 115.30s/it]"
     ]
    },
    {
     "name": "stdout",
     "output_type": "stream",
     "text": [
      "\n",
      "\n",
      "Epoch 10 train loss 4.5389 train perplexity 95.9209\n"
     ]
    },
    {
     "name": "stderr",
     "output_type": "stream",
     "text": [
      "\r",
      "  6%|▌         | 12/200 [23:12<6:01:12, 115.28s/it]"
     ]
    },
    {
     "name": "stdout",
     "output_type": "stream",
     "text": [
      "\n",
      "\n",
      "Epoch 11 train loss 4.5101 train perplexity 93.1920\n"
     ]
    },
    {
     "name": "stderr",
     "output_type": "stream",
     "text": [
      "\r",
      "  6%|▋         | 13/200 [25:07<5:59:16, 115.27s/it]"
     ]
    },
    {
     "name": "stdout",
     "output_type": "stream",
     "text": [
      "\n",
      "\n",
      "Epoch 12 train loss 4.4754 train perplexity 89.9243\n"
     ]
    },
    {
     "name": "stderr",
     "output_type": "stream",
     "text": [
      "\r",
      "  7%|▋         | 14/200 [27:02<5:57:20, 115.27s/it]"
     ]
    },
    {
     "name": "stdout",
     "output_type": "stream",
     "text": [
      "\n",
      "\n",
      "Epoch 13 train loss 4.4459 train perplexity 87.3825\n"
     ]
    },
    {
     "name": "stderr",
     "output_type": "stream",
     "text": [
      "\r",
      "  8%|▊         | 15/200 [28:57<5:55:25, 115.27s/it]"
     ]
    },
    {
     "name": "stdout",
     "output_type": "stream",
     "text": [
      "\n",
      "\n",
      "Epoch 14 train loss 4.4168 train perplexity 84.7593\n"
     ]
    },
    {
     "name": "stderr",
     "output_type": "stream",
     "text": [
      "\r",
      "  8%|▊         | 16/200 [30:53<5:53:29, 115.27s/it]"
     ]
    },
    {
     "name": "stdout",
     "output_type": "stream",
     "text": [
      "\n",
      "\n",
      "Epoch 15 train loss 4.3995 train perplexity 83.2780\n"
     ]
    },
    {
     "name": "stderr",
     "output_type": "stream",
     "text": [
      "\r",
      "  8%|▊         | 17/200 [32:48<5:51:35, 115.27s/it]"
     ]
    },
    {
     "name": "stdout",
     "output_type": "stream",
     "text": [
      "\n",
      "\n",
      "Epoch 16 train loss 4.3703 train perplexity 80.9346\n"
     ]
    },
    {
     "name": "stderr",
     "output_type": "stream",
     "text": [
      "\r",
      "  9%|▉         | 18/200 [34:43<5:49:39, 115.27s/it]"
     ]
    },
    {
     "name": "stdout",
     "output_type": "stream",
     "text": [
      "\n",
      "\n",
      "Epoch 17 train loss 4.3520 train perplexity 79.3052\n"
     ]
    },
    {
     "name": "stderr",
     "output_type": "stream",
     "text": [
      "\r",
      " 10%|▉         | 19/200 [36:38<5:47:43, 115.27s/it]"
     ]
    },
    {
     "name": "stdout",
     "output_type": "stream",
     "text": [
      "\n",
      "\n",
      "Epoch 18 train loss 4.3349 train perplexity 78.0040\n"
     ]
    },
    {
     "name": "stderr",
     "output_type": "stream",
     "text": [
      "\r",
      " 10%|█         | 20/200 [38:34<5:45:48, 115.27s/it]"
     ]
    },
    {
     "name": "stdout",
     "output_type": "stream",
     "text": [
      "\n",
      "\n",
      "Epoch 19 train loss 4.3143 train perplexity 76.3106\n"
     ]
    },
    {
     "name": "stderr",
     "output_type": "stream",
     "text": [
      "\r",
      " 10%|█         | 21/200 [40:29<5:43:52, 115.27s/it]"
     ]
    },
    {
     "name": "stdout",
     "output_type": "stream",
     "text": [
      "\n",
      "\n",
      "Epoch 20 train loss 4.2920 train perplexity 74.6625\n"
     ]
    },
    {
     "name": "stderr",
     "output_type": "stream",
     "text": [
      "\r",
      " 11%|█         | 22/200 [42:24<5:41:57, 115.27s/it]"
     ]
    },
    {
     "name": "stdout",
     "output_type": "stream",
     "text": [
      "\n",
      "\n",
      "Epoch 21 train loss 4.2766 train perplexity 73.4482\n"
     ]
    },
    {
     "name": "stderr",
     "output_type": "stream",
     "text": [
      "\r",
      " 12%|█▏        | 23/200 [44:19<5:40:02, 115.27s/it]"
     ]
    },
    {
     "name": "stdout",
     "output_type": "stream",
     "text": [
      "\n",
      "\n",
      "Epoch 22 train loss 4.2618 train perplexity 72.3524\n"
     ]
    },
    {
     "name": "stderr",
     "output_type": "stream",
     "text": [
      "\r",
      " 12%|█▏        | 24/200 [46:15<5:38:06, 115.26s/it]"
     ]
    },
    {
     "name": "stdout",
     "output_type": "stream",
     "text": [
      "\n",
      "\n",
      "Epoch 23 train loss 4.2461 train perplexity 71.1938\n"
     ]
    },
    {
     "name": "stderr",
     "output_type": "stream",
     "text": [
      "\r",
      " 12%|█▎        | 25/200 [48:10<5:36:11, 115.26s/it]"
     ]
    },
    {
     "name": "stdout",
     "output_type": "stream",
     "text": [
      "\n",
      "\n",
      "Epoch 24 train loss 4.2296 train perplexity 70.0196\n"
     ]
    },
    {
     "name": "stderr",
     "output_type": "stream",
     "text": [
      "\r",
      " 13%|█▎        | 26/200 [50:05<5:34:14, 115.26s/it]"
     ]
    },
    {
     "name": "stdout",
     "output_type": "stream",
     "text": [
      "\n",
      "\n",
      "Epoch 25 train loss 4.2147 train perplexity 69.0337\n"
     ]
    },
    {
     "name": "stderr",
     "output_type": "stream",
     "text": [
      "\r",
      " 14%|█▎        | 27/200 [52:00<5:32:20, 115.26s/it]"
     ]
    },
    {
     "name": "stdout",
     "output_type": "stream",
     "text": [
      "\n",
      "\n",
      "Epoch 26 train loss 4.2060 train perplexity 68.3782\n"
     ]
    },
    {
     "name": "stderr",
     "output_type": "stream",
     "text": [
      "\r",
      " 14%|█▍        | 28/200 [53:56<5:30:25, 115.26s/it]"
     ]
    },
    {
     "name": "stdout",
     "output_type": "stream",
     "text": [
      "\n",
      "\n",
      "Epoch 27 train loss 4.1851 train perplexity 66.9878\n"
     ]
    },
    {
     "name": "stderr",
     "output_type": "stream",
     "text": [
      "\r",
      " 14%|█▍        | 29/200 [55:51<5:28:31, 115.27s/it]"
     ]
    },
    {
     "name": "stdout",
     "output_type": "stream",
     "text": [
      "\n",
      "\n",
      "Epoch 28 train loss 4.1749 train perplexity 66.2999\n"
     ]
    },
    {
     "name": "stderr",
     "output_type": "stream",
     "text": [
      "\r",
      " 15%|█▌        | 30/200 [57:46<5:26:36, 115.27s/it]"
     ]
    },
    {
     "name": "stdout",
     "output_type": "stream",
     "text": [
      "\n",
      "\n",
      "Epoch 29 train loss 4.1605 train perplexity 65.2707\n"
     ]
    },
    {
     "name": "stderr",
     "output_type": "stream",
     "text": [
      "\r",
      " 16%|█▌        | 31/200 [59:42<5:24:39, 115.27s/it]"
     ]
    },
    {
     "name": "stdout",
     "output_type": "stream",
     "text": [
      "\n",
      "\n",
      "Epoch 30 train loss 4.1505 train perplexity 64.6069\n"
     ]
    },
    {
     "name": "stderr",
     "output_type": "stream",
     "text": [
      "\r",
      " 16%|█▌        | 32/200 [1:01:37<5:22:46, 115.27s/it]"
     ]
    },
    {
     "name": "stdout",
     "output_type": "stream",
     "text": [
      "\n",
      "\n",
      "Epoch 31 train loss 4.1367 train perplexity 63.7102\n"
     ]
    },
    {
     "name": "stderr",
     "output_type": "stream",
     "text": [
      "\r",
      " 16%|█▋        | 33/200 [1:03:32<5:20:50, 115.27s/it]"
     ]
    },
    {
     "name": "stdout",
     "output_type": "stream",
     "text": [
      "\n",
      "\n",
      "Epoch 32 train loss 4.1264 train perplexity 63.0566\n"
     ]
    },
    {
     "name": "stderr",
     "output_type": "stream",
     "text": [
      "\r",
      " 17%|█▋        | 34/200 [1:05:27<5:18:56, 115.28s/it]"
     ]
    },
    {
     "name": "stdout",
     "output_type": "stream",
     "text": [
      "\n",
      "\n",
      "Epoch 33 train loss 4.1137 train perplexity 62.2964\n"
     ]
    },
    {
     "name": "stderr",
     "output_type": "stream",
     "text": [
      "\r",
      " 18%|█▊        | 35/200 [1:07:23<5:17:00, 115.27s/it]"
     ]
    },
    {
     "name": "stdout",
     "output_type": "stream",
     "text": [
      "\n",
      "\n",
      "Epoch 34 train loss 4.1024 train perplexity 61.4953\n"
     ]
    },
    {
     "name": "stderr",
     "output_type": "stream",
     "text": [
      "\r",
      " 18%|█▊        | 36/200 [1:09:18<5:15:05, 115.28s/it]"
     ]
    },
    {
     "name": "stdout",
     "output_type": "stream",
     "text": [
      "\n",
      "\n",
      "Epoch 35 train loss 4.0973 train perplexity 61.1905\n"
     ]
    },
    {
     "name": "stderr",
     "output_type": "stream",
     "text": [
      "\r",
      " 18%|█▊        | 37/200 [1:11:13<5:13:09, 115.28s/it]"
     ]
    },
    {
     "name": "stdout",
     "output_type": "stream",
     "text": [
      "\n",
      "\n",
      "Epoch 36 train loss 4.0830 train perplexity 60.3467\n"
     ]
    },
    {
     "name": "stderr",
     "output_type": "stream",
     "text": [
      "\r",
      " 19%|█▉        | 38/200 [1:13:09<5:11:13, 115.27s/it]"
     ]
    },
    {
     "name": "stdout",
     "output_type": "stream",
     "text": [
      "\n",
      "\n",
      "Epoch 37 train loss 4.0744 train perplexity 59.8728\n"
     ]
    },
    {
     "name": "stderr",
     "output_type": "stream",
     "text": [
      "\r",
      " 20%|█▉        | 39/200 [1:15:04<5:09:19, 115.28s/it]"
     ]
    },
    {
     "name": "stdout",
     "output_type": "stream",
     "text": [
      "\n",
      "\n",
      "Epoch 38 train loss 4.0665 train perplexity 59.3246\n"
     ]
    },
    {
     "name": "stderr",
     "output_type": "stream",
     "text": [
      "\r",
      " 20%|██        | 40/200 [1:16:59<5:07:24, 115.28s/it]"
     ]
    },
    {
     "name": "stdout",
     "output_type": "stream",
     "text": [
      "\n",
      "\n",
      "Epoch 39 train loss 4.0607 train perplexity 59.0566\n"
     ]
    },
    {
     "name": "stderr",
     "output_type": "stream",
     "text": [
      "\r",
      " 20%|██        | 41/200 [1:18:54<5:05:28, 115.27s/it]"
     ]
    },
    {
     "name": "stdout",
     "output_type": "stream",
     "text": [
      "\n",
      "\n",
      "Epoch 40 train loss 4.0448 train perplexity 57.9838\n"
     ]
    },
    {
     "name": "stderr",
     "output_type": "stream",
     "text": [
      "\r",
      " 21%|██        | 42/200 [1:20:50<5:03:32, 115.27s/it]"
     ]
    },
    {
     "name": "stdout",
     "output_type": "stream",
     "text": [
      "\n",
      "\n",
      "Epoch 41 train loss 4.0367 train perplexity 57.5582\n"
     ]
    },
    {
     "name": "stderr",
     "output_type": "stream",
     "text": [
      "\r",
      " 22%|██▏       | 43/200 [1:22:45<5:01:37, 115.27s/it]"
     ]
    },
    {
     "name": "stdout",
     "output_type": "stream",
     "text": [
      "\n",
      "\n",
      "Epoch 42 train loss 4.0280 train perplexity 57.0390\n"
     ]
    },
    {
     "name": "stderr",
     "output_type": "stream",
     "text": [
      "\r",
      " 22%|██▏       | 44/200 [1:24:40<4:59:41, 115.26s/it]"
     ]
    },
    {
     "name": "stdout",
     "output_type": "stream",
     "text": [
      "\n",
      "\n",
      "Epoch 43 train loss 4.0174 train perplexity 56.4958\n"
     ]
    },
    {
     "name": "stderr",
     "output_type": "stream",
     "text": [
      "\r",
      " 22%|██▎       | 45/200 [1:26:35<4:57:45, 115.26s/it]"
     ]
    },
    {
     "name": "stdout",
     "output_type": "stream",
     "text": [
      "\n",
      "\n",
      "Epoch 44 train loss 4.0136 train perplexity 56.2352\n"
     ]
    },
    {
     "name": "stderr",
     "output_type": "stream",
     "text": [
      "\r",
      " 23%|██▎       | 46/200 [1:28:31<4:55:50, 115.26s/it]"
     ]
    },
    {
     "name": "stdout",
     "output_type": "stream",
     "text": [
      "\n",
      "\n",
      "Epoch 45 train loss 4.0040 train perplexity 55.7015\n"
     ]
    },
    {
     "name": "stderr",
     "output_type": "stream",
     "text": [
      "\r",
      " 24%|██▎       | 47/200 [1:30:26<4:54:05, 115.33s/it]"
     ]
    },
    {
     "name": "stdout",
     "output_type": "stream",
     "text": [
      "\n",
      "\n",
      "Epoch 46 train loss 3.9955 train perplexity 55.2402\n"
     ]
    },
    {
     "name": "stderr",
     "output_type": "stream",
     "text": [
      "\r",
      " 24%|██▍       | 48/200 [1:32:21<4:52:06, 115.31s/it]"
     ]
    },
    {
     "name": "stdout",
     "output_type": "stream",
     "text": [
      "\n",
      "\n",
      "Epoch 47 train loss 3.9894 train perplexity 54.9023\n"
     ]
    },
    {
     "name": "stderr",
     "output_type": "stream",
     "text": [
      "\r",
      " 24%|██▍       | 49/200 [1:34:17<4:50:09, 115.30s/it]"
     ]
    },
    {
     "name": "stdout",
     "output_type": "stream",
     "text": [
      "\n",
      "\n",
      "Epoch 48 train loss 3.9779 train perplexity 54.2253\n"
     ]
    },
    {
     "name": "stderr",
     "output_type": "stream",
     "text": [
      "\r",
      " 25%|██▌       | 50/200 [1:36:12<4:48:14, 115.30s/it]"
     ]
    },
    {
     "name": "stdout",
     "output_type": "stream",
     "text": [
      "\n",
      "\n",
      "Epoch 49 train loss 3.9747 train perplexity 54.0672\n"
     ]
    },
    {
     "name": "stderr",
     "output_type": "stream",
     "text": [
      "\r",
      " 26%|██▌       | 51/200 [1:38:07<4:46:19, 115.30s/it]"
     ]
    },
    {
     "name": "stdout",
     "output_type": "stream",
     "text": [
      "\n",
      "\n",
      "Epoch 50 train loss 3.9626 train perplexity 53.4036\n"
     ]
    },
    {
     "name": "stderr",
     "output_type": "stream",
     "text": [
      "\r",
      " 26%|██▌       | 52/200 [1:40:03<4:44:23, 115.30s/it]"
     ]
    },
    {
     "name": "stdout",
     "output_type": "stream",
     "text": [
      "\n",
      "\n",
      "Epoch 51 train loss 3.9567 train perplexity 53.1014\n"
     ]
    },
    {
     "name": "stderr",
     "output_type": "stream",
     "text": [
      "\r",
      " 26%|██▋       | 53/200 [1:41:58<4:42:28, 115.29s/it]"
     ]
    },
    {
     "name": "stdout",
     "output_type": "stream",
     "text": [
      "\n",
      "\n",
      "Epoch 52 train loss 3.9513 train perplexity 52.7632\n"
     ]
    },
    {
     "name": "stderr",
     "output_type": "stream",
     "text": [
      "\r",
      " 27%|██▋       | 54/200 [1:43:53<4:40:33, 115.30s/it]"
     ]
    },
    {
     "name": "stdout",
     "output_type": "stream",
     "text": [
      "\n",
      "\n",
      "Epoch 53 train loss 3.9433 train perplexity 52.3731\n"
     ]
    },
    {
     "name": "stderr",
     "output_type": "stream",
     "text": [
      "\r",
      " 28%|██▊       | 55/200 [1:45:48<4:38:37, 115.29s/it]"
     ]
    },
    {
     "name": "stdout",
     "output_type": "stream",
     "text": [
      "\n",
      "\n",
      "Epoch 54 train loss 3.9412 train perplexity 52.2990\n"
     ]
    },
    {
     "name": "stderr",
     "output_type": "stream",
     "text": [
      "\r",
      " 28%|██▊       | 56/200 [1:47:44<4:36:42, 115.30s/it]"
     ]
    },
    {
     "name": "stdout",
     "output_type": "stream",
     "text": [
      "\n",
      "\n",
      "Epoch 55 train loss 3.9359 train perplexity 51.9807\n"
     ]
    },
    {
     "name": "stderr",
     "output_type": "stream",
     "text": [
      "\r",
      " 28%|██▊       | 57/200 [1:49:39<4:34:47, 115.30s/it]"
     ]
    },
    {
     "name": "stdout",
     "output_type": "stream",
     "text": [
      "\n",
      "\n",
      "Epoch 56 train loss 3.9214 train perplexity 51.2091\n"
     ]
    },
    {
     "name": "stderr",
     "output_type": "stream",
     "text": [
      "\r",
      " 29%|██▉       | 58/200 [1:51:34<4:32:53, 115.30s/it]"
     ]
    },
    {
     "name": "stdout",
     "output_type": "stream",
     "text": [
      "\n",
      "\n",
      "Epoch 57 train loss 3.9164 train perplexity 50.9305\n"
     ]
    },
    {
     "name": "stderr",
     "output_type": "stream",
     "text": [
      "\r",
      " 30%|██▉       | 59/200 [1:53:30<4:30:56, 115.30s/it]"
     ]
    },
    {
     "name": "stdout",
     "output_type": "stream",
     "text": [
      "\n",
      "\n",
      "Epoch 58 train loss 3.9144 train perplexity 50.7963\n"
     ]
    },
    {
     "name": "stderr",
     "output_type": "stream",
     "text": [
      "\r",
      " 30%|███       | 60/200 [1:55:25<4:29:01, 115.29s/it]"
     ]
    },
    {
     "name": "stdout",
     "output_type": "stream",
     "text": [
      "\n",
      "\n",
      "Epoch 59 train loss 3.9080 train perplexity 50.4753\n"
     ]
    },
    {
     "name": "stderr",
     "output_type": "stream",
     "text": [
      "\r",
      " 30%|███       | 61/200 [1:57:20<4:27:06, 115.30s/it]"
     ]
    },
    {
     "name": "stdout",
     "output_type": "stream",
     "text": [
      "\n",
      "\n",
      "Epoch 60 train loss 3.9016 train perplexity 50.2060\n"
     ]
    },
    {
     "name": "stderr",
     "output_type": "stream",
     "text": [
      "\r",
      " 31%|███       | 62/200 [1:59:15<4:25:08, 115.28s/it]"
     ]
    },
    {
     "name": "stdout",
     "output_type": "stream",
     "text": [
      "\n",
      "\n",
      "Epoch 61 train loss 3.8985 train perplexity 50.0553\n"
     ]
    },
    {
     "name": "stderr",
     "output_type": "stream",
     "text": [
      "\r",
      " 32%|███▏      | 63/200 [2:01:11<4:23:12, 115.28s/it]"
     ]
    },
    {
     "name": "stdout",
     "output_type": "stream",
     "text": [
      "\n",
      "\n",
      "Epoch 62 train loss 3.8897 train perplexity 49.5984\n"
     ]
    },
    {
     "name": "stderr",
     "output_type": "stream",
     "text": [
      "\r",
      " 32%|███▏      | 64/200 [2:03:06<4:21:17, 115.28s/it]"
     ]
    },
    {
     "name": "stdout",
     "output_type": "stream",
     "text": [
      "\n",
      "\n",
      "Epoch 63 train loss 3.8847 train perplexity 49.3262\n"
     ]
    },
    {
     "name": "stderr",
     "output_type": "stream",
     "text": [
      "\r",
      " 32%|███▎      | 65/200 [2:05:01<4:19:22, 115.27s/it]"
     ]
    },
    {
     "name": "stdout",
     "output_type": "stream",
     "text": [
      "\n",
      "\n",
      "Epoch 64 train loss 3.8806 train perplexity 49.1104\n"
     ]
    },
    {
     "name": "stderr",
     "output_type": "stream",
     "text": [
      "\r",
      " 33%|███▎      | 66/200 [2:06:57<4:17:26, 115.27s/it]"
     ]
    },
    {
     "name": "stdout",
     "output_type": "stream",
     "text": [
      "\n",
      "\n",
      "Epoch 65 train loss 3.8725 train perplexity 48.7823\n"
     ]
    },
    {
     "name": "stderr",
     "output_type": "stream",
     "text": [
      "\r",
      " 34%|███▎      | 67/200 [2:08:52<4:15:33, 115.29s/it]"
     ]
    },
    {
     "name": "stdout",
     "output_type": "stream",
     "text": [
      "\n",
      "\n",
      "Epoch 66 train loss 3.8693 train perplexity 48.5719\n"
     ]
    },
    {
     "name": "stderr",
     "output_type": "stream",
     "text": [
      "\r",
      " 34%|███▍      | 68/200 [2:10:47<4:13:39, 115.30s/it]"
     ]
    },
    {
     "name": "stdout",
     "output_type": "stream",
     "text": [
      "\n",
      "\n",
      "Epoch 67 train loss 3.8649 train perplexity 48.3738\n"
     ]
    },
    {
     "name": "stderr",
     "output_type": "stream",
     "text": [
      "\r",
      " 34%|███▍      | 69/200 [2:12:43<4:11:44, 115.30s/it]"
     ]
    },
    {
     "name": "stdout",
     "output_type": "stream",
     "text": [
      "\n",
      "\n",
      "Epoch 68 train loss 3.8621 train perplexity 48.2263\n"
     ]
    },
    {
     "name": "stderr",
     "output_type": "stream",
     "text": [
      "\r",
      " 35%|███▌      | 70/200 [2:14:38<4:09:49, 115.30s/it]"
     ]
    },
    {
     "name": "stdout",
     "output_type": "stream",
     "text": [
      "\n",
      "\n",
      "Epoch 69 train loss 3.8534 train perplexity 47.7706\n"
     ]
    },
    {
     "name": "stderr",
     "output_type": "stream",
     "text": [
      "\r",
      " 36%|███▌      | 71/200 [2:16:33<4:07:53, 115.30s/it]"
     ]
    },
    {
     "name": "stdout",
     "output_type": "stream",
     "text": [
      "\n",
      "\n",
      "Epoch 70 train loss 3.8493 train perplexity 47.5982\n"
     ]
    },
    {
     "name": "stderr",
     "output_type": "stream",
     "text": [
      "\r",
      " 36%|███▌      | 72/200 [2:18:28<4:05:57, 115.29s/it]"
     ]
    },
    {
     "name": "stdout",
     "output_type": "stream",
     "text": [
      "\n",
      "\n",
      "Epoch 71 train loss 3.8452 train perplexity 47.3880\n"
     ]
    },
    {
     "name": "stderr",
     "output_type": "stream",
     "text": [
      "\r",
      " 36%|███▋      | 73/200 [2:20:24<4:04:01, 115.29s/it]"
     ]
    },
    {
     "name": "stdout",
     "output_type": "stream",
     "text": [
      "\n",
      "\n",
      "Epoch 72 train loss 3.8414 train perplexity 47.2009\n"
     ]
    },
    {
     "name": "stderr",
     "output_type": "stream",
     "text": [
      "\r",
      " 37%|███▋      | 74/200 [2:22:19<4:02:05, 115.28s/it]"
     ]
    },
    {
     "name": "stdout",
     "output_type": "stream",
     "text": [
      "\n",
      "\n",
      "Epoch 73 train loss 3.8383 train perplexity 47.0806\n"
     ]
    },
    {
     "name": "stderr",
     "output_type": "stream",
     "text": [
      "\r",
      " 38%|███▊      | 75/200 [2:24:14<4:00:10, 115.28s/it]"
     ]
    },
    {
     "name": "stdout",
     "output_type": "stream",
     "text": [
      "\n",
      "\n",
      "Epoch 74 train loss 3.8333 train perplexity 46.8380\n"
     ]
    },
    {
     "name": "stderr",
     "output_type": "stream",
     "text": [
      "\r",
      " 38%|███▊      | 76/200 [2:26:10<3:58:17, 115.30s/it]"
     ]
    },
    {
     "name": "stdout",
     "output_type": "stream",
     "text": [
      "\n",
      "\n",
      "Epoch 75 train loss 3.8261 train perplexity 46.5090\n"
     ]
    },
    {
     "name": "stderr",
     "output_type": "stream",
     "text": [
      "\r",
      " 38%|███▊      | 77/200 [2:28:05<3:56:21, 115.30s/it]"
     ]
    },
    {
     "name": "stdout",
     "output_type": "stream",
     "text": [
      "\n",
      "\n",
      "Epoch 76 train loss 3.8279 train perplexity 46.5930\n"
     ]
    },
    {
     "name": "stderr",
     "output_type": "stream",
     "text": [
      "\r",
      " 39%|███▉      | 78/200 [2:30:00<3:54:26, 115.30s/it]"
     ]
    },
    {
     "name": "stdout",
     "output_type": "stream",
     "text": [
      "\n",
      "\n",
      "Epoch 77 train loss 3.8192 train perplexity 46.1496\n"
     ]
    },
    {
     "name": "stderr",
     "output_type": "stream",
     "text": [
      "\r",
      " 40%|███▉      | 79/200 [2:31:55<3:52:30, 115.30s/it]"
     ]
    },
    {
     "name": "stdout",
     "output_type": "stream",
     "text": [
      "\n",
      "\n",
      "Epoch 78 train loss 3.8160 train perplexity 46.0328\n"
     ]
    },
    {
     "name": "stderr",
     "output_type": "stream",
     "text": [
      "\r",
      " 40%|████      | 80/200 [2:33:51<3:50:34, 115.29s/it]"
     ]
    },
    {
     "name": "stdout",
     "output_type": "stream",
     "text": [
      "\n",
      "\n",
      "Epoch 79 train loss 3.8166 train perplexity 46.0905\n"
     ]
    },
    {
     "name": "stderr",
     "output_type": "stream",
     "text": [
      "\r",
      " 40%|████      | 81/200 [2:35:48<3:49:33, 115.74s/it]"
     ]
    },
    {
     "name": "stdout",
     "output_type": "stream",
     "text": [
      "\n",
      "\n",
      "Epoch 80 train loss 3.8099 train perplexity 45.7609\n"
     ]
    },
    {
     "name": "stderr",
     "output_type": "stream",
     "text": [
      "\r",
      " 41%|████      | 82/200 [2:37:45<3:48:26, 116.15s/it]"
     ]
    },
    {
     "name": "stdout",
     "output_type": "stream",
     "text": [
      "\n",
      "\n",
      "Epoch 81 train loss 3.8047 train perplexity 45.4953\n"
     ]
    },
    {
     "name": "stderr",
     "output_type": "stream",
     "text": [
      "\r",
      " 42%|████▏     | 83/200 [2:39:43<3:47:53, 116.87s/it]"
     ]
    },
    {
     "name": "stdout",
     "output_type": "stream",
     "text": [
      "\n",
      "\n",
      "Epoch 82 train loss 3.8025 train perplexity 45.4103\n"
     ]
    },
    {
     "name": "stderr",
     "output_type": "stream",
     "text": [
      "\r",
      " 42%|████▏     | 84/200 [2:41:42<3:47:08, 117.48s/it]"
     ]
    },
    {
     "name": "stdout",
     "output_type": "stream",
     "text": [
      "\n",
      "\n",
      "Epoch 83 train loss 3.7976 train perplexity 45.1884\n"
     ]
    },
    {
     "name": "stderr",
     "output_type": "stream",
     "text": [
      "\r",
      " 42%|████▎     | 85/200 [2:43:39<3:44:54, 117.34s/it]"
     ]
    },
    {
     "name": "stdout",
     "output_type": "stream",
     "text": [
      "\n",
      "\n",
      "Epoch 84 train loss 3.7945 train perplexity 45.0226\n"
     ]
    },
    {
     "name": "stderr",
     "output_type": "stream",
     "text": [
      "\r",
      " 43%|████▎     | 86/200 [2:45:38<3:43:56, 117.86s/it]"
     ]
    },
    {
     "name": "stdout",
     "output_type": "stream",
     "text": [
      "\n",
      "\n",
      "Epoch 85 train loss 3.7909 train perplexity 44.8480\n"
     ]
    },
    {
     "name": "stderr",
     "output_type": "stream",
     "text": [
      "\r",
      " 44%|████▎     | 87/200 [2:47:36<3:41:40, 117.70s/it]"
     ]
    },
    {
     "name": "stdout",
     "output_type": "stream",
     "text": [
      "\n",
      "\n",
      "Epoch 86 train loss 3.7861 train perplexity 44.6782\n"
     ]
    },
    {
     "name": "stderr",
     "output_type": "stream",
     "text": [
      "\r",
      " 44%|████▍     | 88/200 [2:49:33<3:39:41, 117.70s/it]"
     ]
    },
    {
     "name": "stdout",
     "output_type": "stream",
     "text": [
      "\n",
      "\n",
      "Epoch 87 train loss 3.7861 train perplexity 44.6557\n"
     ]
    },
    {
     "name": "stderr",
     "output_type": "stream",
     "text": [
      "\r",
      " 44%|████▍     | 89/200 [2:51:30<3:37:25, 117.53s/it]"
     ]
    },
    {
     "name": "stdout",
     "output_type": "stream",
     "text": [
      "\n",
      "\n",
      "Epoch 88 train loss 3.7838 train perplexity 44.5312\n"
     ]
    },
    {
     "name": "stderr",
     "output_type": "stream",
     "text": [
      "\r",
      " 45%|████▌     | 90/200 [2:53:27<3:35:09, 117.36s/it]"
     ]
    },
    {
     "name": "stdout",
     "output_type": "stream",
     "text": [
      "\n",
      "\n",
      "Epoch 89 train loss 3.7773 train perplexity 44.2671\n"
     ]
    },
    {
     "name": "stderr",
     "output_type": "stream",
     "text": [
      "\r",
      " 46%|████▌     | 91/200 [2:55:25<3:33:23, 117.46s/it]"
     ]
    },
    {
     "name": "stdout",
     "output_type": "stream",
     "text": [
      "\n",
      "\n",
      "Epoch 90 train loss 3.7779 train perplexity 44.2739\n"
     ]
    },
    {
     "name": "stderr",
     "output_type": "stream",
     "text": [
      "\r",
      " 46%|████▌     | 92/200 [2:57:22<3:31:27, 117.47s/it]"
     ]
    },
    {
     "name": "stdout",
     "output_type": "stream",
     "text": [
      "\n",
      "\n",
      "Epoch 91 train loss 3.7747 train perplexity 44.1507\n"
     ]
    },
    {
     "name": "stderr",
     "output_type": "stream",
     "text": [
      "\r",
      " 46%|████▋     | 93/200 [2:59:19<3:28:45, 117.06s/it]"
     ]
    },
    {
     "name": "stdout",
     "output_type": "stream",
     "text": [
      "\n",
      "\n",
      "Epoch 92 train loss 3.7711 train perplexity 44.0033\n"
     ]
    },
    {
     "name": "stderr",
     "output_type": "stream",
     "text": [
      "\r",
      " 47%|████▋     | 94/200 [3:01:14<3:25:58, 116.59s/it]"
     ]
    },
    {
     "name": "stdout",
     "output_type": "stream",
     "text": [
      "\n",
      "\n",
      "Epoch 93 train loss 3.7651 train perplexity 43.7126\n"
     ]
    },
    {
     "name": "stderr",
     "output_type": "stream",
     "text": [
      "\r",
      " 48%|████▊     | 95/200 [3:03:10<3:23:34, 116.33s/it]"
     ]
    },
    {
     "name": "stdout",
     "output_type": "stream",
     "text": [
      "\n",
      "\n",
      "Epoch 94 train loss 3.7622 train perplexity 43.5610\n"
     ]
    },
    {
     "name": "stderr",
     "output_type": "stream",
     "text": [
      "\r",
      " 48%|████▊     | 96/200 [3:05:07<3:21:58, 116.52s/it]"
     ]
    },
    {
     "name": "stdout",
     "output_type": "stream",
     "text": [
      "\n",
      "\n",
      "Epoch 95 train loss 3.7629 train perplexity 43.6486\n"
     ]
    },
    {
     "name": "stderr",
     "output_type": "stream",
     "text": [
      "\r",
      " 48%|████▊     | 97/200 [3:07:04<3:20:14, 116.64s/it]"
     ]
    },
    {
     "name": "stdout",
     "output_type": "stream",
     "text": [
      "\n",
      "\n",
      "Epoch 96 train loss 3.7607 train perplexity 43.5327\n"
     ]
    },
    {
     "name": "stderr",
     "output_type": "stream",
     "text": [
      "\r",
      " 49%|████▉     | 98/200 [3:08:59<3:17:49, 116.37s/it]"
     ]
    },
    {
     "name": "stdout",
     "output_type": "stream",
     "text": [
      "\n",
      "\n",
      "Epoch 97 train loss 3.7586 train perplexity 43.4495\n"
     ]
    },
    {
     "name": "stderr",
     "output_type": "stream",
     "text": [
      "\r",
      " 50%|████▉     | 99/200 [3:10:57<3:16:39, 116.83s/it]"
     ]
    },
    {
     "name": "stdout",
     "output_type": "stream",
     "text": [
      "\n",
      "\n",
      "Epoch 98 train loss 3.7550 train perplexity 43.2740\n"
     ]
    },
    {
     "name": "stderr",
     "output_type": "stream",
     "text": [
      "\r",
      " 50%|█████     | 100/200 [3:12:54<3:14:46, 116.86s/it]"
     ]
    },
    {
     "name": "stdout",
     "output_type": "stream",
     "text": [
      "\n",
      "\n",
      "Epoch 99 train loss 3.7491 train perplexity 42.9918\n"
     ]
    },
    {
     "name": "stderr",
     "output_type": "stream",
     "text": [
      "\r",
      " 50%|█████     | 101/200 [3:14:50<3:12:01, 116.38s/it]"
     ]
    },
    {
     "name": "stdout",
     "output_type": "stream",
     "text": [
      "\n",
      "\n",
      "Epoch 100 train loss 3.7505 train perplexity 43.0783\n"
     ]
    },
    {
     "name": "stderr",
     "output_type": "stream",
     "text": [
      "\r",
      " 51%|█████     | 102/200 [3:16:45<3:09:35, 116.07s/it]"
     ]
    },
    {
     "name": "stdout",
     "output_type": "stream",
     "text": [
      "\n",
      "\n",
      "Epoch 101 train loss 3.7488 train perplexity 43.0152\n"
     ]
    },
    {
     "name": "stderr",
     "output_type": "stream",
     "text": [
      "\r",
      " 52%|█████▏    | 103/200 [3:18:40<3:07:19, 115.87s/it]"
     ]
    },
    {
     "name": "stdout",
     "output_type": "stream",
     "text": [
      "\n",
      "\n",
      "Epoch 102 train loss 3.7441 train perplexity 42.8225\n"
     ]
    },
    {
     "name": "stderr",
     "output_type": "stream",
     "text": [
      "\r",
      " 52%|█████▏    | 104/200 [3:20:36<3:05:14, 115.78s/it]"
     ]
    },
    {
     "name": "stdout",
     "output_type": "stream",
     "text": [
      "\n",
      "\n",
      "Epoch 103 train loss 3.7441 train perplexity 42.8003\n"
     ]
    },
    {
     "name": "stderr",
     "output_type": "stream",
     "text": [
      "\r",
      " 52%|█████▎    | 105/200 [3:22:31<3:03:14, 115.73s/it]"
     ]
    },
    {
     "name": "stdout",
     "output_type": "stream",
     "text": [
      "\n",
      "\n",
      "Epoch 104 train loss 3.7425 train perplexity 42.7103\n"
     ]
    },
    {
     "name": "stderr",
     "output_type": "stream",
     "text": [
      "\r",
      " 53%|█████▎    | 106/200 [3:24:27<3:01:12, 115.66s/it]"
     ]
    },
    {
     "name": "stdout",
     "output_type": "stream",
     "text": [
      "\n",
      "\n",
      "Epoch 105 train loss 3.7368 train perplexity 42.5019\n"
     ]
    },
    {
     "name": "stderr",
     "output_type": "stream",
     "text": [
      "\r",
      " 54%|█████▎    | 107/200 [3:26:23<2:59:37, 115.88s/it]"
     ]
    },
    {
     "name": "stdout",
     "output_type": "stream",
     "text": [
      "\n",
      "\n",
      "Epoch 106 train loss 3.7380 train perplexity 42.5702\n"
     ]
    },
    {
     "name": "stderr",
     "output_type": "stream",
     "text": [
      "\r",
      " 54%|█████▍    | 108/200 [3:28:19<2:57:30, 115.76s/it]"
     ]
    },
    {
     "name": "stdout",
     "output_type": "stream",
     "text": [
      "\n",
      "\n",
      "Epoch 107 train loss 3.7366 train perplexity 42.4861\n"
     ]
    },
    {
     "name": "stderr",
     "output_type": "stream",
     "text": [
      "\r",
      " 55%|█████▍    | 109/200 [3:30:14<2:55:25, 115.66s/it]"
     ]
    },
    {
     "name": "stdout",
     "output_type": "stream",
     "text": [
      "\n",
      "\n",
      "Epoch 108 train loss 3.7355 train perplexity 42.4332\n"
     ]
    },
    {
     "name": "stderr",
     "output_type": "stream",
     "text": [
      "\r",
      " 55%|█████▌    | 110/200 [3:32:10<2:53:27, 115.64s/it]"
     ]
    },
    {
     "name": "stdout",
     "output_type": "stream",
     "text": [
      "\n",
      "\n",
      "Epoch 109 train loss 3.7275 train perplexity 42.0995\n"
     ]
    },
    {
     "name": "stderr",
     "output_type": "stream",
     "text": [
      "\r",
      " 56%|█████▌    | 111/200 [3:34:05<2:51:26, 115.58s/it]"
     ]
    },
    {
     "name": "stdout",
     "output_type": "stream",
     "text": [
      "\n",
      "\n",
      "Epoch 110 train loss 3.7300 train perplexity 42.2088\n"
     ]
    },
    {
     "name": "stderr",
     "output_type": "stream",
     "text": [
      "\r",
      " 56%|█████▌    | 112/200 [3:36:01<2:49:29, 115.56s/it]"
     ]
    },
    {
     "name": "stdout",
     "output_type": "stream",
     "text": [
      "\n",
      "\n",
      "Epoch 111 train loss 3.7262 train perplexity 42.0180\n"
     ]
    },
    {
     "name": "stderr",
     "output_type": "stream",
     "text": [
      "\r",
      " 56%|█████▋    | 113/200 [3:37:56<2:47:30, 115.53s/it]"
     ]
    },
    {
     "name": "stdout",
     "output_type": "stream",
     "text": [
      "\n",
      "\n",
      "Epoch 112 train loss 3.7230 train perplexity 41.9286\n"
     ]
    },
    {
     "name": "stderr",
     "output_type": "stream",
     "text": [
      "\r",
      " 57%|█████▋    | 114/200 [3:39:52<2:45:36, 115.54s/it]"
     ]
    },
    {
     "name": "stdout",
     "output_type": "stream",
     "text": [
      "\n",
      "\n",
      "Epoch 113 train loss 3.7233 train perplexity 41.9322\n"
     ]
    },
    {
     "name": "stderr",
     "output_type": "stream",
     "text": [
      "\r",
      " 57%|█████▊    | 115/200 [3:41:47<2:43:38, 115.51s/it]"
     ]
    },
    {
     "name": "stdout",
     "output_type": "stream",
     "text": [
      "\n",
      "\n",
      "Epoch 114 train loss 3.7227 train perplexity 41.8901\n"
     ]
    },
    {
     "name": "stderr",
     "output_type": "stream",
     "text": [
      "\r",
      " 58%|█████▊    | 116/200 [3:43:43<2:41:43, 115.51s/it]"
     ]
    },
    {
     "name": "stdout",
     "output_type": "stream",
     "text": [
      "\n",
      "\n",
      "Epoch 115 train loss 3.7158 train perplexity 41.6228\n"
     ]
    },
    {
     "name": "stderr",
     "output_type": "stream",
     "text": [
      "\r",
      " 58%|█████▊    | 117/200 [3:45:38<2:39:49, 115.53s/it]"
     ]
    },
    {
     "name": "stdout",
     "output_type": "stream",
     "text": [
      "\n",
      "\n",
      "Epoch 116 train loss 3.7161 train perplexity 41.6011\n"
     ]
    },
    {
     "name": "stderr",
     "output_type": "stream",
     "text": [
      "\r",
      " 59%|█████▉    | 118/200 [3:47:34<2:37:53, 115.53s/it]"
     ]
    },
    {
     "name": "stdout",
     "output_type": "stream",
     "text": [
      "\n",
      "\n",
      "Epoch 117 train loss 3.7106 train perplexity 41.3614\n"
     ]
    },
    {
     "name": "stderr",
     "output_type": "stream",
     "text": [
      "\r",
      " 60%|█████▉    | 119/200 [3:49:29<2:35:58, 115.53s/it]"
     ]
    },
    {
     "name": "stdout",
     "output_type": "stream",
     "text": [
      "\n",
      "\n",
      "Epoch 118 train loss 3.7134 train perplexity 41.4770\n"
     ]
    },
    {
     "name": "stderr",
     "output_type": "stream",
     "text": [
      "\r",
      " 60%|██████    | 120/200 [3:51:25<2:34:03, 115.54s/it]"
     ]
    },
    {
     "name": "stdout",
     "output_type": "stream",
     "text": [
      "\n",
      "\n",
      "Epoch 119 train loss 3.7125 train perplexity 41.4546\n"
     ]
    },
    {
     "name": "stderr",
     "output_type": "stream",
     "text": [
      "\r",
      " 60%|██████    | 121/200 [3:53:21<2:32:11, 115.58s/it]"
     ]
    },
    {
     "name": "stdout",
     "output_type": "stream",
     "text": [
      "\n",
      "\n",
      "Epoch 120 train loss 3.7123 train perplexity 41.4280\n"
     ]
    },
    {
     "name": "stderr",
     "output_type": "stream",
     "text": [
      "\r",
      " 61%|██████    | 122/200 [3:55:16<2:30:14, 115.58s/it]"
     ]
    },
    {
     "name": "stdout",
     "output_type": "stream",
     "text": [
      "\n",
      "\n",
      "Epoch 121 train loss 3.7088 train perplexity 41.3058\n"
     ]
    },
    {
     "name": "stderr",
     "output_type": "stream",
     "text": [
      "\r",
      " 62%|██████▏   | 123/200 [3:57:12<2:28:18, 115.57s/it]"
     ]
    },
    {
     "name": "stdout",
     "output_type": "stream",
     "text": [
      "\n",
      "\n",
      "Epoch 122 train loss 3.7107 train perplexity 41.4081\n"
     ]
    },
    {
     "name": "stderr",
     "output_type": "stream",
     "text": [
      "\r",
      " 62%|██████▏   | 124/200 [3:59:07<2:26:22, 115.56s/it]"
     ]
    },
    {
     "name": "stdout",
     "output_type": "stream",
     "text": [
      "\n",
      "\n",
      "Epoch 123 train loss 3.7082 train perplexity 41.2579\n"
     ]
    },
    {
     "name": "stderr",
     "output_type": "stream",
     "text": [
      "\r",
      " 62%|██████▎   | 125/200 [4:01:03<2:24:27, 115.57s/it]"
     ]
    },
    {
     "name": "stdout",
     "output_type": "stream",
     "text": [
      "\n",
      "\n",
      "Epoch 124 train loss 3.7024 train perplexity 41.0502\n"
     ]
    },
    {
     "name": "stderr",
     "output_type": "stream",
     "text": [
      "\r",
      " 63%|██████▎   | 126/200 [4:02:58<2:22:30, 115.55s/it]"
     ]
    },
    {
     "name": "stdout",
     "output_type": "stream",
     "text": [
      "\n",
      "\n",
      "Epoch 125 train loss 3.7090 train perplexity 41.3340\n"
     ]
    },
    {
     "name": "stderr",
     "output_type": "stream",
     "text": [
      "\r",
      " 64%|██████▎   | 127/200 [4:04:54<2:20:35, 115.56s/it]"
     ]
    },
    {
     "name": "stdout",
     "output_type": "stream",
     "text": [
      "\n",
      "\n",
      "Epoch 126 train loss 3.7026 train perplexity 41.0417\n"
     ]
    },
    {
     "name": "stderr",
     "output_type": "stream",
     "text": [
      "\r",
      " 64%|██████▍   | 128/200 [4:06:50<2:18:41, 115.58s/it]"
     ]
    },
    {
     "name": "stdout",
     "output_type": "stream",
     "text": [
      "\n",
      "\n",
      "Epoch 127 train loss 3.7000 train perplexity 40.9299\n"
     ]
    },
    {
     "name": "stderr",
     "output_type": "stream",
     "text": [
      "\r",
      " 64%|██████▍   | 129/200 [4:08:45<2:16:45, 115.57s/it]"
     ]
    },
    {
     "name": "stdout",
     "output_type": "stream",
     "text": [
      "\n",
      "\n",
      "Epoch 128 train loss 3.6941 train perplexity 40.6950\n"
     ]
    },
    {
     "name": "stderr",
     "output_type": "stream",
     "text": [
      "\r",
      " 65%|██████▌   | 130/200 [4:10:41<2:14:50, 115.58s/it]"
     ]
    },
    {
     "name": "stdout",
     "output_type": "stream",
     "text": [
      "\n",
      "\n",
      "Epoch 129 train loss 3.6962 train perplexity 40.7756\n"
     ]
    },
    {
     "name": "stderr",
     "output_type": "stream",
     "text": [
      "\r",
      " 66%|██████▌   | 131/200 [4:12:36<2:12:54, 115.57s/it]"
     ]
    },
    {
     "name": "stdout",
     "output_type": "stream",
     "text": [
      "\n",
      "\n",
      "Epoch 130 train loss 3.6924 train perplexity 40.6258\n"
     ]
    },
    {
     "name": "stderr",
     "output_type": "stream",
     "text": [
      "\r",
      " 66%|██████▌   | 132/200 [4:14:32<2:11:00, 115.60s/it]"
     ]
    },
    {
     "name": "stdout",
     "output_type": "stream",
     "text": [
      "\n",
      "\n",
      "Epoch 131 train loss 3.6936 train perplexity 40.6456\n"
     ]
    },
    {
     "name": "stderr",
     "output_type": "stream",
     "text": [
      "\r",
      " 66%|██████▋   | 133/200 [4:16:28<2:09:05, 115.61s/it]"
     ]
    },
    {
     "name": "stdout",
     "output_type": "stream",
     "text": [
      "\n",
      "\n",
      "Epoch 132 train loss 3.6944 train perplexity 40.6932\n"
     ]
    },
    {
     "name": "stderr",
     "output_type": "stream",
     "text": [
      "\r",
      " 67%|██████▋   | 134/200 [4:18:23<2:07:10, 115.61s/it]"
     ]
    },
    {
     "name": "stdout",
     "output_type": "stream",
     "text": [
      "\n",
      "\n",
      "Epoch 133 train loss 3.6935 train perplexity 40.6730\n"
     ]
    },
    {
     "name": "stderr",
     "output_type": "stream",
     "text": [
      "\r",
      " 68%|██████▊   | 135/200 [4:20:19<2:05:15, 115.62s/it]"
     ]
    },
    {
     "name": "stdout",
     "output_type": "stream",
     "text": [
      "\n",
      "\n",
      "Epoch 134 train loss 3.6877 train perplexity 40.4486\n"
     ]
    },
    {
     "name": "stderr",
     "output_type": "stream",
     "text": [
      "\r",
      " 68%|██████▊   | 136/200 [4:22:14<2:03:19, 115.62s/it]"
     ]
    },
    {
     "name": "stdout",
     "output_type": "stream",
     "text": [
      "\n",
      "\n",
      "Epoch 135 train loss 3.6879 train perplexity 40.4308\n"
     ]
    },
    {
     "name": "stderr",
     "output_type": "stream",
     "text": [
      "\r",
      " 68%|██████▊   | 137/200 [4:24:10<2:01:22, 115.60s/it]"
     ]
    },
    {
     "name": "stdout",
     "output_type": "stream",
     "text": [
      "\n",
      "\n",
      "Epoch 136 train loss 3.6898 train perplexity 40.5141\n"
     ]
    },
    {
     "name": "stderr",
     "output_type": "stream",
     "text": [
      "\r",
      " 69%|██████▉   | 138/200 [4:26:06<1:59:27, 115.60s/it]"
     ]
    },
    {
     "name": "stdout",
     "output_type": "stream",
     "text": [
      "\n",
      "\n",
      "Epoch 137 train loss 3.6812 train perplexity 40.1453\n"
     ]
    },
    {
     "name": "stderr",
     "output_type": "stream",
     "text": [
      "\r",
      " 70%|██████▉   | 139/200 [4:28:01<1:57:31, 115.59s/it]"
     ]
    },
    {
     "name": "stdout",
     "output_type": "stream",
     "text": [
      "\n",
      "\n",
      "Epoch 138 train loss 3.6892 train perplexity 40.4811\n"
     ]
    },
    {
     "name": "stderr",
     "output_type": "stream",
     "text": [
      "\r",
      " 70%|███████   | 140/200 [4:29:57<1:55:36, 115.60s/it]"
     ]
    },
    {
     "name": "stdout",
     "output_type": "stream",
     "text": [
      "\n",
      "\n",
      "Epoch 139 train loss 3.6820 train perplexity 40.2023\n"
     ]
    },
    {
     "name": "stderr",
     "output_type": "stream",
     "text": [
      "\r",
      " 70%|███████   | 141/200 [4:31:52<1:53:40, 115.60s/it]"
     ]
    },
    {
     "name": "stdout",
     "output_type": "stream",
     "text": [
      "\n",
      "\n",
      "Epoch 140 train loss 3.6813 train perplexity 40.1476\n"
     ]
    },
    {
     "name": "stderr",
     "output_type": "stream",
     "text": [
      "\r",
      " 71%|███████   | 142/200 [4:33:48<1:51:45, 115.62s/it]"
     ]
    },
    {
     "name": "stdout",
     "output_type": "stream",
     "text": [
      "\n",
      "\n",
      "Epoch 141 train loss 3.6808 train perplexity 40.1460\n"
     ]
    },
    {
     "name": "stderr",
     "output_type": "stream",
     "text": [
      "\r",
      " 72%|███████▏  | 143/200 [4:35:44<1:49:48, 115.60s/it]"
     ]
    },
    {
     "name": "stdout",
     "output_type": "stream",
     "text": [
      "\n",
      "\n",
      "Epoch 142 train loss 3.6808 train perplexity 40.1452\n"
     ]
    },
    {
     "name": "stderr",
     "output_type": "stream",
     "text": [
      "\r",
      " 72%|███████▏  | 144/200 [4:37:39<1:47:53, 115.61s/it]"
     ]
    },
    {
     "name": "stdout",
     "output_type": "stream",
     "text": [
      "\n",
      "\n",
      "Epoch 143 train loss 3.6757 train perplexity 39.9355\n"
     ]
    },
    {
     "name": "stderr",
     "output_type": "stream",
     "text": [
      "\r",
      " 72%|███████▎  | 145/200 [4:39:35<1:45:59, 115.63s/it]"
     ]
    },
    {
     "name": "stdout",
     "output_type": "stream",
     "text": [
      "\n",
      "\n",
      "Epoch 144 train loss 3.6784 train perplexity 40.0481\n"
     ]
    },
    {
     "name": "stderr",
     "output_type": "stream",
     "text": [
      "\r",
      " 73%|███████▎  | 146/200 [4:41:31<1:44:08, 115.72s/it]"
     ]
    },
    {
     "name": "stdout",
     "output_type": "stream",
     "text": [
      "\n",
      "\n",
      "Epoch 145 train loss 3.6779 train perplexity 40.0051\n"
     ]
    },
    {
     "name": "stderr",
     "output_type": "stream",
     "text": [
      "\r",
      " 74%|███████▎  | 147/200 [4:43:27<1:42:11, 115.69s/it]"
     ]
    },
    {
     "name": "stdout",
     "output_type": "stream",
     "text": [
      "\n",
      "\n",
      "Epoch 146 train loss 3.6717 train perplexity 39.7689\n"
     ]
    },
    {
     "name": "stderr",
     "output_type": "stream",
     "text": [
      "\r",
      " 74%|███████▍  | 148/200 [4:45:22<1:40:14, 115.65s/it]"
     ]
    },
    {
     "name": "stdout",
     "output_type": "stream",
     "text": [
      "\n",
      "\n",
      "Epoch 147 train loss 3.6708 train perplexity 39.7323\n"
     ]
    },
    {
     "name": "stderr",
     "output_type": "stream",
     "text": [
      "\r",
      " 74%|███████▍  | 149/200 [4:47:18<1:38:17, 115.64s/it]"
     ]
    },
    {
     "name": "stdout",
     "output_type": "stream",
     "text": [
      "\n",
      "\n",
      "Epoch 148 train loss 3.6711 train perplexity 39.7474\n"
     ]
    },
    {
     "name": "stderr",
     "output_type": "stream",
     "text": [
      "\r",
      " 75%|███████▌  | 150/200 [4:49:13<1:36:21, 115.64s/it]"
     ]
    },
    {
     "name": "stdout",
     "output_type": "stream",
     "text": [
      "\n",
      "\n",
      "Epoch 149 train loss 3.6714 train perplexity 39.7406\n"
     ]
    },
    {
     "name": "stderr",
     "output_type": "stream",
     "text": [
      "\r",
      " 76%|███████▌  | 151/200 [4:51:09<1:34:26, 115.64s/it]"
     ]
    },
    {
     "name": "stdout",
     "output_type": "stream",
     "text": [
      "\n",
      "\n",
      "Epoch 150 train loss 3.6743 train perplexity 39.8988\n"
     ]
    },
    {
     "name": "stderr",
     "output_type": "stream",
     "text": [
      "\r",
      " 76%|███████▌  | 152/200 [4:53:05<1:32:30, 115.63s/it]"
     ]
    },
    {
     "name": "stdout",
     "output_type": "stream",
     "text": [
      "\n",
      "\n",
      "Epoch 151 train loss 3.6741 train perplexity 39.8723\n"
     ]
    },
    {
     "name": "stderr",
     "output_type": "stream",
     "text": [
      "\r",
      " 76%|███████▋  | 153/200 [4:55:00<1:30:34, 115.63s/it]"
     ]
    },
    {
     "name": "stdout",
     "output_type": "stream",
     "text": [
      "\n",
      "\n",
      "Epoch 152 train loss 3.6678 train perplexity 39.6314\n"
     ]
    },
    {
     "name": "stderr",
     "output_type": "stream",
     "text": [
      "\r",
      " 77%|███████▋  | 154/200 [4:56:56<1:28:38, 115.61s/it]"
     ]
    },
    {
     "name": "stdout",
     "output_type": "stream",
     "text": [
      "\n",
      "\n",
      "Epoch 153 train loss 3.6649 train perplexity 39.5156\n"
     ]
    },
    {
     "name": "stderr",
     "output_type": "stream",
     "text": [
      "\r",
      " 78%|███████▊  | 155/200 [4:58:51<1:26:43, 115.64s/it]"
     ]
    },
    {
     "name": "stdout",
     "output_type": "stream",
     "text": [
      "\n",
      "\n",
      "Epoch 154 train loss 3.6602 train perplexity 39.3061\n"
     ]
    },
    {
     "name": "stderr",
     "output_type": "stream",
     "text": [
      "\r",
      " 78%|███████▊  | 156/200 [5:00:47<1:24:48, 115.64s/it]"
     ]
    },
    {
     "name": "stdout",
     "output_type": "stream",
     "text": [
      "\n",
      "\n",
      "Epoch 155 train loss 3.6670 train perplexity 39.5747\n"
     ]
    },
    {
     "name": "stderr",
     "output_type": "stream",
     "text": [
      "\r",
      " 78%|███████▊  | 157/200 [5:02:43<1:22:51, 115.63s/it]"
     ]
    },
    {
     "name": "stdout",
     "output_type": "stream",
     "text": [
      "\n",
      "\n",
      "Epoch 156 train loss 3.6644 train perplexity 39.5108\n"
     ]
    },
    {
     "name": "stderr",
     "output_type": "stream",
     "text": [
      "\r",
      " 79%|███████▉  | 158/200 [5:04:38<1:20:56, 115.64s/it]"
     ]
    },
    {
     "name": "stdout",
     "output_type": "stream",
     "text": [
      "\n",
      "\n",
      "Epoch 157 train loss 3.6605 train perplexity 39.3460\n"
     ]
    },
    {
     "name": "stderr",
     "output_type": "stream",
     "text": [
      "\r",
      " 80%|███████▉  | 159/200 [5:06:34<1:19:02, 115.66s/it]"
     ]
    },
    {
     "name": "stdout",
     "output_type": "stream",
     "text": [
      "\n",
      "\n",
      "Epoch 158 train loss 3.6604 train perplexity 39.3218\n"
     ]
    },
    {
     "name": "stderr",
     "output_type": "stream",
     "text": [
      "\r",
      " 80%|████████  | 160/200 [5:08:30<1:17:07, 115.69s/it]"
     ]
    },
    {
     "name": "stdout",
     "output_type": "stream",
     "text": [
      "\n",
      "\n",
      "Epoch 159 train loss 3.6578 train perplexity 39.2111\n"
     ]
    },
    {
     "name": "stderr",
     "output_type": "stream",
     "text": [
      "\r",
      " 80%|████████  | 161/200 [5:10:25<1:15:11, 115.68s/it]"
     ]
    },
    {
     "name": "stdout",
     "output_type": "stream",
     "text": [
      "\n",
      "\n",
      "Epoch 160 train loss 3.6619 train perplexity 39.3795\n"
     ]
    },
    {
     "name": "stderr",
     "output_type": "stream",
     "text": [
      "\r",
      " 81%|████████  | 162/200 [5:12:21<1:13:16, 115.69s/it]"
     ]
    },
    {
     "name": "stdout",
     "output_type": "stream",
     "text": [
      "\n",
      "\n",
      "Epoch 161 train loss 3.6579 train perplexity 39.2246\n"
     ]
    },
    {
     "name": "stderr",
     "output_type": "stream",
     "text": [
      "\r",
      " 82%|████████▏ | 163/200 [5:14:17<1:11:22, 115.73s/it]"
     ]
    },
    {
     "name": "stdout",
     "output_type": "stream",
     "text": [
      "\n",
      "\n",
      "Epoch 162 train loss 3.6567 train perplexity 39.1826\n"
     ]
    },
    {
     "name": "stderr",
     "output_type": "stream",
     "text": [
      "\r",
      " 82%|████████▏ | 164/200 [5:16:13<1:09:26, 115.74s/it]"
     ]
    },
    {
     "name": "stdout",
     "output_type": "stream",
     "text": [
      "\n",
      "\n",
      "Epoch 163 train loss 3.6539 train perplexity 39.0882\n"
     ]
    },
    {
     "name": "stderr",
     "output_type": "stream",
     "text": [
      "\r",
      " 82%|████████▎ | 165/200 [5:18:09<1:07:30, 115.74s/it]"
     ]
    },
    {
     "name": "stdout",
     "output_type": "stream",
     "text": [
      "\n",
      "\n",
      "Epoch 164 train loss 3.6541 train perplexity 39.0731\n"
     ]
    },
    {
     "name": "stderr",
     "output_type": "stream",
     "text": [
      "\r",
      " 83%|████████▎ | 166/200 [5:20:04<1:05:34, 115.71s/it]"
     ]
    },
    {
     "name": "stdout",
     "output_type": "stream",
     "text": [
      "\n",
      "\n",
      "Epoch 165 train loss 3.6592 train perplexity 39.2993\n"
     ]
    },
    {
     "name": "stderr",
     "output_type": "stream",
     "text": [
      "\r",
      " 84%|████████▎ | 167/200 [5:22:00<1:03:38, 115.72s/it]"
     ]
    },
    {
     "name": "stdout",
     "output_type": "stream",
     "text": [
      "\n",
      "\n",
      "Epoch 166 train loss 3.6521 train perplexity 39.0095\n"
     ]
    },
    {
     "name": "stderr",
     "output_type": "stream",
     "text": [
      "\r",
      " 84%|████████▍ | 168/200 [5:23:57<1:01:56, 116.14s/it]"
     ]
    },
    {
     "name": "stdout",
     "output_type": "stream",
     "text": [
      "\n",
      "\n",
      "Epoch 167 train loss 3.6484 train perplexity 38.8644\n"
     ]
    },
    {
     "name": "stderr",
     "output_type": "stream",
     "text": [
      "\r",
      " 84%|████████▍ | 169/200 [5:25:53<1:00:02, 116.20s/it]"
     ]
    },
    {
     "name": "stdout",
     "output_type": "stream",
     "text": [
      "\n",
      "\n",
      "Epoch 168 train loss 3.6543 train perplexity 39.0626\n"
     ]
    },
    {
     "name": "stderr",
     "output_type": "stream",
     "text": [
      "\r",
      " 85%|████████▌ | 170/200 [5:27:49<58:03, 116.10s/it]  "
     ]
    },
    {
     "name": "stdout",
     "output_type": "stream",
     "text": [
      "\n",
      "\n",
      "Epoch 169 train loss 3.6577 train perplexity 39.2074\n"
     ]
    },
    {
     "name": "stderr",
     "output_type": "stream",
     "text": [
      "\r",
      " 86%|████████▌ | 171/200 [5:29:45<56:03, 116.00s/it]"
     ]
    },
    {
     "name": "stdout",
     "output_type": "stream",
     "text": [
      "\n",
      "\n",
      "Epoch 170 train loss 3.6501 train perplexity 38.9318\n"
     ]
    },
    {
     "name": "stderr",
     "output_type": "stream",
     "text": [
      "\r",
      " 86%|████████▌ | 172/200 [5:31:41<54:10, 116.08s/it]"
     ]
    },
    {
     "name": "stdout",
     "output_type": "stream",
     "text": [
      "\n",
      "\n",
      "Epoch 171 train loss 3.6493 train perplexity 38.8923\n"
     ]
    },
    {
     "name": "stderr",
     "output_type": "stream",
     "text": [
      "\r",
      " 86%|████████▋ | 173/200 [5:33:37<52:13, 116.07s/it]"
     ]
    },
    {
     "name": "stdout",
     "output_type": "stream",
     "text": [
      "\n",
      "\n",
      "Epoch 172 train loss 3.6458 train perplexity 38.7797\n"
     ]
    },
    {
     "name": "stderr",
     "output_type": "stream",
     "text": [
      "\r",
      " 87%|████████▋ | 174/200 [5:35:34<50:22, 116.24s/it]"
     ]
    },
    {
     "name": "stdout",
     "output_type": "stream",
     "text": [
      "\n",
      "\n",
      "Epoch 173 train loss 3.6484 train perplexity 38.8519\n"
     ]
    },
    {
     "name": "stderr",
     "output_type": "stream",
     "text": [
      "\r",
      " 88%|████████▊ | 175/200 [5:37:30<48:22, 116.10s/it]"
     ]
    },
    {
     "name": "stdout",
     "output_type": "stream",
     "text": [
      "\n",
      "\n",
      "Epoch 174 train loss 3.6451 train perplexity 38.7295\n"
     ]
    },
    {
     "name": "stderr",
     "output_type": "stream",
     "text": [
      "\r",
      " 88%|████████▊ | 176/200 [5:39:26<46:30, 116.29s/it]"
     ]
    },
    {
     "name": "stdout",
     "output_type": "stream",
     "text": [
      "\n",
      "\n",
      "Epoch 175 train loss 3.6414 train perplexity 38.6015\n"
     ]
    },
    {
     "name": "stderr",
     "output_type": "stream",
     "text": [
      "\r",
      " 88%|████████▊ | 177/200 [5:41:22<44:32, 116.21s/it]"
     ]
    },
    {
     "name": "stdout",
     "output_type": "stream",
     "text": [
      "\n",
      "\n",
      "Epoch 176 train loss 3.6399 train perplexity 38.5270\n"
     ]
    },
    {
     "name": "stderr",
     "output_type": "stream",
     "text": [
      "\r",
      " 89%|████████▉ | 178/200 [5:43:19<42:38, 116.28s/it]"
     ]
    },
    {
     "name": "stdout",
     "output_type": "stream",
     "text": [
      "\n",
      "\n",
      "Epoch 177 train loss 3.6452 train perplexity 38.7211\n"
     ]
    },
    {
     "name": "stderr",
     "output_type": "stream",
     "text": [
      "\r",
      " 90%|████████▉ | 179/200 [5:45:15<40:38, 116.11s/it]"
     ]
    },
    {
     "name": "stdout",
     "output_type": "stream",
     "text": [
      "\n",
      "\n",
      "Epoch 178 train loss 3.6424 train perplexity 38.6387\n"
     ]
    },
    {
     "name": "stderr",
     "output_type": "stream",
     "text": [
      "\r",
      " 90%|█████████ | 180/200 [5:47:10<38:39, 115.98s/it]"
     ]
    },
    {
     "name": "stdout",
     "output_type": "stream",
     "text": [
      "\n",
      "\n",
      "Epoch 179 train loss 3.6388 train perplexity 38.5170\n"
     ]
    },
    {
     "name": "stderr",
     "output_type": "stream",
     "text": [
      "\r",
      " 90%|█████████ | 181/200 [5:49:06<36:42, 115.90s/it]"
     ]
    },
    {
     "name": "stdout",
     "output_type": "stream",
     "text": [
      "\n",
      "\n",
      "Epoch 180 train loss 3.6415 train perplexity 38.5876\n"
     ]
    },
    {
     "name": "stderr",
     "output_type": "stream",
     "text": [
      "\r",
      " 91%|█████████ | 182/200 [5:51:04<34:59, 116.64s/it]"
     ]
    },
    {
     "name": "stdout",
     "output_type": "stream",
     "text": [
      "\n",
      "\n",
      "Epoch 181 train loss 3.6400 train perplexity 38.5147\n"
     ]
    },
    {
     "name": "stderr",
     "output_type": "stream",
     "text": [
      "\r",
      " 92%|█████████▏| 183/200 [5:53:01<33:02, 116.60s/it]"
     ]
    },
    {
     "name": "stdout",
     "output_type": "stream",
     "text": [
      "\n",
      "\n",
      "Epoch 182 train loss 3.6352 train perplexity 38.3520\n"
     ]
    },
    {
     "name": "stderr",
     "output_type": "stream",
     "text": [
      "\r",
      " 92%|█████████▏| 184/200 [5:54:57<31:01, 116.34s/it]"
     ]
    },
    {
     "name": "stdout",
     "output_type": "stream",
     "text": [
      "\n",
      "\n",
      "Epoch 183 train loss 3.6369 train perplexity 38.3946\n"
     ]
    },
    {
     "name": "stderr",
     "output_type": "stream",
     "text": [
      "\r",
      " 92%|█████████▎| 185/200 [5:56:53<29:03, 116.22s/it]"
     ]
    },
    {
     "name": "stdout",
     "output_type": "stream",
     "text": [
      "\n",
      "\n",
      "Epoch 184 train loss 3.6310 train perplexity 38.1855\n"
     ]
    },
    {
     "name": "stderr",
     "output_type": "stream",
     "text": [
      "\r",
      " 93%|█████████▎| 186/200 [5:58:48<27:05, 116.09s/it]"
     ]
    },
    {
     "name": "stdout",
     "output_type": "stream",
     "text": [
      "\n",
      "\n",
      "Epoch 185 train loss 3.6344 train perplexity 38.3259\n"
     ]
    },
    {
     "name": "stderr",
     "output_type": "stream",
     "text": [
      "\r",
      " 94%|█████████▎| 187/200 [6:00:48<25:21, 117.04s/it]"
     ]
    },
    {
     "name": "stdout",
     "output_type": "stream",
     "text": [
      "\n",
      "\n",
      "Epoch 186 train loss 3.6312 train perplexity 38.1659\n"
     ]
    },
    {
     "name": "stderr",
     "output_type": "stream",
     "text": [
      "\r",
      " 94%|█████████▍| 188/200 [6:02:48<23:34, 117.91s/it]"
     ]
    },
    {
     "name": "stdout",
     "output_type": "stream",
     "text": [
      "\n",
      "\n",
      "Epoch 187 train loss 3.6282 train perplexity 38.1020\n"
     ]
    },
    {
     "name": "stderr",
     "output_type": "stream",
     "text": [
      "\r",
      " 94%|█████████▍| 189/200 [6:04:47<21:41, 118.32s/it]"
     ]
    },
    {
     "name": "stdout",
     "output_type": "stream",
     "text": [
      "\n",
      "\n",
      "Epoch 188 train loss 3.6303 train perplexity 38.1584\n"
     ]
    },
    {
     "name": "stderr",
     "output_type": "stream",
     "text": [
      "\r",
      " 95%|█████████▌| 190/200 [6:06:43<19:37, 117.70s/it]"
     ]
    },
    {
     "name": "stdout",
     "output_type": "stream",
     "text": [
      "\n",
      "\n",
      "Epoch 189 train loss 3.6296 train perplexity 38.1378\n"
     ]
    },
    {
     "name": "stderr",
     "output_type": "stream",
     "text": [
      "\r",
      " 96%|█████████▌| 191/200 [6:08:39<17:35, 117.28s/it]"
     ]
    },
    {
     "name": "stdout",
     "output_type": "stream",
     "text": [
      "\n",
      "\n",
      "Epoch 190 train loss 3.6357 train perplexity 38.3717\n"
     ]
    },
    {
     "name": "stderr",
     "output_type": "stream",
     "text": [
      "\r",
      " 96%|█████████▌| 192/200 [6:10:36<15:35, 116.95s/it]"
     ]
    },
    {
     "name": "stdout",
     "output_type": "stream",
     "text": [
      "\n",
      "\n",
      "Epoch 191 train loss 3.6296 train perplexity 38.1216\n"
     ]
    },
    {
     "name": "stderr",
     "output_type": "stream",
     "text": [
      "\r",
      " 96%|█████████▋| 193/200 [6:12:33<13:40, 117.16s/it]"
     ]
    },
    {
     "name": "stdout",
     "output_type": "stream",
     "text": [
      "\n",
      "\n",
      "Epoch 192 train loss 3.6322 train perplexity 38.2164\n"
     ]
    },
    {
     "name": "stderr",
     "output_type": "stream",
     "text": [
      "\r",
      " 97%|█████████▋| 194/200 [6:14:33<11:47, 117.84s/it]"
     ]
    },
    {
     "name": "stdout",
     "output_type": "stream",
     "text": [
      "\n",
      "\n",
      "Epoch 193 train loss 3.6291 train perplexity 38.1259\n"
     ]
    },
    {
     "name": "stderr",
     "output_type": "stream",
     "text": [
      "\r",
      " 98%|█████████▊| 195/200 [6:16:31<09:49, 117.93s/it]"
     ]
    },
    {
     "name": "stdout",
     "output_type": "stream",
     "text": [
      "\n",
      "\n",
      "Epoch 194 train loss 3.6280 train perplexity 38.0634\n"
     ]
    },
    {
     "name": "stderr",
     "output_type": "stream",
     "text": [
      "\r",
      " 98%|█████████▊| 196/200 [6:18:29<07:51, 117.97s/it]"
     ]
    },
    {
     "name": "stdout",
     "output_type": "stream",
     "text": [
      "\n",
      "\n",
      "Epoch 195 train loss 3.6248 train perplexity 37.9415\n"
     ]
    },
    {
     "name": "stderr",
     "output_type": "stream",
     "text": [
      "\r",
      " 98%|█████████▊| 197/200 [6:20:25<05:52, 117.48s/it]"
     ]
    },
    {
     "name": "stdout",
     "output_type": "stream",
     "text": [
      "\n",
      "\n",
      "Epoch 196 train loss 3.6297 train perplexity 38.1412\n"
     ]
    },
    {
     "name": "stderr",
     "output_type": "stream",
     "text": [
      "\r",
      " 99%|█████████▉| 198/200 [6:22:21<03:53, 116.96s/it]"
     ]
    },
    {
     "name": "stdout",
     "output_type": "stream",
     "text": [
      "\n",
      "\n",
      "Epoch 197 train loss 3.6238 train perplexity 37.9154\n"
     ]
    },
    {
     "name": "stderr",
     "output_type": "stream",
     "text": [
      "\r",
      "100%|█████████▉| 199/200 [6:24:19<01:57, 117.40s/it]"
     ]
    },
    {
     "name": "stdout",
     "output_type": "stream",
     "text": [
      "\n",
      "\n",
      "Epoch 198 train loss 3.6229 train perplexity 37.8755\n"
     ]
    },
    {
     "name": "stderr",
     "output_type": "stream",
     "text": [
      "100%|██████████| 200/200 [6:26:16<00:00, 115.88s/it]"
     ]
    },
    {
     "name": "stdout",
     "output_type": "stream",
     "text": [
      "\n",
      "\n",
      "Epoch 199 train loss 3.6232 train perplexity 37.8906\n",
      "Finished training\n"
     ]
    },
    {
     "name": "stderr",
     "output_type": "stream",
     "text": [
      "\n"
     ]
    }
   ],
   "source": [
    "seq2seq.fit(train_data,\n",
    "            validation_dataset=val_data,\n",
    "            steps_per_epoch=X_train_enc.shape[0]//batch_size,\n",
    "            batch_size=batch_size,\n",
    "            num_epochs=num_epochs,\n",
    "            epochs_patience=epochs_patience,\n",
    "            experiment_name='cornell')"
   ]
  },
  {
   "cell_type": "code",
   "execution_count": 24,
   "id": "democratic-project",
   "metadata": {},
   "outputs": [],
   "source": [
    "seq2seq.save_models(decoder_path='decoder_all_data_cornell.h5',\n",
    "                   encoder_path='encoder_all_data_cornell.h5')"
   ]
  },
  {
   "cell_type": "markdown",
   "id": "dress-appreciation",
   "metadata": {},
   "source": [
    "# Testing predictions and other helpful stuff"
   ]
  },
  {
   "cell_type": "code",
   "execution_count": 25,
   "id": "bored-reward",
   "metadata": {},
   "outputs": [],
   "source": [
    "from utils.model_utils import plot_attention"
   ]
  },
  {
   "cell_type": "code",
   "execution_count": 26,
   "id": "northern-dealer",
   "metadata": {},
   "outputs": [],
   "source": [
    "def process(x, unk_token):\n",
    "  res = []\n",
    "  for i in x.split(' '):\n",
    "    if token_mapping.get(i):\n",
    "      res.append(i)\n",
    "    elif token_mapping.get(i.lower()):\n",
    "      res.append(i.lower())\n",
    "    else:\n",
    "      res.append(unk_token)\n",
    "  return res"
   ]
  },
  {
   "cell_type": "code",
   "execution_count": 27,
   "id": "massive-audio",
   "metadata": {},
   "outputs": [],
   "source": [
    "def give_answer(decoder, sentence, inverse_token_mapping, pad_unk=True, process_sentence=True, len_output=50,\n",
    "               beam_size=3,\n",
    "              top_p=0.95,\n",
    "               beam_search=False,\n",
    "               nucleus_sampling = False,\n",
    "               show_attention=False):\n",
    "      if process_sentence:\n",
    "        cleaned_sentence = uncover_reduction(clean_bad_chars(sentence))\n",
    "        unk_token = pad_token if pad_unk else \"<unk>\"\n",
    "        processed_sentence = process(cleaned_sentence, unk_token)\n",
    "        mapped_sentence = map_to_ids(processed_sentence, token_mapping, end_token, padding_token=pad_token, max_len=max_len_tokens)\n",
    "      else:\n",
    "        mapped_sentence = sentence\n",
    "      if beam_search:\n",
    "        prediction = decoder.decode(mapped_sentence, beam_size)\n",
    "      elif nucleus_sampling:\n",
    "        prediction = decoder.decode(mapped_sentence, len_output, top_p)\n",
    "      else:\n",
    "          prediction = decoder.decode(mapped_sentence, len_output, show_attention)\n",
    "      if show_attention and not beam_search:\n",
    "        prediction, attention = prediction\n",
    "      answer = \" \".join([inverse_token_mapping.get(i) for i in prediction]).capitalize()\n",
    "      if show_attention and not beam_search:\n",
    "            plot_attention(attention,sentence.split(' '), answer.split(' '))\n",
    "      return answer"
   ]
  },
  {
   "cell_type": "code",
   "execution_count": 28,
   "id": "handed-reunion",
   "metadata": {},
   "outputs": [],
   "source": [
    "greedy_decoder = GreedyDecoder(decoder=seq2seq.decoder,\n",
    "             encoder=seq2seq.encoder,\n",
    "             max_len=max_len_tokens,\n",
    "             start_token=token_mapping[start_token],\n",
    "             end_token=token_mapping[end_token])"
   ]
  },
  {
   "cell_type": "code",
   "execution_count": 29,
   "id": "square-chance",
   "metadata": {},
   "outputs": [
    {
     "name": "stderr",
     "output_type": "stream",
     "text": [
      "../utils/model_utils.py:13: UserWarning: FixedFormatter should only be used together with FixedLocator\n",
      "  ax.set_xticklabels([''] + sentence, fontdict=fontdict, rotation=90)\n",
      "../utils/model_utils.py:14: UserWarning: FixedFormatter should only be used together with FixedLocator\n",
      "  ax.set_yticklabels([''] + predicted_sentence, fontdict=fontdict)\n"
     ]
    },
    {
     "data": {
      "image/png": "[encoded data removed]",
      "text/plain": [
       "<Figure size 720x720 with 1 Axes>"
      ]
     },
     "metadata": {},
     "output_type": "display_data"
    },
    {
     "data": {
      "text/plain": [
       "'Hi .'"
      ]
     },
     "execution_count": 29,
     "metadata": {},
     "output_type": "execute_result"
    }
   ],
   "source": [
    "give_answer(greedy_decoder, 'hi. ', inverse_token_mapping, show_attention=True)"
   ]
  },
  {
   "cell_type": "code",
   "execution_count": 30,
   "id": "pending-germany",
   "metadata": {},
   "outputs": [],
   "source": [
    "beam_search_decoder = BeamSearchDecoder(decoder=seq2seq.decoder, \n",
    "                 encoder=seq2seq.encoder,\n",
    "                 max_len=max_len_tokens,\n",
    "                 start_token=token_mapping[start_token],\n",
    "                 end_token=token_mapping[end_token])"
   ]
  },
  {
   "cell_type": "code",
   "execution_count": 32,
   "id": "round-floating",
   "metadata": {},
   "outputs": [
    {
     "data": {
      "text/plain": [
       "'I do not know .'"
      ]
     },
     "execution_count": 32,
     "metadata": {},
     "output_type": "execute_result"
    }
   ],
   "source": [
    "give_answer(beam_search_decoder, 'hi', inverse_token_mapping, show_attention=False,\n",
    "           beam_search=True)"
   ]
  },
  {
   "cell_type": "code",
   "execution_count": 33,
   "id": "essential-provider",
   "metadata": {},
   "outputs": [],
   "source": [
    "nucleus_decoder = NucleusDecoder(decoder=seq2seq.decoder, \n",
    "                 encoder=seq2seq.encoder,\n",
    "                 max_len=max_len_tokens,\n",
    "                 start_token=token_mapping[start_token],\n",
    "                 end_token=token_mapping[end_token])"
   ]
  },
  {
   "cell_type": "code",
   "execution_count": 34,
   "id": "seeing-astronomy",
   "metadata": {},
   "outputs": [
    {
     "data": {
      "text/plain": [
       "'Lets hope what is a semi answer more or'"
      ]
     },
     "execution_count": 34,
     "metadata": {},
     "output_type": "execute_result"
    }
   ],
   "source": [
    "give_answer(nucleus_decoder, 'hi', inverse_token_mapping, nucleus_sampling=True, top_p=0.75)"
   ]
  },
  {
   "cell_type": "markdown",
   "id": "modular-affairs",
   "metadata": {},
   "source": [
    "# Dialogue generation and question answering"
   ]
  },
  {
   "cell_type": "code",
   "execution_count": 35,
   "id": "solved-lambda",
   "metadata": {},
   "outputs": [
    {
     "data": {
      "image/png": "[encoded data removed]",
      "text/plain": [
       "<Figure size 720x720 with 1 Axes>"
      ]
     },
     "metadata": {},
     "output_type": "display_data"
    },
    {
     "name": "stdout",
     "output_type": "stream",
     "text": [
      "------------------------------\n",
      "Test replica : hey you!\n",
      "Bot greedy answer : I am sorry .\n",
      "Bot beam search answer : Hi .\n",
      "Bot nucleus answr : Thank you love it . i can not say\n",
      "------------------------------\n"
     ]
    },
    {
     "data": {
      "image/png": "[encoded data removed]",
      "text/plain": [
       "<Figure size 720x720 with 1 Axes>"
      ]
     },
     "metadata": {},
     "output_type": "display_data"
    },
    {
     "name": "stdout",
     "output_type": "stream",
     "text": [
      "------------------------------\n",
      "Test replica : hello\n",
      "Bot greedy answer : Hello .\n",
      "Bot beam search answer : Hi .\n",
      "Bot nucleus answr : Hello what what . i really mean i was\n",
      "------------------------------\n"
     ]
    },
    {
     "data": {
      "image/png": "[encoded data removed]",
      "text/plain": [
       "<Figure size 720x720 with 1 Axes>"
      ]
     },
     "metadata": {},
     "output_type": "display_data"
    },
    {
     "name": "stdout",
     "output_type": "stream",
     "text": [
      "------------------------------\n",
      "Test replica : hi\n",
      "Bot greedy answer : Hi .\n",
      "Bot beam search answer : I do not know .\n",
      "Bot nucleus answr : Pulling that dirt doyle . do not i tell ?\n",
      "------------------------------\n"
     ]
    },
    {
     "data": {
      "image/png": "[encoded data removed]",
      "text/plain": [
       "<Figure size 720x720 with 1 Axes>"
      ]
     },
     "metadata": {},
     "output_type": "display_data"
    },
    {
     "name": "stdout",
     "output_type": "stream",
     "text": [
      "------------------------------\n",
      "Test replica : how are you?\n",
      "Bot greedy answer : I am fine .\n",
      "Bot beam search answer : Hello .\n",
      "Bot nucleus answr : Scarred but . i guess we would be better\n",
      "------------------------------\n"
     ]
    },
    {
     "data": {
      "image/png": "[encoded data removed]",
      "text/plain": [
       "<Figure size 720x720 with 1 Axes>"
      ]
     },
     "metadata": {},
     "output_type": "display_data"
    },
    {
     "name": "stdout",
     "output_type": "stream",
     "text": [
      "------------------------------\n",
      "Test replica : have you ever been to USA?\n",
      "Bot greedy answer : No .\n",
      "Bot beam search answer : Yes .\n",
      "Bot nucleus answr : That\n",
      "------------------------------\n"
     ]
    },
    {
     "data": {
      "image/png": "[encoded data removed]",
      "text/plain": [
       "<Figure size 720x720 with 1 Axes>"
      ]
     },
     "metadata": {},
     "output_type": "display_data"
    },
    {
     "name": "stdout",
     "output_type": "stream",
     "text": [
      "------------------------------\n",
      "Test replica : where are you from?\n",
      "Bot greedy answer : I am going to get the rest of the\n",
      "Bot beam search answer : I do not know .\n",
      "Bot nucleus answr : A carpet eye from remains .\n",
      "------------------------------\n"
     ]
    },
    {
     "data": {
      "image/png": "[encoded data removed]",
      "text/plain": [
       "<Figure size 720x720 with 1 Axes>"
      ]
     },
     "metadata": {},
     "output_type": "display_data"
    },
    {
     "name": "stdout",
     "output_type": "stream",
     "text": [
      "------------------------------\n",
      "Test replica : what do you think about marriage?\n",
      "Bot greedy answer : I do not know .\n",
      "Bot beam search answer : I do not know .\n",
      "Bot nucleus answr : <unk> of course they can\n",
      "------------------------------\n"
     ]
    },
    {
     "data": {
      "image/png": "[encoded data removed]",
      "text/plain": [
       "<Figure size 720x720 with 1 Axes>"
      ]
     },
     "metadata": {},
     "output_type": "display_data"
    },
    {
     "name": "stdout",
     "output_type": "stream",
     "text": [
      "------------------------------\n",
      "Test replica : I need your help\n",
      "Bot greedy answer : You have to go to the caribbean .\n",
      "Bot beam search answer : It is all right .\n",
      "Bot nucleus answr : We can make some an campaign card\n",
      "------------------------------\n"
     ]
    },
    {
     "data": {
      "image/png": "[encoded data removed]",
      "text/plain": [
       "<Figure size 720x720 with 1 Axes>"
      ]
     },
     "metadata": {},
     "output_type": "display_data"
    },
    {
     "name": "stdout",
     "output_type": "stream",
     "text": [
      "------------------------------\n",
      "Test replica : Where do you recommend me to go?\n",
      "Bot greedy answer : I am not .\n",
      "Bot beam search answer : Italy .\n",
      "Bot nucleus answr : Like all this reminds betrayal they live together in\n",
      "------------------------------\n"
     ]
    },
    {
     "data": {
      "image/png": "[encoded data removed]",
      "text/plain": [
       "<Figure size 720x720 with 1 Axes>"
      ]
     },
     "metadata": {},
     "output_type": "display_data"
    },
    {
     "name": "stdout",
     "output_type": "stream",
     "text": [
      "------------------------------\n",
      "Test replica : you are under arrest!\n",
      "Bot greedy answer : I am not going to be here .\n",
      "Bot beam search answer : I do not want to hurt you .\n",
      "Bot nucleus answr : Go for it !\n",
      "------------------------------\n"
     ]
    },
    {
     "data": {
      "image/png": "[encoded data removed]",
      "text/plain": [
       "<Figure size 720x720 with 1 Axes>"
      ]
     },
     "metadata": {},
     "output_type": "display_data"
    },
    {
     "name": "stdout",
     "output_type": "stream",
     "text": [
      "------------------------------\n",
      "Test replica : want to fuck me?\n",
      "Bot greedy answer : Sure .\n",
      "Bot beam search answer : Sure .\n",
      "Bot nucleus answr : Stop ?\n",
      "------------------------------\n"
     ]
    },
    {
     "data": {
      "image/png": "[encoded data removed]",
      "text/plain": [
       "<Figure size 720x720 with 1 Axes>"
      ]
     },
     "metadata": {},
     "output_type": "display_data"
    },
    {
     "name": "stdout",
     "output_type": "stream",
     "text": [
      "------------------------------\n",
      "Test replica : see you\n",
      "Bot greedy answer : I am sorry .\n",
      "Bot beam search answer : I do not know . i am thx .\n",
      "Bot nucleus answr : . watching me the bottom . carlotta called me\n",
      "------------------------------\n"
     ]
    },
    {
     "data": {
      "image/png": "[encoded data removed]",
      "text/plain": [
       "<Figure size 720x720 with 1 Axes>"
      ]
     },
     "metadata": {},
     "output_type": "display_data"
    },
    {
     "name": "stdout",
     "output_type": "stream",
     "text": [
      "------------------------------\n",
      "Test replica : you are shit\n",
      "Bot greedy answer : I am not going to be a fool .\n",
      "Bot beam search answer : No i am serious .\n",
      "Bot nucleus answr : Yeah i have not tried her . but i\n",
      "------------------------------\n"
     ]
    }
   ],
   "source": [
    "replicas = ['hey you!',\n",
    "            'hello',\n",
    "            'hi',\n",
    "            'how are you?',\n",
    "            'have you ever been to USA?',\n",
    "            'where are you from?',\n",
    "            'what do you think about marriage?',\n",
    "             'I need your help',\n",
    "           'Where do you recommend me to go?',\n",
    "           'you are under arrest!',\n",
    "           'want to fuck me?',\n",
    "           'see you',\n",
    "           'you are shit']\n",
    "for i in replicas:\n",
    "    greedy_answer = give_answer(greedy_decoder, i, inverse_token_mapping, show_attention=True)\n",
    "    beam_search_answer = give_answer(beam_search_decoder, i, inverse_token_mapping,\n",
    "           beam_search=True,\n",
    "           beam_size=3)\n",
    "    nucleus_answer = give_answer(nucleus_decoder, i, inverse_token_mapping, \n",
    "                                 nucleus_sampling=True, \n",
    "                                 top_p=0.75)\n",
    "    print(30*'-')\n",
    "    print('Test replica : {}'.format(i))\n",
    "    print('Bot greedy answer : {}'.format(greedy_answer))\n",
    "    print('Bot beam search answer : {}'.format(beam_search_answer))\n",
    "    print('Bot nucleus answr : {}'.format(nucleus_answer))\n",
    "    print(30*'-')\n"
   ]
  },
  {
   "cell_type": "markdown",
   "id": "norman-calibration",
   "metadata": {},
   "source": [
    "# Gabberish dialogue"
   ]
  },
  {
   "cell_type": "code",
   "execution_count": 36,
   "id": "solid-vertical",
   "metadata": {},
   "outputs": [
    {
     "name": "stdout",
     "output_type": "stream",
     "text": [
      "okay\n",
      "\n",
      "--- Marge honey for leaving please have happened of christ\n",
      "\n",
      "--- Did this trick yet ? and she and sister\n",
      "\n",
      "--- I thought her harvey singer makes what better the\n",
      "\n",
      "--- Ha hannah this guy frank are putting for time\n",
      "\n",
      "--- Dick boy for carrying their life story again even\n",
      "\n",
      "--- Major grace son black frightened around outside . nice\n",
      "\n",
      "--- Ahhh she knows we can and fall mother might\n",
      "\n",
      "--- Mr . soze ? where put himself at four\n",
      "\n",
      "--- Me ? an air as time come there certain\n",
      "\n",
      "--- Bad right from somewhere otherwise our catch gave your\n",
      "\n",
      "--- Nothing knew our card finally or an scientists soldier\n",
      "\n",
      "--- Like who who come down your move life runs\n",
      "\n",
      "--- Making so sell ed do for killing a cut\n",
      "\n",
      "--- At dawn mr at third gear which only put\n",
      "\n",
      "--- Jeffrey get smart skinny not tough <unk> either away\n",
      "\n",
      "--- Perhaps but more sunny even be gone the stock\n",
      "\n",
      "--- Sometimes no mess around was high line you idiot\n",
      "\n",
      "--- Fucking about music with those and wait . can\n",
      "\n",
      "--- Since exactly\n",
      "\n",
      "--- Well how glad everything turns does me awful <unk>\n",
      "\n",
      "--- From and kicking heart <unk> ? they are codes\n",
      "\n",
      "--- Open up sally okay honey then let a pack\n",
      "\n",
      "--- Daddy as ah enough there ! there\n",
      "\n",
      "--- Rain saying nothing bad any pockets important money our\n",
      "\n",
      "--- Get not chief can they give change hang chained\n",
      "\n",
      "--- Very wrong what then your life before tried to\n",
      "\n",
      "--- Monsters face then tell u dr does spock how\n",
      "\n",
      "--- Bill in denied machines as men pain and it\n",
      "\n",
      "--- Everything behind your guest future attack got federal f\n",
      "\n",
      "--- Before two old later what does has through like\n",
      "\n",
      "--- Bob water between now three lemme what the back\n",
      "\n",
      "--- Ai you shoot enough dodge used\n",
      "\n",
      "--- So lets think better some talent the weight hand\n",
      "\n",
      "--- Great joke we understand ! everyone pulling dead turn\n",
      "\n",
      "--- Because would be betray that nice that\n",
      "\n",
      "--- Tried the western instead\n",
      "\n",
      "--- Miracles\n",
      "\n",
      "--- Fund weather using complicated yes sir sir then only\n",
      "\n",
      "--- Please here hold no u ethan we stop them\n",
      "\n",
      "--- Ah hi i hate know much different wrong then\n",
      "\n",
      "--- Never woody money can nothing henry johnny kennedy believed\n",
      "\n",
      "--- Aye have you get too young his history the\n",
      "\n",
      "--- More thought even great idea no german thank this\n",
      "\n",
      "--- Hopefully may change them how brave lies let around\n",
      "\n",
      "--- Knock something have great thing <unk> look again your\n",
      "\n",
      "--- Got of small nose pops tough but the womangs\n",
      "\n",
      "--- Dad ever miss personally ! please grady it could\n",
      "\n",
      "--- Oh yah <unk> has harmless a married ? sure\n",
      "\n",
      "--- . hey joel she . keep those greedy some\n",
      "\n",
      "--- Great look too did we made know right it\n",
      "\n",
      "--- Uh what about all part at its plays dresses\n",
      "\n",
      "--- Henry six accident theres one which us add taken\n",
      "\n",
      "--- Banks me before your fire white bastard lawyers still\n",
      "\n",
      "--- Five dollars apparently half fifteen than working dead dead\n",
      "\n",
      "--- White shirt number calls said something out now ryan\n",
      "\n",
      "--- Gal to do everything write yet honey reynolds his\n",
      "\n",
      "--- Must been ? my papers paper games once new\n",
      "\n",
      "--- Nah he will set after next lesson he just\n",
      "\n",
      "--- How does they hate if rudolf ice along ?\n",
      "\n",
      "--- Never him brought we drinking though coop i realized\n",
      "\n",
      "--- Take that interest if epps stop would teach things\n",
      "\n",
      "--- Whatever works has several money bond would rather pulled\n",
      "\n",
      "--- This game will tell us has lived loved in\n",
      "\n",
      "--- May run later he died tuesday years forever after\n",
      "\n",
      "--- Talk too american i never kept his planned broken\n",
      "\n",
      "--- Hello theres thought much interested old because yours is\n",
      "\n",
      "--- Relax her sometime on . very married killed from\n",
      "\n",
      "--- Norman will paul darling certainly not send you .\n",
      "\n",
      "--- Seven which as boys a woman ? i m\n",
      "\n",
      "--- Employed name boy her done looking for anybody since\n",
      "\n",
      "--- Look how about giving anything all ship have my\n",
      "\n",
      "--- Finish at hell but intelligent girls are keeping money\n",
      "\n",
      "--- She took female word us out wrong do they\n",
      "\n",
      "--- Things does makes me stop things wearing as psychic\n",
      "\n",
      "--- Just exchange systems <unk> living too long did we\n",
      "\n",
      "--- Simple hell both from such good not man too\n",
      "\n",
      "--- Naw forget i was calm out from some together\n",
      "\n",
      "--- Holly we may someone let at soon break .\n",
      "\n",
      "--- Very serious mom captain\n",
      "\n",
      "--- Exactly ! at church last what could attacks dresses\n",
      "\n",
      "--- Makes about black called because one thing enough buddy\n",
      "\n",
      "--- Actually poetry what a shortcut driving albania of\n",
      "\n",
      "--- Let me ! fuck if for this thin secure\n",
      "\n",
      "--- Send a hold would let an horse is completely\n",
      "\n",
      "--- Marylin will time run yourself comfortable miserable mass at\n",
      "\n",
      "--- James up close quiet can fix up together some\n",
      "\n",
      "--- Son then why why i do have control sleep\n",
      "\n",
      "--- Course they gave your dreams man made by ?\n",
      "\n",
      "--- Eventually bela throw thee parents little cabin girl already\n",
      "\n",
      "--- Forgive . to grow she ! turn in way\n",
      "\n",
      "--- Yeah did he turn all agitated pearl your phony\n",
      "\n",
      "--- Whys indeed die stop over over dancing me okay\n",
      "\n",
      "--- Through north it now dude hairs had below probably\n",
      "\n",
      "--- Mr . . songs willow stand beat of living\n",
      "\n",
      "--- Kind of woman the alarm goes of bodies carry\n",
      "\n",
      "--- Naturally how believe did ! he was crazy well\n",
      "\n",
      "--- Oh morgan go ahead ai but ye oh great\n",
      "\n",
      "--- U idiot no not why the <unk> would end\n",
      "\n",
      "--- Great part true your rights put can put not\n",
      "\n",
      "--- Uh david knows like the students brain already before\n"
     ]
    }
   ],
   "source": [
    "n_replicas = 100\n",
    "count = 0\n",
    "replica = str(input()).strip()\n",
    "while count<n_replicas:\n",
    "    replica = give_answer(nucleus_decoder, replica, inverse_token_mapping, \n",
    "                                 nucleus_sampling=True, \n",
    "                                 top_p=0.95)\n",
    "    print('\\n--- {}'.format(replica))\n",
    "    count+=1"
   ]
  },
  {
   "cell_type": "markdown",
   "id": "removable-preview",
   "metadata": {},
   "source": [
    "# Interactive usage"
   ]
  },
  {
   "cell_type": "code",
   "execution_count": 37,
   "id": "aware-japanese",
   "metadata": {},
   "outputs": [
    {
     "name": "stdout",
     "output_type": "stream",
     "text": [
      "fuck you\n",
      "------------------------------\n",
      "Replica : fuck you\n",
      "Beam answer : What ?\n",
      "Greedy answer : I am sorry .\n",
      "------------------------------\n",
      "go kill yourself\n",
      "------------------------------\n",
      "Replica : go kill yourself\n",
      "Beam answer : Why do not stutter ?\n",
      "Greedy answer : No .\n",
      "------------------------------\n",
      "hell yeah\n",
      "------------------------------\n",
      "Replica : hell yeah\n",
      "Beam answer : It is all right .\n",
      "Greedy answer : You are going to do it .\n",
      "------------------------------\n",
      "your name?\n",
      "------------------------------\n",
      "Replica : your name?\n",
      "Beam answer : Hammond .\n",
      "Greedy answer : Hammond .\n",
      "------------------------------\n",
      "what is your name?\n",
      "------------------------------\n",
      "Replica : what is your name?\n",
      "Beam answer : Javier rodriguez . the dodgers .\n",
      "Greedy answer : I am sorry .\n",
      "------------------------------\n",
      "exit\n"
     ]
    }
   ],
   "source": [
    "inp = ''\n",
    "while True:\n",
    "    inp = str(input()).strip()\n",
    "    if inp=='exit':\n",
    "        break\n",
    "    greedy_answer = give_answer(greedy_decoder, inp, inverse_token_mapping, show_attention=False)\n",
    "    beam_search_answer = give_answer(beam_search_decoder, inp, inverse_token_mapping,\n",
    "           beam_search=True,\n",
    "           beam_size=7)\n",
    "    print(30*'-')\n",
    "    print('Replica : {}'.format(inp))\n",
    "    print('Beam answer : {}'.format(beam_search_answer))\n",
    "    print('Greedy answer : {}'.format(greedy_answer))\n",
    "    print(30*'-')"
   ]
  },
  {
   "cell_type": "code",
   "execution_count": null,
   "id": "seasonal-boost",
   "metadata": {},
   "outputs": [],
   "source": []
  }
 ],
 "metadata": {
  "kernelspec": {
   "display_name": "Python 3",
   "language": "python",
   "name": "python3"
  },
  "language_info": {
   "codemirror_mode": {
    "name": "ipython",
    "version": 3
   },
   "file_extension": ".py",
   "mimetype": "text/x-python",
   "name": "python",
   "nbconvert_exporter": "python",
   "pygments_lexer": "ipython3",
   "version": "3.7.5"
  }
 },
 "nbformat": 4,
 "nbformat_minor": 5
}
